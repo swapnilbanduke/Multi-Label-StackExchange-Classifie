{
 "cells": [
  {
   "cell_type": "markdown",
   "id": "b84121b7-f061-4e3b-8e4d-95e94859115b",
   "metadata": {
    "id": "b84121b7-f061-4e3b-8e4d-95e94859115b"
   },
   "source": [
    "# <font color = 'indianred'>**Multilabel Classification of StackExchange Dataset using GEMMA** </font>\n",
    "\n",
    "**Objective:**\n",
    "\n",
    "In this notebook, we aim to use GEMMA models with QLORA for classification problems. **We will now use Casual Languagge Model - Basically we will do instruction tuning.**\n",
    "\n",
    "\n",
    "**Plan**\n",
    "\n",
    "1. Set Environment\n",
    "2. Load Dataset\n",
    "3. Accessing and Manipulating Splits\n",
    "4. Load Pre-trained Tokenizer\n",
    "5. Create Prompts\n",
    "6. Model Training\n",
    "  1. Download pre-trained model <br>  \n",
    "  3. PEFT Setup\n",
    "  4. Training Arguments <br>\n",
    "  5. Instantiate Trainer <br>\n",
    "  6. Setup WandB <br>\n",
    "  7. Training\n",
    "  8. Validation\n",
    "7. Perfromance on Test Set\n",
    "8. Model Inference\n",
    "\n",
    "\n",
    "\n",
    "\n",
    "\n",
    "\n",
    "\n",
    "\n",
    "\n",
    "\n",
    "\n",
    "\n",
    "\n",
    "\n",
    "\n",
    "\n",
    "\n",
    "\n",
    "\n",
    "\n"
   ]
  },
  {
   "cell_type": "markdown",
   "id": "fj41POPjrtzA",
   "metadata": {
    "id": "fj41POPjrtzA"
   },
   "source": [
    "# <font color = 'indianred'> **1. Setting up the Environment** </font>\n",
    "\n"
   ]
  },
  {
   "cell_type": "code",
   "execution_count": null,
   "id": "0d54de23-80e9-4e1b-816c-6f6916c92836",
   "metadata": {
    "colab": {
     "base_uri": "https://localhost:8080/"
    },
    "execution": {
     "iopub.execute_input": "2022-12-23T23:12:55.528562Z",
     "iopub.status.busy": "2022-12-23T23:12:55.528020Z",
     "iopub.status.idle": "2022-12-23T23:12:55.539182Z",
     "shell.execute_reply": "2022-12-23T23:12:55.538417Z",
     "shell.execute_reply.started": "2022-12-23T23:12:55.528532Z"
    },
    "executionInfo": {
     "elapsed": 4051,
     "status": "ok",
     "timestamp": 1745853213220,
     "user": {
      "displayName": "Shaannoor Mann",
      "userId": "02520257695567980696"
     },
     "user_tz": 300
    },
    "id": "0d54de23-80e9-4e1b-816c-6f6916c92836",
    "outputId": "cf4727aa-a97a-40ed-b089-9394b85945ae",
    "tags": []
   },
   "outputs": [
    {
     "name": "stdout",
     "output_type": "stream",
     "text": [
      "Drive already mounted at /content/drive; to attempt to forcibly remount, call drive.mount(\"/content/drive\", force_remount=True).\n"
     ]
    }
   ],
   "source": [
    "# If in Colab, then import the drive module from google.colab\n",
    "if 'google.colab' in str(get_ipython()):\n",
    "  from google.colab import drive\n",
    "  # Mount the Google Drive to access files stored there\n",
    "  drive.mount('/content/drive')\n",
    "\n",
    "  # Install the latest version of torchtext library quietly without showing output\n",
    "  # !pip install torchtext -qq\n",
    "  !pip install transformers evaluate wandb datasets accelerate peft bitsandbytes trl fsspec -U  -qq ## NEW LINES ##\n",
    "  basepath = '/content/drive/MyDrive/data/'\n"
   ]
  },
  {
   "cell_type": "markdown",
   "id": "1Kcz9H4QsW6_",
   "metadata": {
    "id": "1Kcz9H4QsW6_"
   },
   "source": [
    "<font color = 'indianred'> *Load Libraries* </font>"
   ]
  },
  {
   "cell_type": "code",
   "execution_count": 2,
   "id": "yC6lJrxYvxeF",
   "metadata": {
    "executionInfo": {
     "elapsed": 9665,
     "status": "ok",
     "timestamp": 1745853222888,
     "user": {
      "displayName": "Shaannoor Mann",
      "userId": "02520257695567980696"
     },
     "user_tz": 300
    },
    "id": "yC6lJrxYvxeF"
   },
   "outputs": [],
   "source": [
    "# standard pythgion libraries\n",
    "from pathlib import Path\n",
    "import re\n",
    "import gc\n",
    "import time\n",
    "from typing import Dict, List, Union, Optional, Tuple\n",
    "from tqdm import tqdm\n",
    "import itertools\n",
    "import json\n",
    "import joblib\n",
    "import ast\n",
    "from datetime import datetime\n",
    "from difflib import get_close_matches\n",
    "import os\n",
    "import sys\n",
    "\n",
    "# Data Science librraies\n",
    "import numpy as np\n",
    "import pandas as pd\n",
    "import matplotlib.pyplot as plt\n",
    "import seaborn as sns\n",
    "from sklearn.metrics import confusion_matrix\n",
    "from sklearn.preprocessing import MultiLabelBinarizer\n",
    "from sklearn.model_selection import train_test_split\n",
    "from sklearn.metrics import multilabel_confusion_matrix, precision_score, recall_score, f1_score\n",
    "\n",
    "# Pytorch\n",
    "import torch\n",
    "import torch.nn as nn\n",
    "\n",
    "# Huggingface Librraies\n",
    "import evaluate\n",
    "from datasets import load_dataset, DatasetDict, Dataset, ClassLabel\n",
    "from trl import SFTConfig, SFTTrainer, DataCollatorForCompletionOnlyLM\n",
    "from transformers import (\n",
    "    TrainingArguments,\n",
    "    Trainer,\n",
    "    set_seed,\n",
    "    AutoTokenizer,\n",
    "    AutoModelForCausalLM,\n",
    "    DataCollatorForLanguageModeling,\n",
    "    AutoConfig,\n",
    "    pipeline,\n",
    "    BitsAndBytesConfig,\n",
    ")\n",
    "from peft import (\n",
    "    TaskType,\n",
    "    LoraConfig,\n",
    "    prepare_model_for_kbit_training,\n",
    "    get_peft_model,\n",
    "    AutoPeftModelForCausalLM,\n",
    "    PeftConfig\n",
    ")\n",
    "from huggingface_hub import login\n",
    "\n",
    "# Logging and secrets\n",
    "import wandb\n",
    "\n"
   ]
  },
  {
   "cell_type": "code",
   "execution_count": 3,
   "id": "ovr_5earVjoZ",
   "metadata": {
    "executionInfo": {
     "elapsed": 6,
     "status": "ok",
     "timestamp": 1745853222892,
     "user": {
      "displayName": "Shaannoor Mann",
      "userId": "02520257695567980696"
     },
     "user_tz": 300
    },
    "id": "ovr_5earVjoZ"
   },
   "outputs": [],
   "source": [
    "set_seed(42)"
   ]
  },
  {
   "cell_type": "code",
   "execution_count": 4,
   "id": "MMk63r7U_G8t",
   "metadata": {
    "executionInfo": {
     "elapsed": 6,
     "status": "ok",
     "timestamp": 1745853222902,
     "user": {
      "displayName": "Shaannoor Mann",
      "userId": "02520257695567980696"
     },
     "user_tz": 300
    },
    "id": "MMk63r7U_G8t"
   },
   "outputs": [],
   "source": [
    "# CHANGE FOLDERS TO WHERE YOU WANT TO SAVE DATA AND MODELS\n",
    "base_folder = Path(basepath)\n",
    "data_folder = base_folder/'datasets/Classification_HW/joblib_files'"
   ]
  },
  {
   "cell_type": "code",
   "execution_count": 5,
   "id": "49029438",
   "metadata": {
    "colab": {
     "base_uri": "https://localhost:8080/"
    },
    "executionInfo": {
     "elapsed": 11,
     "status": "ok",
     "timestamp": 1745853222915,
     "user": {
      "displayName": "Shaannoor Mann",
      "userId": "02520257695567980696"
     },
     "user_tz": 300
    },
    "id": "49029438",
    "outputId": "464ee7f8-444d-4170-a0d6-268315d18c4f"
   },
   "outputs": [
    {
     "data": {
      "text/plain": [
       "PosixPath('/content/drive/MyDrive/data')"
      ]
     },
     "execution_count": 5,
     "metadata": {},
     "output_type": "execute_result"
    }
   ],
   "source": [
    "base_folder"
   ]
  },
  {
   "cell_type": "code",
   "execution_count": 6,
   "id": "a0f6686c",
   "metadata": {
    "colab": {
     "base_uri": "https://localhost:8080/"
    },
    "executionInfo": {
     "elapsed": 1223,
     "status": "ok",
     "timestamp": 1745853224141,
     "user": {
      "displayName": "Shaannoor Mann",
      "userId": "02520257695567980696"
     },
     "user_tz": 300
    },
    "id": "a0f6686c",
    "outputId": "f4c4280d-88e7-4499-c9fa-07448c4c56b5"
   },
   "outputs": [
    {
     "name": "stdout",
     "output_type": "stream",
     "text": [
      "Using Google Colab environment\n",
      "✓ Successfully logged in to Hugging Face!\n"
     ]
    },
    {
     "name": "stderr",
     "output_type": "stream",
     "text": [
      "\u001b[34m\u001b[1mwandb\u001b[0m: \u001b[33mWARNING\u001b[0m If you're specifying your api key in code, ensure this code is not shared publicly.\n",
      "\u001b[34m\u001b[1mwandb\u001b[0m: \u001b[33mWARNING\u001b[0m Consider setting the WANDB_API_KEY environment variable, or running `wandb login` from the command line.\n",
      "\u001b[34m\u001b[1mwandb\u001b[0m: Appending key for api.wandb.ai to your netrc file: /root/.netrc\n",
      "\u001b[34m\u001b[1mwandb\u001b[0m: Currently logged in as: \u001b[33mhsingh-utd\u001b[0m to \u001b[32mhttps://api.wandb.ai\u001b[0m. Use \u001b[1m`wandb login --relogin`\u001b[0m to force relogin\n"
     ]
    },
    {
     "name": "stdout",
     "output_type": "stream",
     "text": [
      "✓ Successfully logged in to WANDB!\n"
     ]
    }
   ],
   "source": [
    "def is_colab() -> bool:\n",
    "    \"\"\"Check if the current environment is Google Colab.\"\"\"\n",
    "    return 'google.colab' in sys.modules\n",
    "\n",
    "def get_env_file_path() -> str:\n",
    "    \"\"\"\n",
    "    Get the path to your .env file\n",
    "    Modify this function to point to your .env file location\n",
    "    \"\"\"\n",
    "\n",
    "    env_path = str(base_folder / '.env')\n",
    "\n",
    "    return env_path\n",
    "\n",
    "def get_credentials() -> Tuple[Optional[str], Optional[str]]:\n",
    "    \"\"\"Get credentials from either Colab or local environment.\"\"\"\n",
    "    wandb_api_key = None\n",
    "    hf_token = None\n",
    "\n",
    "    if is_colab():\n",
    "        try:\n",
    "            from google.colab import userdata\n",
    "            wandb_api_key = userdata.get('WANDB_API_KEY')\n",
    "            hf_token = userdata.get('HF_TOKEN')\n",
    "            print(\"Using Google Colab environment\")\n",
    "        except Exception as e:\n",
    "            print(f\"Error accessing Colab userdata: {e}\")\n",
    "    else:\n",
    "        # Try to load from .env file in specified location\n",
    "        try:\n",
    "            from dotenv import load_dotenv\n",
    "            env_path = get_env_file_path()\n",
    "            if os.path.exists(env_path):\n",
    "                load_dotenv(env_path)\n",
    "                print(f\"Loaded .env file from: {env_path}\")\n",
    "            else:\n",
    "                print(f\"Warning: .env file not found at {env_path}\")\n",
    "        except ImportError:\n",
    "            print(\"python-dotenv not installed. Using environment variables directly.\")\n",
    "        except Exception as e:\n",
    "            print(f\"Error loading .env file: {e}\")\n",
    "\n",
    "        wandb_api_key = os.getenv('WANDB_API_KEY')\n",
    "        hf_token = os.getenv('HF_TOKEN')\n",
    "\n",
    "    return wandb_api_key, hf_token\n",
    "\n",
    "def setup_auth():\n",
    "    \"\"\"Setup authentication for both environments.\"\"\"\n",
    "    wandb_api_key, hf_token = get_credentials()\n",
    "\n",
    "    # Hugging Face authentication\n",
    "    if hf_token:\n",
    "        try:\n",
    "            from huggingface_hub import login\n",
    "            login(token=hf_token)\n",
    "            print(\"✓ Successfully logged in to Hugging Face!\")\n",
    "        except Exception as e:\n",
    "            print(f\"✗ Error logging in to Hugging Face: {e}\")\n",
    "    else:\n",
    "        print(\"✗ Hugging Face token not found.\")\n",
    "        if is_colab():\n",
    "            print(\"  Add HF_TOKEN to your Colab secrets\")\n",
    "        else:\n",
    "            print(f\"  Add HF_TOKEN to your .env file at {get_env_file_path()}\")\n",
    "\n",
    "    # Weights & Biases authentication\n",
    "    if wandb_api_key:\n",
    "        try:\n",
    "            import wandb\n",
    "            wandb.login(key=wandb_api_key)\n",
    "            print(\"✓ Successfully logged in to WANDB!\")\n",
    "        except Exception as e:\n",
    "            print(f\"✗ Error logging in to WANDB: {e}\")\n",
    "    else:\n",
    "        print(\"✗ WANDB API key not found.\")\n",
    "        if is_colab():\n",
    "            print(\"  Add WANDB_API_KEY to your Colab secrets\")\n",
    "        else:\n",
    "            print(f\"  Add WANDB_API_KEY to your .env file at {get_env_file_path()}\")\n",
    "\n",
    "setup_auth()"
   ]
  },
  {
   "cell_type": "markdown",
   "id": "b906904c-8f24-4de0-8e07-720863e8cd99",
   "metadata": {
    "id": "b906904c-8f24-4de0-8e07-720863e8cd99"
   },
   "source": [
    "# <font color = 'indianred'> **2. Load Data set**\n",
    "    \n"
   ]
  },
  {
   "cell_type": "code",
   "execution_count": 7,
   "id": "1JpTLLoCvuAY",
   "metadata": {
    "colab": {
     "base_uri": "https://localhost:8080/",
     "height": 423
    },
    "executionInfo": {
     "elapsed": 423,
     "status": "ok",
     "timestamp": 1745853224568,
     "user": {
      "displayName": "Shaannoor Mann",
      "userId": "02520257695567980696"
     },
     "user_tz": 300
    },
    "id": "1JpTLLoCvuAY",
    "outputId": "ff86f29d-7f13-4f85-fb7e-9a1edafd5f2b"
   },
   "outputs": [
    {
     "data": {
      "application/vnd.google.colaboratory.intrinsic+json": {
       "summary": "{\n  \"name\": \"df\",\n  \"rows\": 47427,\n  \"fields\": [\n    {\n      \"column\": \"cleaned_text\",\n      \"properties\": {\n        \"dtype\": \"string\",\n        \"num_unique_values\": 36481,\n        \"samples\": [\n          \"fadein invisible list item jquery unordered list lis invisible display begin want specific li visible js function try $ list li nth child(1)\\\").fadein work ul visible begin code > li      display   < ul class=\\\"hide id=\\\"my list >      < li>1</li >      < li>2</li >      < li>3</li > < /ul >   try answer question feel free stab\",\n          \"deploy project server create website excel file mail d information mail d fetch excel file excel file send mail automatically mail d design subject cc bcc content create project export excel file fetch mail d ms access database send email automatically design deploy project ftp.i know create help regard padmapriya s  \",\n          \"custom keypad button functional app finish scoreboard app   user longclick score currently dialog box appear show edittext field ok cancel button   user click edittext field keypad appear number user type new score click edittext field show new value dialog box user click ok save enter value textview show current score problem feel cumbersome   like happen   user longclick score keypad appear user enter new score user click ok keypad disappear value save textview update current score   order accomplish think thing   create new class extend view new android understand option replace edittext dialog new xml file design like keypad   option 2   figure probably easy design xml layout call   user longclick file inflate dialog ok cancel   far good   know code button action thought figure setup onclick listener button layout   figure button go perform exact function   basically text button case 0 9 append textview keypad   user click ok save textview current score textview help point right direction accomplish screenshot textview number   xml code < xml version=\\\"1.0 encoding=\\\"utf-8 > < gridlayout xmlns apk res android android layout_width=\\\"wrap_content android layout_height=\\\"wrap_content android layout_gravity=\\\"fill android columncount=\\\"3 >   < textview      android id=\\\"@+id textview1      android layout_columnspan=\\\"3      android layout_gravity=\\\"fill      android gravity=\\\"right|center_vertical      android textsize=\\\"24sp >   < button android text=\\\"1 >   < button android text=\\\"2 >   < button android text=\\\"3 > < button android text=\\\"4 > < button android text=\\\"5 > < button android text=\\\"6 > < button android text=\\\"7 > < button android text=\\\"8 > < button android text=\\\"9 >   < button      android layout_columnspan=\\\"3      android layout_gravity=\\\"fill      android gravity=\\\"center      android text=\\\"0 >   \"\n        ],\n        \"semantic_type\": \"\",\n        \"description\": \"\"\n      }\n    },\n    {\n      \"column\": \"Tags\",\n      \"properties\": {\n        \"dtype\": \"category\",\n        \"num_unique_values\": 176,\n        \"samples\": [\n          \"javascript asp.net\",\n          \"c# asp.net jquery\",\n          \"c# java python\"\n        ],\n        \"semantic_type\": \"\",\n        \"description\": \"\"\n      }\n    },\n    {\n      \"column\": \"Tag_Number\",\n      \"properties\": {\n        \"dtype\": \"category\",\n        \"num_unique_values\": 176,\n        \"samples\": [\n          \"[3, 9]\",\n          \"[0, 9, 5]\",\n          \"[0, 1, 7]\"\n        ],\n        \"semantic_type\": \"\",\n        \"description\": \"\"\n      }\n    }\n  ]\n}",
       "type": "dataframe",
       "variable_name": "df"
      },
      "text/html": [
       "\n",
       "  <div id=\"df-f0b708b3-eb3a-4f8e-b84b-8c8388704a68\" class=\"colab-df-container\">\n",
       "    <div>\n",
       "<style scoped>\n",
       "    .dataframe tbody tr th:only-of-type {\n",
       "        vertical-align: middle;\n",
       "    }\n",
       "\n",
       "    .dataframe tbody tr th {\n",
       "        vertical-align: top;\n",
       "    }\n",
       "\n",
       "    .dataframe thead th {\n",
       "        text-align: right;\n",
       "    }\n",
       "</style>\n",
       "<table border=\"1\" class=\"dataframe\">\n",
       "  <thead>\n",
       "    <tr style=\"text-align: right;\">\n",
       "      <th></th>\n",
       "      <th>cleaned_text</th>\n",
       "      <th>Tags</th>\n",
       "      <th>Tag_Number</th>\n",
       "    </tr>\n",
       "  </thead>\n",
       "  <tbody>\n",
       "    <tr>\n",
       "      <th>0</th>\n",
       "      <td>asp query stre dropdown webpage follow control...</td>\n",
       "      <td>c# asp.net</td>\n",
       "      <td>[0, 9]</td>\n",
       "    </tr>\n",
       "    <tr>\n",
       "      <th>1</th>\n",
       "      <td>run javascript code server java code want run ...</td>\n",
       "      <td>java javascript</td>\n",
       "      <td>[1, 3]</td>\n",
       "    </tr>\n",
       "    <tr>\n",
       "      <th>2</th>\n",
       "      <td>linq sql throw exception row find change hi li...</td>\n",
       "      <td>c# asp.net</td>\n",
       "      <td>[0, 9]</td>\n",
       "    </tr>\n",
       "    <tr>\n",
       "      <th>3</th>\n",
       "      <td>run python script php server run nginx web ser...</td>\n",
       "      <td>php python</td>\n",
       "      <td>[2, 7]</td>\n",
       "    </tr>\n",
       "    <tr>\n",
       "      <th>4</th>\n",
       "      <td>advice write function m try write function res...</td>\n",
       "      <td>javascript jquery</td>\n",
       "      <td>[3, 5]</td>\n",
       "    </tr>\n",
       "    <tr>\n",
       "      <th>...</th>\n",
       "      <td>...</td>\n",
       "      <td>...</td>\n",
       "      <td>...</td>\n",
       "    </tr>\n",
       "    <tr>\n",
       "      <th>47422</th>\n",
       "      <td>take value edittext put decimal point all- wor...</td>\n",
       "      <td>java android</td>\n",
       "      <td>[1, 4]</td>\n",
       "    </tr>\n",
       "    <tr>\n",
       "      <th>47423</th>\n",
       "      <td>listen phone state application nee liste phone...</td>\n",
       "      <td>java android</td>\n",
       "      <td>[1, 4]</td>\n",
       "    </tr>\n",
       "    <tr>\n",
       "      <th>47424</th>\n",
       "      <td>android ui thread thread task want access main...</td>\n",
       "      <td>java android</td>\n",
       "      <td>[1, 4]</td>\n",
       "    </tr>\n",
       "    <tr>\n",
       "      <th>47425</th>\n",
       "      <td>dynamic table row creation html javascript htm...</td>\n",
       "      <td>asp.net javascript</td>\n",
       "      <td>[9, 3]</td>\n",
       "    </tr>\n",
       "    <tr>\n",
       "      <th>47426</th>\n",
       "      <td>image preloader work ie follow code preload im...</td>\n",
       "      <td>javascript jquery</td>\n",
       "      <td>[3, 5]</td>\n",
       "    </tr>\n",
       "  </tbody>\n",
       "</table>\n",
       "<p>47427 rows × 3 columns</p>\n",
       "</div>\n",
       "    <div class=\"colab-df-buttons\">\n",
       "\n",
       "  <div class=\"colab-df-container\">\n",
       "    <button class=\"colab-df-convert\" onclick=\"convertToInteractive('df-f0b708b3-eb3a-4f8e-b84b-8c8388704a68')\"\n",
       "            title=\"Convert this dataframe to an interactive table.\"\n",
       "            style=\"display:none;\">\n",
       "\n",
       "  <svg xmlns=\"http://www.w3.org/2000/svg\" height=\"24px\" viewBox=\"0 -960 960 960\">\n",
       "    <path d=\"M120-120v-720h720v720H120Zm60-500h600v-160H180v160Zm220 220h160v-160H400v160Zm0 220h160v-160H400v160ZM180-400h160v-160H180v160Zm440 0h160v-160H620v160ZM180-180h160v-160H180v160Zm440 0h160v-160H620v160Z\"/>\n",
       "  </svg>\n",
       "    </button>\n",
       "\n",
       "  <style>\n",
       "    .colab-df-container {\n",
       "      display:flex;\n",
       "      gap: 12px;\n",
       "    }\n",
       "\n",
       "    .colab-df-convert {\n",
       "      background-color: #E8F0FE;\n",
       "      border: none;\n",
       "      border-radius: 50%;\n",
       "      cursor: pointer;\n",
       "      display: none;\n",
       "      fill: #1967D2;\n",
       "      height: 32px;\n",
       "      padding: 0 0 0 0;\n",
       "      width: 32px;\n",
       "    }\n",
       "\n",
       "    .colab-df-convert:hover {\n",
       "      background-color: #E2EBFA;\n",
       "      box-shadow: 0px 1px 2px rgba(60, 64, 67, 0.3), 0px 1px 3px 1px rgba(60, 64, 67, 0.15);\n",
       "      fill: #174EA6;\n",
       "    }\n",
       "\n",
       "    .colab-df-buttons div {\n",
       "      margin-bottom: 4px;\n",
       "    }\n",
       "\n",
       "    [theme=dark] .colab-df-convert {\n",
       "      background-color: #3B4455;\n",
       "      fill: #D2E3FC;\n",
       "    }\n",
       "\n",
       "    [theme=dark] .colab-df-convert:hover {\n",
       "      background-color: #434B5C;\n",
       "      box-shadow: 0px 1px 3px 1px rgba(0, 0, 0, 0.15);\n",
       "      filter: drop-shadow(0px 1px 2px rgba(0, 0, 0, 0.3));\n",
       "      fill: #FFFFFF;\n",
       "    }\n",
       "  </style>\n",
       "\n",
       "    <script>\n",
       "      const buttonEl =\n",
       "        document.querySelector('#df-f0b708b3-eb3a-4f8e-b84b-8c8388704a68 button.colab-df-convert');\n",
       "      buttonEl.style.display =\n",
       "        google.colab.kernel.accessAllowed ? 'block' : 'none';\n",
       "\n",
       "      async function convertToInteractive(key) {\n",
       "        const element = document.querySelector('#df-f0b708b3-eb3a-4f8e-b84b-8c8388704a68');\n",
       "        const dataTable =\n",
       "          await google.colab.kernel.invokeFunction('convertToInteractive',\n",
       "                                                    [key], {});\n",
       "        if (!dataTable) return;\n",
       "\n",
       "        const docLinkHtml = 'Like what you see? Visit the ' +\n",
       "          '<a target=\"_blank\" href=https://colab.research.google.com/notebooks/data_table.ipynb>data table notebook</a>'\n",
       "          + ' to learn more about interactive tables.';\n",
       "        element.innerHTML = '';\n",
       "        dataTable['output_type'] = 'display_data';\n",
       "        await google.colab.output.renderOutput(dataTable, element);\n",
       "        const docLink = document.createElement('div');\n",
       "        docLink.innerHTML = docLinkHtml;\n",
       "        element.appendChild(docLink);\n",
       "      }\n",
       "    </script>\n",
       "  </div>\n",
       "\n",
       "\n",
       "    <div id=\"df-1b1a4a4a-db59-4a1f-ad2f-032a0f91d8cc\">\n",
       "      <button class=\"colab-df-quickchart\" onclick=\"quickchart('df-1b1a4a4a-db59-4a1f-ad2f-032a0f91d8cc')\"\n",
       "                title=\"Suggest charts\"\n",
       "                style=\"display:none;\">\n",
       "\n",
       "<svg xmlns=\"http://www.w3.org/2000/svg\" height=\"24px\"viewBox=\"0 0 24 24\"\n",
       "     width=\"24px\">\n",
       "    <g>\n",
       "        <path d=\"M19 3H5c-1.1 0-2 .9-2 2v14c0 1.1.9 2 2 2h14c1.1 0 2-.9 2-2V5c0-1.1-.9-2-2-2zM9 17H7v-7h2v7zm4 0h-2V7h2v10zm4 0h-2v-4h2v4z\"/>\n",
       "    </g>\n",
       "</svg>\n",
       "      </button>\n",
       "\n",
       "<style>\n",
       "  .colab-df-quickchart {\n",
       "      --bg-color: #E8F0FE;\n",
       "      --fill-color: #1967D2;\n",
       "      --hover-bg-color: #E2EBFA;\n",
       "      --hover-fill-color: #174EA6;\n",
       "      --disabled-fill-color: #AAA;\n",
       "      --disabled-bg-color: #DDD;\n",
       "  }\n",
       "\n",
       "  [theme=dark] .colab-df-quickchart {\n",
       "      --bg-color: #3B4455;\n",
       "      --fill-color: #D2E3FC;\n",
       "      --hover-bg-color: #434B5C;\n",
       "      --hover-fill-color: #FFFFFF;\n",
       "      --disabled-bg-color: #3B4455;\n",
       "      --disabled-fill-color: #666;\n",
       "  }\n",
       "\n",
       "  .colab-df-quickchart {\n",
       "    background-color: var(--bg-color);\n",
       "    border: none;\n",
       "    border-radius: 50%;\n",
       "    cursor: pointer;\n",
       "    display: none;\n",
       "    fill: var(--fill-color);\n",
       "    height: 32px;\n",
       "    padding: 0;\n",
       "    width: 32px;\n",
       "  }\n",
       "\n",
       "  .colab-df-quickchart:hover {\n",
       "    background-color: var(--hover-bg-color);\n",
       "    box-shadow: 0 1px 2px rgba(60, 64, 67, 0.3), 0 1px 3px 1px rgba(60, 64, 67, 0.15);\n",
       "    fill: var(--button-hover-fill-color);\n",
       "  }\n",
       "\n",
       "  .colab-df-quickchart-complete:disabled,\n",
       "  .colab-df-quickchart-complete:disabled:hover {\n",
       "    background-color: var(--disabled-bg-color);\n",
       "    fill: var(--disabled-fill-color);\n",
       "    box-shadow: none;\n",
       "  }\n",
       "\n",
       "  .colab-df-spinner {\n",
       "    border: 2px solid var(--fill-color);\n",
       "    border-color: transparent;\n",
       "    border-bottom-color: var(--fill-color);\n",
       "    animation:\n",
       "      spin 1s steps(1) infinite;\n",
       "  }\n",
       "\n",
       "  @keyframes spin {\n",
       "    0% {\n",
       "      border-color: transparent;\n",
       "      border-bottom-color: var(--fill-color);\n",
       "      border-left-color: var(--fill-color);\n",
       "    }\n",
       "    20% {\n",
       "      border-color: transparent;\n",
       "      border-left-color: var(--fill-color);\n",
       "      border-top-color: var(--fill-color);\n",
       "    }\n",
       "    30% {\n",
       "      border-color: transparent;\n",
       "      border-left-color: var(--fill-color);\n",
       "      border-top-color: var(--fill-color);\n",
       "      border-right-color: var(--fill-color);\n",
       "    }\n",
       "    40% {\n",
       "      border-color: transparent;\n",
       "      border-right-color: var(--fill-color);\n",
       "      border-top-color: var(--fill-color);\n",
       "    }\n",
       "    60% {\n",
       "      border-color: transparent;\n",
       "      border-right-color: var(--fill-color);\n",
       "    }\n",
       "    80% {\n",
       "      border-color: transparent;\n",
       "      border-right-color: var(--fill-color);\n",
       "      border-bottom-color: var(--fill-color);\n",
       "    }\n",
       "    90% {\n",
       "      border-color: transparent;\n",
       "      border-bottom-color: var(--fill-color);\n",
       "    }\n",
       "  }\n",
       "</style>\n",
       "\n",
       "      <script>\n",
       "        async function quickchart(key) {\n",
       "          const quickchartButtonEl =\n",
       "            document.querySelector('#' + key + ' button');\n",
       "          quickchartButtonEl.disabled = true;  // To prevent multiple clicks.\n",
       "          quickchartButtonEl.classList.add('colab-df-spinner');\n",
       "          try {\n",
       "            const charts = await google.colab.kernel.invokeFunction(\n",
       "                'suggestCharts', [key], {});\n",
       "          } catch (error) {\n",
       "            console.error('Error during call to suggestCharts:', error);\n",
       "          }\n",
       "          quickchartButtonEl.classList.remove('colab-df-spinner');\n",
       "          quickchartButtonEl.classList.add('colab-df-quickchart-complete');\n",
       "        }\n",
       "        (() => {\n",
       "          let quickchartButtonEl =\n",
       "            document.querySelector('#df-1b1a4a4a-db59-4a1f-ad2f-032a0f91d8cc button');\n",
       "          quickchartButtonEl.style.display =\n",
       "            google.colab.kernel.accessAllowed ? 'block' : 'none';\n",
       "        })();\n",
       "      </script>\n",
       "    </div>\n",
       "\n",
       "  <div id=\"id_9f6b16dd-aa71-4a56-93a5-4e518790a79c\">\n",
       "    <style>\n",
       "      .colab-df-generate {\n",
       "        background-color: #E8F0FE;\n",
       "        border: none;\n",
       "        border-radius: 50%;\n",
       "        cursor: pointer;\n",
       "        display: none;\n",
       "        fill: #1967D2;\n",
       "        height: 32px;\n",
       "        padding: 0 0 0 0;\n",
       "        width: 32px;\n",
       "      }\n",
       "\n",
       "      .colab-df-generate:hover {\n",
       "        background-color: #E2EBFA;\n",
       "        box-shadow: 0px 1px 2px rgba(60, 64, 67, 0.3), 0px 1px 3px 1px rgba(60, 64, 67, 0.15);\n",
       "        fill: #174EA6;\n",
       "      }\n",
       "\n",
       "      [theme=dark] .colab-df-generate {\n",
       "        background-color: #3B4455;\n",
       "        fill: #D2E3FC;\n",
       "      }\n",
       "\n",
       "      [theme=dark] .colab-df-generate:hover {\n",
       "        background-color: #434B5C;\n",
       "        box-shadow: 0px 1px 3px 1px rgba(0, 0, 0, 0.15);\n",
       "        filter: drop-shadow(0px 1px 2px rgba(0, 0, 0, 0.3));\n",
       "        fill: #FFFFFF;\n",
       "      }\n",
       "    </style>\n",
       "    <button class=\"colab-df-generate\" onclick=\"generateWithVariable('df')\"\n",
       "            title=\"Generate code using this dataframe.\"\n",
       "            style=\"display:none;\">\n",
       "\n",
       "  <svg xmlns=\"http://www.w3.org/2000/svg\" height=\"24px\"viewBox=\"0 0 24 24\"\n",
       "       width=\"24px\">\n",
       "    <path d=\"M7,19H8.4L18.45,9,17,7.55,7,17.6ZM5,21V16.75L18.45,3.32a2,2,0,0,1,2.83,0l1.4,1.43a1.91,1.91,0,0,1,.58,1.4,1.91,1.91,0,0,1-.58,1.4L9.25,21ZM18.45,9,17,7.55Zm-12,3A5.31,5.31,0,0,0,4.9,8.1,5.31,5.31,0,0,0,1,6.5,5.31,5.31,0,0,0,4.9,4.9,5.31,5.31,0,0,0,6.5,1,5.31,5.31,0,0,0,8.1,4.9,5.31,5.31,0,0,0,12,6.5,5.46,5.46,0,0,0,6.5,12Z\"/>\n",
       "  </svg>\n",
       "    </button>\n",
       "    <script>\n",
       "      (() => {\n",
       "      const buttonEl =\n",
       "        document.querySelector('#id_9f6b16dd-aa71-4a56-93a5-4e518790a79c button.colab-df-generate');\n",
       "      buttonEl.style.display =\n",
       "        google.colab.kernel.accessAllowed ? 'block' : 'none';\n",
       "\n",
       "      buttonEl.onclick = () => {\n",
       "        google.colab.notebook.generateWithVariable('df');\n",
       "      }\n",
       "      })();\n",
       "    </script>\n",
       "  </div>\n",
       "\n",
       "    </div>\n",
       "  </div>\n"
      ],
      "text/plain": [
       "                                            cleaned_text                Tags  \\\n",
       "0      asp query stre dropdown webpage follow control...          c# asp.net   \n",
       "1      run javascript code server java code want run ...     java javascript   \n",
       "2      linq sql throw exception row find change hi li...          c# asp.net   \n",
       "3      run python script php server run nginx web ser...          php python   \n",
       "4      advice write function m try write function res...   javascript jquery   \n",
       "...                                                  ...                 ...   \n",
       "47422  take value edittext put decimal point all- wor...        java android   \n",
       "47423  listen phone state application nee liste phone...        java android   \n",
       "47424  android ui thread thread task want access main...        java android   \n",
       "47425  dynamic table row creation html javascript htm...  asp.net javascript   \n",
       "47426  image preloader work ie follow code preload im...   javascript jquery   \n",
       "\n",
       "      Tag_Number  \n",
       "0         [0, 9]  \n",
       "1         [1, 3]  \n",
       "2         [0, 9]  \n",
       "3         [2, 7]  \n",
       "4         [3, 5]  \n",
       "...          ...  \n",
       "47422     [1, 4]  \n",
       "47423     [1, 4]  \n",
       "47424     [1, 4]  \n",
       "47425     [9, 3]  \n",
       "47426     [3, 5]  \n",
       "\n",
       "[47427 rows x 3 columns]"
      ]
     },
     "execution_count": 7,
     "metadata": {},
     "output_type": "execute_result"
    }
   ],
   "source": [
    "df = joblib.load(data_folder/'df_multilabel_hw_cleaned.joblib')\n",
    "df"
   ]
  },
  {
   "cell_type": "code",
   "execution_count": 8,
   "id": "uvCUBOG-MDce",
   "metadata": {
    "executionInfo": {
     "elapsed": 195,
     "status": "ok",
     "timestamp": 1745853224844,
     "user": {
      "displayName": "Shaannoor Mann",
      "userId": "02520257695567980696"
     },
     "user_tz": 300
    },
    "id": "uvCUBOG-MDce"
   },
   "outputs": [],
   "source": [
    "stack_dataset = Dataset.from_pandas(df)"
   ]
  },
  {
   "cell_type": "code",
   "execution_count": 9,
   "id": "quHN6VZYMRPp",
   "metadata": {
    "executionInfo": {
     "elapsed": 531,
     "status": "ok",
     "timestamp": 1745853225377,
     "user": {
      "displayName": "Shaannoor Mann",
      "userId": "02520257695567980696"
     },
     "user_tz": 300
    },
    "id": "quHN6VZYMRPp"
   },
   "outputs": [],
   "source": [
    "selected_columns = {\n",
    "    'text': stack_dataset['cleaned_text'],\n",
    "    'tag': stack_dataset['Tags']\n",
    "}\n",
    "\n",
    "# Create a new dataset with the selected columns\n",
    "stack_selected_columns = Dataset.from_dict(selected_columns)"
   ]
  },
  {
   "cell_type": "code",
   "execution_count": 10,
   "id": "mari8sJZUSfQ",
   "metadata": {
    "colab": {
     "base_uri": "https://localhost:8080/"
    },
    "executionInfo": {
     "elapsed": 6,
     "status": "ok",
     "timestamp": 1745853225386,
     "user": {
      "displayName": "Shaannoor Mann",
      "userId": "02520257695567980696"
     },
     "user_tz": 300
    },
    "id": "mari8sJZUSfQ",
    "outputId": "c4fc729c-f28e-4501-9e56-5f028badc2c6"
   },
   "outputs": [
    {
     "data": {
      "text/plain": [
       "Dataset({\n",
       "    features: ['text', 'tag'],\n",
       "    num_rows: 47427\n",
       "})"
      ]
     },
     "execution_count": 10,
     "metadata": {},
     "output_type": "execute_result"
    }
   ],
   "source": [
    "stack_selected_columns"
   ]
  },
  {
   "cell_type": "code",
   "execution_count": 11,
   "id": "hCnyp2xIUVp8",
   "metadata": {
    "colab": {
     "base_uri": "https://localhost:8080/",
     "height": 35
    },
    "executionInfo": {
     "elapsed": 49,
     "status": "ok",
     "timestamp": 1745853225480,
     "user": {
      "displayName": "Shaannoor Mann",
      "userId": "02520257695567980696"
     },
     "user_tz": 300
    },
    "id": "hCnyp2xIUVp8",
    "outputId": "95f3d5f1-313a-4cca-f017-dd1940e2bf72"
   },
   "outputs": [
    {
     "data": {
      "application/vnd.google.colaboratory.intrinsic+json": {
       "type": "string"
      },
      "text/plain": [
       "'c# asp.net'"
      ]
     },
     "execution_count": 11,
     "metadata": {},
     "output_type": "execute_result"
    }
   ],
   "source": [
    "stack_selected_columns['tag'][0]"
   ]
  },
  {
   "cell_type": "code",
   "execution_count": 12,
   "id": "ppklcWon_2Op",
   "metadata": {
    "executionInfo": {
     "elapsed": 6,
     "status": "ok",
     "timestamp": 1745853225488,
     "user": {
      "displayName": "Shaannoor Mann",
      "userId": "02520257695567980696"
     },
     "user_tz": 300
    },
    "id": "ppklcWon_2Op"
   },
   "outputs": [],
   "source": [
    "# Set the format to Pandas\n",
    "stack_selected_columns.set_format(type='pandas')"
   ]
  },
  {
   "cell_type": "code",
   "execution_count": 13,
   "id": "IUAryZtVMpT0",
   "metadata": {
    "executionInfo": {
     "elapsed": 20,
     "status": "ok",
     "timestamp": 1745853225509,
     "user": {
      "displayName": "Shaannoor Mann",
      "userId": "02520257695567980696"
     },
     "user_tz": 300
    },
    "id": "IUAryZtVMpT0"
   },
   "outputs": [],
   "source": [
    "df = stack_selected_columns[:]"
   ]
  },
  {
   "cell_type": "code",
   "execution_count": 14,
   "id": "3_V-XxeLMalQ",
   "metadata": {
    "executionInfo": {
     "elapsed": 182,
     "status": "ok",
     "timestamp": 1745853225693,
     "user": {
      "displayName": "Shaannoor Mann",
      "userId": "02520257695567980696"
     },
     "user_tz": 300
    },
    "id": "3_V-XxeLMalQ"
   },
   "outputs": [],
   "source": [
    "# Remove existing quotes first (if any) and then add just one set\n",
    "import json\n",
    "df['label'] = df['tag'].str.split().apply(lambda x: json.dumps([tag.strip() for tag in x]))\n"
   ]
  },
  {
   "cell_type": "code",
   "execution_count": 15,
   "id": "oay_4zobWFZP",
   "metadata": {
    "colab": {
     "base_uri": "https://localhost:8080/",
     "height": 423
    },
    "executionInfo": {
     "elapsed": 313,
     "status": "ok",
     "timestamp": 1745853226008,
     "user": {
      "displayName": "Shaannoor Mann",
      "userId": "02520257695567980696"
     },
     "user_tz": 300
    },
    "id": "oay_4zobWFZP",
    "outputId": "5c859aac-ad86-4357-c1df-2e24ca7d89b7"
   },
   "outputs": [
    {
     "data": {
      "application/vnd.google.colaboratory.intrinsic+json": {
       "summary": "{\n  \"name\": \"df\",\n  \"rows\": 47427,\n  \"fields\": [\n    {\n      \"column\": \"text\",\n      \"properties\": {\n        \"dtype\": \"string\",\n        \"num_unique_values\": 36481,\n        \"samples\": [\n          \"fadein invisible list item jquery unordered list lis invisible display begin want specific li visible js function try $ list li nth child(1)\\\").fadein work ul visible begin code > li      display   < ul class=\\\"hide id=\\\"my list >      < li>1</li >      < li>2</li >      < li>3</li > < /ul >   try answer question feel free stab\",\n          \"deploy project server create website excel file mail d information mail d fetch excel file excel file send mail automatically mail d design subject cc bcc content create project export excel file fetch mail d ms access database send email automatically design deploy project ftp.i know create help regard padmapriya s  \",\n          \"custom keypad button functional app finish scoreboard app   user longclick score currently dialog box appear show edittext field ok cancel button   user click edittext field keypad appear number user type new score click edittext field show new value dialog box user click ok save enter value textview show current score problem feel cumbersome   like happen   user longclick score keypad appear user enter new score user click ok keypad disappear value save textview update current score   order accomplish think thing   create new class extend view new android understand option replace edittext dialog new xml file design like keypad   option 2   figure probably easy design xml layout call   user longclick file inflate dialog ok cancel   far good   know code button action thought figure setup onclick listener button layout   figure button go perform exact function   basically text button case 0 9 append textview keypad   user click ok save textview current score textview help point right direction accomplish screenshot textview number   xml code < xml version=\\\"1.0 encoding=\\\"utf-8 > < gridlayout xmlns apk res android android layout_width=\\\"wrap_content android layout_height=\\\"wrap_content android layout_gravity=\\\"fill android columncount=\\\"3 >   < textview      android id=\\\"@+id textview1      android layout_columnspan=\\\"3      android layout_gravity=\\\"fill      android gravity=\\\"right|center_vertical      android textsize=\\\"24sp >   < button android text=\\\"1 >   < button android text=\\\"2 >   < button android text=\\\"3 > < button android text=\\\"4 > < button android text=\\\"5 > < button android text=\\\"6 > < button android text=\\\"7 > < button android text=\\\"8 > < button android text=\\\"9 >   < button      android layout_columnspan=\\\"3      android layout_gravity=\\\"fill      android gravity=\\\"center      android text=\\\"0 >   \"\n        ],\n        \"semantic_type\": \"\",\n        \"description\": \"\"\n      }\n    },\n    {\n      \"column\": \"tag\",\n      \"properties\": {\n        \"dtype\": \"category\",\n        \"num_unique_values\": 176,\n        \"samples\": [\n          \"javascript asp.net\",\n          \"c# asp.net jquery\",\n          \"c# java python\"\n        ],\n        \"semantic_type\": \"\",\n        \"description\": \"\"\n      }\n    },\n    {\n      \"column\": \"label\",\n      \"properties\": {\n        \"dtype\": \"category\",\n        \"num_unique_values\": 176,\n        \"samples\": [\n          \"[\\\"javascript\\\", \\\"asp.net\\\"]\",\n          \"[\\\"c#\\\", \\\"asp.net\\\", \\\"jquery\\\"]\",\n          \"[\\\"c#\\\", \\\"java\\\", \\\"python\\\"]\"\n        ],\n        \"semantic_type\": \"\",\n        \"description\": \"\"\n      }\n    }\n  ]\n}",
       "type": "dataframe",
       "variable_name": "df"
      },
      "text/html": [
       "\n",
       "  <div id=\"df-521093a5-43aa-4bda-9047-df4e110d8754\" class=\"colab-df-container\">\n",
       "    <div>\n",
       "<style scoped>\n",
       "    .dataframe tbody tr th:only-of-type {\n",
       "        vertical-align: middle;\n",
       "    }\n",
       "\n",
       "    .dataframe tbody tr th {\n",
       "        vertical-align: top;\n",
       "    }\n",
       "\n",
       "    .dataframe thead th {\n",
       "        text-align: right;\n",
       "    }\n",
       "</style>\n",
       "<table border=\"1\" class=\"dataframe\">\n",
       "  <thead>\n",
       "    <tr style=\"text-align: right;\">\n",
       "      <th></th>\n",
       "      <th>text</th>\n",
       "      <th>tag</th>\n",
       "      <th>label</th>\n",
       "    </tr>\n",
       "  </thead>\n",
       "  <tbody>\n",
       "    <tr>\n",
       "      <th>0</th>\n",
       "      <td>asp query stre dropdown webpage follow control...</td>\n",
       "      <td>c# asp.net</td>\n",
       "      <td>[\"c#\", \"asp.net\"]</td>\n",
       "    </tr>\n",
       "    <tr>\n",
       "      <th>1</th>\n",
       "      <td>run javascript code server java code want run ...</td>\n",
       "      <td>java javascript</td>\n",
       "      <td>[\"java\", \"javascript\"]</td>\n",
       "    </tr>\n",
       "    <tr>\n",
       "      <th>2</th>\n",
       "      <td>linq sql throw exception row find change hi li...</td>\n",
       "      <td>c# asp.net</td>\n",
       "      <td>[\"c#\", \"asp.net\"]</td>\n",
       "    </tr>\n",
       "    <tr>\n",
       "      <th>3</th>\n",
       "      <td>run python script php server run nginx web ser...</td>\n",
       "      <td>php python</td>\n",
       "      <td>[\"php\", \"python\"]</td>\n",
       "    </tr>\n",
       "    <tr>\n",
       "      <th>4</th>\n",
       "      <td>advice write function m try write function res...</td>\n",
       "      <td>javascript jquery</td>\n",
       "      <td>[\"javascript\", \"jquery\"]</td>\n",
       "    </tr>\n",
       "    <tr>\n",
       "      <th>...</th>\n",
       "      <td>...</td>\n",
       "      <td>...</td>\n",
       "      <td>...</td>\n",
       "    </tr>\n",
       "    <tr>\n",
       "      <th>47422</th>\n",
       "      <td>take value edittext put decimal point all- wor...</td>\n",
       "      <td>java android</td>\n",
       "      <td>[\"java\", \"android\"]</td>\n",
       "    </tr>\n",
       "    <tr>\n",
       "      <th>47423</th>\n",
       "      <td>listen phone state application nee liste phone...</td>\n",
       "      <td>java android</td>\n",
       "      <td>[\"java\", \"android\"]</td>\n",
       "    </tr>\n",
       "    <tr>\n",
       "      <th>47424</th>\n",
       "      <td>android ui thread thread task want access main...</td>\n",
       "      <td>java android</td>\n",
       "      <td>[\"java\", \"android\"]</td>\n",
       "    </tr>\n",
       "    <tr>\n",
       "      <th>47425</th>\n",
       "      <td>dynamic table row creation html javascript htm...</td>\n",
       "      <td>asp.net javascript</td>\n",
       "      <td>[\"asp.net\", \"javascript\"]</td>\n",
       "    </tr>\n",
       "    <tr>\n",
       "      <th>47426</th>\n",
       "      <td>image preloader work ie follow code preload im...</td>\n",
       "      <td>javascript jquery</td>\n",
       "      <td>[\"javascript\", \"jquery\"]</td>\n",
       "    </tr>\n",
       "  </tbody>\n",
       "</table>\n",
       "<p>47427 rows × 3 columns</p>\n",
       "</div>\n",
       "    <div class=\"colab-df-buttons\">\n",
       "\n",
       "  <div class=\"colab-df-container\">\n",
       "    <button class=\"colab-df-convert\" onclick=\"convertToInteractive('df-521093a5-43aa-4bda-9047-df4e110d8754')\"\n",
       "            title=\"Convert this dataframe to an interactive table.\"\n",
       "            style=\"display:none;\">\n",
       "\n",
       "  <svg xmlns=\"http://www.w3.org/2000/svg\" height=\"24px\" viewBox=\"0 -960 960 960\">\n",
       "    <path d=\"M120-120v-720h720v720H120Zm60-500h600v-160H180v160Zm220 220h160v-160H400v160Zm0 220h160v-160H400v160ZM180-400h160v-160H180v160Zm440 0h160v-160H620v160ZM180-180h160v-160H180v160Zm440 0h160v-160H620v160Z\"/>\n",
       "  </svg>\n",
       "    </button>\n",
       "\n",
       "  <style>\n",
       "    .colab-df-container {\n",
       "      display:flex;\n",
       "      gap: 12px;\n",
       "    }\n",
       "\n",
       "    .colab-df-convert {\n",
       "      background-color: #E8F0FE;\n",
       "      border: none;\n",
       "      border-radius: 50%;\n",
       "      cursor: pointer;\n",
       "      display: none;\n",
       "      fill: #1967D2;\n",
       "      height: 32px;\n",
       "      padding: 0 0 0 0;\n",
       "      width: 32px;\n",
       "    }\n",
       "\n",
       "    .colab-df-convert:hover {\n",
       "      background-color: #E2EBFA;\n",
       "      box-shadow: 0px 1px 2px rgba(60, 64, 67, 0.3), 0px 1px 3px 1px rgba(60, 64, 67, 0.15);\n",
       "      fill: #174EA6;\n",
       "    }\n",
       "\n",
       "    .colab-df-buttons div {\n",
       "      margin-bottom: 4px;\n",
       "    }\n",
       "\n",
       "    [theme=dark] .colab-df-convert {\n",
       "      background-color: #3B4455;\n",
       "      fill: #D2E3FC;\n",
       "    }\n",
       "\n",
       "    [theme=dark] .colab-df-convert:hover {\n",
       "      background-color: #434B5C;\n",
       "      box-shadow: 0px 1px 3px 1px rgba(0, 0, 0, 0.15);\n",
       "      filter: drop-shadow(0px 1px 2px rgba(0, 0, 0, 0.3));\n",
       "      fill: #FFFFFF;\n",
       "    }\n",
       "  </style>\n",
       "\n",
       "    <script>\n",
       "      const buttonEl =\n",
       "        document.querySelector('#df-521093a5-43aa-4bda-9047-df4e110d8754 button.colab-df-convert');\n",
       "      buttonEl.style.display =\n",
       "        google.colab.kernel.accessAllowed ? 'block' : 'none';\n",
       "\n",
       "      async function convertToInteractive(key) {\n",
       "        const element = document.querySelector('#df-521093a5-43aa-4bda-9047-df4e110d8754');\n",
       "        const dataTable =\n",
       "          await google.colab.kernel.invokeFunction('convertToInteractive',\n",
       "                                                    [key], {});\n",
       "        if (!dataTable) return;\n",
       "\n",
       "        const docLinkHtml = 'Like what you see? Visit the ' +\n",
       "          '<a target=\"_blank\" href=https://colab.research.google.com/notebooks/data_table.ipynb>data table notebook</a>'\n",
       "          + ' to learn more about interactive tables.';\n",
       "        element.innerHTML = '';\n",
       "        dataTable['output_type'] = 'display_data';\n",
       "        await google.colab.output.renderOutput(dataTable, element);\n",
       "        const docLink = document.createElement('div');\n",
       "        docLink.innerHTML = docLinkHtml;\n",
       "        element.appendChild(docLink);\n",
       "      }\n",
       "    </script>\n",
       "  </div>\n",
       "\n",
       "\n",
       "    <div id=\"df-5c4c1bcb-de6f-463c-8a65-ccc31a6fa8b9\">\n",
       "      <button class=\"colab-df-quickchart\" onclick=\"quickchart('df-5c4c1bcb-de6f-463c-8a65-ccc31a6fa8b9')\"\n",
       "                title=\"Suggest charts\"\n",
       "                style=\"display:none;\">\n",
       "\n",
       "<svg xmlns=\"http://www.w3.org/2000/svg\" height=\"24px\"viewBox=\"0 0 24 24\"\n",
       "     width=\"24px\">\n",
       "    <g>\n",
       "        <path d=\"M19 3H5c-1.1 0-2 .9-2 2v14c0 1.1.9 2 2 2h14c1.1 0 2-.9 2-2V5c0-1.1-.9-2-2-2zM9 17H7v-7h2v7zm4 0h-2V7h2v10zm4 0h-2v-4h2v4z\"/>\n",
       "    </g>\n",
       "</svg>\n",
       "      </button>\n",
       "\n",
       "<style>\n",
       "  .colab-df-quickchart {\n",
       "      --bg-color: #E8F0FE;\n",
       "      --fill-color: #1967D2;\n",
       "      --hover-bg-color: #E2EBFA;\n",
       "      --hover-fill-color: #174EA6;\n",
       "      --disabled-fill-color: #AAA;\n",
       "      --disabled-bg-color: #DDD;\n",
       "  }\n",
       "\n",
       "  [theme=dark] .colab-df-quickchart {\n",
       "      --bg-color: #3B4455;\n",
       "      --fill-color: #D2E3FC;\n",
       "      --hover-bg-color: #434B5C;\n",
       "      --hover-fill-color: #FFFFFF;\n",
       "      --disabled-bg-color: #3B4455;\n",
       "      --disabled-fill-color: #666;\n",
       "  }\n",
       "\n",
       "  .colab-df-quickchart {\n",
       "    background-color: var(--bg-color);\n",
       "    border: none;\n",
       "    border-radius: 50%;\n",
       "    cursor: pointer;\n",
       "    display: none;\n",
       "    fill: var(--fill-color);\n",
       "    height: 32px;\n",
       "    padding: 0;\n",
       "    width: 32px;\n",
       "  }\n",
       "\n",
       "  .colab-df-quickchart:hover {\n",
       "    background-color: var(--hover-bg-color);\n",
       "    box-shadow: 0 1px 2px rgba(60, 64, 67, 0.3), 0 1px 3px 1px rgba(60, 64, 67, 0.15);\n",
       "    fill: var(--button-hover-fill-color);\n",
       "  }\n",
       "\n",
       "  .colab-df-quickchart-complete:disabled,\n",
       "  .colab-df-quickchart-complete:disabled:hover {\n",
       "    background-color: var(--disabled-bg-color);\n",
       "    fill: var(--disabled-fill-color);\n",
       "    box-shadow: none;\n",
       "  }\n",
       "\n",
       "  .colab-df-spinner {\n",
       "    border: 2px solid var(--fill-color);\n",
       "    border-color: transparent;\n",
       "    border-bottom-color: var(--fill-color);\n",
       "    animation:\n",
       "      spin 1s steps(1) infinite;\n",
       "  }\n",
       "\n",
       "  @keyframes spin {\n",
       "    0% {\n",
       "      border-color: transparent;\n",
       "      border-bottom-color: var(--fill-color);\n",
       "      border-left-color: var(--fill-color);\n",
       "    }\n",
       "    20% {\n",
       "      border-color: transparent;\n",
       "      border-left-color: var(--fill-color);\n",
       "      border-top-color: var(--fill-color);\n",
       "    }\n",
       "    30% {\n",
       "      border-color: transparent;\n",
       "      border-left-color: var(--fill-color);\n",
       "      border-top-color: var(--fill-color);\n",
       "      border-right-color: var(--fill-color);\n",
       "    }\n",
       "    40% {\n",
       "      border-color: transparent;\n",
       "      border-right-color: var(--fill-color);\n",
       "      border-top-color: var(--fill-color);\n",
       "    }\n",
       "    60% {\n",
       "      border-color: transparent;\n",
       "      border-right-color: var(--fill-color);\n",
       "    }\n",
       "    80% {\n",
       "      border-color: transparent;\n",
       "      border-right-color: var(--fill-color);\n",
       "      border-bottom-color: var(--fill-color);\n",
       "    }\n",
       "    90% {\n",
       "      border-color: transparent;\n",
       "      border-bottom-color: var(--fill-color);\n",
       "    }\n",
       "  }\n",
       "</style>\n",
       "\n",
       "      <script>\n",
       "        async function quickchart(key) {\n",
       "          const quickchartButtonEl =\n",
       "            document.querySelector('#' + key + ' button');\n",
       "          quickchartButtonEl.disabled = true;  // To prevent multiple clicks.\n",
       "          quickchartButtonEl.classList.add('colab-df-spinner');\n",
       "          try {\n",
       "            const charts = await google.colab.kernel.invokeFunction(\n",
       "                'suggestCharts', [key], {});\n",
       "          } catch (error) {\n",
       "            console.error('Error during call to suggestCharts:', error);\n",
       "          }\n",
       "          quickchartButtonEl.classList.remove('colab-df-spinner');\n",
       "          quickchartButtonEl.classList.add('colab-df-quickchart-complete');\n",
       "        }\n",
       "        (() => {\n",
       "          let quickchartButtonEl =\n",
       "            document.querySelector('#df-5c4c1bcb-de6f-463c-8a65-ccc31a6fa8b9 button');\n",
       "          quickchartButtonEl.style.display =\n",
       "            google.colab.kernel.accessAllowed ? 'block' : 'none';\n",
       "        })();\n",
       "      </script>\n",
       "    </div>\n",
       "\n",
       "  <div id=\"id_3b92c573-ce82-46ad-9fd1-e3a3c42d7af5\">\n",
       "    <style>\n",
       "      .colab-df-generate {\n",
       "        background-color: #E8F0FE;\n",
       "        border: none;\n",
       "        border-radius: 50%;\n",
       "        cursor: pointer;\n",
       "        display: none;\n",
       "        fill: #1967D2;\n",
       "        height: 32px;\n",
       "        padding: 0 0 0 0;\n",
       "        width: 32px;\n",
       "      }\n",
       "\n",
       "      .colab-df-generate:hover {\n",
       "        background-color: #E2EBFA;\n",
       "        box-shadow: 0px 1px 2px rgba(60, 64, 67, 0.3), 0px 1px 3px 1px rgba(60, 64, 67, 0.15);\n",
       "        fill: #174EA6;\n",
       "      }\n",
       "\n",
       "      [theme=dark] .colab-df-generate {\n",
       "        background-color: #3B4455;\n",
       "        fill: #D2E3FC;\n",
       "      }\n",
       "\n",
       "      [theme=dark] .colab-df-generate:hover {\n",
       "        background-color: #434B5C;\n",
       "        box-shadow: 0px 1px 3px 1px rgba(0, 0, 0, 0.15);\n",
       "        filter: drop-shadow(0px 1px 2px rgba(0, 0, 0, 0.3));\n",
       "        fill: #FFFFFF;\n",
       "      }\n",
       "    </style>\n",
       "    <button class=\"colab-df-generate\" onclick=\"generateWithVariable('df')\"\n",
       "            title=\"Generate code using this dataframe.\"\n",
       "            style=\"display:none;\">\n",
       "\n",
       "  <svg xmlns=\"http://www.w3.org/2000/svg\" height=\"24px\"viewBox=\"0 0 24 24\"\n",
       "       width=\"24px\">\n",
       "    <path d=\"M7,19H8.4L18.45,9,17,7.55,7,17.6ZM5,21V16.75L18.45,3.32a2,2,0,0,1,2.83,0l1.4,1.43a1.91,1.91,0,0,1,.58,1.4,1.91,1.91,0,0,1-.58,1.4L9.25,21ZM18.45,9,17,7.55Zm-12,3A5.31,5.31,0,0,0,4.9,8.1,5.31,5.31,0,0,0,1,6.5,5.31,5.31,0,0,0,4.9,4.9,5.31,5.31,0,0,0,6.5,1,5.31,5.31,0,0,0,8.1,4.9,5.31,5.31,0,0,0,12,6.5,5.46,5.46,0,0,0,6.5,12Z\"/>\n",
       "  </svg>\n",
       "    </button>\n",
       "    <script>\n",
       "      (() => {\n",
       "      const buttonEl =\n",
       "        document.querySelector('#id_3b92c573-ce82-46ad-9fd1-e3a3c42d7af5 button.colab-df-generate');\n",
       "      buttonEl.style.display =\n",
       "        google.colab.kernel.accessAllowed ? 'block' : 'none';\n",
       "\n",
       "      buttonEl.onclick = () => {\n",
       "        google.colab.notebook.generateWithVariable('df');\n",
       "      }\n",
       "      })();\n",
       "    </script>\n",
       "  </div>\n",
       "\n",
       "    </div>\n",
       "  </div>\n"
      ],
      "text/plain": [
       "                                                    text                 tag  \\\n",
       "0      asp query stre dropdown webpage follow control...          c# asp.net   \n",
       "1      run javascript code server java code want run ...     java javascript   \n",
       "2      linq sql throw exception row find change hi li...          c# asp.net   \n",
       "3      run python script php server run nginx web ser...          php python   \n",
       "4      advice write function m try write function res...   javascript jquery   \n",
       "...                                                  ...                 ...   \n",
       "47422  take value edittext put decimal point all- wor...        java android   \n",
       "47423  listen phone state application nee liste phone...        java android   \n",
       "47424  android ui thread thread task want access main...        java android   \n",
       "47425  dynamic table row creation html javascript htm...  asp.net javascript   \n",
       "47426  image preloader work ie follow code preload im...   javascript jquery   \n",
       "\n",
       "                           label  \n",
       "0              [\"c#\", \"asp.net\"]  \n",
       "1         [\"java\", \"javascript\"]  \n",
       "2              [\"c#\", \"asp.net\"]  \n",
       "3              [\"php\", \"python\"]  \n",
       "4       [\"javascript\", \"jquery\"]  \n",
       "...                          ...  \n",
       "47422        [\"java\", \"android\"]  \n",
       "47423        [\"java\", \"android\"]  \n",
       "47424        [\"java\", \"android\"]  \n",
       "47425  [\"asp.net\", \"javascript\"]  \n",
       "47426   [\"javascript\", \"jquery\"]  \n",
       "\n",
       "[47427 rows x 3 columns]"
      ]
     },
     "execution_count": 15,
     "metadata": {},
     "output_type": "execute_result"
    }
   ],
   "source": [
    "df"
   ]
  },
  {
   "cell_type": "code",
   "execution_count": 16,
   "id": "oopWWBvQNX7l",
   "metadata": {
    "executionInfo": {
     "elapsed": 4,
     "status": "ok",
     "timestamp": 1745853226013,
     "user": {
      "displayName": "Shaannoor Mann",
      "userId": "02520257695567980696"
     },
     "user_tz": 300
    },
    "id": "oopWWBvQNX7l"
   },
   "outputs": [],
   "source": [
    "df_final = df[['text', 'label']]"
   ]
  },
  {
   "cell_type": "code",
   "execution_count": 17,
   "id": "ZTb8OzDVe-OA",
   "metadata": {
    "colab": {
     "base_uri": "https://localhost:8080/",
     "height": 423
    },
    "executionInfo": {
     "elapsed": 296,
     "status": "ok",
     "timestamp": 1745853226310,
     "user": {
      "displayName": "Shaannoor Mann",
      "userId": "02520257695567980696"
     },
     "user_tz": 300
    },
    "id": "ZTb8OzDVe-OA",
    "outputId": "00fdd696-dbf1-4d09-8674-bf88fe80557e"
   },
   "outputs": [
    {
     "data": {
      "application/vnd.google.colaboratory.intrinsic+json": {
       "summary": "{\n  \"name\": \"df_final\",\n  \"rows\": 47427,\n  \"fields\": [\n    {\n      \"column\": \"text\",\n      \"properties\": {\n        \"dtype\": \"string\",\n        \"num_unique_values\": 36481,\n        \"samples\": [\n          \"fadein invisible list item jquery unordered list lis invisible display begin want specific li visible js function try $ list li nth child(1)\\\").fadein work ul visible begin code > li      display   < ul class=\\\"hide id=\\\"my list >      < li>1</li >      < li>2</li >      < li>3</li > < /ul >   try answer question feel free stab\",\n          \"deploy project server create website excel file mail d information mail d fetch excel file excel file send mail automatically mail d design subject cc bcc content create project export excel file fetch mail d ms access database send email automatically design deploy project ftp.i know create help regard padmapriya s  \",\n          \"custom keypad button functional app finish scoreboard app   user longclick score currently dialog box appear show edittext field ok cancel button   user click edittext field keypad appear number user type new score click edittext field show new value dialog box user click ok save enter value textview show current score problem feel cumbersome   like happen   user longclick score keypad appear user enter new score user click ok keypad disappear value save textview update current score   order accomplish think thing   create new class extend view new android understand option replace edittext dialog new xml file design like keypad   option 2   figure probably easy design xml layout call   user longclick file inflate dialog ok cancel   far good   know code button action thought figure setup onclick listener button layout   figure button go perform exact function   basically text button case 0 9 append textview keypad   user click ok save textview current score textview help point right direction accomplish screenshot textview number   xml code < xml version=\\\"1.0 encoding=\\\"utf-8 > < gridlayout xmlns apk res android android layout_width=\\\"wrap_content android layout_height=\\\"wrap_content android layout_gravity=\\\"fill android columncount=\\\"3 >   < textview      android id=\\\"@+id textview1      android layout_columnspan=\\\"3      android layout_gravity=\\\"fill      android gravity=\\\"right|center_vertical      android textsize=\\\"24sp >   < button android text=\\\"1 >   < button android text=\\\"2 >   < button android text=\\\"3 > < button android text=\\\"4 > < button android text=\\\"5 > < button android text=\\\"6 > < button android text=\\\"7 > < button android text=\\\"8 > < button android text=\\\"9 >   < button      android layout_columnspan=\\\"3      android layout_gravity=\\\"fill      android gravity=\\\"center      android text=\\\"0 >   \"\n        ],\n        \"semantic_type\": \"\",\n        \"description\": \"\"\n      }\n    },\n    {\n      \"column\": \"label\",\n      \"properties\": {\n        \"dtype\": \"category\",\n        \"num_unique_values\": 176,\n        \"samples\": [\n          \"[\\\"javascript\\\", \\\"asp.net\\\"]\",\n          \"[\\\"c#\\\", \\\"asp.net\\\", \\\"jquery\\\"]\",\n          \"[\\\"c#\\\", \\\"java\\\", \\\"python\\\"]\"\n        ],\n        \"semantic_type\": \"\",\n        \"description\": \"\"\n      }\n    }\n  ]\n}",
       "type": "dataframe",
       "variable_name": "df_final"
      },
      "text/html": [
       "\n",
       "  <div id=\"df-bb12c5cb-dbb7-4c14-b8ea-d3f16e1d66a3\" class=\"colab-df-container\">\n",
       "    <div>\n",
       "<style scoped>\n",
       "    .dataframe tbody tr th:only-of-type {\n",
       "        vertical-align: middle;\n",
       "    }\n",
       "\n",
       "    .dataframe tbody tr th {\n",
       "        vertical-align: top;\n",
       "    }\n",
       "\n",
       "    .dataframe thead th {\n",
       "        text-align: right;\n",
       "    }\n",
       "</style>\n",
       "<table border=\"1\" class=\"dataframe\">\n",
       "  <thead>\n",
       "    <tr style=\"text-align: right;\">\n",
       "      <th></th>\n",
       "      <th>text</th>\n",
       "      <th>label</th>\n",
       "    </tr>\n",
       "  </thead>\n",
       "  <tbody>\n",
       "    <tr>\n",
       "      <th>0</th>\n",
       "      <td>asp query stre dropdown webpage follow control...</td>\n",
       "      <td>[\"c#\", \"asp.net\"]</td>\n",
       "    </tr>\n",
       "    <tr>\n",
       "      <th>1</th>\n",
       "      <td>run javascript code server java code want run ...</td>\n",
       "      <td>[\"java\", \"javascript\"]</td>\n",
       "    </tr>\n",
       "    <tr>\n",
       "      <th>2</th>\n",
       "      <td>linq sql throw exception row find change hi li...</td>\n",
       "      <td>[\"c#\", \"asp.net\"]</td>\n",
       "    </tr>\n",
       "    <tr>\n",
       "      <th>3</th>\n",
       "      <td>run python script php server run nginx web ser...</td>\n",
       "      <td>[\"php\", \"python\"]</td>\n",
       "    </tr>\n",
       "    <tr>\n",
       "      <th>4</th>\n",
       "      <td>advice write function m try write function res...</td>\n",
       "      <td>[\"javascript\", \"jquery\"]</td>\n",
       "    </tr>\n",
       "    <tr>\n",
       "      <th>...</th>\n",
       "      <td>...</td>\n",
       "      <td>...</td>\n",
       "    </tr>\n",
       "    <tr>\n",
       "      <th>47422</th>\n",
       "      <td>take value edittext put decimal point all- wor...</td>\n",
       "      <td>[\"java\", \"android\"]</td>\n",
       "    </tr>\n",
       "    <tr>\n",
       "      <th>47423</th>\n",
       "      <td>listen phone state application nee liste phone...</td>\n",
       "      <td>[\"java\", \"android\"]</td>\n",
       "    </tr>\n",
       "    <tr>\n",
       "      <th>47424</th>\n",
       "      <td>android ui thread thread task want access main...</td>\n",
       "      <td>[\"java\", \"android\"]</td>\n",
       "    </tr>\n",
       "    <tr>\n",
       "      <th>47425</th>\n",
       "      <td>dynamic table row creation html javascript htm...</td>\n",
       "      <td>[\"asp.net\", \"javascript\"]</td>\n",
       "    </tr>\n",
       "    <tr>\n",
       "      <th>47426</th>\n",
       "      <td>image preloader work ie follow code preload im...</td>\n",
       "      <td>[\"javascript\", \"jquery\"]</td>\n",
       "    </tr>\n",
       "  </tbody>\n",
       "</table>\n",
       "<p>47427 rows × 2 columns</p>\n",
       "</div>\n",
       "    <div class=\"colab-df-buttons\">\n",
       "\n",
       "  <div class=\"colab-df-container\">\n",
       "    <button class=\"colab-df-convert\" onclick=\"convertToInteractive('df-bb12c5cb-dbb7-4c14-b8ea-d3f16e1d66a3')\"\n",
       "            title=\"Convert this dataframe to an interactive table.\"\n",
       "            style=\"display:none;\">\n",
       "\n",
       "  <svg xmlns=\"http://www.w3.org/2000/svg\" height=\"24px\" viewBox=\"0 -960 960 960\">\n",
       "    <path d=\"M120-120v-720h720v720H120Zm60-500h600v-160H180v160Zm220 220h160v-160H400v160Zm0 220h160v-160H400v160ZM180-400h160v-160H180v160Zm440 0h160v-160H620v160ZM180-180h160v-160H180v160Zm440 0h160v-160H620v160Z\"/>\n",
       "  </svg>\n",
       "    </button>\n",
       "\n",
       "  <style>\n",
       "    .colab-df-container {\n",
       "      display:flex;\n",
       "      gap: 12px;\n",
       "    }\n",
       "\n",
       "    .colab-df-convert {\n",
       "      background-color: #E8F0FE;\n",
       "      border: none;\n",
       "      border-radius: 50%;\n",
       "      cursor: pointer;\n",
       "      display: none;\n",
       "      fill: #1967D2;\n",
       "      height: 32px;\n",
       "      padding: 0 0 0 0;\n",
       "      width: 32px;\n",
       "    }\n",
       "\n",
       "    .colab-df-convert:hover {\n",
       "      background-color: #E2EBFA;\n",
       "      box-shadow: 0px 1px 2px rgba(60, 64, 67, 0.3), 0px 1px 3px 1px rgba(60, 64, 67, 0.15);\n",
       "      fill: #174EA6;\n",
       "    }\n",
       "\n",
       "    .colab-df-buttons div {\n",
       "      margin-bottom: 4px;\n",
       "    }\n",
       "\n",
       "    [theme=dark] .colab-df-convert {\n",
       "      background-color: #3B4455;\n",
       "      fill: #D2E3FC;\n",
       "    }\n",
       "\n",
       "    [theme=dark] .colab-df-convert:hover {\n",
       "      background-color: #434B5C;\n",
       "      box-shadow: 0px 1px 3px 1px rgba(0, 0, 0, 0.15);\n",
       "      filter: drop-shadow(0px 1px 2px rgba(0, 0, 0, 0.3));\n",
       "      fill: #FFFFFF;\n",
       "    }\n",
       "  </style>\n",
       "\n",
       "    <script>\n",
       "      const buttonEl =\n",
       "        document.querySelector('#df-bb12c5cb-dbb7-4c14-b8ea-d3f16e1d66a3 button.colab-df-convert');\n",
       "      buttonEl.style.display =\n",
       "        google.colab.kernel.accessAllowed ? 'block' : 'none';\n",
       "\n",
       "      async function convertToInteractive(key) {\n",
       "        const element = document.querySelector('#df-bb12c5cb-dbb7-4c14-b8ea-d3f16e1d66a3');\n",
       "        const dataTable =\n",
       "          await google.colab.kernel.invokeFunction('convertToInteractive',\n",
       "                                                    [key], {});\n",
       "        if (!dataTable) return;\n",
       "\n",
       "        const docLinkHtml = 'Like what you see? Visit the ' +\n",
       "          '<a target=\"_blank\" href=https://colab.research.google.com/notebooks/data_table.ipynb>data table notebook</a>'\n",
       "          + ' to learn more about interactive tables.';\n",
       "        element.innerHTML = '';\n",
       "        dataTable['output_type'] = 'display_data';\n",
       "        await google.colab.output.renderOutput(dataTable, element);\n",
       "        const docLink = document.createElement('div');\n",
       "        docLink.innerHTML = docLinkHtml;\n",
       "        element.appendChild(docLink);\n",
       "      }\n",
       "    </script>\n",
       "  </div>\n",
       "\n",
       "\n",
       "    <div id=\"df-585f7bd1-1c09-47c4-b31f-f4e6be524320\">\n",
       "      <button class=\"colab-df-quickchart\" onclick=\"quickchart('df-585f7bd1-1c09-47c4-b31f-f4e6be524320')\"\n",
       "                title=\"Suggest charts\"\n",
       "                style=\"display:none;\">\n",
       "\n",
       "<svg xmlns=\"http://www.w3.org/2000/svg\" height=\"24px\"viewBox=\"0 0 24 24\"\n",
       "     width=\"24px\">\n",
       "    <g>\n",
       "        <path d=\"M19 3H5c-1.1 0-2 .9-2 2v14c0 1.1.9 2 2 2h14c1.1 0 2-.9 2-2V5c0-1.1-.9-2-2-2zM9 17H7v-7h2v7zm4 0h-2V7h2v10zm4 0h-2v-4h2v4z\"/>\n",
       "    </g>\n",
       "</svg>\n",
       "      </button>\n",
       "\n",
       "<style>\n",
       "  .colab-df-quickchart {\n",
       "      --bg-color: #E8F0FE;\n",
       "      --fill-color: #1967D2;\n",
       "      --hover-bg-color: #E2EBFA;\n",
       "      --hover-fill-color: #174EA6;\n",
       "      --disabled-fill-color: #AAA;\n",
       "      --disabled-bg-color: #DDD;\n",
       "  }\n",
       "\n",
       "  [theme=dark] .colab-df-quickchart {\n",
       "      --bg-color: #3B4455;\n",
       "      --fill-color: #D2E3FC;\n",
       "      --hover-bg-color: #434B5C;\n",
       "      --hover-fill-color: #FFFFFF;\n",
       "      --disabled-bg-color: #3B4455;\n",
       "      --disabled-fill-color: #666;\n",
       "  }\n",
       "\n",
       "  .colab-df-quickchart {\n",
       "    background-color: var(--bg-color);\n",
       "    border: none;\n",
       "    border-radius: 50%;\n",
       "    cursor: pointer;\n",
       "    display: none;\n",
       "    fill: var(--fill-color);\n",
       "    height: 32px;\n",
       "    padding: 0;\n",
       "    width: 32px;\n",
       "  }\n",
       "\n",
       "  .colab-df-quickchart:hover {\n",
       "    background-color: var(--hover-bg-color);\n",
       "    box-shadow: 0 1px 2px rgba(60, 64, 67, 0.3), 0 1px 3px 1px rgba(60, 64, 67, 0.15);\n",
       "    fill: var(--button-hover-fill-color);\n",
       "  }\n",
       "\n",
       "  .colab-df-quickchart-complete:disabled,\n",
       "  .colab-df-quickchart-complete:disabled:hover {\n",
       "    background-color: var(--disabled-bg-color);\n",
       "    fill: var(--disabled-fill-color);\n",
       "    box-shadow: none;\n",
       "  }\n",
       "\n",
       "  .colab-df-spinner {\n",
       "    border: 2px solid var(--fill-color);\n",
       "    border-color: transparent;\n",
       "    border-bottom-color: var(--fill-color);\n",
       "    animation:\n",
       "      spin 1s steps(1) infinite;\n",
       "  }\n",
       "\n",
       "  @keyframes spin {\n",
       "    0% {\n",
       "      border-color: transparent;\n",
       "      border-bottom-color: var(--fill-color);\n",
       "      border-left-color: var(--fill-color);\n",
       "    }\n",
       "    20% {\n",
       "      border-color: transparent;\n",
       "      border-left-color: var(--fill-color);\n",
       "      border-top-color: var(--fill-color);\n",
       "    }\n",
       "    30% {\n",
       "      border-color: transparent;\n",
       "      border-left-color: var(--fill-color);\n",
       "      border-top-color: var(--fill-color);\n",
       "      border-right-color: var(--fill-color);\n",
       "    }\n",
       "    40% {\n",
       "      border-color: transparent;\n",
       "      border-right-color: var(--fill-color);\n",
       "      border-top-color: var(--fill-color);\n",
       "    }\n",
       "    60% {\n",
       "      border-color: transparent;\n",
       "      border-right-color: var(--fill-color);\n",
       "    }\n",
       "    80% {\n",
       "      border-color: transparent;\n",
       "      border-right-color: var(--fill-color);\n",
       "      border-bottom-color: var(--fill-color);\n",
       "    }\n",
       "    90% {\n",
       "      border-color: transparent;\n",
       "      border-bottom-color: var(--fill-color);\n",
       "    }\n",
       "  }\n",
       "</style>\n",
       "\n",
       "      <script>\n",
       "        async function quickchart(key) {\n",
       "          const quickchartButtonEl =\n",
       "            document.querySelector('#' + key + ' button');\n",
       "          quickchartButtonEl.disabled = true;  // To prevent multiple clicks.\n",
       "          quickchartButtonEl.classList.add('colab-df-spinner');\n",
       "          try {\n",
       "            const charts = await google.colab.kernel.invokeFunction(\n",
       "                'suggestCharts', [key], {});\n",
       "          } catch (error) {\n",
       "            console.error('Error during call to suggestCharts:', error);\n",
       "          }\n",
       "          quickchartButtonEl.classList.remove('colab-df-spinner');\n",
       "          quickchartButtonEl.classList.add('colab-df-quickchart-complete');\n",
       "        }\n",
       "        (() => {\n",
       "          let quickchartButtonEl =\n",
       "            document.querySelector('#df-585f7bd1-1c09-47c4-b31f-f4e6be524320 button');\n",
       "          quickchartButtonEl.style.display =\n",
       "            google.colab.kernel.accessAllowed ? 'block' : 'none';\n",
       "        })();\n",
       "      </script>\n",
       "    </div>\n",
       "\n",
       "  <div id=\"id_a0ae639d-41e5-4624-9dff-1120c9c77bfb\">\n",
       "    <style>\n",
       "      .colab-df-generate {\n",
       "        background-color: #E8F0FE;\n",
       "        border: none;\n",
       "        border-radius: 50%;\n",
       "        cursor: pointer;\n",
       "        display: none;\n",
       "        fill: #1967D2;\n",
       "        height: 32px;\n",
       "        padding: 0 0 0 0;\n",
       "        width: 32px;\n",
       "      }\n",
       "\n",
       "      .colab-df-generate:hover {\n",
       "        background-color: #E2EBFA;\n",
       "        box-shadow: 0px 1px 2px rgba(60, 64, 67, 0.3), 0px 1px 3px 1px rgba(60, 64, 67, 0.15);\n",
       "        fill: #174EA6;\n",
       "      }\n",
       "\n",
       "      [theme=dark] .colab-df-generate {\n",
       "        background-color: #3B4455;\n",
       "        fill: #D2E3FC;\n",
       "      }\n",
       "\n",
       "      [theme=dark] .colab-df-generate:hover {\n",
       "        background-color: #434B5C;\n",
       "        box-shadow: 0px 1px 3px 1px rgba(0, 0, 0, 0.15);\n",
       "        filter: drop-shadow(0px 1px 2px rgba(0, 0, 0, 0.3));\n",
       "        fill: #FFFFFF;\n",
       "      }\n",
       "    </style>\n",
       "    <button class=\"colab-df-generate\" onclick=\"generateWithVariable('df_final')\"\n",
       "            title=\"Generate code using this dataframe.\"\n",
       "            style=\"display:none;\">\n",
       "\n",
       "  <svg xmlns=\"http://www.w3.org/2000/svg\" height=\"24px\"viewBox=\"0 0 24 24\"\n",
       "       width=\"24px\">\n",
       "    <path d=\"M7,19H8.4L18.45,9,17,7.55,7,17.6ZM5,21V16.75L18.45,3.32a2,2,0,0,1,2.83,0l1.4,1.43a1.91,1.91,0,0,1,.58,1.4,1.91,1.91,0,0,1-.58,1.4L9.25,21ZM18.45,9,17,7.55Zm-12,3A5.31,5.31,0,0,0,4.9,8.1,5.31,5.31,0,0,0,1,6.5,5.31,5.31,0,0,0,4.9,4.9,5.31,5.31,0,0,0,6.5,1,5.31,5.31,0,0,0,8.1,4.9,5.31,5.31,0,0,0,12,6.5,5.46,5.46,0,0,0,6.5,12Z\"/>\n",
       "  </svg>\n",
       "    </button>\n",
       "    <script>\n",
       "      (() => {\n",
       "      const buttonEl =\n",
       "        document.querySelector('#id_a0ae639d-41e5-4624-9dff-1120c9c77bfb button.colab-df-generate');\n",
       "      buttonEl.style.display =\n",
       "        google.colab.kernel.accessAllowed ? 'block' : 'none';\n",
       "\n",
       "      buttonEl.onclick = () => {\n",
       "        google.colab.notebook.generateWithVariable('df_final');\n",
       "      }\n",
       "      })();\n",
       "    </script>\n",
       "  </div>\n",
       "\n",
       "    </div>\n",
       "  </div>\n"
      ],
      "text/plain": [
       "                                                    text  \\\n",
       "0      asp query stre dropdown webpage follow control...   \n",
       "1      run javascript code server java code want run ...   \n",
       "2      linq sql throw exception row find change hi li...   \n",
       "3      run python script php server run nginx web ser...   \n",
       "4      advice write function m try write function res...   \n",
       "...                                                  ...   \n",
       "47422  take value edittext put decimal point all- wor...   \n",
       "47423  listen phone state application nee liste phone...   \n",
       "47424  android ui thread thread task want access main...   \n",
       "47425  dynamic table row creation html javascript htm...   \n",
       "47426  image preloader work ie follow code preload im...   \n",
       "\n",
       "                           label  \n",
       "0              [\"c#\", \"asp.net\"]  \n",
       "1         [\"java\", \"javascript\"]  \n",
       "2              [\"c#\", \"asp.net\"]  \n",
       "3              [\"php\", \"python\"]  \n",
       "4       [\"javascript\", \"jquery\"]  \n",
       "...                          ...  \n",
       "47422        [\"java\", \"android\"]  \n",
       "47423        [\"java\", \"android\"]  \n",
       "47424        [\"java\", \"android\"]  \n",
       "47425  [\"asp.net\", \"javascript\"]  \n",
       "47426   [\"javascript\", \"jquery\"]  \n",
       "\n",
       "[47427 rows x 2 columns]"
      ]
     },
     "execution_count": 17,
     "metadata": {},
     "output_type": "execute_result"
    }
   ],
   "source": [
    "df_final"
   ]
  },
  {
   "cell_type": "code",
   "execution_count": 18,
   "id": "-eY6HMa1_3FK",
   "metadata": {
    "executionInfo": {
     "elapsed": 7,
     "status": "ok",
     "timestamp": 1745853226315,
     "user": {
      "displayName": "Shaannoor Mann",
      "userId": "02520257695567980696"
     },
     "user_tz": 300
    },
    "id": "-eY6HMa1_3FK"
   },
   "outputs": [],
   "source": [
    "class_names = ['c#', 'java', 'php','javascript', 'android', 'jquery', 'c++',  'python', 'iphone', 'asp.net']"
   ]
  },
  {
   "cell_type": "code",
   "execution_count": 19,
   "id": "R4c3ojVSNgLS",
   "metadata": {
    "executionInfo": {
     "elapsed": 254,
     "status": "ok",
     "timestamp": 1745853226568,
     "user": {
      "displayName": "Shaannoor Mann",
      "userId": "02520257695567980696"
     },
     "user_tz": 300
    },
    "id": "R4c3ojVSNgLS"
   },
   "outputs": [],
   "source": [
    "stack_selected_columns_final = Dataset.from_pandas(df_final)"
   ]
  },
  {
   "cell_type": "code",
   "execution_count": 20,
   "id": "g7wornSAf5Hv",
   "metadata": {
    "colab": {
     "base_uri": "https://localhost:8080/",
     "height": 35
    },
    "executionInfo": {
     "elapsed": 7,
     "status": "ok",
     "timestamp": 1745853226576,
     "user": {
      "displayName": "Shaannoor Mann",
      "userId": "02520257695567980696"
     },
     "user_tz": 300
    },
    "id": "g7wornSAf5Hv",
    "outputId": "abf784d2-3f1d-4987-946f-36a32edda73a"
   },
   "outputs": [
    {
     "data": {
      "application/vnd.google.colaboratory.intrinsic+json": {
       "type": "string"
      },
      "text/plain": [
       "'[\"c#\", \"asp.net\"]'"
      ]
     },
     "execution_count": 20,
     "metadata": {},
     "output_type": "execute_result"
    }
   ],
   "source": [
    "stack_selected_columns_final[0]['label']"
   ]
  },
  {
   "cell_type": "markdown",
   "id": "bJnCcArQJ0Vd",
   "metadata": {
    "id": "bJnCcArQJ0Vd"
   },
   "source": [
    "# <font color = 'indianred'> **3. Accessing and Manuplating Splits**</font>\n",
    "\n"
   ]
  },
  {
   "cell_type": "markdown",
   "id": "F4Lpc6ItMyUi",
   "metadata": {
    "id": "F4Lpc6ItMyUi"
   },
   "source": [
    "<font color = 'indianred'>*Create futher subdivions of the splits*</font>"
   ]
  },
  {
   "cell_type": "code",
   "execution_count": 21,
   "id": "3a8YTYKAMhaV",
   "metadata": {
    "executionInfo": {
     "elapsed": 28,
     "status": "ok",
     "timestamp": 1745853226608,
     "user": {
      "displayName": "Shaannoor Mann",
      "userId": "02520257695567980696"
     },
     "user_tz": 300
    },
    "id": "3a8YTYKAMhaV"
   },
   "outputs": [],
   "source": [
    "# Split the test set into test and validation sets\n",
    "test_val_splits = stack_selected_columns_final.train_test_split(test_size=0.4, seed=42)\n",
    "train_split= test_val_splits['train']\n",
    "test_val_splits = test_val_splits['test'].train_test_split(test_size=0.5, seed=42,)\n",
    "val_split = test_val_splits['train']\n",
    "test_split = test_val_splits['test']\n"
   ]
  },
  {
   "cell_type": "markdown",
   "id": "CY6NEjV6z7-i",
   "metadata": {
    "id": "CY6NEjV6z7-i"
   },
   "source": [
    "<font color = 'indianred'>*small subset for initial experimenttaion*</font>"
   ]
  },
  {
   "cell_type": "code",
   "execution_count": 22,
   "id": "KGiszuGZ17H3",
   "metadata": {
    "executionInfo": {
     "elapsed": 27,
     "status": "ok",
     "timestamp": 1745853226632,
     "user": {
      "displayName": "Shaannoor Mann",
      "userId": "02520257695567980696"
     },
     "user_tz": 300
    },
    "id": "KGiszuGZ17H3"
   },
   "outputs": [],
   "source": [
    "train_split = train_split.shuffle(seed = 42).select(range(2000))\n",
    "val_split = val_split.shuffle(seed = 42).select(range(2000))\n",
    "test_split = test_split.shuffle(seed = 42).select(range(2000))"
   ]
  },
  {
   "cell_type": "code",
   "execution_count": 23,
   "id": "IuEaHG3w150t",
   "metadata": {
    "executionInfo": {
     "elapsed": 3,
     "status": "ok",
     "timestamp": 1745853226637,
     "user": {
      "displayName": "Shaannoor Mann",
      "userId": "02520257695567980696"
     },
     "user_tz": 300
    },
    "id": "IuEaHG3w150t"
   },
   "outputs": [],
   "source": [
    "train_val_subset= DatasetDict(\n",
    "    {\"train\": train_split, \"valid\": val_split})"
   ]
  },
  {
   "cell_type": "code",
   "execution_count": 24,
   "id": "wnB3lHD0kPW-",
   "metadata": {
    "colab": {
     "base_uri": "https://localhost:8080/"
    },
    "executionInfo": {
     "elapsed": 11,
     "status": "ok",
     "timestamp": 1745853226649,
     "user": {
      "displayName": "Shaannoor Mann",
      "userId": "02520257695567980696"
     },
     "user_tz": 300
    },
    "id": "wnB3lHD0kPW-",
    "outputId": "5792786c-e85c-4263-f3cb-c1712c278cca"
   },
   "outputs": [
    {
     "data": {
      "text/plain": [
       "DatasetDict({\n",
       "    train: Dataset({\n",
       "        features: ['text', 'label'],\n",
       "        num_rows: 2000\n",
       "    })\n",
       "    valid: Dataset({\n",
       "        features: ['text', 'label'],\n",
       "        num_rows: 2000\n",
       "    })\n",
       "})"
      ]
     },
     "execution_count": 24,
     "metadata": {},
     "output_type": "execute_result"
    }
   ],
   "source": [
    "train_val_subset"
   ]
  },
  {
   "cell_type": "code",
   "execution_count": 25,
   "id": "VgNj2At3kRSs",
   "metadata": {
    "colab": {
     "base_uri": "https://localhost:8080/"
    },
    "executionInfo": {
     "elapsed": 10,
     "status": "ok",
     "timestamp": 1745853226661,
     "user": {
      "displayName": "Shaannoor Mann",
      "userId": "02520257695567980696"
     },
     "user_tz": 300
    },
    "id": "VgNj2At3kRSs",
    "outputId": "d61b97f1-30c2-4b16-f7d4-ade239eaef9c"
   },
   "outputs": [
    {
     "data": {
      "text/plain": [
       "{'text': 'edit link place use javascript edit text place need edit link click link instead make editable redirect link address change double click link editable redirect help',\n",
       " 'label': '[\"javascript\", \"jquery\"]'}"
      ]
     },
     "execution_count": 25,
     "metadata": {},
     "output_type": "execute_result"
    }
   ],
   "source": [
    "train_val_subset['train'][0]"
   ]
  },
  {
   "cell_type": "markdown",
   "id": "c7b02690-50f7-49bf-aab4-85dbbb21d182",
   "metadata": {
    "execution": {
     "iopub.execute_input": "2022-12-20T11:21:48.647438Z",
     "iopub.status.busy": "2022-12-20T11:21:48.646659Z",
     "iopub.status.idle": "2022-12-20T11:21:48.690232Z",
     "shell.execute_reply": "2022-12-20T11:21:48.689729Z",
     "shell.execute_reply.started": "2022-12-20T11:21:48.647414Z"
    },
    "id": "c7b02690-50f7-49bf-aab4-85dbbb21d182",
    "tags": []
   },
   "source": [
    "# <font color = 'indianred'>**4. Load pre-trained Tokenizer**</font>\n",
    "\n"
   ]
  },
  {
   "cell_type": "code",
   "execution_count": 26,
   "id": "hwPQKf5XvM7K",
   "metadata": {
    "executionInfo": {
     "elapsed": 4,
     "status": "ok",
     "timestamp": 1745853226667,
     "user": {
      "displayName": "Shaannoor Mann",
      "userId": "02520257695567980696"
     },
     "user_tz": 300
    },
    "id": "hwPQKf5XvM7K"
   },
   "outputs": [],
   "source": [
    "def free_gpu_memory():\n",
    "    \"\"\"\n",
    "    Frees up GPU memory after CUDA out-of-memory error in Colab.\n",
    "\n",
    "    This function performs the following steps:\n",
    "    1. Deletes all PyTorch objects to clear references.\n",
    "    2. Calls garbage collection to remove unreferenced objects from memory.\n",
    "    3. Uses torch.cuda.empty_cache() to release cached GPU memory.\n",
    "    4. Waits for a moment to ensure memory is fully released.\n",
    "    \"\"\"\n",
    "    try:\n",
    "        # Delete all torch tensors to free up memory\n",
    "        for obj in list(locals().values()):\n",
    "            if torch.is_tensor(obj):\n",
    "                del obj\n",
    "\n",
    "        # Collect garbage to release any remaining unused memory\n",
    "        gc.collect()\n",
    "\n",
    "        # Empty the CUDA cache to release GPU memory\n",
    "        torch.cuda.empty_cache()\n",
    "\n",
    "        # Adding a small delay to allow memory to be fully released\n",
    "        time.sleep(2)\n",
    "\n",
    "        print(\"GPU memory has been freed.\")\n",
    "    except Exception as e:\n",
    "        print(f\"Error while freeing GPU memory: {e}\")\n"
   ]
  },
  {
   "cell_type": "code",
   "execution_count": 27,
   "id": "pPGuUj3bZUDU",
   "metadata": {
    "colab": {
     "base_uri": "https://localhost:8080/"
    },
    "executionInfo": {
     "elapsed": 2001,
     "status": "ok",
     "timestamp": 1745853229009,
     "user": {
      "displayName": "Shaannoor Mann",
      "userId": "02520257695567980696"
     },
     "user_tz": 300
    },
    "id": "pPGuUj3bZUDU",
    "outputId": "bd7ba122-8338-47dd-f237-7d37c4ec1f72"
   },
   "outputs": [
    {
     "name": "stdout",
     "output_type": "stream",
     "text": [
      "GPU memory has been freed.\n"
     ]
    }
   ],
   "source": [
    "free_gpu_memory()"
   ]
  },
  {
   "cell_type": "code",
   "execution_count": 28,
   "id": "hzUiqZR6hI4o",
   "metadata": {
    "execution": {
     "iopub.execute_input": "2022-12-23T23:14:07.903271Z",
     "iopub.status.busy": "2022-12-23T23:14:07.902958Z",
     "iopub.status.idle": "2022-12-23T23:14:07.955695Z",
     "shell.execute_reply": "2022-12-23T23:14:07.955154Z",
     "shell.execute_reply.started": "2022-12-23T23:14:07.903251Z"
    },
    "executionInfo": {
     "elapsed": 2107,
     "status": "ok",
     "timestamp": 1745853231122,
     "user": {
      "displayName": "Shaannoor Mann",
      "userId": "02520257695567980696"
     },
     "user_tz": 300
    },
    "id": "hzUiqZR6hI4o",
    "tags": []
   },
   "outputs": [],
   "source": [
    "checkpoint = \"google/gemma-2-2b-it\"\n",
    "tokenizer = AutoTokenizer.from_pretrained(checkpoint)"
   ]
  },
  {
   "cell_type": "code",
   "execution_count": 29,
   "id": "e4vsyN5kbyPQ",
   "metadata": {
    "colab": {
     "base_uri": "https://localhost:8080/",
     "height": 35
    },
    "executionInfo": {
     "elapsed": 3,
     "status": "ok",
     "timestamp": 1745853231127,
     "user": {
      "displayName": "Shaannoor Mann",
      "userId": "02520257695567980696"
     },
     "user_tz": 300
    },
    "id": "e4vsyN5kbyPQ",
    "outputId": "38935c5b-f05a-41b7-9905-83752c64a6f1"
   },
   "outputs": [
    {
     "data": {
      "application/vnd.google.colaboratory.intrinsic+json": {
       "type": "string"
      },
      "text/plain": [
       "'<eos>'"
      ]
     },
     "execution_count": 29,
     "metadata": {},
     "output_type": "execute_result"
    }
   ],
   "source": [
    "tokenizer.eos_token"
   ]
  },
  {
   "cell_type": "code",
   "execution_count": 30,
   "id": "VlPaFtAQ-tnR",
   "metadata": {
    "colab": {
     "base_uri": "https://localhost:8080/",
     "height": 35
    },
    "executionInfo": {
     "elapsed": 6,
     "status": "ok",
     "timestamp": 1745853231136,
     "user": {
      "displayName": "Shaannoor Mann",
      "userId": "02520257695567980696"
     },
     "user_tz": 300
    },
    "id": "VlPaFtAQ-tnR",
    "outputId": "7b483b6d-ac6f-4388-d72c-e88418f0b88b"
   },
   "outputs": [
    {
     "data": {
      "application/vnd.google.colaboratory.intrinsic+json": {
       "type": "string"
      },
      "text/plain": [
       "'<pad>'"
      ]
     },
     "execution_count": 30,
     "metadata": {},
     "output_type": "execute_result"
    }
   ],
   "source": [
    "tokenizer.pad_token"
   ]
  },
  {
   "cell_type": "code",
   "execution_count": 31,
   "id": "Tu9xXCUYgM26",
   "metadata": {
    "colab": {
     "base_uri": "https://localhost:8080/",
     "height": 35
    },
    "executionInfo": {
     "elapsed": 6,
     "status": "ok",
     "timestamp": 1745853231145,
     "user": {
      "displayName": "Shaannoor Mann",
      "userId": "02520257695567980696"
     },
     "user_tz": 300
    },
    "id": "Tu9xXCUYgM26",
    "outputId": "b4094cf6-68fc-4e5d-d613-87040fd5aaaf"
   },
   "outputs": [
    {
     "data": {
      "application/vnd.google.colaboratory.intrinsic+json": {
       "type": "string"
      },
      "text/plain": [
       "'left'"
      ]
     },
     "execution_count": 31,
     "metadata": {},
     "output_type": "execute_result"
    }
   ],
   "source": [
    "tokenizer.padding_side"
   ]
  },
  {
   "cell_type": "code",
   "execution_count": 32,
   "id": "5dda69a4",
   "metadata": {
    "colab": {
     "base_uri": "https://localhost:8080/",
     "height": 70
    },
    "executionInfo": {
     "elapsed": 5,
     "status": "ok",
     "timestamp": 1745853231155,
     "user": {
      "displayName": "Shaannoor Mann",
      "userId": "02520257695567980696"
     },
     "user_tz": 300
    },
    "id": "5dda69a4",
    "outputId": "4f07937b-3e2e-470b-ca18-db522959d497"
   },
   "outputs": [
    {
     "data": {
      "application/vnd.google.colaboratory.intrinsic+json": {
       "type": "string"
      },
      "text/plain": [
       "\"{{ bos_token }}{% if messages[0]['role'] == 'system' %}{{ raise_exception('System role not supported') }}{% endif %}{% for message in messages %}{% if (message['role'] == 'user') != (loop.index0 % 2 == 0) %}{{ raise_exception('Conversation roles must alternate user/assistant/user/assistant/...') }}{% endif %}{% if (message['role'] == 'assistant') %}{% set role = 'model' %}{% else %}{% set role = message['role'] %}{% endif %}{{ '<start_of_turn>' + role + '\\n' + message['content'] | trim + '<end_of_turn>\\n' }}{% endfor %}{% if add_generation_prompt %}{{'<start_of_turn>model\\n'}}{% endif %}\""
      ]
     },
     "execution_count": 32,
     "metadata": {},
     "output_type": "execute_result"
    }
   ],
   "source": [
    "tokenizer.chat_template"
   ]
  },
  {
   "cell_type": "markdown",
   "id": "2b4ce3b9-904f-42bd-9c3f-163328f47051",
   "metadata": {
    "execution": {
     "iopub.execute_input": "2022-12-20T11:22:33.679936Z",
     "iopub.status.busy": "2022-12-20T11:22:33.679764Z",
     "iopub.status.idle": "2022-12-20T11:22:33.723366Z",
     "shell.execute_reply": "2022-12-20T11:22:33.722847Z",
     "shell.execute_reply.started": "2022-12-20T11:22:33.679918Z"
    },
    "id": "2b4ce3b9-904f-42bd-9c3f-163328f47051"
   },
   "source": [
    "#<font color = 'indianred'> **5. Create Prompts**\n",
    "\n"
   ]
  },
  {
   "cell_type": "code",
   "execution_count": 33,
   "id": "Qt_qaaCSI_Li",
   "metadata": {
    "colab": {
     "base_uri": "https://localhost:8080/"
    },
    "executionInfo": {
     "elapsed": 11,
     "status": "ok",
     "timestamp": 1745853231167,
     "user": {
      "displayName": "Shaannoor Mann",
      "userId": "02520257695567980696"
     },
     "user_tz": 300
    },
    "id": "Qt_qaaCSI_Li",
    "outputId": "64b7a392-57c4-4769-9ed5-d9b292a503e3"
   },
   "outputs": [
    {
     "data": {
      "text/plain": [
       "['c#',\n",
       " 'java',\n",
       " 'php',\n",
       " 'javascript',\n",
       " 'android',\n",
       " 'jquery',\n",
       " 'c++',\n",
       " 'python',\n",
       " 'iphone',\n",
       " 'asp.net']"
      ]
     },
     "execution_count": 33,
     "metadata": {},
     "output_type": "execute_result"
    }
   ],
   "source": [
    "class_names"
   ]
  },
  {
   "cell_type": "code",
   "execution_count": 34,
   "id": "PFRvJTd7MzwQ",
   "metadata": {
    "executionInfo": {
     "elapsed": 6,
     "status": "ok",
     "timestamp": 1745853231174,
     "user": {
      "displayName": "Shaannoor Mann",
      "userId": "02520257695567980696"
     },
     "user_tz": 300
    },
    "id": "PFRvJTd7MzwQ"
   },
   "outputs": [],
   "source": [
    "def format_chat(example):\n",
    "    instruction = f\"Classify the TEXT by selecting all applicable labels from the following list: {class_names}.\\n\\nTEXT: {example['text']}\"\n",
    "    messages = [\n",
    "        {\"role\": \"user\", \"content\": instruction},\n",
    "        {\"role\": \"assistant\", \"content\": f\"{example['label']}\"}\n",
    "    ]\n",
    "    return {\"text\": tokenizer.apply_chat_template(messages, tokenize=False)}\n"
   ]
  },
  {
   "cell_type": "code",
   "execution_count": 35,
   "id": "NXw2qlGKJvuA",
   "metadata": {
    "colab": {
     "base_uri": "https://localhost:8080/",
     "height": 81,
     "referenced_widgets": [
      "72d729a490f841b580658ec1e0377501",
      "47b8aba3b25a434e88ca3002455dc9b7",
      "e15c0bf57a1942b7937c0a15f7cf0b93",
      "d4fe447f14d248c586ea3526db379cd4",
      "062cd10c6afa4dff819032dc6ffaf194",
      "65a58d676778411994cc3c2299128d26",
      "8ae15ce0457243a9a4b75eba79f2bd5a",
      "bfdce867faa44077a0f9cce5e58b6025",
      "d8b90e2cbd7d42cb922d711ea3d108e9",
      "bc8cbf1cb95b4fea835f160455e88634",
      "b2485a81c72a442794275b674204705f",
      "c823b86d958848d687826963acf71a52",
      "3ee88897c98b460db8a20233c495a87c",
      "1a6c98f1e0c94b50b668685f8cc759dc",
      "666a063ea31d4d5fa7063fe981715f33",
      "31bab7182a9e4083b22d813d647cfa2b",
      "af992b8afd244ff8b225ec27721caefc",
      "e9d28f1f394e4c06a804e35b0d88505f",
      "d9aa37bf27bb41c3bed093a2f13df6ef",
      "df17bbcbce2f45859f6a88c4a8ccb94c",
      "0fd747fd7006458f88cf0fff4d7ff583",
      "e36b42fa6008401194581c5fea7a709e"
     ]
    },
    "executionInfo": {
     "elapsed": 1257,
     "status": "ok",
     "timestamp": 1745853232842,
     "user": {
      "displayName": "Shaannoor Mann",
      "userId": "02520257695567980696"
     },
     "user_tz": 300
    },
    "id": "NXw2qlGKJvuA",
    "outputId": "8fb06b97-883f-4be9-a60b-c32a551661f9"
   },
   "outputs": [
    {
     "data": {
      "application/vnd.jupyter.widget-view+json": {
       "model_id": "72d729a490f841b580658ec1e0377501",
       "version_major": 2,
       "version_minor": 0
      },
      "text/plain": [
       "Map:   0%|          | 0/2000 [00:00<?, ? examples/s]"
      ]
     },
     "metadata": {},
     "output_type": "display_data"
    },
    {
     "data": {
      "application/vnd.jupyter.widget-view+json": {
       "model_id": "c823b86d958848d687826963acf71a52",
       "version_major": 2,
       "version_minor": 0
      },
      "text/plain": [
       "Map:   0%|          | 0/2000 [00:00<?, ? examples/s]"
      ]
     },
     "metadata": {},
     "output_type": "display_data"
    }
   ],
   "source": [
    "train_val_subset_chat = train_val_subset.map(format_chat)"
   ]
  },
  {
   "cell_type": "code",
   "execution_count": 36,
   "id": "26MsfYeILJpO",
   "metadata": {
    "colab": {
     "base_uri": "https://localhost:8080/"
    },
    "executionInfo": {
     "elapsed": 24,
     "status": "ok",
     "timestamp": 1745853232867,
     "user": {
      "displayName": "Shaannoor Mann",
      "userId": "02520257695567980696"
     },
     "user_tz": 300
    },
    "id": "26MsfYeILJpO",
    "outputId": "f4a8e304-c298-48d4-9df8-c4e5512408b8"
   },
   "outputs": [
    {
     "data": {
      "text/plain": [
       "DatasetDict({\n",
       "    train: Dataset({\n",
       "        features: ['text', 'label'],\n",
       "        num_rows: 2000\n",
       "    })\n",
       "    valid: Dataset({\n",
       "        features: ['text', 'label'],\n",
       "        num_rows: 2000\n",
       "    })\n",
       "})"
      ]
     },
     "execution_count": 36,
     "metadata": {},
     "output_type": "execute_result"
    }
   ],
   "source": [
    "train_val_subset_chat"
   ]
  },
  {
   "cell_type": "code",
   "execution_count": 37,
   "id": "52VW86pfJ3Pr",
   "metadata": {
    "colab": {
     "base_uri": "https://localhost:8080/"
    },
    "executionInfo": {
     "elapsed": 6,
     "status": "ok",
     "timestamp": 1745853232872,
     "user": {
      "displayName": "Shaannoor Mann",
      "userId": "02520257695567980696"
     },
     "user_tz": 300
    },
    "id": "52VW86pfJ3Pr",
    "outputId": "d0a146e2-6975-4cc6-bf05-5cc3a8d25d4c"
   },
   "outputs": [
    {
     "data": {
      "text/plain": [
       "{'text': '<bos><start_of_turn>user\\nClassify the TEXT by selecting all applicable labels from the following list: [\\'c#\\', \\'java\\', \\'php\\', \\'javascript\\', \\'android\\', \\'jquery\\', \\'c++\\', \\'python\\', \\'iphone\\', \\'asp.net\\'].\\n\\nTEXT: edit link place use javascript edit text place need edit link click link instead make editable redirect link address change double click link editable redirect help<end_of_turn>\\n<start_of_turn>model\\n[\"javascript\", \"jquery\"]<end_of_turn>\\n',\n",
       " 'label': '[\"javascript\", \"jquery\"]'}"
      ]
     },
     "execution_count": 37,
     "metadata": {},
     "output_type": "execute_result"
    }
   ],
   "source": [
    "train_val_subset_chat['train'][0]"
   ]
  },
  {
   "cell_type": "markdown",
   "id": "mx3Waetkm6xm",
   "metadata": {
    "id": "mx3Waetkm6xm"
   },
   "source": [
    "##  <font color = 'indianred'> **5.1 Filter Longer sequences**"
   ]
  },
  {
   "cell_type": "code",
   "execution_count": 38,
   "id": "Uc70zod4x-X5",
   "metadata": {
    "colab": {
     "base_uri": "https://localhost:8080/",
     "height": 116,
     "referenced_widgets": [
      "2921a20922864c50b2d6a475cf3d2f84",
      "4a4a18e21d394cb39ffc3a19903bc3e3",
      "00fe9b2080bb4380aef9fde4173da71d",
      "8cbe7d97a3d64c2eac16fd3ef3356ce2",
      "ff388c71e6664a61bd478e2710034432",
      "2c83db8a9dcb481a88ebfbc665383388",
      "ed98070c26b049f48b2cf108e4b1adb6",
      "7c16872ddebc42f9ab9d2118177981c5",
      "3c2f1ba3220e4ecdbc8f728e2610d0a4",
      "b7dd1d85e9d3419790b09cc172522169",
      "fca9c9d7213548b58ea7c610dc79cba1",
      "30b053a88b754b958ff279517bc9ebcd",
      "83a14948211c4a2e8392c0e8874f0591",
      "34b5cc9c75024267abebea947be5ce75",
      "794d47bd7a05404ea6ff3fa71cac3c49",
      "217a77dbe8c740aea7ecd08fa3a0c1cb",
      "84bf24bebf2c4734843aeafefc41159a",
      "fcaf37d18e61490cbc4326615a724eb8",
      "bce701a734eb4e9c83b95313eca78f35",
      "4fca0e822e304dfe8d7053a0a7544567",
      "e4c826ddaaac4f47a827ce341d4c895c",
      "2e8a9570e93c4f468924924056dd35f3"
     ]
    },
    "executionInfo": {
     "elapsed": 3483,
     "status": "ok",
     "timestamp": 1745853236818,
     "user": {
      "displayName": "Shaannoor Mann",
      "userId": "02520257695567980696"
     },
     "user_tz": 300
    },
    "id": "Uc70zod4x-X5",
    "outputId": "e13a5e22-492b-4d41-d212-a0dc78226d2d"
   },
   "outputs": [
    {
     "data": {
      "application/vnd.jupyter.widget-view+json": {
       "model_id": "2921a20922864c50b2d6a475cf3d2f84",
       "version_major": 2,
       "version_minor": 0
      },
      "text/plain": [
       "Filter:   0%|          | 0/2000 [00:00<?, ? examples/s]"
      ]
     },
     "metadata": {},
     "output_type": "display_data"
    },
    {
     "data": {
      "application/vnd.jupyter.widget-view+json": {
       "model_id": "30b053a88b754b958ff279517bc9ebcd",
       "version_major": 2,
       "version_minor": 0
      },
      "text/plain": [
       "Filter:   0%|          | 0/2000 [00:00<?, ? examples/s]"
      ]
     },
     "metadata": {},
     "output_type": "display_data"
    },
    {
     "name": "stdout",
     "output_type": "stream",
     "text": [
      "Train: 2000 -> 1953\n",
      "Valid: 2000 -> 1959\n"
     ]
    }
   ],
   "source": [
    "def check_length(example):\n",
    "   encoding = tokenizer.encode(example['text'])\n",
    "   return len(encoding) <= 1000\n",
    "\n",
    "train_filtered = train_val_subset_chat['train'].filter(check_length)\n",
    "valid_filtered = train_val_subset_chat['valid'].filter(check_length)\n",
    "\n",
    "print(f\"Train: {len(train_val_subset_chat['train'])} -> {len(train_filtered)}\")\n",
    "print(f\"Valid: {len(train_val_subset_chat['valid'])} -> {len(valid_filtered)}\")"
   ]
  },
  {
   "cell_type": "markdown",
   "id": "O7-5sm2uBTN_",
   "metadata": {
    "id": "O7-5sm2uBTN_"
   },
   "source": [
    "#  <font color = 'indianred'> **6. Model Training**"
   ]
  },
  {
   "cell_type": "markdown",
   "id": "cc2a39fc-6d87-43ca-8a6e-7129bd8214f1",
   "metadata": {
    "id": "cc2a39fc-6d87-43ca-8a6e-7129bd8214f1"
   },
   "source": [
    "##  <font color = 'indianred'> **6.1 Download pre-trained model**"
   ]
  },
  {
   "cell_type": "code",
   "execution_count": 39,
   "id": "Uh43-6J8LWlS",
   "metadata": {
    "executionInfo": {
     "elapsed": 3,
     "status": "ok",
     "timestamp": 1745853236823,
     "user": {
      "displayName": "Shaannoor Mann",
      "userId": "02520257695567980696"
     },
     "user_tz": 300
    },
    "id": "Uh43-6J8LWlS"
   },
   "outputs": [],
   "source": [
    "def get_appropriate_dtype():\n",
    "    if torch.cuda.is_available() and torch.cuda.get_device_capability(0) >= (8, 0):\n",
    "        return torch.bfloat16\n",
    "    return torch.float16"
   ]
  },
  {
   "cell_type": "code",
   "execution_count": 40,
   "id": "CBvrKgAeLZJV",
   "metadata": {
    "colab": {
     "base_uri": "https://localhost:8080/"
    },
    "executionInfo": {
     "elapsed": 9,
     "status": "ok",
     "timestamp": 1745853236839,
     "user": {
      "displayName": "Shaannoor Mann",
      "userId": "02520257695567980696"
     },
     "user_tz": 300
    },
    "id": "CBvrKgAeLZJV",
    "outputId": "0c1dcd06-b361-4ce5-ff1e-24b1483de628"
   },
   "outputs": [
    {
     "data": {
      "text/plain": [
       "torch.bfloat16"
      ]
     },
     "execution_count": 40,
     "metadata": {},
     "output_type": "execute_result"
    }
   ],
   "source": [
    "torch_data_type = get_appropriate_dtype()\n",
    "torch_data_type"
   ]
  },
  {
   "cell_type": "code",
   "execution_count": 41,
   "id": "g46jiz0vLSGk",
   "metadata": {
    "executionInfo": {
     "elapsed": 2,
     "status": "ok",
     "timestamp": 1745853236843,
     "user": {
      "displayName": "Shaannoor Mann",
      "userId": "02520257695567980696"
     },
     "user_tz": 300
    },
    "id": "g46jiz0vLSGk"
   },
   "outputs": [],
   "source": [
    "bnb_config = BitsAndBytesConfig(\n",
    "  load_in_4bit=True,\n",
    "  bnb_4bit_quant_type=\"nf4\",\n",
    "  bnb_4bit_use_double_quant=True,\n",
    "  bnb_4bit_compute_dtype=torch_data_type,\n",
    "  bnb_4bit_quant_storage=torch_data_type,\n",
    ")"
   ]
  },
  {
   "cell_type": "code",
   "execution_count": 42,
   "id": "58babf85",
   "metadata": {
    "colab": {
     "base_uri": "https://localhost:8080/",
     "height": 49,
     "referenced_widgets": [
      "c606860798654cbf91be7342ba95601d",
      "dfc51273cf664614852bc0339d3385d4",
      "4355a3c537974be29f98274cb03958da",
      "8f6cd3afda164aaab16f7683cbd8e3a6",
      "604ad0e63c5945e793fc00ab941532dd",
      "5c0b0e3354254dbab119b757ed6731fd",
      "43fd1598ca6c4179a8e75fecd14d122b",
      "9d3196e65a7147b98fff10a6eddfc1d1",
      "256736afe86a4e0985283a61145c1878",
      "9ae11b4e2df44504b2f90c4c57f073f8",
      "3516fde2cdae4f89babdf96b2d315ed0"
     ]
    },
    "executionInfo": {
     "elapsed": 6483,
     "status": "ok",
     "timestamp": 1745853243331,
     "user": {
      "displayName": "Shaannoor Mann",
      "userId": "02520257695567980696"
     },
     "user_tz": 300
    },
    "id": "58babf85",
    "outputId": "054bff31-cd84-4cca-8e67-0bf5f07fc103"
   },
   "outputs": [
    {
     "data": {
      "application/vnd.jupyter.widget-view+json": {
       "model_id": "c606860798654cbf91be7342ba95601d",
       "version_major": 2,
       "version_minor": 0
      },
      "text/plain": [
       "Loading checkpoint shards:   0%|          | 0/2 [00:00<?, ?it/s]"
      ]
     },
     "metadata": {},
     "output_type": "display_data"
    }
   ],
   "source": [
    "model = AutoModelForCausalLM.from_pretrained(checkpoint,\n",
    "                                             quantization_config=bnb_config,\n",
    "                                             torch_dtype=torch_data_type,\n",
    "                                             trust_remote_code=True,)\n"
   ]
  },
  {
   "cell_type": "markdown",
   "id": "GS6SSVBUpFz1",
   "metadata": {
    "id": "GS6SSVBUpFz1"
   },
   "source": [
    "##  <font color = 'indianred'> **6.2 PEFT Setup**"
   ]
  },
  {
   "cell_type": "code",
   "execution_count": 43,
   "id": "DTgloiC4pps7",
   "metadata": {
    "colab": {
     "base_uri": "https://localhost:8080/"
    },
    "executionInfo": {
     "elapsed": 6,
     "status": "ok",
     "timestamp": 1745853243338,
     "user": {
      "displayName": "Shaannoor Mann",
      "userId": "02520257695567980696"
     },
     "user_tz": 300
    },
    "id": "DTgloiC4pps7",
    "outputId": "cd60bbaf-ce1e-4117-c287-04356c94d1e1"
   },
   "outputs": [
    {
     "data": {
      "text/plain": [
       "Gemma2ForCausalLM(\n",
       "  (model): Gemma2Model(\n",
       "    (embed_tokens): Embedding(256000, 2304, padding_idx=0)\n",
       "    (layers): ModuleList(\n",
       "      (0-25): 26 x Gemma2DecoderLayer(\n",
       "        (self_attn): Gemma2Attention(\n",
       "          (q_proj): Linear4bit(in_features=2304, out_features=2048, bias=False)\n",
       "          (k_proj): Linear4bit(in_features=2304, out_features=1024, bias=False)\n",
       "          (v_proj): Linear4bit(in_features=2304, out_features=1024, bias=False)\n",
       "          (o_proj): Linear4bit(in_features=2048, out_features=2304, bias=False)\n",
       "        )\n",
       "        (mlp): Gemma2MLP(\n",
       "          (gate_proj): Linear4bit(in_features=2304, out_features=9216, bias=False)\n",
       "          (up_proj): Linear4bit(in_features=2304, out_features=9216, bias=False)\n",
       "          (down_proj): Linear4bit(in_features=9216, out_features=2304, bias=False)\n",
       "          (act_fn): PytorchGELUTanh()\n",
       "        )\n",
       "        (input_layernorm): Gemma2RMSNorm((2304,), eps=1e-06)\n",
       "        (post_attention_layernorm): Gemma2RMSNorm((2304,), eps=1e-06)\n",
       "        (pre_feedforward_layernorm): Gemma2RMSNorm((2304,), eps=1e-06)\n",
       "        (post_feedforward_layernorm): Gemma2RMSNorm((2304,), eps=1e-06)\n",
       "      )\n",
       "    )\n",
       "    (norm): Gemma2RMSNorm((2304,), eps=1e-06)\n",
       "    (rotary_emb): Gemma2RotaryEmbedding()\n",
       "  )\n",
       "  (lm_head): Linear(in_features=2304, out_features=256000, bias=False)\n",
       ")"
      ]
     },
     "execution_count": 43,
     "metadata": {},
     "output_type": "execute_result"
    }
   ],
   "source": [
    "model"
   ]
  },
  {
   "cell_type": "code",
   "execution_count": 44,
   "id": "yIFhbC3wpLw6",
   "metadata": {
    "executionInfo": {
     "elapsed": 3,
     "status": "ok",
     "timestamp": 1745853243342,
     "user": {
      "displayName": "Shaannoor Mann",
      "userId": "02520257695567980696"
     },
     "user_tz": 300
    },
    "id": "yIFhbC3wpLw6"
   },
   "outputs": [],
   "source": [
    "def find_linear_layers(model):\n",
    "    \"\"\"\n",
    "    Extracts the unique names of Linear layers from a model.\n",
    "\n",
    "    Args:\n",
    "    model (nn.Module): The model from which to extract Linear layer names.\n",
    "\n",
    "    Returns:\n",
    "    list: A list of unique names of Linear layers.\n",
    "    \"\"\"\n",
    "    # Convert the model's modules to string\n",
    "    model_modules = str(model.modules)\n",
    "    # Pattern to extract names of Linear layers\n",
    "    pattern = r'\\((\\w+)\\): Linear'\n",
    "    # Find all occurrences of the pattern\n",
    "    linear_layer_names = re.findall(pattern, model_modules)\n",
    "    print(linear_layer_names)\n",
    "    # Get unique names using a set, then convert back to list\n",
    "    target_modules = list(set(linear_layer_names))\n",
    "    return target_modules"
   ]
  },
  {
   "cell_type": "code",
   "execution_count": 45,
   "id": "WOiU0qHIpaL-",
   "metadata": {
    "colab": {
     "base_uri": "https://localhost:8080/"
    },
    "executionInfo": {
     "elapsed": 7,
     "status": "ok",
     "timestamp": 1745853243351,
     "user": {
      "displayName": "Shaannoor Mann",
      "userId": "02520257695567980696"
     },
     "user_tz": 300
    },
    "id": "WOiU0qHIpaL-",
    "outputId": "7fda50e8-3572-4bd6-949d-6a69e705eab8"
   },
   "outputs": [
    {
     "name": "stdout",
     "output_type": "stream",
     "text": [
      "['q_proj', 'k_proj', 'v_proj', 'o_proj', 'gate_proj', 'up_proj', 'down_proj', 'lm_head']\n"
     ]
    },
    {
     "data": {
      "text/plain": [
       "['v_proj',\n",
       " 'lm_head',\n",
       " 'q_proj',\n",
       " 'down_proj',\n",
       " 'up_proj',\n",
       " 'o_proj',\n",
       " 'gate_proj',\n",
       " 'k_proj']"
      ]
     },
     "execution_count": 45,
     "metadata": {},
     "output_type": "execute_result"
    }
   ],
   "source": [
    "find_linear_layers(model)"
   ]
  },
  {
   "cell_type": "code",
   "execution_count": 46,
   "id": "Ixm-x8g5DLh-",
   "metadata": {
    "colab": {
     "base_uri": "https://localhost:8080/",
     "height": 34
    },
    "executionInfo": {
     "elapsed": 30,
     "status": "ok",
     "timestamp": 1745853243382,
     "user": {
      "displayName": "Shaannoor Mann",
      "userId": "02520257695567980696"
     },
     "user_tz": 300
    },
    "id": "Ixm-x8g5DLh-",
    "outputId": "7772e36f-65bd-49eb-861b-b841a8d9f795"
   },
   "outputs": [
    {
     "data": {
      "application/vnd.google.colaboratory.intrinsic+json": {
       "type": "string"
      },
      "text/plain": [
       "<TaskType.CAUSAL_LM: 'CAUSAL_LM'>"
      ]
     },
     "execution_count": 46,
     "metadata": {},
     "output_type": "execute_result"
    }
   ],
   "source": [
    "TaskType.CAUSAL_LM"
   ]
  },
  {
   "cell_type": "code",
   "execution_count": 47,
   "id": "PF49fLAjphS-",
   "metadata": {
    "colab": {
     "base_uri": "https://localhost:8080/"
    },
    "executionInfo": {
     "elapsed": 1954,
     "status": "ok",
     "timestamp": 1745853245338,
     "user": {
      "displayName": "Shaannoor Mann",
      "userId": "02520257695567980696"
     },
     "user_tz": 300
    },
    "id": "PF49fLAjphS-",
    "outputId": "61a4ed92-1687-4c64-cdc2-6cbf4643b824"
   },
   "outputs": [
    {
     "name": "stdout",
     "output_type": "stream",
     "text": [
      "trainable params: 166,133,760 || all params: 2,780,475,648 || trainable%: 5.9750\n"
     ]
    }
   ],
   "source": [
    "peft_config = LoraConfig(\n",
    "    task_type=TaskType.CAUSAL_LM,\n",
    "    r=128,\n",
    "    lora_alpha=256,\n",
    "    lora_dropout=0.01,\n",
    "    target_modules = ['v_proj',  'q_proj',  'up_proj', 'o_proj', 'down_proj', 'gate_proj','k_proj'])\n",
    "\n",
    "lora_model = get_peft_model(model, peft_config )\n",
    "# qlora_model.resize_token_embeddings(len(tokenizer))\n",
    "lora_model.print_trainable_parameters()"
   ]
  },
  {
   "cell_type": "markdown",
   "id": "Jwwp80UgmLjr",
   "metadata": {
    "id": "Jwwp80UgmLjr"
   },
   "source": [
    "## <font color = 'indianred'> **6.3 Training Arguments**</font>\n",
    "\n",
    "\n",
    "\n",
    "\n",
    "\n"
   ]
  },
  {
   "cell_type": "code",
   "execution_count": 47,
   "id": "20d0113c",
   "metadata": {
    "executionInfo": {
     "elapsed": 6,
     "status": "ok",
     "timestamp": 1745853245343,
     "user": {
      "displayName": "Shaannoor Mann",
      "userId": "02520257695567980696"
     },
     "user_tz": 300
    },
    "id": "20d0113c"
   },
   "outputs": [],
   "source": []
  },
  {
   "cell_type": "code",
   "execution_count": 48,
   "id": "hIXDbzK8O4x9",
   "metadata": {
    "executionInfo": {
     "elapsed": 13,
     "status": "ok",
     "timestamp": 1745853245357,
     "user": {
      "displayName": "Shaannoor Mann",
      "userId": "02520257695567980696"
     },
     "user_tz": 300
    },
    "id": "hIXDbzK8O4x9"
   },
   "outputs": [],
   "source": [
    "# Define the directory where model checkpoints will be saved\n",
    "model_folder = base_folder/'models/gemma_qlora_lmh_inst'\n",
    "\n",
    "# Create the directory if it doesn't exist\n",
    "model_folder.mkdir(exist_ok=True, parents=True)\n",
    "run_name= 'stack_exp_lmh_gemma_inst'\n",
    "\n",
    "use_fp16 = torch_data_type == torch.float16\n",
    "use_bf16 = torch_data_type == torch.bfloat16\n",
    "\n",
    "# Configure training parameters\n",
    "training_args = SFTConfig(\n",
    "    seed = 42,\n",
    "    dataset_text_field=\"text\",\n",
    "    max_seq_length = 1024,\n",
    "    packing = False,\n",
    "\n",
    "    # Training-specific configurations\n",
    "    num_train_epochs=2,  # Total number of training epochs\n",
    "    per_device_train_batch_size=4, # Number of samples per training batch for each device\n",
    "    per_device_eval_batch_size=4,  # Number of samples per evaluation batch for each device\n",
    "    gradient_accumulation_steps=8,\n",
    "    gradient_checkpointing=True,\n",
    "    gradient_checkpointing_kwargs={\"use_reentrant\":False},\n",
    "    # torch_empty_cache_steps=5,\n",
    "    weight_decay=0.0,  # Apply L2 regularization to prevent overfitting\n",
    "    learning_rate=1e-5,  # Step size for the optimizer during training\n",
    "    optim='adamw_torch',  # Optimizer,\n",
    "\n",
    "    # Checkpoint saving and model evaluation settings\n",
    "    output_dir=str(model_folder),  # Directory to save model checkpoints\n",
    "    eval_strategy='steps',  # Evaluate model at specified step intervals\n",
    "    eval_steps=20,  # Perform evaluation every 10 training steps\n",
    "    save_strategy=\"steps\",  # Save model checkpoint at specified step intervals\n",
    "    save_steps=20,  # Save a model checkpoint every 10 training steps\n",
    "    load_best_model_at_end=True,  # Reload the best model at the end of training\n",
    "    save_total_limit=2,  # Retain only the best and the most recent model checkpoints\n",
    "    # Use 'accuracy' as the metric to determine the best model\n",
    "    metric_for_best_model=\"eval_loss\",\n",
    "    greater_is_better=False,  # A model is 'better' if its accuracy is higher\n",
    "\n",
    "\n",
    "    # Experiment logging configurations (commented out in this example)\n",
    "    logging_strategy='steps',\n",
    "    logging_steps=20,\n",
    "    report_to='wandb',  # Log metrics and results to Weights & Biases platform\n",
    "    run_name= run_name,  # Experiment name for Weights & Biases\n",
    "\n",
    "    # Precision settings determined based on GPU capability\n",
    "    fp16=use_fp16 ,  # Set True if torch_data_type is torch.float16\n",
    "    bf16=use_bf16,  # Set True if torch_data_type is torch.bfloat16\n",
    "    tf32=False,  # Disable tf32 unless you want to use Ampere specific optimization\n",
    ")\n"
   ]
  },
  {
   "cell_type": "code",
   "execution_count": 49,
   "id": "exUBN-oC51xA",
   "metadata": {
    "executionInfo": {
     "elapsed": 3,
     "status": "ok",
     "timestamp": 1745853245361,
     "user": {
      "displayName": "Shaannoor Mann",
      "userId": "02520257695567980696"
     },
     "user_tz": 300
    },
    "id": "exUBN-oC51xA"
   },
   "outputs": [],
   "source": [
    "# If gradient checkpointing is enabled, configure relevant settings\n",
    "if training_args.gradient_checkpointing:\n",
    "    model.config.use_cache = False  # Disable caching for compatibility\n",
    "\n"
   ]
  },
  {
   "cell_type": "markdown",
   "id": "J_hMcxgrFNyT",
   "metadata": {
    "id": "J_hMcxgrFNyT"
   },
   "source": [
    "##  <font color = 'indianred'> **6.4 Initialize Trainer**</font>\n",
    "\n"
   ]
  },
  {
   "cell_type": "code",
   "execution_count": 50,
   "id": "iEtX_DvoAoTn",
   "metadata": {
    "colab": {
     "base_uri": "https://localhost:8080/",
     "height": 360,
     "referenced_widgets": [
      "3d2308d44f2d4a4083e7dcda3ea5c0ce",
      "99673c1384dc4ec5b04415354fdaeadc",
      "a2a18be226744a158591b24675bbaf6b",
      "ee2d6a0ca4cb4d29840e1a2dd632b46c",
      "e099168ebaeb4a9b85e393b9870eefe3",
      "e3ed70a029fe4c50a0e8636fc4908910",
      "25458eaf2eab4ab58eee7cfc300a7b8c",
      "441317d5ccf94a58856e7f57269c7b7b",
      "c5414ecc2b6b4b08b5276fff399870db",
      "e101498751714853b391c14a92884253",
      "d703cf89623c433f8d83442ecbec8208",
      "f1dce3fa2bc0421883cf0cbd68f790a7",
      "af942120b4e941f6a835bd795899a31c",
      "9f974ba241094faeab34300541936f63",
      "aef5bfb6981e4e83b058a2d675781833",
      "c7bba25de12140228d8c2ccbb26642e1",
      "16f3b427f79c45e19c23227f7ab2b6da",
      "df29187a919246cc92cbbc2010d9727a",
      "76b4c57f4b554947a9afab27617e4f7e",
      "7654d1290b244af9a5e61b214886b963",
      "0454a58fe2a04011bdd4ae68d3655afe",
      "adfb664e3b6d410e8a857508b47779e1",
      "69f41350266d48a7a6f738ceb0ee35d3",
      "881e9cb35f2148c195fac7a1e7718b99",
      "6438aa3b025b4cf58c916ee7f3b58723",
      "780f5ec0eb2b482aaeabe74801250c8e",
      "e8c16b3dadb846b78d04ae053abae00d",
      "c2a67786fb6f46eb8072df98b6d5da8b",
      "e51ada1a189c4533952ac824b9627a5d",
      "eaf6384e264f40ce9c88ec5c3332e901",
      "e065038c425a47c69acbeec9104a60d2",
      "01865d3ebb5a48ee98e6c64fd0a1578d",
      "5d0b4d722ea849de86e4f9eb6ff8e6c3",
      "87bd968f69e04056bfbcf891dccbbcee",
      "1465c6e5196d43c1979426ae71dc3da6",
      "043b43937f1d40578db8d877f1680ec5",
      "4b9d4c446ef84346b4531d8e332ffa72",
      "2c326566c9ae4ca1a9210d9c30c277de",
      "fa389fa6debd40f1a4faa21a6ddd57fc",
      "f55a657c695c4377a2008906724fb09a",
      "d6fea1b7ec8341e18e77ec1ef76e70fc",
      "b6330b98df204c3e810da4ac43b457a2",
      "71d76d9dc2514524a371cc254e8b729d",
      "83594fb03c084166b6a9e1d8cf3a6cc2",
      "53122b3d7fab4784ba45fbd0361e04f1",
      "e98297b5ca1f4d62a91948a4678ac7e9",
      "83919c35d39e4e61894846dfa6c0403c",
      "46901f933ab947eab791765f3ddb35ba",
      "8afc9ab6c87d4488a18fad8ec1cd1758",
      "b5bb2918c9024bec892772a8a33683e5",
      "8ec6b43f3a4f427db9b9b49f001e64ce",
      "e214e1a97cde41f68b3cb9d9afbcbffe",
      "36eb78efbfac41e0841502e9d77fa05e",
      "bcac559a44ff45f8b6b7bfeabeb061e5",
      "9731727883574114a0073596b436729e",
      "061a026699ca47118a88e0e360830725",
      "445633d354a14c328efc88940f794fdb",
      "a34cd51c35a345e1a3e59c274eb0f5c0",
      "4e120c882aa04f5eaeac07caa9107c53",
      "92fe5e128e904a03ac01f3585544ae13",
      "414e4a3b28874f68b6cd75cf06bdf05b",
      "c9dd94d496c24c5ead5ef682c80430b1",
      "1f72e363f7c646e1a59236d2008a9754",
      "9a561c1afe3e42ce8d2adbd6de0d3420",
      "0fdaded74c2147ccb33ed4d14d542127",
      "4f5e1122211b4f5f8b395a6068ce8d98",
      "6d476e3a844840a8bee4d09d69377bc1",
      "ae777982bff24095962f7cf10ac7e991",
      "e12ca686f0364ba2996129b1823f0976",
      "2b4a4bb71c1941edaee627273eb415ca",
      "55f13a7840724442839057bd5aad8366",
      "b1b362b44ca049178f42c11bac33eaa0",
      "a82d8cf2bbf14f78a368fb3e6449253d",
      "066dbc2b707d4268b397d334fb244966",
      "56482982d4b84aca87f1bb8b4826174c",
      "4505a5f5728c45108ca2a7827484bc8b",
      "65a9031da4c342c1b7030f2b10115127",
      "053c82b8748644ee9b43d4a55d5c4be1",
      "5e58f6d12c2c4a63b2c55d415e5b2a87",
      "922e43bddeae44f2bdad9df2aa2634ed",
      "de4f7f69384143c389cf4589edc97f50",
      "e61c90b226754b49a29b11ae3e8119c5",
      "064467d5443e4422b05a340f655e1ec9",
      "fdbfef5c8a6145a2bea7d2d7dc3d2f9a",
      "129d56d993294aa29e72cb370494e8ba",
      "3be0b02f97b84fd9a29e4a46cdb8c7d2",
      "117fc37b80d4407ea618aeb1f38f3c36",
      "f5c0c62b0b4042189fc48a580f440c7a"
     ]
    },
    "executionInfo": {
     "elapsed": 7844,
     "status": "ok",
     "timestamp": 1745853253211,
     "user": {
      "displayName": "Shaannoor Mann",
      "userId": "02520257695567980696"
     },
     "user_tz": 300
    },
    "id": "iEtX_DvoAoTn",
    "outputId": "773edfd1-908f-4194-af27-6d53f36eb788"
   },
   "outputs": [
    {
     "name": "stderr",
     "output_type": "stream",
     "text": [
      "/usr/local/lib/python3.11/dist-packages/peft/mapping_func.py:73: UserWarning: You are trying to modify a model with PEFT for a second time. If you want to reload the model with a different config, make sure to call `.unload()` before.\n",
      "  warnings.warn(\n",
      "/usr/local/lib/python3.11/dist-packages/peft/tuners/tuners_utils.py:167: UserWarning: Already found a `peft_config` attribute in the model. This will lead to having multiple adapters in the model. Make sure to know what you are doing!\n",
      "  warnings.warn(\n"
     ]
    },
    {
     "data": {
      "application/vnd.jupyter.widget-view+json": {
       "model_id": "3d2308d44f2d4a4083e7dcda3ea5c0ce",
       "version_major": 2,
       "version_minor": 0
      },
      "text/plain": [
       "Converting train dataset to ChatML:   0%|          | 0/1953 [00:00<?, ? examples/s]"
      ]
     },
     "metadata": {},
     "output_type": "display_data"
    },
    {
     "data": {
      "application/vnd.jupyter.widget-view+json": {
       "model_id": "f1dce3fa2bc0421883cf0cbd68f790a7",
       "version_major": 2,
       "version_minor": 0
      },
      "text/plain": [
       "Adding EOS to train dataset:   0%|          | 0/1953 [00:00<?, ? examples/s]"
      ]
     },
     "metadata": {},
     "output_type": "display_data"
    },
    {
     "data": {
      "application/vnd.jupyter.widget-view+json": {
       "model_id": "69f41350266d48a7a6f738ceb0ee35d3",
       "version_major": 2,
       "version_minor": 0
      },
      "text/plain": [
       "Tokenizing train dataset:   0%|          | 0/1953 [00:00<?, ? examples/s]"
      ]
     },
     "metadata": {},
     "output_type": "display_data"
    },
    {
     "data": {
      "application/vnd.jupyter.widget-view+json": {
       "model_id": "87bd968f69e04056bfbcf891dccbbcee",
       "version_major": 2,
       "version_minor": 0
      },
      "text/plain": [
       "Truncating train dataset:   0%|          | 0/1953 [00:00<?, ? examples/s]"
      ]
     },
     "metadata": {},
     "output_type": "display_data"
    },
    {
     "data": {
      "application/vnd.jupyter.widget-view+json": {
       "model_id": "53122b3d7fab4784ba45fbd0361e04f1",
       "version_major": 2,
       "version_minor": 0
      },
      "text/plain": [
       "Converting eval dataset to ChatML:   0%|          | 0/1959 [00:00<?, ? examples/s]"
      ]
     },
     "metadata": {},
     "output_type": "display_data"
    },
    {
     "data": {
      "application/vnd.jupyter.widget-view+json": {
       "model_id": "061a026699ca47118a88e0e360830725",
       "version_major": 2,
       "version_minor": 0
      },
      "text/plain": [
       "Adding EOS to eval dataset:   0%|          | 0/1959 [00:00<?, ? examples/s]"
      ]
     },
     "metadata": {},
     "output_type": "display_data"
    },
    {
     "data": {
      "application/vnd.jupyter.widget-view+json": {
       "model_id": "6d476e3a844840a8bee4d09d69377bc1",
       "version_major": 2,
       "version_minor": 0
      },
      "text/plain": [
       "Tokenizing eval dataset:   0%|          | 0/1959 [00:00<?, ? examples/s]"
      ]
     },
     "metadata": {},
     "output_type": "display_data"
    },
    {
     "data": {
      "application/vnd.jupyter.widget-view+json": {
       "model_id": "053c82b8748644ee9b43d4a55d5c4be1",
       "version_major": 2,
       "version_minor": 0
      },
      "text/plain": [
       "Truncating eval dataset:   0%|          | 0/1959 [00:00<?, ? examples/s]"
      ]
     },
     "metadata": {},
     "output_type": "display_data"
    },
    {
     "name": "stderr",
     "output_type": "stream",
     "text": [
      "No label_names provided for model class `PeftModelForCausalLM`. Since `PeftModel` hides base models input arguments, if label_names is not given, label_names can't be set automatically within `Trainer`. Note that empty label_names list will be used instead.\n"
     ]
    }
   ],
   "source": [
    "data_collator_comp = DataCollatorForCompletionOnlyLM(tokenizer=tokenizer, mlm=False,\n",
    "                                                      response_template=\"<start_of_turn>model\\n\")\n",
    "\n",
    "trainer = SFTTrainer(\n",
    "    model=model,\n",
    "    args=training_args,\n",
    "    train_dataset=train_filtered,\n",
    "    eval_dataset=valid_filtered,\n",
    "    peft_config=peft_config,\n",
    "    data_collator=data_collator_comp\n",
    ")"
   ]
  },
  {
   "cell_type": "markdown",
   "id": "IGDxeCI38uqm",
   "metadata": {
    "id": "IGDxeCI38uqm"
   },
   "source": [
    "## <font color = 'indianred'> **6.5 Setup WandB**</font>"
   ]
  },
  {
   "cell_type": "code",
   "execution_count": 51,
   "id": "S8CaRySh81mi",
   "metadata": {
    "colab": {
     "base_uri": "https://localhost:8080/"
    },
    "executionInfo": {
     "elapsed": 8,
     "status": "ok",
     "timestamp": 1745853253222,
     "user": {
      "displayName": "Shaannoor Mann",
      "userId": "02520257695567980696"
     },
     "user_tz": 300
    },
    "id": "S8CaRySh81mi",
    "outputId": "610335d7-9bc1-47d3-bc5a-8d8dea093e5b"
   },
   "outputs": [
    {
     "name": "stdout",
     "output_type": "stream",
     "text": [
      "env: WANDB_PROJECT=multilabel_stack\n"
     ]
    }
   ],
   "source": [
    "%env WANDB_PROJECT = multilabel_stack"
   ]
  },
  {
   "cell_type": "markdown",
   "id": "ty027fT4DFGn",
   "metadata": {
    "id": "ty027fT4DFGn"
   },
   "source": [
    "##  <font color = 'indianred'> **6.7 Training**"
   ]
  },
  {
   "cell_type": "code",
   "execution_count": 52,
   "id": "RVurPfZHvOKK",
   "metadata": {
    "colab": {
     "base_uri": "https://localhost:8080/",
     "height": 385
    },
    "executionInfo": {
     "elapsed": 1126518,
     "status": "ok",
     "timestamp": 1745854380074,
     "user": {
      "displayName": "Shaannoor Mann",
      "userId": "02520257695567980696"
     },
     "user_tz": 300
    },
    "id": "RVurPfZHvOKK",
    "outputId": "70bafc79-00c1-4757-817d-7efb0b9c775d"
   },
   "outputs": [
    {
     "data": {
      "text/html": [
       "Changes to your `wandb` environment variables will be ignored because your `wandb` session has already started. For more information on how to modify your settings with `wandb.init()` arguments, please refer to <a href='https://wandb.me/wandb-init' target=\"_blank\">the W&B docs</a>."
      ],
      "text/plain": [
       "<IPython.core.display.HTML object>"
      ]
     },
     "metadata": {},
     "output_type": "display_data"
    },
    {
     "data": {
      "text/html": [
       "Tracking run with wandb version 0.19.10"
      ],
      "text/plain": [
       "<IPython.core.display.HTML object>"
      ]
     },
     "metadata": {},
     "output_type": "display_data"
    },
    {
     "data": {
      "text/html": [
       "Run data is saved locally in <code>/content/wandb/run-20250428_151414-ldnd0ar2</code>"
      ],
      "text/plain": [
       "<IPython.core.display.HTML object>"
      ]
     },
     "metadata": {},
     "output_type": "display_data"
    },
    {
     "data": {
      "text/html": [
       "Syncing run <strong><a href='https://wandb.ai/hsingh-utd/multilabel_stack/runs/ldnd0ar2' target=\"_blank\">stack_exp_lmh_gemma_inst</a></strong> to <a href='https://wandb.ai/hsingh-utd/multilabel_stack' target=\"_blank\">Weights & Biases</a> (<a href='https://wandb.me/developer-guide' target=\"_blank\">docs</a>)<br>"
      ],
      "text/plain": [
       "<IPython.core.display.HTML object>"
      ]
     },
     "metadata": {},
     "output_type": "display_data"
    },
    {
     "data": {
      "text/html": [
       " View project at <a href='https://wandb.ai/hsingh-utd/multilabel_stack' target=\"_blank\">https://wandb.ai/hsingh-utd/multilabel_stack</a>"
      ],
      "text/plain": [
       "<IPython.core.display.HTML object>"
      ]
     },
     "metadata": {},
     "output_type": "display_data"
    },
    {
     "data": {
      "text/html": [
       " View run at <a href='https://wandb.ai/hsingh-utd/multilabel_stack/runs/ldnd0ar2' target=\"_blank\">https://wandb.ai/hsingh-utd/multilabel_stack/runs/ldnd0ar2</a>"
      ],
      "text/plain": [
       "<IPython.core.display.HTML object>"
      ]
     },
     "metadata": {},
     "output_type": "display_data"
    },
    {
     "name": "stderr",
     "output_type": "stream",
     "text": [
      "It is strongly recommended to train Gemma2 models with the `eager` attention implementation instead of `sdpa`. Use `eager` with `AutoModelForCausalLM.from_pretrained('<path-to-checkpoint>', attn_implementation='eager')`.\n"
     ]
    },
    {
     "data": {
      "text/html": [
       "\n",
       "    <div>\n",
       "      \n",
       "      <progress value='122' max='122' style='width:300px; height:20px; vertical-align: middle;'></progress>\n",
       "      [122/122 18:40, Epoch 1/2]\n",
       "    </div>\n",
       "    <table border=\"1\" class=\"dataframe\">\n",
       "  <thead>\n",
       " <tr style=\"text-align: left;\">\n",
       "      <th>Step</th>\n",
       "      <th>Training Loss</th>\n",
       "      <th>Validation Loss</th>\n",
       "    </tr>\n",
       "  </thead>\n",
       "  <tbody>\n",
       "    <tr>\n",
       "      <td>20</td>\n",
       "      <td>0.566500</td>\n",
       "      <td>0.108760</td>\n",
       "    </tr>\n",
       "    <tr>\n",
       "      <td>40</td>\n",
       "      <td>0.119600</td>\n",
       "      <td>0.093757</td>\n",
       "    </tr>\n",
       "    <tr>\n",
       "      <td>60</td>\n",
       "      <td>0.087300</td>\n",
       "      <td>0.081655</td>\n",
       "    </tr>\n",
       "    <tr>\n",
       "      <td>80</td>\n",
       "      <td>0.057900</td>\n",
       "      <td>0.081743</td>\n",
       "    </tr>\n",
       "    <tr>\n",
       "      <td>100</td>\n",
       "      <td>0.067000</td>\n",
       "      <td>0.077992</td>\n",
       "    </tr>\n",
       "    <tr>\n",
       "      <td>120</td>\n",
       "      <td>0.062300</td>\n",
       "      <td>0.075794</td>\n",
       "    </tr>\n",
       "  </tbody>\n",
       "</table><p>"
      ],
      "text/plain": [
       "<IPython.core.display.HTML object>"
      ]
     },
     "metadata": {},
     "output_type": "display_data"
    }
   ],
   "source": [
    "try:\n",
    "    # Your code that may cause a CUDA out-of-memory error\n",
    "    # Example: trainer.train() or other GPU intensive operations\n",
    "    # lora_model.config.use_cache = False\n",
    "    trainer.train()\n",
    "except RuntimeError as e:\n",
    "    if 'CUDA out of memory' in str(e):\n",
    "        print(\"CUDA out of memory error detected. Freeing GPU memory.\")\n",
    "        free_gpu_memory()\n",
    "        # Optionally, you can retry the operation here after freeing up memory\n",
    "        # Example retry:\n",
    "        # trainer.train()\n",
    "    else:\n",
    "        raise e\n"
   ]
  },
  {
   "cell_type": "code",
   "execution_count": 53,
   "id": "W0ZwbDiZz8Ol",
   "metadata": {
    "executionInfo": {
     "elapsed": 7,
     "status": "ok",
     "timestamp": 1745854380083,
     "user": {
      "displayName": "Shaannoor Mann",
      "userId": "02520257695567980696"
     },
     "user_tz": 300
    },
    "id": "W0ZwbDiZz8Ol"
   },
   "outputs": [],
   "source": [
    "best_model_checkpoint_step = trainer.state.best_model_checkpoint.split('-')[-1]"
   ]
  },
  {
   "cell_type": "code",
   "execution_count": 54,
   "id": "1HrLydYRz8-v",
   "metadata": {
    "colab": {
     "base_uri": "https://localhost:8080/",
     "height": 35
    },
    "executionInfo": {
     "elapsed": 5,
     "status": "ok",
     "timestamp": 1745854380090,
     "user": {
      "displayName": "Shaannoor Mann",
      "userId": "02520257695567980696"
     },
     "user_tz": 300
    },
    "id": "1HrLydYRz8-v",
    "outputId": "e33e95e8-caa1-4f6a-b395-58591251567b"
   },
   "outputs": [
    {
     "data": {
      "application/vnd.google.colaboratory.intrinsic+json": {
       "type": "string"
      },
      "text/plain": [
       "'120'"
      ]
     },
     "execution_count": 54,
     "metadata": {},
     "output_type": "execute_result"
    }
   ],
   "source": [
    "best_model_checkpoint_step"
   ]
  },
  {
   "cell_type": "code",
   "execution_count": 55,
   "id": "e362a7fd",
   "metadata": {
    "executionInfo": {
     "elapsed": 14,
     "status": "ok",
     "timestamp": 1745854380106,
     "user": {
      "displayName": "Shaannoor Mann",
      "userId": "02520257695567980696"
     },
     "user_tz": 300
    },
    "id": "e362a7fd"
   },
   "outputs": [],
   "source": [
    "# best_model_checkpoint_step =120"
   ]
  },
  {
   "cell_type": "markdown",
   "id": "ade3b145",
   "metadata": {
    "id": "ade3b145"
   },
   "source": [
    "##  <font color = 'indianred'> **6.8 Validation**\n",
    "\n",
    "<font color = 'indianred'> *Evaluate model on Validation Set* </font>\n"
   ]
  },
  {
   "cell_type": "code",
   "execution_count": 56,
   "id": "d07593a0",
   "metadata": {
    "executionInfo": {
     "elapsed": 5,
     "status": "ok",
     "timestamp": 1745854380114,
     "user": {
      "displayName": "Shaannoor Mann",
      "userId": "02520257695567980696"
     },
     "user_tz": 300
    },
    "id": "d07593a0"
   },
   "outputs": [],
   "source": [
    "# tokenizer.apply_chat_template??"
   ]
  },
  {
   "cell_type": "code",
   "execution_count": 64,
   "id": "3M7UnS-vDFwt",
   "metadata": {
    "colab": {
     "base_uri": "https://localhost:8080/"
    },
    "executionInfo": {
     "elapsed": 2004,
     "status": "ok",
     "timestamp": 1745854729448,
     "user": {
      "displayName": "Shaannoor Mann",
      "userId": "02520257695567980696"
     },
     "user_tz": 300
    },
    "id": "3M7UnS-vDFwt",
    "outputId": "6d2029c8-8069-4fb1-e1ac-7db32738b98b"
   },
   "outputs": [
    {
     "name": "stdout",
     "output_type": "stream",
     "text": [
      "GPU memory has been freed.\n"
     ]
    }
   ],
   "source": [
    "free_gpu_memory()"
   ]
  },
  {
   "cell_type": "code",
   "execution_count": 65,
   "id": "5YRO1jCaiKOS",
   "metadata": {
    "executionInfo": {
     "elapsed": 14,
     "status": "ok",
     "timestamp": 1745854730437,
     "user": {
      "displayName": "Shaannoor Mann",
      "userId": "02520257695567980696"
     },
     "user_tz": 300
    },
    "id": "5YRO1jCaiKOS"
   },
   "outputs": [],
   "source": [
    "def format_chat_inference(example):\n",
    "    instruction = f\"Classify the TEXT by selecting all applicable labels from the following list: {class_names}.\\n\\nTEXT: {example['text']}\"\n",
    "    messages = [\n",
    "        {\"role\": \"user\", \"content\": instruction},\n",
    "        # {\"role\": \"assistant\", \"content\": \"\"}\n",
    "    ]\n",
    "    # text = tokenizer.apply_chat_template(messages, tokenize=False)\n",
    "    text = tokenizer.apply_chat_template(messages, tokenize=False, add_generation_prompt=True)\n",
    "    # Remove the final <end_of_turn>\n",
    "    # if text.endswith(\"<end_of_turn>\\n\"):\n",
    "    #     text = text[:-len(\"<end_of_turn>\\n\")]\n",
    "    return {\"text\": text}"
   ]
  },
  {
   "cell_type": "code",
   "execution_count": 66,
   "id": "6l_6wBH4itqq",
   "metadata": {
    "colab": {
     "base_uri": "https://localhost:8080/",
     "height": 49,
     "referenced_widgets": [
      "56d0df4aa8fe4b4c9294864d92c6a2f2",
      "04c3c1e300b84171b3644ae088443612",
      "1cb35f1401cf446485cb3ac4978b6f1f",
      "4dbd1f23806b407fb121f06af07768b2",
      "264b05aaa53e45308d72433c80670425",
      "ee53696f504942f09d8360da1b4c1f5a",
      "418a71322bba424ebf71922713077a53",
      "287f6d6dc0ac4598b041503b497595e2",
      "acde36380bc24c9f8ca185e6e60d57b8",
      "ae049916dfae44eab06911f598d843a8",
      "8c488d6c01134814bd21e6c98bbf6ed6"
     ]
    },
    "executionInfo": {
     "elapsed": 838,
     "status": "ok",
     "timestamp": 1745854737449,
     "user": {
      "displayName": "Shaannoor Mann",
      "userId": "02520257695567980696"
     },
     "user_tz": 300
    },
    "id": "6l_6wBH4itqq",
    "outputId": "c21ad257-0dbb-426d-88d5-28e9e25e7a06"
   },
   "outputs": [
    {
     "data": {
      "application/vnd.jupyter.widget-view+json": {
       "model_id": "56d0df4aa8fe4b4c9294864d92c6a2f2",
       "version_major": 2,
       "version_minor": 0
      },
      "text/plain": [
       "Map:   0%|          | 0/2000 [00:00<?, ? examples/s]"
      ]
     },
     "metadata": {},
     "output_type": "display_data"
    }
   ],
   "source": [
    "valid_subset= train_val_subset['valid'].map(format_chat_inference)"
   ]
  },
  {
   "cell_type": "code",
   "execution_count": 67,
   "id": "c8c699de",
   "metadata": {
    "colab": {
     "base_uri": "https://localhost:8080/",
     "height": 49,
     "referenced_widgets": [
      "77822143bb6646debd616265ed836e20",
      "d02565a7f61d4045a610da009137b6df",
      "c52bbd4b2daa4c85beb33b2c7a1c729e",
      "0e872cf4710642bca899bc83f53f4025",
      "b8c7283ef1bf424f8d342fb9bcc3f3a0",
      "b4f1b51917614d4ca320fd9f0a70670b",
      "1f135c21d7f24bc8ae9bb43ebf103300",
      "0d228d649cf44e23819a92682609ec21",
      "e85d6ae347ca45f0b0bfae0f9eaa9c35",
      "776feae4ccb341e58041702940c31818",
      "f1150be2dd434039a26b0ce230afd902"
     ]
    },
    "executionInfo": {
     "elapsed": 1755,
     "status": "ok",
     "timestamp": 1745854739206,
     "user": {
      "displayName": "Shaannoor Mann",
      "userId": "02520257695567980696"
     },
     "user_tz": 300
    },
    "id": "c8c699de",
    "outputId": "2dcfc0f7-05bf-4bec-bfce-3812ef77f2c3"
   },
   "outputs": [
    {
     "data": {
      "application/vnd.jupyter.widget-view+json": {
       "model_id": "77822143bb6646debd616265ed836e20",
       "version_major": 2,
       "version_minor": 0
      },
      "text/plain": [
       "Filter:   0%|          | 0/2000 [00:00<?, ? examples/s]"
      ]
     },
     "metadata": {},
     "output_type": "display_data"
    }
   ],
   "source": [
    "valid_filtered = valid_subset.filter(check_length)"
   ]
  },
  {
   "cell_type": "code",
   "execution_count": 68,
   "id": "yO5emaa50Izr",
   "metadata": {
    "colab": {
     "base_uri": "https://localhost:8080/",
     "height": 35
    },
    "executionInfo": {
     "elapsed": 6,
     "status": "ok",
     "timestamp": 1745854739226,
     "user": {
      "displayName": "Shaannoor Mann",
      "userId": "02520257695567980696"
     },
     "user_tz": 300
    },
    "id": "yO5emaa50Izr",
    "outputId": "19d5162a-814c-4288-d8d4-3e7cada444a4"
   },
   "outputs": [
    {
     "data": {
      "application/vnd.google.colaboratory.intrinsic+json": {
       "type": "string"
      },
      "text/plain": [
       "'/content/drive/MyDrive/data/models/gemma_qlora_lmh_inst/checkpoint-120'"
      ]
     },
     "execution_count": 68,
     "metadata": {},
     "output_type": "execute_result"
    }
   ],
   "source": [
    "checkpoint = str(model_folder/f'checkpoint-{best_model_checkpoint_step}')\n",
    "checkpoint"
   ]
  },
  {
   "cell_type": "code",
   "execution_count": 69,
   "id": "Py30cXn71Ixz",
   "metadata": {
    "colab": {
     "base_uri": "https://localhost:8080/",
     "height": 49,
     "referenced_widgets": [
      "208826831204436a8546f97a1daa664e",
      "1864ab2a41534be98975be6d14e0a4f4",
      "10c3a08ff5c24b2faed68a5eaba7ce8c",
      "c6823d4fc5f145baa8d129ac204d4192",
      "50aab03d774e4542aa04fb530323aa6f",
      "5022dd5e564c4a7da24498c3ae315329",
      "c01e66cd9de24f67b308359b457db42c",
      "2c4ebe4ca0c84b9f9679bdfb170e98c6",
      "f9e2359ecdac4a85862ede447b4a6346",
      "c3e01d16fd8d43579ec811a8ce336be1",
      "ce6b3887c5994f0bb7c9cfde440ca58b"
     ]
    },
    "executionInfo": {
     "elapsed": 10049,
     "status": "ok",
     "timestamp": 1745854749280,
     "user": {
      "displayName": "Shaannoor Mann",
      "userId": "02520257695567980696"
     },
     "user_tz": 300
    },
    "id": "Py30cXn71Ixz",
    "outputId": "f7539865-df06-4c28-cb99-5bb4e0c231ac"
   },
   "outputs": [
    {
     "data": {
      "application/vnd.jupyter.widget-view+json": {
       "model_id": "208826831204436a8546f97a1daa664e",
       "version_major": 2,
       "version_minor": 0
      },
      "text/plain": [
       "Loading checkpoint shards:   0%|          | 0/2 [00:00<?, ?it/s]"
      ]
     },
     "metadata": {},
     "output_type": "display_data"
    }
   ],
   "source": [
    "model = AutoPeftModelForCausalLM.from_pretrained(checkpoint,\n",
    "                                             quantization_config=bnb_config,\n",
    "                                             torch_dtype=torch_data_type,\n",
    "                                             trust_remote_code=True,\n",
    "                                             device_map='auto')"
   ]
  },
  {
   "cell_type": "code",
   "execution_count": 70,
   "id": "sQO3AGHl1Msn",
   "metadata": {
    "colab": {
     "base_uri": "https://localhost:8080/"
    },
    "executionInfo": {
     "elapsed": 17,
     "status": "ok",
     "timestamp": 1745854751974,
     "user": {
      "displayName": "Shaannoor Mann",
      "userId": "02520257695567980696"
     },
     "user_tz": 300
    },
    "id": "sQO3AGHl1Msn",
    "outputId": "30848e82-df98-4c28-9324-e50ae2f83057"
   },
   "outputs": [
    {
     "data": {
      "text/plain": [
       "device(type='cuda', index=0)"
      ]
     },
     "execution_count": 70,
     "metadata": {},
     "output_type": "execute_result"
    }
   ],
   "source": [
    "model.device"
   ]
  },
  {
   "cell_type": "code",
   "execution_count": 71,
   "id": "NidBVASU1YH8",
   "metadata": {
    "executionInfo": {
     "elapsed": 1136,
     "status": "ok",
     "timestamp": 1745854754321,
     "user": {
      "displayName": "Shaannoor Mann",
      "userId": "02520257695567980696"
     },
     "user_tz": 300
    },
    "id": "NidBVASU1YH8"
   },
   "outputs": [],
   "source": [
    "peft_config = PeftConfig.from_pretrained(checkpoint)\n",
    "base_model_name = peft_config.base_model_name_or_path\n",
    "tokenizer = AutoTokenizer.from_pretrained(base_model_name)"
   ]
  },
  {
   "cell_type": "code",
   "execution_count": 72,
   "id": "LtUvuVAAowHm",
   "metadata": {
    "executionInfo": {
     "elapsed": 18,
     "status": "ok",
     "timestamp": 1745854755102,
     "user": {
      "displayName": "Shaannoor Mann",
      "userId": "02520257695567980696"
     },
     "user_tz": 300
    },
    "id": "LtUvuVAAowHm"
   },
   "outputs": [],
   "source": [
    "def run_inference_instruction(\n",
    "    seed: int,\n",
    "    dataset: Union[Dict, List],\n",
    "    model,\n",
    "    tokenizer,\n",
    "    per_device_batch_size: int,\n",
    "    input_field: str,\n",
    "    output_field: str,\n",
    "    save_dir: Optional[Path] = None,\n",
    "    save_file_name: Optional[str] = None,\n",
    "    max_new_tokens: int = 10,\n",
    "    num_beams: int = 1,\n",
    "    do_sample: bool = False,\n",
    "    top_k: int = 50,\n",
    "    top_p: float = 1.0,\n",
    "    temperature: float = 1.0,\n",
    "    no_repeat_ngram_size: int = 2,\n",
    "    num_return_sequences: int = 1\n",
    ") -> List[Dict]:\n",
    "\n",
    "    \"\"\"\n",
    "    Run inference on a dataset using a pre-trained model and return the complete generations.\n",
    "\n",
    "    Args:\n",
    "        seed (int): Random seed for reproducibility\n",
    "        dataset (Union[Dict, List]): Input dataset containing text to generate from\n",
    "        model: Pre-trained model to use for inference\n",
    "        tokenizer: Tokenizer associated with the model\n",
    "        per_device_batch_size (int): Number of samples to process in each batch\n",
    "        input_field (str): Key name for accessing input text in the dataset\n",
    "        output_field (str): Key name for accessing ground truth labels in the dataset\n",
    "        save_dir (Optional[Path]): Directory path to save generation results. If None, results won't be saved\n",
    "        save_file_name (Optional[str]): Name of the file to save results. If None, uses timestamp\n",
    "        max_new_tokens (int, optional): Maximum number of tokens to generate. Defaults to 10\n",
    "        num_beams (int, optional): Number of beams for beam search. Defaults to 1\n",
    "        do_sample (bool, optional): Whether to use sampling. Defaults to False\n",
    "        top_k (int, optional): Number of highest probability tokens to keep for top-k sampling. Defaults to 50\n",
    "        top_p (float, optional): Cumulative probability cutoff for top-p sampling. Defaults to 1.0\n",
    "        temperature (float, optional): Sampling temperature; higher means more random. Defaults to 1.0\n",
    "        no_repeat_ngram_size (int, optional): Size of n-grams to prevent repetition. Defaults to 2\n",
    "        num_return_sequences (int, optional): Number of sequences to generate per input. Defaults to 1\n",
    "\n",
    "    Returns:\n",
    "        List[Dict]: List of dictionaries containing:\n",
    "            - \"input\": Original input text\n",
    "            - \"generated_output\": Model-generated text\n",
    "            - \"ground_truth\": Ground truth label if available, \"N/A\" if not\n",
    "\n",
    "    \"\"\"\n",
    "\n",
    "\n",
    "\n",
    "    set_seed(seed)\n",
    "    model.eval()\n",
    "    device = model.device\n",
    "    batch_size = per_device_batch_size\n",
    "    inference_results = []\n",
    "\n",
    "\n",
    "    progress_bar = tqdm(range(0, len(dataset), batch_size), desc=\"Generating predictions\")\n",
    "\n",
    "    for i in progress_bar:\n",
    "       batch = dataset[i:i + batch_size]\n",
    "\n",
    "       try:\n",
    "           texts = batch[input_field]\n",
    "           labels = batch[output_field] if output_field in batch else [\"N/A\"] * len(texts)\n",
    "\n",
    "\n",
    "           inputs = tokenizer(texts, return_tensors=\"pt\", padding=True)\n",
    "           inputs = {k: v.to(device) for k, v in inputs.items()}\n",
    "\n",
    "           with torch.no_grad():\n",
    "               outputs = model.generate(\n",
    "                   **inputs,\n",
    "                   max_new_tokens=max_new_tokens,\n",
    "                   num_beams=num_beams,\n",
    "                   do_sample=do_sample,\n",
    "                   top_k=top_k,\n",
    "                   top_p=top_p,\n",
    "                   temperature=temperature,\n",
    "                   pad_token_id=tokenizer.pad_token_id,\n",
    "               )\n",
    "\n",
    "           decoded_outputs = tokenizer.batch_decode(outputs, skip_special_tokens=False)\n",
    "\n",
    "           for text, label, decoded_output in zip(texts, labels, decoded_outputs):\n",
    "                   inference_results.append({\n",
    "                    \"input\": text,\n",
    "                    \"generated_output\": decoded_output,\n",
    "                    \"ground_truth\": label\n",
    "                })\n",
    "\n",
    "\n",
    "       except Exception as e:\n",
    "           print(f\"Error processing batch: {str(e)}\")\n",
    "           continue\n",
    "    # Save generations if path provided\n",
    "    if save_dir:\n",
    "        save_dir = Path(save_dir)\n",
    "        save_dir.mkdir(parents=True, exist_ok=True)\n",
    "\n",
    "        # If no filename provided, create a timestamped one\n",
    "        if save_file_name is None:\n",
    "            from datetime import datetime\n",
    "            timestamp = datetime.now().strftime(\"%Y%m%d_%H%M%S\")\n",
    "            save_name = f\"generations_{timestamp}.json\"\n",
    "        elif not save_file_name.endswith('.json'):\n",
    "            save_name = f\"{save_file_name}.json\"\n",
    "\n",
    "        save_file = save_dir / save_name\n",
    "\n",
    "        with open(save_file, 'w') as f:\n",
    "            json.dump(inference_results, f, indent=2)\n",
    "        print(f\"Saved inference_results to: {save_file}\")\n",
    "\n",
    "    return inference_results"
   ]
  },
  {
   "cell_type": "code",
   "execution_count": 73,
   "id": "UdcXm7ZHB_mA",
   "metadata": {
    "colab": {
     "base_uri": "https://localhost:8080/"
    },
    "executionInfo": {
     "elapsed": 2414,
     "status": "ok",
     "timestamp": 1745854758495,
     "user": {
      "displayName": "Shaannoor Mann",
      "userId": "02520257695567980696"
     },
     "user_tz": 300
    },
    "id": "UdcXm7ZHB_mA",
    "outputId": "89a1d165-9d68-4340-e81c-8dc2d1d4f96d"
   },
   "outputs": [
    {
     "name": "stdout",
     "output_type": "stream",
     "text": [
      "GPU memory has been freed.\n"
     ]
    }
   ],
   "source": [
    "free_gpu_memory()"
   ]
  },
  {
   "cell_type": "code",
   "execution_count": 74,
   "id": "55c3a050",
   "metadata": {
    "colab": {
     "base_uri": "https://localhost:8080/"
    },
    "executionInfo": {
     "elapsed": 3,
     "status": "ok",
     "timestamp": 1745854758499,
     "user": {
      "displayName": "Shaannoor Mann",
      "userId": "02520257695567980696"
     },
     "user_tz": 300
    },
    "id": "55c3a050",
    "outputId": "25be103e-3f93-4e6a-d653-ba4f372384ab"
   },
   "outputs": [
    {
     "data": {
      "text/plain": [
       "Dataset({\n",
       "    features: ['text', 'label'],\n",
       "    num_rows: 1960\n",
       "})"
      ]
     },
     "execution_count": 74,
     "metadata": {},
     "output_type": "execute_result"
    }
   ],
   "source": [
    "valid_filtered"
   ]
  },
  {
   "cell_type": "code",
   "execution_count": 75,
   "id": "bfbda76d",
   "metadata": {
    "colab": {
     "base_uri": "https://localhost:8080/",
     "height": 35
    },
    "executionInfo": {
     "elapsed": 14,
     "status": "ok",
     "timestamp": 1745854759609,
     "user": {
      "displayName": "Shaannoor Mann",
      "userId": "02520257695567980696"
     },
     "user_tz": 300
    },
    "id": "bfbda76d",
    "outputId": "f80d5111-c74c-4dfe-9316-c1dbd9a0ed67"
   },
   "outputs": [
    {
     "data": {
      "application/vnd.google.colaboratory.intrinsic+json": {
       "type": "string"
      },
      "text/plain": [
       "'[\"javascript\", \"jquery\"]'"
      ]
     },
     "execution_count": 75,
     "metadata": {},
     "output_type": "execute_result"
    }
   ],
   "source": [
    "valid_filtered[0]['label']"
   ]
  },
  {
   "cell_type": "code",
   "execution_count": 76,
   "id": "d65c1135",
   "metadata": {
    "colab": {
     "base_uri": "https://localhost:8080/",
     "height": 87
    },
    "executionInfo": {
     "elapsed": 14,
     "status": "ok",
     "timestamp": 1745854760534,
     "user": {
      "displayName": "Shaannoor Mann",
      "userId": "02520257695567980696"
     },
     "user_tz": 300
    },
    "id": "d65c1135",
    "outputId": "6333759d-6be4-4dd7-9a3a-27aee6946539"
   },
   "outputs": [
    {
     "data": {
      "application/vnd.google.colaboratory.intrinsic+json": {
       "type": "string"
      },
      "text/plain": [
       "'<bos><start_of_turn>user\\nClassify the TEXT by selecting all applicable labels from the following list: [\\'c#\\', \\'java\\', \\'php\\', \\'javascript\\', \\'android\\', \\'jquery\\', \\'c++\\', \\'python\\', \\'iphone\\', \\'asp.net\\'].\\n\\nTEXT: seperate jquery script selector external file work jquery selector event associate want external file copy directly save thing external javascript selector work explain note able use function html file externalize work script follows:-   $ pervious\\').click(function          var presentslide = $ .visible\\').attr(\\'id          var temparr = presentslide.split(\"-          var persentslideno = temparr[1          var perviousslideno = number(persentslideno 1 perviousslideno > -1                    var perviousslide = slide- + perviousslideno               $ + presentslide).fadeout(\\'slow\\',function              $ this).removeclass(\\'visible\\').addclass(\\'hidden                           $ + perviousslide).fadein(\\'slow\\',function              $ this).removeclass(\\'hidden\\').addclass(\\'visible<end_of_turn>\\n<start_of_turn>model\\n'"
      ]
     },
     "execution_count": 76,
     "metadata": {},
     "output_type": "execute_result"
    }
   ],
   "source": [
    "valid_filtered[0]['text']"
   ]
  },
  {
   "cell_type": "code",
   "execution_count": 77,
   "id": "CQQN43YtaxRA",
   "metadata": {
    "colab": {
     "base_uri": "https://localhost:8080/"
    },
    "executionInfo": {
     "elapsed": 148746,
     "status": "ok",
     "timestamp": 1745854910415,
     "user": {
      "displayName": "Shaannoor Mann",
      "userId": "02520257695567980696"
     },
     "user_tz": 300
    },
    "id": "CQQN43YtaxRA",
    "outputId": "ab7c0eb9-02aa-41e4-c6fc-14b6f5c7580d"
   },
   "outputs": [
    {
     "name": "stderr",
     "output_type": "stream",
     "text": [
      "Generating predictions: 100%|██████████| 40/40 [02:28<00:00,  3.72s/it]"
     ]
    },
    {
     "name": "stdout",
     "output_type": "stream",
     "text": [
      "Saved inference_results to: /content/drive/MyDrive/data/models/gemma_qlora_lmh_inst/valid_complete_generations.json\n"
     ]
    },
    {
     "name": "stderr",
     "output_type": "stream",
     "text": [
      "\n"
     ]
    }
   ],
   "source": [
    "valid_inference_results = run_inference_instruction(seed = 42,\n",
    "              dataset=valid_filtered,\n",
    "              model=model,\n",
    "              tokenizer=tokenizer,\n",
    "              per_device_batch_size=50,\n",
    "              input_field='text',\n",
    "              output_field='label',\n",
    "              save_dir=model_folder,\n",
    "              save_file_name = 'valid_complete_generations')"
   ]
  },
  {
   "cell_type": "code",
   "execution_count": 78,
   "id": "74b8ffe6",
   "metadata": {
    "executionInfo": {
     "elapsed": 52,
     "status": "ok",
     "timestamp": 1745854920780,
     "user": {
      "displayName": "Shaannoor Mann",
      "userId": "02520257695567980696"
     },
     "user_tz": 300
    },
    "id": "74b8ffe6"
   },
   "outputs": [],
   "source": [
    "file_name = model_folder/'valid_complete_generations.json'\n",
    "with open(file_name, 'r') as f:\n",
    "    valid_inference_results = json.load(f)"
   ]
  },
  {
   "cell_type": "code",
   "execution_count": 79,
   "id": "8b92ebf6",
   "metadata": {
    "colab": {
     "base_uri": "https://localhost:8080/"
    },
    "executionInfo": {
     "elapsed": 15,
     "status": "ok",
     "timestamp": 1745854921653,
     "user": {
      "displayName": "Shaannoor Mann",
      "userId": "02520257695567980696"
     },
     "user_tz": 300
    },
    "id": "8b92ebf6",
    "outputId": "fdd702ba-91ac-4a8c-cab0-42c4710f55d7"
   },
   "outputs": [
    {
     "data": {
      "text/plain": [
       "{'input': '<bos><start_of_turn>user\\nClassify the TEXT by selecting all applicable labels from the following list: [\\'c#\\', \\'java\\', \\'php\\', \\'javascript\\', \\'android\\', \\'jquery\\', \\'c++\\', \\'python\\', \\'iphone\\', \\'asp.net\\'].\\n\\nTEXT: seperate jquery script selector external file work jquery selector event associate want external file copy directly save thing external javascript selector work explain note able use function html file externalize work script follows:-   $ pervious\\').click(function          var presentslide = $ .visible\\').attr(\\'id          var temparr = presentslide.split(\"-          var persentslideno = temparr[1          var perviousslideno = number(persentslideno 1 perviousslideno > -1                    var perviousslide = slide- + perviousslideno               $ + presentslide).fadeout(\\'slow\\',function              $ this).removeclass(\\'visible\\').addclass(\\'hidden                           $ + perviousslide).fadein(\\'slow\\',function              $ this).removeclass(\\'hidden\\').addclass(\\'visible<end_of_turn>\\n<start_of_turn>model\\n',\n",
       " 'generated_output': '<pad><pad><pad><pad><pad><pad><pad><pad><pad><pad><pad><pad><pad><pad><pad><pad><pad><pad><pad><pad><pad><pad><pad><pad><pad><pad><pad><pad><pad><pad><pad><pad><pad><pad><pad><pad><pad><pad><pad><pad><pad><pad><pad><pad><pad><pad><pad><pad><pad><pad><pad><pad><pad><pad><pad><pad><pad><pad><pad><pad><pad><pad><pad><pad><pad><pad><pad><pad><pad><pad><pad><pad><pad><pad><pad><pad><pad><pad><pad><pad><pad><pad><pad><pad><pad><pad><pad><pad><pad><pad><pad><pad><pad><pad><pad><pad><pad><pad><pad><pad><pad><pad><pad><pad><pad><pad><pad><pad><pad><pad><pad><pad><pad><pad><pad><pad><pad><pad><pad><pad><pad><pad><pad><pad><pad><pad><pad><pad><pad><pad><pad><pad><pad><pad><pad><pad><pad><pad><pad><pad><pad><pad><pad><pad><pad><pad><pad><pad><pad><pad><pad><pad><pad><pad><pad><pad><pad><pad><pad><pad><pad><pad><pad><pad><pad><pad><pad><pad><pad><pad><pad><pad><pad><pad><pad><pad><pad><pad><pad><pad><pad><pad><pad><pad><pad><pad><pad><pad><pad><pad><pad><pad><pad><pad><pad><pad><pad><pad><pad><pad><pad><pad><pad><pad><pad><pad><pad><pad><pad><pad><pad><pad><pad><pad><pad><pad><pad><pad><pad><pad><pad><pad><pad><pad><pad><pad><pad><pad><pad><pad><pad><pad><pad><pad><pad><pad><pad><pad><pad><pad><pad><pad><pad><pad><pad><bos><bos><start_of_turn>user\\nClassify the TEXT by selecting all applicable labels from the following list: [\\'c#\\', \\'java\\', \\'php\\', \\'javascript\\', \\'android\\', \\'jquery\\', \\'c++\\', \\'python\\', \\'iphone\\', \\'asp.net\\'].\\n\\nTEXT: seperate jquery script selector external file work jquery selector event associate want external file copy directly save thing external javascript selector work explain note able use function html file externalize work script follows:-   $ pervious\\').click(function          var presentslide = $ .visible\\').attr(\\'id          var temparr = presentslide.split(\"-          var persentslideno = temparr[1          var perviousslideno = number(persentslideno 1 perviousslideno > -1                    var perviousslide = slide- + perviousslideno               $ + presentslide).fadeout(\\'slow\\',function              $ this).removeclass(\\'visible\\').addclass(\\'hidden                           $ + perviousslide).fadein(\\'slow\\',function              $ this).removeclass(\\'hidden\\').addclass(\\'visible<end_of_turn>\\n<start_of_turn>model\\n[\"javascript\", \"jquery\"]<end_of_turn><pad><pad><pad>',\n",
       " 'ground_truth': '[\"javascript\", \"jquery\"]'}"
      ]
     },
     "execution_count": 79,
     "metadata": {},
     "output_type": "execute_result"
    }
   ],
   "source": [
    "valid_inference_results[0]"
   ]
  },
  {
   "cell_type": "code",
   "execution_count": 82,
   "id": "7a875fab",
   "metadata": {
    "colab": {
     "base_uri": "https://localhost:8080/"
    },
    "executionInfo": {
     "elapsed": 7,
     "status": "ok",
     "timestamp": 1745854942640,
     "user": {
      "displayName": "Shaannoor Mann",
      "userId": "02520257695567980696"
     },
     "user_tz": 300
    },
    "id": "7a875fab",
    "outputId": "5181cf82-87ec-4768-9612-d717b94be49f"
   },
   "outputs": [
    {
     "name": "stdout",
     "output_type": "stream",
     "text": [
      "('<pad><pad><pad><pad><pad><pad><pad><pad><pad><pad><pad><pad><pad><pad><pad><pad><pad><pad><pad><pad><pad><pad><pad><pad><pad><pad><pad><pad><pad><pad><pad><pad><pad><pad><pad><pad><pad><pad><pad><pad><pad><pad><pad><pad><pad><pad><pad><pad><pad><pad><pad><pad><pad><pad><pad><pad><pad><pad><pad><pad><pad><pad><pad><pad><pad><pad><pad><pad><pad><pad><pad><pad><pad><pad><pad><pad><pad><pad><pad><pad><pad><pad><pad><pad><pad><pad><pad><pad><pad><pad><pad><pad><pad><pad><pad><pad><pad><pad><pad><pad><pad><pad><pad><pad><pad><pad><pad><pad><pad><pad><pad><pad><pad><pad><pad><pad><pad><pad><pad><pad><pad><pad><pad><pad><pad><pad><pad><pad><pad><pad><pad><pad><pad><pad><pad><pad><pad><pad><pad><pad><pad><pad><pad><pad><pad><pad><pad><pad><pad><pad><pad><pad><pad><pad><pad><pad><pad><pad><pad><pad><pad><pad><pad><pad><pad><pad><pad><pad><pad><pad><pad><pad><pad><pad><pad><pad><pad><pad><pad><pad><pad><pad><pad><pad><pad><pad><pad><pad><pad><pad><pad><pad><pad><pad><pad><pad><pad><pad><pad><pad><pad><pad><pad><pad><pad><pad><pad><pad><pad><pad><pad><pad><pad><pad><pad><pad><pad><pad><pad><pad><pad><pad><pad><pad><pad><pad><pad><pad><pad><pad><pad><pad><pad><pad><pad><pad><pad><pad><pad><pad><pad><pad><pad><pad><pad><pad><pad><pad><pad><pad><pad><pad><pad><pad><pad><pad><pad><pad><pad><pad><pad><pad><bos><bos><start_of_turn>user\\n'\n",
      " 'Classify the TEXT by selecting all applicable labels from the following '\n",
      " \"list: ['c#', 'java', 'php', 'javascript', 'android', 'jquery', 'c++', \"\n",
      " \"'python', 'iphone', 'asp.net'].\\n\"\n",
      " '\\n'\n",
      " 'TEXT: change date inside span match user timezone function function '\n",
      " 'get_time_zone_offset         var current_date = new date         return '\n",
      " '-current_date.gettimezoneoffset 60     want jquery code change span class '\n",
      " 'timeago title value value plus number function return example   < span '\n",
      " 'class=\"timeago title=\"7/4/2012 9:28:30 am\">7/4/2012 9:28:30 am</span >     < '\n",
      " 'span class=\"timeago title=\"7/4/2012 12:28:30 pm\">7/4/2012 12:28:30 pm</span '\n",
      " '><end_of_turn>\\n'\n",
      " '<start_of_turn>model\\n'\n",
      " '[\"javascript\", \"jquery\"]<end_of_turn><pad><pad><pad>')\n"
     ]
    }
   ],
   "source": [
    "from pprint import pprint\n",
    "pprint(valid_inference_results[1]['generated_output'])"
   ]
  },
  {
   "cell_type": "code",
   "execution_count": 83,
   "id": "b7945944",
   "metadata": {
    "colab": {
     "base_uri": "https://localhost:8080/"
    },
    "executionInfo": {
     "elapsed": 28,
     "status": "ok",
     "timestamp": 1745854957965,
     "user": {
      "displayName": "Shaannoor Mann",
      "userId": "02520257695567980696"
     },
     "user_tz": 300
    },
    "id": "b7945944",
    "outputId": "d52f6fa4-3e74-431f-c7fb-b72001ba9f01"
   },
   "outputs": [
    {
     "name": "stdout",
     "output_type": "stream",
     "text": [
      "('<pad><pad><pad><pad><pad><pad><pad><pad><pad><pad><pad><pad><pad><pad><pad><pad><pad><pad><pad><pad><pad><pad><pad><pad><pad><pad><pad><pad><pad><pad><pad><pad><pad><pad><pad><pad><pad><pad><pad><pad><pad><pad><pad><pad><pad><pad><pad><pad><pad><pad><pad><pad><pad><pad><pad><pad><pad><pad><pad><pad><pad><pad><pad><pad><pad><pad><pad><pad><pad><pad><pad><pad><pad><pad><pad><pad><pad><pad><pad><pad><pad><pad><pad><pad><pad><pad><pad><pad><pad><pad><pad><pad><pad><pad><pad><pad><pad><pad><pad><pad><pad><pad><pad><pad><pad><pad><pad><pad><pad><pad><pad><pad><pad><pad><pad><pad><pad><pad><pad><pad><pad><pad><pad><pad><pad><pad><pad><pad><pad><pad><pad><pad><pad><pad><pad><pad><pad><pad><pad><pad><pad><pad><pad><pad><pad><pad><pad><pad><pad><pad><pad><pad><pad><pad><pad><pad><pad><pad><pad><pad><pad><pad><pad><pad><pad><pad><pad><pad><pad><pad><pad><pad><pad><pad><pad><pad><pad><pad><pad><pad><pad><pad><pad><pad><pad><pad><pad><pad><pad><pad><pad><pad><pad><pad><pad><pad><pad><pad><pad><pad><pad><pad><pad><pad><pad><pad><pad><pad><pad><pad><pad><pad><pad><pad><pad><pad><pad><pad><pad><pad><pad><pad><pad><pad><pad><pad><pad><pad><pad><pad><pad><pad><pad><pad><pad><pad><pad><pad><pad><pad><pad><pad><pad><pad><pad><pad><pad><pad><pad><pad><pad><pad><pad><pad><pad><pad><pad><pad><pad><pad><pad><pad><pad><pad><pad><pad><pad><pad><pad><pad><pad><pad><pad><pad><pad><pad><pad><pad><pad><pad><pad><pad><pad><pad><pad><pad><pad><pad><pad><pad><pad><pad><pad><pad><pad><pad><pad><pad><pad><pad><pad><pad><pad><pad><pad><pad><pad><pad><pad><pad><pad><pad><pad><pad><pad><pad><pad><pad><pad><pad><pad><pad><pad><pad><pad><pad><pad><pad><pad><pad><pad><pad><pad><pad><pad><pad><pad><pad><pad><pad><pad><pad><pad><pad><pad><pad><pad><pad><pad><pad><pad><pad><pad><pad><pad><pad><pad><pad><pad><pad><pad><pad><pad><pad><pad><pad><pad><pad><pad><pad><pad><pad><pad><pad><pad><pad><pad><pad><pad><pad><pad><pad><pad><pad><pad><pad><pad><pad><pad><pad><pad><pad><pad><pad><pad><pad><pad><bos><bos><start_of_turn>user\\n'\n",
      " 'Classify the TEXT by selecting all applicable labels from the following '\n",
      " \"list: ['c#', 'java', 'php', 'javascript', 'android', 'jquery', 'c++', \"\n",
      " \"'python', 'iphone', 'asp.net'].\\n\"\n",
      " '\\n'\n",
      " 'TEXT: android get instal application default method default method perform '\n",
      " 'backup process tell know thank advance<end_of_turn>\\n'\n",
      " '<start_of_turn>model\\n'\n",
      " '[\"java\", \"android\"]<end_of_turn><pad><pad><pad>')\n"
     ]
    }
   ],
   "source": [
    "pprint(valid_inference_results[2]['generated_output'])"
   ]
  },
  {
   "cell_type": "code",
   "execution_count": 84,
   "id": "874084d8",
   "metadata": {
    "executionInfo": {
     "elapsed": 6,
     "status": "ok",
     "timestamp": 1745854960659,
     "user": {
      "displayName": "Shaannoor Mann",
      "userId": "02520257695567980696"
     },
     "user_tz": 300
    },
    "id": "874084d8"
   },
   "outputs": [],
   "source": [
    "output_delimiter = \"<start_of_turn>model\\n\"\n",
    "def extract_content(generated_output: str, output_delimiter: str) -> str:\n",
    "    \"\"\"\n",
    "    Extract content after delimiter from a generated output string.\n",
    "\n",
    "    Args:\n",
    "        generated_output: String containing the complete model generation\n",
    "        output_delimiter: Delimiter to extract content after\n",
    "\n",
    "    Returns:\n",
    "        Extracted content as string, or None if delimiter not found\n",
    "    \"\"\"\n",
    "    pattern = f'{re.escape(output_delimiter.strip())}\\\\s*(.*?)<end_of_turn>'\n",
    "    match = re.search(pattern, generated_output, re.DOTALL)\n",
    "    return match.group(1).strip() if match else None"
   ]
  },
  {
   "cell_type": "code",
   "execution_count": 85,
   "id": "9905e428",
   "metadata": {
    "executionInfo": {
     "elapsed": 27,
     "status": "ok",
     "timestamp": 1745854962176,
     "user": {
      "displayName": "Shaannoor Mann",
      "userId": "02520257695567980696"
     },
     "user_tz": 300
    },
    "id": "9905e428"
   },
   "outputs": [],
   "source": [
    "valid_extracted_outputs = [\n",
    "    extract_content(result['generated_output'], output_delimiter)\n",
    "    for result in valid_inference_results\n",
    "]"
   ]
  },
  {
   "cell_type": "code",
   "execution_count": 86,
   "id": "947ee168",
   "metadata": {
    "colab": {
     "base_uri": "https://localhost:8080/",
     "height": 35
    },
    "executionInfo": {
     "elapsed": 19,
     "status": "ok",
     "timestamp": 1745854963203,
     "user": {
      "displayName": "Shaannoor Mann",
      "userId": "02520257695567980696"
     },
     "user_tz": 300
    },
    "id": "947ee168",
    "outputId": "d74c3045-7903-4524-ed0d-3333a25d32ed"
   },
   "outputs": [
    {
     "data": {
      "application/vnd.google.colaboratory.intrinsic+json": {
       "type": "string"
      },
      "text/plain": [
       "'[\"javascript\", \"jquery\"]'"
      ]
     },
     "execution_count": 86,
     "metadata": {},
     "output_type": "execute_result"
    }
   ],
   "source": [
    "valid_extracted_outputs[0]"
   ]
  },
  {
   "cell_type": "code",
   "execution_count": 87,
   "id": "e5ea4ee2",
   "metadata": {
    "colab": {
     "base_uri": "https://localhost:8080/"
    },
    "executionInfo": {
     "elapsed": 24,
     "status": "ok",
     "timestamp": 1745854964175,
     "user": {
      "displayName": "Shaannoor Mann",
      "userId": "02520257695567980696"
     },
     "user_tz": 300
    },
    "id": "e5ea4ee2",
    "outputId": "75ee50ea-fb7c-4698-ec6d-5b75ed70d60b"
   },
   "outputs": [
    {
     "name": "stdout",
     "output_type": "stream",
     "text": [
      "[\"javascript\", \"jquery\"]\n",
      "[\"javascript\", \"jquery\"]\n",
      "[\"java\", \"android\"]\n",
      "[\"java\", \"android\"]\n",
      "[\"c#\", \"javascript\"]\n",
      "[\"javascript\", \"jquery\"]\n",
      "[\"javascript\", \"jquery\"]\n",
      "[\"c#\", \"asp.net\"]\n",
      "[\"java\", \"android\"]\n",
      "[\"javascript\", \"jquery\"]\n",
      "[\"javascript\", \"iphone\"]\n",
      "[\"java\", \"android\"]\n",
      "[\"c#\", \"asp.net\"]\n",
      "[\"javascript\", \"jquery\"]\n",
      "[\"javascript\", \"jquery\"]\n",
      "[\"javascript\", \"jquery\"]\n",
      "[\"java\", \"android\"]\n",
      "[\"javascript\", \"asp.net\"]\n",
      "[\"javascript\", \"jquery\"]\n",
      "[\"java\", \"iphone\"]\n"
     ]
    }
   ],
   "source": [
    "for i in range(20):\n",
    "  print(valid_extracted_outputs[i])"
   ]
  },
  {
   "cell_type": "code",
   "execution_count": 88,
   "id": "e34be94c",
   "metadata": {
    "colab": {
     "base_uri": "https://localhost:8080/"
    },
    "executionInfo": {
     "elapsed": 33,
     "status": "ok",
     "timestamp": 1745854965810,
     "user": {
      "displayName": "Shaannoor Mann",
      "userId": "02520257695567980696"
     },
     "user_tz": 300
    },
    "id": "e34be94c",
    "outputId": "c329fb37-8ceb-469c-f487-b95f680c155d"
   },
   "outputs": [
    {
     "name": "stdout",
     "output_type": "stream",
     "text": [
      "[\"javascript\", \"jquery\"]\n",
      "[\"javascript\", \"jquery\"]\n",
      "[\"java\", \"android\"]\n",
      "[\"c#\", \"asp.net\"]\n",
      "[\"c#\", \"javascript\", \"asp.net\"]\n",
      "[\"javascript\", \"jquery\"]\n",
      "[\"javascript\", \"jquery\"]\n",
      "[\"c#\", \"asp.net\"]\n",
      "[\"java\", \"android\"]\n",
      "[\"javascript\", \"jquery\"]\n",
      "[\"javascript\", \"iphone\"]\n",
      "[\"java\", \"android\"]\n",
      "[\"c#\", \"asp.net\"]\n",
      "[\"javascript\", \"jquery\"]\n",
      "[\"php\", \"jquery\"]\n",
      "[\"javascript\", \"jquery\"]\n",
      "[\"java\", \"android\"]\n",
      "[\"c#\", \"javascript\", \"asp.net\"]\n",
      "[\"javascript\", \"jquery\"]\n",
      "[\"android\", \"iphone\"]\n"
     ]
    }
   ],
   "source": [
    "for i in range(20):\n",
    "  print(valid_inference_results[i]['ground_truth'])"
   ]
  },
  {
   "cell_type": "code",
   "execution_count": 89,
   "id": "Egnk9EXoo0NG",
   "metadata": {
    "executionInfo": {
     "elapsed": 43,
     "status": "ok",
     "timestamp": 1745854967424,
     "user": {
      "displayName": "Shaannoor Mann",
      "userId": "02520257695567980696"
     },
     "user_tz": 300
    },
    "id": "Egnk9EXoo0NG"
   },
   "outputs": [],
   "source": [
    "def clean_and_split_labels(extracted_output: str, class_names: List[str], cutoff: float = 0.6) -> List[str]:\n",
    "    \"\"\"\n",
    "    Clean and normalize extracted content for multi-label classification.\n",
    "\n",
    "    Args:\n",
    "        extracted_output: String containing extracted labels\n",
    "        class_names: List of valid class names\n",
    "        cutoff: Threshold for fuzzy matching\n",
    "\n",
    "    Returns:\n",
    "        List of cleaned and normalized labels\n",
    "    \"\"\"\n",
    "    from difflib import get_close_matches\n",
    "\n",
    "    # Convert to string if not already\n",
    "    if isinstance(extracted_output, (list, tuple)):\n",
    "        label_set = ' '.join(str(x) for x in extracted_output)\n",
    "    else:\n",
    "        label_set = str(extracted_output)\n",
    "\n",
    "    # Basic cleaning\n",
    "    label_set = label_set.lstrip('=')\n",
    "    # Remove various bracket and quote combinations\n",
    "    label_set = label_set.replace('=[\"', '').replace('[\"', '').replace('\"]', '')\n",
    "    label_set = label_set.replace(\"['\", '').replace(\"']\", '')\n",
    "    label_set = label_set.replace('(\"', '').replace('\")', '')\n",
    "    label_set = label_set.replace('([\"', '').replace('\"])', '')\n",
    "    label_set = label_set.replace('([', '').replace('])', '')\n",
    "    label_set = label_set.replace('[', '').replace(']', '')\n",
    "    label_set = label_set.replace('(', '').replace(')', '')\n",
    "    label_set = label_set.replace('\"', '').replace(\"'\", '')\n",
    "\n",
    "    # Handle multiple types of separators\n",
    "    label_set = ' '.join(label_set.split())  # normalize spaces\n",
    "    raw_labels = label_set.split(',') if ',' in label_set else label_set.split()\n",
    "\n",
    "    # Clean and normalize labels\n",
    "    raw_labels = [label.strip().lower() for label in raw_labels if label.strip()]\n",
    "\n",
    "    # Match to valid classes using fuzzy matching\n",
    "    cleaned_labels = []\n",
    "    for label in raw_labels:\n",
    "        if label in class_names:\n",
    "            cleaned_labels.append(label)\n",
    "        else:\n",
    "            matches = get_close_matches(label, class_names, n=1, cutoff=cutoff)\n",
    "            if matches:\n",
    "                cleaned_labels.append(matches[0])\n",
    "\n",
    "    # Remove duplicates while preserving order\n",
    "    seen = set()\n",
    "    cleaned_labels = [x for x in cleaned_labels if not (x in seen or seen.add(x))]\n",
    "\n",
    "    return cleaned_labels"
   ]
  },
  {
   "cell_type": "code",
   "execution_count": 90,
   "id": "ff21cf45",
   "metadata": {
    "colab": {
     "base_uri": "https://localhost:8080/"
    },
    "executionInfo": {
     "elapsed": 27,
     "status": "ok",
     "timestamp": 1745854969865,
     "user": {
      "displayName": "Shaannoor Mann",
      "userId": "02520257695567980696"
     },
     "user_tz": 300
    },
    "id": "ff21cf45",
    "outputId": "e3a2b1af-a7bd-4f2c-eaad-bbd7b0490ceb"
   },
   "outputs": [
    {
     "name": "stdout",
     "output_type": "stream",
     "text": [
      "Sample of true labels: [['javascript', 'jquery'], ['javascript', 'jquery'], ['java', 'android'], ['c#', 'asp.net'], ['c#', 'javascript', 'asp.net']]\n",
      "Sample of predictions: [['javascript', 'jquery'], ['javascript', 'jquery'], ['java', 'android'], ['java', 'android'], ['c#', 'javascript']]\n",
      "\n",
      "Binary format:\n",
      "Labels shape: (1960, 10)\n",
      "Predictions shape: (1960, 10)\n"
     ]
    }
   ],
   "source": [
    "# Clean and convert predictions and ground truth\n",
    "valid_predictions = [\n",
    "    clean_and_split_labels(extracted_output, class_names)\n",
    "    for extracted_output in valid_extracted_outputs\n",
    "]\n",
    "\n",
    "valid_labels = [\n",
    "    clean_and_split_labels(result['ground_truth'], class_names)\n",
    "    for result in valid_inference_results\n",
    "]\n",
    "\n",
    "# Initialize MultiLabelBinarizer with known classes\n",
    "mlb = MultiLabelBinarizer(classes=class_names)\n",
    "mlb.fit(class_names)  # Fit with all possible classes\n",
    "\n",
    "# Transform the data\n",
    "valid_labels_binary = mlb.transform(valid_labels)\n",
    "valid_predictions_binary = mlb.transform(valid_predictions)\n",
    "\n",
    "# Print samples and shapes\n",
    "print(\"Sample of true labels:\", valid_labels[:5])\n",
    "print(\"Sample of predictions:\", valid_predictions[:5])\n",
    "print(\"\\nBinary format:\")\n",
    "print(\"Labels shape:\", valid_labels_binary.shape)\n",
    "print(\"Predictions shape:\", valid_predictions_binary.shape)"
   ]
  },
  {
   "cell_type": "code",
   "execution_count": 91,
   "id": "b4f71dea",
   "metadata": {
    "colab": {
     "base_uri": "https://localhost:8080/",
     "height": 81,
     "referenced_widgets": [
      "f4b9ebf8bda8458dac9f3c590a3a0929",
      "bca304c2bb3240a1a3d1609be6db675c",
      "3f3899faea164fc8b29ed4e6b0fce36f",
      "ee228cb874b74d56a87c08dd369391f4",
      "698e3e78803f43ecbeee1627f273e2f4",
      "e09646745f5f48bd912e94f9e3315493",
      "c27bc89c598b483cb4b42795435d6e7a",
      "864c691101424627bb0006077af05a3a",
      "d32a3c9c727949b48daea1ccafbee8b6",
      "77c8d1ddc8964d27bab46b27c3617221",
      "d51c3bb5bed247f99d33ebad16237c94",
      "0206247abb934612b7f699a618a0bc8c",
      "3412f6ad346b43c19612c60ed3b0365f",
      "b409a88a4e994c338b9ed462911d15c6",
      "f6041d92ec434b3797211e35e1f782c8",
      "f939f036b743457f968948d2fbffe3da",
      "dc11242609fe40758455de7ea1764a06",
      "2b15203b991545c8b86543b98c0b688f",
      "ef20cc645f81423589779f6eaf5a6a07",
      "bd8169d622f247f5ad78838a7cc0f6d1",
      "f131e8fa17de4223bb0f14dc1fa3e620",
      "ae891f0547c54995957e5cdf4ebb741a"
     ]
    },
    "executionInfo": {
     "elapsed": 1158,
     "status": "ok",
     "timestamp": 1745854973257,
     "user": {
      "displayName": "Shaannoor Mann",
      "userId": "02520257695567980696"
     },
     "user_tz": 300
    },
    "id": "b4f71dea",
    "outputId": "3752def7-1ab9-4892-bb42-6f9987307019"
   },
   "outputs": [
    {
     "data": {
      "application/vnd.jupyter.widget-view+json": {
       "model_id": "f4b9ebf8bda8458dac9f3c590a3a0929",
       "version_major": 2,
       "version_minor": 0
      },
      "text/plain": [
       "Downloading builder script:   0%|          | 0.00/4.20k [00:00<?, ?B/s]"
      ]
     },
     "metadata": {},
     "output_type": "display_data"
    },
    {
     "data": {
      "application/vnd.jupyter.widget-view+json": {
       "model_id": "0206247abb934612b7f699a618a0bc8c",
       "version_major": 2,
       "version_minor": 0
      },
      "text/plain": [
       "Downloading builder script:   0%|          | 0.00/6.79k [00:00<?, ?B/s]"
      ]
     },
     "metadata": {},
     "output_type": "display_data"
    }
   ],
   "source": [
    "accuracy = evaluate.load('accuracy', 'multilabel')\n",
    "f1 = evaluate.load('f1','multilabel')\n",
    "accuracy_flatten = evaluate.load('accuracy')\n",
    "def compute_metrics( labels, preds):\n",
    "  accuracy_label = accuracy_flatten.compute(predictions=preds.flatten(), references=labels.flatten())\n",
    "  accuracy_all = accuracy.compute(predictions=preds, references=labels)\n",
    "  f1_micro = f1.compute(predictions=preds, references=labels, average='micro')\n",
    "  f1_macro = f1.compute(predictions=preds, references=labels, average='macro')\n",
    "  return {'f1_micro':f1_micro['f1'],\n",
    "          'f1_macro':f1_macro['f1'],\n",
    "          'accuracy_label':accuracy_label['accuracy'],\n",
    "            'accuracy_all':accuracy_all['accuracy']}"
   ]
  },
  {
   "cell_type": "code",
   "execution_count": 92,
   "id": "56db27f8",
   "metadata": {
    "executionInfo": {
     "elapsed": 309,
     "status": "ok",
     "timestamp": 1745854974455,
     "user": {
      "displayName": "Shaannoor Mann",
      "userId": "02520257695567980696"
     },
     "user_tz": 300
    },
    "id": "56db27f8"
   },
   "outputs": [],
   "source": [
    "valid_metrics = compute_metrics(valid_labels_binary , valid_predictions_binary)"
   ]
  },
  {
   "cell_type": "code",
   "execution_count": 94,
   "id": "ff4a2f64",
   "metadata": {
    "colab": {
     "base_uri": "https://localhost:8080/"
    },
    "executionInfo": {
     "elapsed": 38,
     "status": "ok",
     "timestamp": 1745855007897,
     "user": {
      "displayName": "Shaannoor Mann",
      "userId": "02520257695567980696"
     },
     "user_tz": 300
    },
    "id": "ff4a2f64",
    "outputId": "a0ec11c5-6508-4ace-fa4d-59df52aa5a6c"
   },
   "outputs": [
    {
     "data": {
      "text/plain": [
       "{'f1_micro': 0.9032581453634085, 'f1_macro': 0.8147304023086732, 'accuracy_label': 0.9606122448979592, 'accuracy_all': 0.8107142857142857}"
      ]
     },
     "execution_count": 94,
     "metadata": {},
     "output_type": "execute_result"
    }
   ],
   "source": [
    "valid_metrics"
   ]
  },
  {
   "cell_type": "code",
   "execution_count": 95,
   "id": "UlbCZqc3Yh-9",
   "metadata": {
    "executionInfo": {
     "elapsed": 13,
     "status": "ok",
     "timestamp": 1745855008343,
     "user": {
      "displayName": "Shaannoor Mann",
      "userId": "02520257695567980696"
     },
     "user_tz": 300
    },
    "id": "UlbCZqc3Yh-9"
   },
   "outputs": [],
   "source": [
    "wandb.log({\"valid_f1_macro\": valid_metrics[\"f1_macro\"]})"
   ]
  },
  {
   "cell_type": "markdown",
   "id": "ad1672b2",
   "metadata": {
    "id": "ad1672b2"
   },
   "source": [
    "<font color = 'indianred'> *Confusion Matrix*</font>"
   ]
  },
  {
   "cell_type": "code",
   "execution_count": 96,
   "id": "5R6KyoRIaXYt",
   "metadata": {
    "colab": {
     "base_uri": "https://localhost:8080/"
    },
    "executionInfo": {
     "elapsed": 7,
     "status": "ok",
     "timestamp": 1745855009315,
     "user": {
      "displayName": "Shaannoor Mann",
      "userId": "02520257695567980696"
     },
     "user_tz": 300
    },
    "id": "5R6KyoRIaXYt",
    "outputId": "3782326f-d7ed-4684-f5c0-13158c96b861"
   },
   "outputs": [
    {
     "name": "stdout",
     "output_type": "stream",
     "text": [
      "[[[1468   56]\n",
      "  [  68  368]]\n",
      "\n",
      " [[1640    8]\n",
      "  [  24  288]]\n",
      "\n",
      " [[1727   17]\n",
      "  [  48  168]]\n",
      "\n",
      " [[ 712   71]\n",
      "  [ 103 1074]]\n",
      "\n",
      " [[1671    1]\n",
      "  [  22  266]]\n",
      "\n",
      " [[ 855   48]\n",
      "  [  69  988]]\n",
      "\n",
      " [[1924    2]\n",
      "  [  11   23]]\n",
      "\n",
      " [[1936    0]\n",
      "  [   6   18]]\n",
      "\n",
      " [[1901   45]\n",
      "  [   7    7]]\n",
      "\n",
      " [[1390   45]\n",
      "  [ 121  404]]]\n"
     ]
    }
   ],
   "source": [
    "mcm = multilabel_confusion_matrix(valid_labels_binary , valid_predictions_binary)\n",
    "print(mcm)"
   ]
  },
  {
   "cell_type": "code",
   "execution_count": 97,
   "id": "F1zNKkePcyCF",
   "metadata": {
    "executionInfo": {
     "elapsed": 11,
     "status": "ok",
     "timestamp": 1745855010181,
     "user": {
      "displayName": "Shaannoor Mann",
      "userId": "02520257695567980696"
     },
     "user_tz": 300
    },
    "id": "F1zNKkePcyCF"
   },
   "outputs": [],
   "source": [
    "def multilabel_evaluation(y_true, y_pred, class_names=None, figsize=(12, 8)):\n",
    "    \"\"\"\n",
    "    Generate comprehensive evaluation visualizations for multilabel classification results.\n",
    "\n",
    "    Parameters:\n",
    "    -----------\n",
    "    y_true : array-like\n",
    "        True labels (n_samples, n_classes)\n",
    "    y_pred : array-like\n",
    "        Predicted labels (n_samples, n_classes)\n",
    "    class_names : list, optional\n",
    "        List of class names for better visualization\n",
    "    figsize : tuple, optional\n",
    "        Base figure size for plots (width, height)\n",
    "\n",
    "    Returns:\n",
    "    --------\n",
    "    dict\n",
    "        Dictionary containing the computed metrics for each class\n",
    "    \"\"\"\n",
    "    # Validate inputs\n",
    "    y_true = np.array(y_true)\n",
    "    y_pred = np.array(y_pred)\n",
    "\n",
    "    if y_true.shape != y_pred.shape:\n",
    "        raise ValueError(\"y_true and y_pred must have the same shape\")\n",
    "\n",
    "    # Generate class names if not provided\n",
    "    if class_names is None:\n",
    "        class_names = [f'Class {i}' for i in range(y_true.shape[1])]\n",
    "\n",
    "    # Calculate confusion matrices\n",
    "    mcm = multilabel_confusion_matrix(y_true, y_pred)\n",
    "\n",
    "    # 1. Individual Confusion Matrix Heatmaps\n",
    "    n_classes = len(class_names)\n",
    "    n_cols = min(3, n_classes)\n",
    "    n_rows = (n_classes + n_cols - 1) // n_cols\n",
    "\n",
    "    plt.figure(figsize=(figsize[0], figsize[1] * n_rows/2))\n",
    "    for idx, matrix in enumerate(mcm):\n",
    "        plt.subplot(n_rows, n_cols, idx + 1)\n",
    "        sns.heatmap(matrix, annot=True, fmt='g', cmap='Blues',\n",
    "                    xticklabels=['Pred Neg', 'Pred Pos'],\n",
    "                    yticklabels=['True Neg', 'True Pos'])\n",
    "        plt.title(f'{class_names[idx]}')\n",
    "    plt.tight_layout()\n",
    "    plt.show()\n",
    "\n",
    "    # 2. Calculate and plot aggregate metrics\n",
    "    metrics = {\n",
    "        'Precision': precision_score(y_true, y_pred, average=None),\n",
    "        'Recall': recall_score(y_true, y_pred, average=None),\n",
    "        'F1-Score': f1_score(y_true, y_pred, average=None)\n",
    "    }\n",
    "\n",
    "    metrics_df = pd.DataFrame(metrics, index=class_names)\n",
    "\n",
    "    # Metrics Heatmap\n",
    "    plt.figure(figsize=(figsize[0]/1.5, figsize[1]/1.5))\n",
    "    sns.heatmap(metrics_df, annot=True, fmt='.3f', cmap='Blues')\n",
    "    plt.title('Performance Metrics by Class')\n",
    "    plt.tight_layout()\n",
    "    plt.show()\n",
    "\n",
    "    # 3. Metrics Histogram\n",
    "    plt.figure(figsize=(figsize[0], figsize[1]/1.5))\n",
    "    metrics_df.plot(kind='bar', width=0.8)\n",
    "    plt.xlabel('Classes')\n",
    "    plt.ylabel('Score')\n",
    "    plt.title('Precision, Recall, and F1-Score by Class')\n",
    "    plt.legend(bbox_to_anchor=(1.05, 1), loc='upper left')\n",
    "    plt.tight_layout()\n",
    "    plt.show()\n",
    "\n",
    "    # 4. Calculate and return summary statistics\n",
    "    summary_stats = {\n",
    "        'macro_avg': {\n",
    "            'precision': np.mean(metrics['Precision']),\n",
    "            'recall': np.mean(metrics['Recall']),\n",
    "            'f1': np.mean(metrics['F1-Score'])\n",
    "        },\n",
    "        'per_class': metrics_df.to_dict()\n",
    "    }\n",
    "\n",
    "    return summary_stats\n"
   ]
  },
  {
   "cell_type": "code",
   "execution_count": 98,
   "id": "Kw3I8Iohc2Ix",
   "metadata": {
    "colab": {
     "base_uri": "https://localhost:8080/",
     "height": 1000
    },
    "executionInfo": {
     "elapsed": 2846,
     "status": "ok",
     "timestamp": 1745855013375,
     "user": {
      "displayName": "Shaannoor Mann",
      "userId": "02520257695567980696"
     },
     "user_tz": 300
    },
    "id": "Kw3I8Iohc2Ix",
    "outputId": "8b9395f1-c814-4a00-c540-006d2554a5b3"
   },
   "outputs": [
    {
     "data": {
      "image/png": "[encoded data removed]",
      "text/plain": [
       "<Figure size 1200x1600 with 20 Axes>"
      ]
     },
     "metadata": {},
     "output_type": "display_data"
    },
    {
     "data": {
      "image/png": "[encoded data removed]",
      "text/plain": [
       "<Figure size 800x533.333 with 2 Axes>"
      ]
     },
     "metadata": {},
     "output_type": "display_data"
    },
    {
     "data": {
      "text/plain": [
       "<Figure size 1200x533.333 with 0 Axes>"
      ]
     },
     "metadata": {},
     "output_type": "display_data"
    },
    {
     "data": {
      "image/png": "[encoded data removed]",
      "text/plain": [
       "<Figure size 640x480 with 1 Axes>"
      ]
     },
     "metadata": {},
     "output_type": "display_data"
    },
    {
     "data": {
      "text/plain": [
       "{'macro_avg': {'precision': np.float64(0.8591312178540573), 'recall': np.float64(0.8011707194982562), 'f1': np.float64(0.8147304023086732)}, 'per_class': {'Precision': {'c#': 0.8679245283018868, 'java': 0.972972972972973, 'php': 0.9081081081081082, 'javascript': 0.9379912663755459, 'android': 0.9962546816479401, 'jquery': 0.9536679536679536, 'c++': 0.92, 'python': 1.0, 'iphone': 0.1346153846153846, 'asp.net': 0.8997772828507795}, 'Recall': {'c#': 0.8440366972477065, 'java': 0.9230769230769231, 'php': 0.7777777777777778, 'javascript': 0.9124893797790994, 'android': 0.9236111111111112, 'jquery': 0.934720908230842, 'c++': 0.6764705882352942, 'python': 0.75, 'iphone': 0.5, 'asp.net': 0.7695238095238095}, 'F1-Score': {'c#': 0.8558139534883721, 'java': 0.9473684210526315, 'php': 0.8379052369077307, 'javascript': 0.9250645994832042, 'android': 0.9585585585585585, 'jquery': 0.9440993788819876, 'c++': 0.7796610169491526, 'python': 0.8571428571428571, 'iphone': 0.21212121212121213, 'asp.net': 0.8295687885010267}}}"
      ]
     },
     "execution_count": 98,
     "metadata": {},
     "output_type": "execute_result"
    }
   ],
   "source": [
    "multilabel_evaluation(y_true=valid_labels_binary, y_pred=valid_predictions_binary, class_names=class_names, figsize=(12, 8))"
   ]
  },
  {
   "cell_type": "markdown",
   "id": "d013dd3d-bcee-45d8-a371-80daebd910de",
   "metadata": {
    "id": "d013dd3d-bcee-45d8-a371-80daebd910de"
   },
   "source": [
    "#  <font color = 'indianred'> **7. Performance on Test Set** </font>\n",
    "For test set evaluation, we will perfrom following steps:\n",
    "\n"
   ]
  },
  {
   "cell_type": "code",
   "execution_count": 99,
   "id": "BnoI61fhSuFm",
   "metadata": {
    "colab": {
     "base_uri": "https://localhost:8080/"
    },
    "executionInfo": {
     "elapsed": 8,
     "status": "ok",
     "timestamp": 1745855013386,
     "user": {
      "displayName": "Shaannoor Mann",
      "userId": "02520257695567980696"
     },
     "user_tz": 300
    },
    "id": "BnoI61fhSuFm",
    "outputId": "ad8608fb-e347-45dc-fa41-ffa0b8aee2e4"
   },
   "outputs": [
    {
     "data": {
      "text/plain": [
       "Dataset({\n",
       "    features: ['text', 'label'],\n",
       "    num_rows: 2000\n",
       "})"
      ]
     },
     "execution_count": 99,
     "metadata": {},
     "output_type": "execute_result"
    }
   ],
   "source": [
    "test_split"
   ]
  },
  {
   "cell_type": "code",
   "execution_count": 100,
   "id": "EHgML-LgTLi2",
   "metadata": {
    "colab": {
     "base_uri": "https://localhost:8080/",
     "height": 49,
     "referenced_widgets": [
      "17480af9d1cb43049c4fbc3e206a3eb1",
      "f30e12fb125f466ba7b595b08758d49f",
      "2ace1955ee4c4a1eaf236df90f2656bd",
      "60151ced9f294c50b98c7ec85b578ec0",
      "a70805e4e7d34544944b7e8310dc5ba9",
      "59f4607e5c964476b5083c55d6fc76f3",
      "81a2f9179ee24e618e94084ba3e7c787",
      "e3646573cf3b4d3aad7cadd2f7561b6c",
      "80a3ec8b9f2a40d3b64e23f811c5515c",
      "d0711382e27545688727408fef467c00",
      "91ded5d819074de7911e7c57bfb55830"
     ]
    },
    "executionInfo": {
     "elapsed": 800,
     "status": "ok",
     "timestamp": 1745855015514,
     "user": {
      "displayName": "Shaannoor Mann",
      "userId": "02520257695567980696"
     },
     "user_tz": 300
    },
    "id": "EHgML-LgTLi2",
    "outputId": "c982a060-5780-4f80-e27c-d2e70ef6e514"
   },
   "outputs": [
    {
     "data": {
      "application/vnd.jupyter.widget-view+json": {
       "model_id": "17480af9d1cb43049c4fbc3e206a3eb1",
       "version_major": 2,
       "version_minor": 0
      },
      "text/plain": [
       "Map:   0%|          | 0/2000 [00:00<?, ? examples/s]"
      ]
     },
     "metadata": {},
     "output_type": "display_data"
    }
   ],
   "source": [
    "test_split = test_split.map(format_chat_inference)"
   ]
  },
  {
   "cell_type": "code",
   "execution_count": 101,
   "id": "-3frK8qnTZYg",
   "metadata": {
    "colab": {
     "base_uri": "https://localhost:8080/",
     "height": 66,
     "referenced_widgets": [
      "0be7b16e208c4dac847b91c0ed20d5a2",
      "9a6f47778b6f4e118694ca0d2971dce4",
      "f0e37bb2933347d3ac3d4762af57c4c0",
      "1bcb4986147743369ac5e98e8efd2fc1",
      "61c6844b59d946b7b3e393be784210d0",
      "5644e910be2e4aa085966ba88c25fadc",
      "4a7f10d5e9e243158f60402399efb205",
      "7e2e5b1c75454960a78d731e65822bda",
      "466b9d2138ed4f11b430fca752588d1d",
      "1646cac125bd4622a2ae45814ec659f4",
      "8862427226124112af0416d43dc938e9"
     ]
    },
    "executionInfo": {
     "elapsed": 1944,
     "status": "ok",
     "timestamp": 1745855017471,
     "user": {
      "displayName": "Shaannoor Mann",
      "userId": "02520257695567980696"
     },
     "user_tz": 300
    },
    "id": "-3frK8qnTZYg",
    "outputId": "93a5f614-ca1e-474d-815b-81272395ad3a"
   },
   "outputs": [
    {
     "data": {
      "application/vnd.jupyter.widget-view+json": {
       "model_id": "0be7b16e208c4dac847b91c0ed20d5a2",
       "version_major": 2,
       "version_minor": 0
      },
      "text/plain": [
       "Filter:   0%|          | 0/2000 [00:00<?, ? examples/s]"
      ]
     },
     "metadata": {},
     "output_type": "display_data"
    },
    {
     "name": "stdout",
     "output_type": "stream",
     "text": [
      "Train: 2000 -> 1957\n"
     ]
    }
   ],
   "source": [
    "test_filtered = test_split.filter(check_length)\n",
    "\n",
    "print(f\"Train: {len(train_split)} -> {len(test_filtered)}\")\n"
   ]
  },
  {
   "cell_type": "code",
   "execution_count": 102,
   "id": "LAqSL6HeTQyW",
   "metadata": {
    "colab": {
     "base_uri": "https://localhost:8080/"
    },
    "executionInfo": {
     "elapsed": 5,
     "status": "ok",
     "timestamp": 1745855017481,
     "user": {
      "displayName": "Shaannoor Mann",
      "userId": "02520257695567980696"
     },
     "user_tz": 300
    },
    "id": "LAqSL6HeTQyW",
    "outputId": "2e9b10a5-d67c-4f06-8f7a-d3d3c76dc258"
   },
   "outputs": [
    {
     "data": {
      "text/plain": [
       "Dataset({\n",
       "    features: ['text', 'label'],\n",
       "    num_rows: 1957\n",
       "})"
      ]
     },
     "execution_count": 102,
     "metadata": {},
     "output_type": "execute_result"
    }
   ],
   "source": [
    "test_filtered"
   ]
  },
  {
   "cell_type": "code",
   "execution_count": 103,
   "id": "vzXiShVSTpdH",
   "metadata": {
    "colab": {
     "base_uri": "https://localhost:8080/"
    },
    "executionInfo": {
     "elapsed": 2024,
     "status": "ok",
     "timestamp": 1745855019795,
     "user": {
      "displayName": "Shaannoor Mann",
      "userId": "02520257695567980696"
     },
     "user_tz": 300
    },
    "id": "vzXiShVSTpdH",
    "outputId": "dfb2a66a-57ae-42f8-9519-0bbd3a8042e3"
   },
   "outputs": [
    {
     "name": "stdout",
     "output_type": "stream",
     "text": [
      "GPU memory has been freed.\n"
     ]
    }
   ],
   "source": [
    "free_gpu_memory()"
   ]
  },
  {
   "cell_type": "code",
   "execution_count": 104,
   "id": "fqE61RTEqdMw",
   "metadata": {
    "colab": {
     "base_uri": "https://localhost:8080/"
    },
    "executionInfo": {
     "elapsed": 157070,
     "status": "ok",
     "timestamp": 1745855176888,
     "user": {
      "displayName": "Shaannoor Mann",
      "userId": "02520257695567980696"
     },
     "user_tz": 300
    },
    "id": "fqE61RTEqdMw",
    "outputId": "424de924-b18b-4d06-8f8c-939606d9bd6a"
   },
   "outputs": [
    {
     "name": "stderr",
     "output_type": "stream",
     "text": [
      "Generating predictions: 100%|██████████| 49/49 [02:36<00:00,  3.20s/it]"
     ]
    },
    {
     "name": "stdout",
     "output_type": "stream",
     "text": [
      "Saved inference_results to: /content/drive/MyDrive/data/models/gemma_qlora_lmh_inst/test_complete_generations.json\n"
     ]
    },
    {
     "name": "stderr",
     "output_type": "stream",
     "text": [
      "\n"
     ]
    }
   ],
   "source": [
    "test_inference_results = run_inference_instruction(seed = 42,\n",
    "              dataset=test_filtered,\n",
    "              model=model,\n",
    "              tokenizer=tokenizer,\n",
    "              per_device_batch_size=40,\n",
    "              input_field='text',\n",
    "              output_field='label',\n",
    "              save_dir=model_folder,\n",
    "              save_file_name = 'test_complete_generations')"
   ]
  },
  {
   "cell_type": "code",
   "execution_count": 105,
   "id": "e9a9d045",
   "metadata": {
    "executionInfo": {
     "elapsed": 61,
     "status": "ok",
     "timestamp": 1745855176968,
     "user": {
      "displayName": "Shaannoor Mann",
      "userId": "02520257695567980696"
     },
     "user_tz": 300
    },
    "id": "e9a9d045"
   },
   "outputs": [],
   "source": [
    "file_name = model_folder/'test_complete_generations.json'\n",
    "with open(file_name, 'r') as f:\n",
    "    test_inference_results = json.load(f)"
   ]
  },
  {
   "cell_type": "code",
   "execution_count": 106,
   "id": "134e8c06",
   "metadata": {
    "colab": {
     "base_uri": "https://localhost:8080/"
    },
    "executionInfo": {
     "elapsed": 37,
     "status": "ok",
     "timestamp": 1745855177004,
     "user": {
      "displayName": "Shaannoor Mann",
      "userId": "02520257695567980696"
     },
     "user_tz": 300
    },
    "id": "134e8c06",
    "outputId": "48093660-88e5-46ab-a755-ddcfdd3c57ed"
   },
   "outputs": [
    {
     "name": "stdout",
     "output_type": "stream",
     "text": [
      "Sample of true labels: [['java', 'android'], ['c#', 'asp.net'], ['php', 'javascript', 'jquery'], ['c#', 'asp.net'], ['c#', 'javascript', 'jquery', 'asp.net']]\n",
      "Sample of predictions: [['java', 'android'], ['java', 'android'], ['php', 'javascript'], ['c#', 'asp.net'], ['javascript', 'asp.net']]\n",
      "\n",
      "Binary format:\n",
      "Labels shape: (1957, 10)\n",
      "Predictions shape: (1957, 10)\n"
     ]
    }
   ],
   "source": [
    "test_extracted_outputs = [\n",
    "    extract_content(result['generated_output'], output_delimiter)\n",
    "    for result in test_inference_results\n",
    "]\n",
    "\n",
    "# Clean and convert predictions and ground truth\n",
    "test_predictions = [\n",
    "    clean_and_split_labels(extracted_output, class_names)\n",
    "    for extracted_output in test_extracted_outputs\n",
    "]\n",
    "\n",
    "test_labels = [\n",
    "    clean_and_split_labels(result['ground_truth'], class_names)\n",
    "    for result in test_inference_results\n",
    "]\n",
    "\n",
    "# Initialize MultiLabelBinarizer with known classes\n",
    "mlb = MultiLabelBinarizer(classes=class_names)\n",
    "mlb.fit(class_names)  # Fit with all possible classes\n",
    "\n",
    "# Transform the data\n",
    "test_labels_binary = mlb.transform(test_labels)\n",
    "test_predictions_binary = mlb.transform(test_predictions)\n",
    "\n",
    "# Print samples and shapes\n",
    "print(\"Sample of true labels:\", test_labels[:5])\n",
    "print(\"Sample of predictions:\", test_predictions[:5])\n",
    "print(\"\\nBinary format:\")\n",
    "print(\"Labels shape:\", test_labels_binary.shape)\n",
    "print(\"Predictions shape:\", test_predictions_binary.shape)"
   ]
  },
  {
   "cell_type": "code",
   "execution_count": 107,
   "id": "ba8ca503",
   "metadata": {
    "executionInfo": {
     "elapsed": 314,
     "status": "ok",
     "timestamp": 1745855177306,
     "user": {
      "displayName": "Shaannoor Mann",
      "userId": "02520257695567980696"
     },
     "user_tz": 300
    },
    "id": "ba8ca503"
   },
   "outputs": [],
   "source": [
    "test_metrics = compute_metrics(test_labels_binary , test_predictions_binary)"
   ]
  },
  {
   "cell_type": "code",
   "execution_count": 108,
   "id": "eadaa9ff",
   "metadata": {
    "colab": {
     "base_uri": "https://localhost:8080/"
    },
    "executionInfo": {
     "elapsed": 13,
     "status": "ok",
     "timestamp": 1745855177337,
     "user": {
      "displayName": "Shaannoor Mann",
      "userId": "02520257695567980696"
     },
     "user_tz": 300
    },
    "id": "eadaa9ff",
    "outputId": "6838765c-12e2-4d36-9940-407e8c8ec08f"
   },
   "outputs": [
    {
     "data": {
      "text/plain": [
       "{'f1_micro': 0.8967336683417085, 'f1_macro': 0.7948524131171723, 'accuracy_label': 0.9579969340827797, 'accuracy_all': 0.8048032703117016}"
      ]
     },
     "execution_count": 108,
     "metadata": {},
     "output_type": "execute_result"
    }
   ],
   "source": [
    "test_metrics"
   ]
  },
  {
   "cell_type": "code",
   "execution_count": 109,
   "id": "e864f35b",
   "metadata": {
    "executionInfo": {
     "elapsed": 2,
     "status": "ok",
     "timestamp": 1745855177341,
     "user": {
      "displayName": "Shaannoor Mann",
      "userId": "02520257695567980696"
     },
     "user_tz": 300
    },
    "id": "e864f35b"
   },
   "outputs": [],
   "source": [
    "wandb.log({\"test_f1_macro\": test_metrics[\"f1_macro\"]})"
   ]
  },
  {
   "cell_type": "markdown",
   "id": "374523dc",
   "metadata": {
    "id": "374523dc"
   },
   "source": [
    "<font color = 'indianred'> *Confusion Matrix*</font>\n"
   ]
  },
  {
   "cell_type": "code",
   "execution_count": 110,
   "id": "700d48f8",
   "metadata": {
    "colab": {
     "base_uri": "https://localhost:8080/",
     "height": 1000
    },
    "executionInfo": {
     "elapsed": 2692,
     "status": "ok",
     "timestamp": 1745855180037,
     "user": {
      "displayName": "Shaannoor Mann",
      "userId": "02520257695567980696"
     },
     "user_tz": 300
    },
    "id": "700d48f8",
    "outputId": "bef520cd-c67d-4703-b334-160c628da16d"
   },
   "outputs": [
    {
     "data": {
      "image/png": "[encoded data removed]",
      "text/plain": [
       "<Figure size 1200x1600 with 20 Axes>"
      ]
     },
     "metadata": {},
     "output_type": "display_data"
    },
    {
     "data": {
      "image/png": "[encoded data removed]",
      "text/plain": [
       "<Figure size 800x533.333 with 2 Axes>"
      ]
     },
     "metadata": {},
     "output_type": "display_data"
    },
    {
     "data": {
      "text/plain": [
       "<Figure size 1200x533.333 with 0 Axes>"
      ]
     },
     "metadata": {},
     "output_type": "display_data"
    },
    {
     "data": {
      "image/png": "[encoded data removed]",
      "text/plain": [
       "<Figure size 640x480 with 1 Axes>"
      ]
     },
     "metadata": {},
     "output_type": "display_data"
    },
    {
     "data": {
      "text/plain": [
       "{'macro_avg': {'precision': np.float64(0.8480396306432368), 'recall': np.float64(0.7604883115354445), 'f1': np.float64(0.7948524131171723)}, 'per_class': {'Precision': {'c#': 0.865934065934066, 'java': 0.9528301886792453, 'php': 0.8813559322033898, 'javascript': 0.9271402550091075, 'android': 0.9653979238754326, 'jquery': 0.9582089552238806, 'c++': 1.0, 'python': 1.0, 'iphone': 0.020833333333333332, 'asp.net': 0.908695652173913}, 'Recall': {'c#': 0.8546637744034707, 'java': 0.9209726443768997, 'php': 0.7058823529411765, 'javascript': 0.9097408400357462, 'android': 0.9393939393939394, 'jquery': 0.9215311004784689, 'c++': 0.6428571428571429, 'python': 0.8260869565217391, 'iphone': 0.1111111111111111, 'asp.net': 0.7726432532347505}, 'F1-Score': {'c#': 0.8602620087336245, 'java': 0.9366306027820711, 'php': 0.7839195979899497, 'javascript': 0.9183581416328371, 'android': 0.9522184300341296, 'jquery': 0.9395121951219512, 'c++': 0.782608695652174, 'python': 0.9047619047619048, 'iphone': 0.03508771929824561, 'asp.net': 0.8351648351648352}}}"
      ]
     },
     "execution_count": 110,
     "metadata": {},
     "output_type": "execute_result"
    }
   ],
   "source": [
    "multilabel_evaluation(y_true=test_labels_binary, y_pred=test_predictions_binary, class_names=class_names, figsize=(12, 8))"
   ]
  },
  {
   "cell_type": "code",
   "execution_count": 111,
   "id": "0e1da618",
   "metadata": {
    "colab": {
     "base_uri": "https://localhost:8080/",
     "height": 1000
    },
    "executionInfo": {
     "elapsed": 409,
     "status": "ok",
     "timestamp": 1745855180447,
     "user": {
      "displayName": "Shaannoor Mann",
      "userId": "02520257695567980696"
     },
     "user_tz": 300
    },
    "id": "0e1da618",
    "outputId": "96260628-b6fa-4412-d0f7-daec2d27467b"
   },
   "outputs": [
    {
     "data": {
      "text/html": [],
      "text/plain": [
       "<IPython.core.display.HTML object>"
      ]
     },
     "metadata": {},
     "output_type": "display_data"
    },
    {
     "data": {
      "text/html": [
       "<br>    <style><br>        .wandb-row {<br>            display: flex;<br>            flex-direction: row;<br>            flex-wrap: wrap;<br>            justify-content: flex-start;<br>            width: 100%;<br>        }<br>        .wandb-col {<br>            display: flex;<br>            flex-direction: column;<br>            flex-basis: 100%;<br>            flex: 1;<br>            padding: 10px;<br>        }<br>    </style><br><div class=\"wandb-row\"><div class=\"wandb-col\"><h3>Run history:</h3><br/><table class=\"wandb\"><tr><td>eval/loss</td><td>█▅▂▂▁▁</td></tr><tr><td>eval/mean_token_accuracy</td><td>▁▄▆▇▇█</td></tr><tr><td>eval/num_tokens</td><td>▁▂▄▅▇█</td></tr><tr><td>eval/runtime</td><td>▇▁▃▄██</td></tr><tr><td>eval/samples_per_second</td><td>▂█▆▅▁▁</td></tr><tr><td>eval/steps_per_second</td><td>▂█▆▄▁▁</td></tr><tr><td>test_f1_macro</td><td>▁</td></tr><tr><td>train/epoch</td><td>▁▁▂▂▄▄▅▅▆▆███</td></tr><tr><td>train/global_step</td><td>▁▁▂▂▄▄▅▅▆▆█████</td></tr><tr><td>train/grad_norm</td><td>▄▃▄▁█▄</td></tr><tr><td>train/learning_rate</td><td>█▇▅▄▂▁</td></tr><tr><td>train/loss</td><td>█▂▁▁▁▁</td></tr><tr><td>train/mean_token_accuracy</td><td>▁</td></tr><tr><td>train/num_tokens</td><td>▁</td></tr><tr><td>valid_f1_macro</td><td>▁</td></tr></table><br/></div><div class=\"wandb-col\"><h3>Run summary:</h3><br/><table class=\"wandb\"><tr><td>eval/loss</td><td>0.07579</td></tr><tr><td>eval/mean_token_accuracy</td><td>0.97542</td></tr><tr><td>eval/num_tokens</td><td>791075</td></tr><tr><td>eval/runtime</td><td>77.4184</td></tr><tr><td>eval/samples_per_second</td><td>25.304</td></tr><tr><td>eval/steps_per_second</td><td>6.329</td></tr><tr><td>test_f1_macro</td><td>0.79485</td></tr><tr><td>total_flos</td><td>1.842981211291853e+16</td></tr><tr><td>train/epoch</td><td>1.9816</td></tr><tr><td>train/global_step</td><td>122</td></tr><tr><td>train/grad_norm</td><td>2.52155</td></tr><tr><td>train/learning_rate</td><td>0.0</td></tr><tr><td>train/loss</td><td>0.0623</td></tr><tr><td>train/mean_token_accuracy</td><td>0.96247</td></tr><tr><td>train/num_tokens</td><td>803468</td></tr><tr><td>train_loss</td><td>0.15851</td></tr><tr><td>train_runtime</td><td>1126.4014</td></tr><tr><td>train_samples_per_second</td><td>3.468</td></tr><tr><td>train_steps_per_second</td><td>0.108</td></tr><tr><td>valid_f1_macro</td><td>0.81473</td></tr></table><br/></div></div>"
      ],
      "text/plain": [
       "<IPython.core.display.HTML object>"
      ]
     },
     "metadata": {},
     "output_type": "display_data"
    },
    {
     "data": {
      "text/html": [
       " View run <strong style=\"color:#cdcd00\">stack_exp_lmh_gemma_inst</strong> at: <a href='https://wandb.ai/hsingh-utd/multilabel_stack/runs/ldnd0ar2' target=\"_blank\">https://wandb.ai/hsingh-utd/multilabel_stack/runs/ldnd0ar2</a><br> View project at: <a href='https://wandb.ai/hsingh-utd/multilabel_stack' target=\"_blank\">https://wandb.ai/hsingh-utd/multilabel_stack</a><br>Synced 5 W&B file(s), 0 media file(s), 0 artifact file(s) and 0 other file(s)"
      ],
      "text/plain": [
       "<IPython.core.display.HTML object>"
      ]
     },
     "metadata": {},
     "output_type": "display_data"
    },
    {
     "data": {
      "text/html": [
       "Find logs at: <code>./wandb/run-20250428_151414-ldnd0ar2/logs</code>"
      ],
      "text/plain": [
       "<IPython.core.display.HTML object>"
      ]
     },
     "metadata": {},
     "output_type": "display_data"
    }
   ],
   "source": [
    "wandb.finish()"
   ]
  },
  {
   "cell_type": "markdown",
   "id": "VJ1Ni-HIgjoD",
   "metadata": {
    "id": "VJ1Ni-HIgjoD"
   },
   "source": [
    "# <Font color = 'indianred'> **8. Model Inference**\n",
    "\n"
   ]
  },
  {
   "cell_type": "code",
   "execution_count": 112,
   "id": "day1S_YSlMMZ",
   "metadata": {
    "colab": {
     "base_uri": "https://localhost:8080/",
     "height": 49,
     "referenced_widgets": [
      "e841d92e224340b1a03f7a8fd0edfcc6",
      "3f2c9cbd9ac943c09636c7e56f860989",
      "28ddeb9ab2c74ed5a4902440471cceb7",
      "6712055e0cc94a93865ee4d46c59d213",
      "9446f997cb0b4e58b8862c3036722ca1",
      "86a09c75549f448b89cebb12ac05272d",
      "82a5863d4f3d4aa2801444d800fcab4c",
      "3484a58c697f49c2af7133861eaff03a",
      "1a41a1da7a584bf887a21d4e242fe587",
      "7d96154c51e64db9b7efb2a2ae511fe5",
      "de93dced70594c358748a0b87713bd23"
     ]
    },
    "executionInfo": {
     "elapsed": 11176,
     "status": "ok",
     "timestamp": 1745855238626,
     "user": {
      "displayName": "Shaannoor Mann",
      "userId": "02520257695567980696"
     },
     "user_tz": 300
    },
    "id": "day1S_YSlMMZ",
    "outputId": "b311e478-ad84-4cc4-ac98-86d84e58cff1"
   },
   "outputs": [
    {
     "data": {
      "application/vnd.jupyter.widget-view+json": {
       "model_id": "e841d92e224340b1a03f7a8fd0edfcc6",
       "version_major": 2,
       "version_minor": 0
      },
      "text/plain": [
       "Loading checkpoint shards:   0%|          | 0/2 [00:00<?, ?it/s]"
      ]
     },
     "metadata": {},
     "output_type": "display_data"
    }
   ],
   "source": [
    "model_folder = base_folder/'models/gemma_qlora_lmh_inst'\n",
    "checkpoint = str(model_folder/f'checkpoint-{best_model_checkpoint_step}')\n",
    "model = AutoPeftModelForCausalLM.from_pretrained(checkpoint,\n",
    "                                             quantization_config=bnb_config,\n",
    "                                             torch_dtype=torch_data_type,\n",
    "                                             trust_remote_code=True,\n",
    "                                             device_map='auto')\n",
    "peft_config = PeftConfig.from_pretrained(checkpoint)\n",
    "base_model_name = peft_config.base_model_name_or_path\n",
    "tokenizer = AutoTokenizer.from_pretrained(base_model_name)"
   ]
  },
  {
   "cell_type": "code",
   "execution_count": 113,
   "id": "c18c7146",
   "metadata": {
    "colab": {
     "base_uri": "https://localhost:8080/"
    },
    "executionInfo": {
     "elapsed": 1921,
     "status": "ok",
     "timestamp": 1745855240565,
     "user": {
      "displayName": "Shaannoor Mann",
      "userId": "02520257695567980696"
     },
     "user_tz": 300
    },
    "id": "c18c7146",
    "outputId": "155a2c68-cf9d-4b82-ed48-22fbd812e8a5"
   },
   "outputs": [
    {
     "name": "stderr",
     "output_type": "stream",
     "text": [
      "Generating predictions: 100%|██████████| 1/1 [00:01<00:00,  1.97s/it]"
     ]
    },
    {
     "name": "stdout",
     "output_type": "stream",
     "text": [
      "Saved inference_results to: /content/drive/MyDrive/data/models/gemma_qlora_lmh_inst/test_complete_generations.json\n"
     ]
    },
    {
     "name": "stderr",
     "output_type": "stream",
     "text": [
      "\n"
     ]
    }
   ],
   "source": [
    "inference_results = run_inference_instruction(seed = 42,\n",
    "              dataset=test_filtered.select(range(10)),\n",
    "              model=model,\n",
    "              tokenizer=tokenizer,\n",
    "              per_device_batch_size=40,\n",
    "              input_field='text',\n",
    "              output_field='label',\n",
    "              save_dir=model_folder,\n",
    "              save_file_name = 'test_complete_generations')"
   ]
  },
  {
   "cell_type": "code",
   "execution_count": 114,
   "id": "UC6xvlHIlMMZ",
   "metadata": {
    "executionInfo": {
     "elapsed": 28,
     "status": "ok",
     "timestamp": 1745855243024,
     "user": {
      "displayName": "Shaannoor Mann",
      "userId": "02520257695567980696"
     },
     "user_tz": 300
    },
    "id": "UC6xvlHIlMMZ"
   },
   "outputs": [],
   "source": [
    "extracted_outputs = [\n",
    "    extract_content(result['generated_output'], output_delimiter)\n",
    "    for result in inference_results\n",
    "]\n",
    "\n",
    "# Clean and convert predictions and ground truth\n",
    "predictions = [\n",
    "    clean_and_split_labels(extracted_output, class_names)\n",
    "    for extracted_output in extracted_outputs\n",
    "\n",
    "]"
   ]
  },
  {
   "cell_type": "code",
   "execution_count": 115,
   "id": "jrFNfsYohaci",
   "metadata": {
    "colab": {
     "base_uri": "https://localhost:8080/"
    },
    "executionInfo": {
     "elapsed": 27,
     "status": "ok",
     "timestamp": 1745855245311,
     "user": {
      "displayName": "Shaannoor Mann",
      "userId": "02520257695567980696"
     },
     "user_tz": 300
    },
    "id": "jrFNfsYohaci",
    "outputId": "b7d50649-4190-4984-997c-65eaeaf27d3c"
   },
   "outputs": [
    {
     "data": {
      "text/plain": [
       "[['java', 'android'], ['java', 'android'], ['php', 'javascript'], ['c#', 'asp.net'], ['javascript', 'asp.net'], ['javascript', 'jquery'], ['javascript', 'jquery'], ['java', 'android'], ['php', 'javascript'], ['c#', 'asp.net']]"
      ]
     },
     "execution_count": 115,
     "metadata": {},
     "output_type": "execute_result"
    }
   ],
   "source": [
    "predictions"
   ]
  }
 ],
 "metadata": {
  "accelerator": "GPU",
  "colab": {
   "gpuType": "A100",
   "machine_shape": "hm",
   "provenance": [],
   "toc_visible": true
  },
  "kernelspec": {
   "display_name": "base",
   "language": "python",
   "name": "python3"
  },
  "language_info": {
   "codemirror_mode": {
    "name": "ipython",
    "version": 3
   },
   "file_extension": ".py",
   "mimetype": "text/x-python",
   "name": "python",
   "nbconvert_exporter": "python",
   "pygments_lexer": "ipython3",
   "version": "3.10.14"
  },
  "widgets": {
   "application/vnd.jupyter.widget-state+json": {
    "00fe9b2080bb4380aef9fde4173da71d": {
     "model_module": "@jupyter-widgets/controls",
     "model_module_version": "1.5.0",
     "model_name": "FloatProgressModel",
     "state": {
      "_dom_classes": [],
      "_model_module": "@jupyter-widgets/controls",
      "_model_module_version": "1.5.0",
      "_model_name": "FloatProgressModel",
      "_view_count": null,
      "_view_module": "@jupyter-widgets/controls",
      "_view_module_version": "1.5.0",
      "_view_name": "ProgressView",
      "bar_style": "success",
      "description": "",
      "description_tooltip": null,
      "layout": "IPY_MODEL_7c16872ddebc42f9ab9d2118177981c5",
      "max": 2000,
      "min": 0,
      "orientation": "horizontal",
      "style": "IPY_MODEL_3c2f1ba3220e4ecdbc8f728e2610d0a4",
      "value": 2000
     }
    },
    "01865d3ebb5a48ee98e6c64fd0a1578d": {
     "model_module": "@jupyter-widgets/base",
     "model_module_version": "1.2.0",
     "model_name": "LayoutModel",
     "state": {
      "_model_module": "@jupyter-widgets/base",
      "_model_module_version": "1.2.0",
      "_model_name": "LayoutModel",
      "_view_count": null,
      "_view_module": "@jupyter-widgets/base",
      "_view_module_version": "1.2.0",
      "_view_name": "LayoutView",
      "align_content": null,
      "align_items": null,
      "align_self": null,
      "border": null,
      "bottom": null,
      "display": null,
      "flex": null,
      "flex_flow": null,
      "grid_area": null,
      "grid_auto_columns": null,
      "grid_auto_flow": null,
      "grid_auto_rows": null,
      "grid_column": null,
      "grid_gap": null,
      "grid_row": null,
      "grid_template_areas": null,
      "grid_template_columns": null,
      "grid_template_rows": null,
      "height": null,
      "justify_content": null,
      "justify_items": null,
      "left": null,
      "margin": null,
      "max_height": null,
      "max_width": null,
      "min_height": null,
      "min_width": null,
      "object_fit": null,
      "object_position": null,
      "order": null,
      "overflow": null,
      "overflow_x": null,
      "overflow_y": null,
      "padding": null,
      "right": null,
      "top": null,
      "visibility": null,
      "width": null
     }
    },
    "0206247abb934612b7f699a618a0bc8c": {
     "model_module": "@jupyter-widgets/controls",
     "model_module_version": "1.5.0",
     "model_name": "HBoxModel",
     "state": {
      "_dom_classes": [],
      "_model_module": "@jupyter-widgets/controls",
      "_model_module_version": "1.5.0",
      "_model_name": "HBoxModel",
      "_view_count": null,
      "_view_module": "@jupyter-widgets/controls",
      "_view_module_version": "1.5.0",
      "_view_name": "HBoxView",
      "box_style": "",
      "children": [
       "IPY_MODEL_3412f6ad346b43c19612c60ed3b0365f",
       "IPY_MODEL_b409a88a4e994c338b9ed462911d15c6",
       "IPY_MODEL_f6041d92ec434b3797211e35e1f782c8"
      ],
      "layout": "IPY_MODEL_f939f036b743457f968948d2fbffe3da"
     }
    },
    "043b43937f1d40578db8d877f1680ec5": {
     "model_module": "@jupyter-widgets/controls",
     "model_module_version": "1.5.0",
     "model_name": "FloatProgressModel",
     "state": {
      "_dom_classes": [],
      "_model_module": "@jupyter-widgets/controls",
      "_model_module_version": "1.5.0",
      "_model_name": "FloatProgressModel",
      "_view_count": null,
      "_view_module": "@jupyter-widgets/controls",
      "_view_module_version": "1.5.0",
      "_view_name": "ProgressView",
      "bar_style": "success",
      "description": "",
      "description_tooltip": null,
      "layout": "IPY_MODEL_d6fea1b7ec8341e18e77ec1ef76e70fc",
      "max": 1953,
      "min": 0,
      "orientation": "horizontal",
      "style": "IPY_MODEL_b6330b98df204c3e810da4ac43b457a2",
      "value": 1953
     }
    },
    "0454a58fe2a04011bdd4ae68d3655afe": {
     "model_module": "@jupyter-widgets/base",
     "model_module_version": "1.2.0",
     "model_name": "LayoutModel",
     "state": {
      "_model_module": "@jupyter-widgets/base",
      "_model_module_version": "1.2.0",
      "_model_name": "LayoutModel",
      "_view_count": null,
      "_view_module": "@jupyter-widgets/base",
      "_view_module_version": "1.2.0",
      "_view_name": "LayoutView",
      "align_content": null,
      "align_items": null,
      "align_self": null,
      "border": null,
      "bottom": null,
      "display": null,
      "flex": null,
      "flex_flow": null,
      "grid_area": null,
      "grid_auto_columns": null,
      "grid_auto_flow": null,
      "grid_auto_rows": null,
      "grid_column": null,
      "grid_gap": null,
      "grid_row": null,
      "grid_template_areas": null,
      "grid_template_columns": null,
      "grid_template_rows": null,
      "height": null,
      "justify_content": null,
      "justify_items": null,
      "left": null,
      "margin": null,
      "max_height": null,
      "max_width": null,
      "min_height": null,
      "min_width": null,
      "object_fit": null,
      "object_position": null,
      "order": null,
      "overflow": null,
      "overflow_x": null,
      "overflow_y": null,
      "padding": null,
      "right": null,
      "top": null,
      "visibility": null,
      "width": null
     }
    },
    "04c3c1e300b84171b3644ae088443612": {
     "model_module": "@jupyter-widgets/controls",
     "model_module_version": "1.5.0",
     "model_name": "HTMLModel",
     "state": {
      "_dom_classes": [],
      "_model_module": "@jupyter-widgets/controls",
      "_model_module_version": "1.5.0",
      "_model_name": "HTMLModel",
      "_view_count": null,
      "_view_module": "@jupyter-widgets/controls",
      "_view_module_version": "1.5.0",
      "_view_name": "HTMLView",
      "description": "",
      "description_tooltip": null,
      "layout": "IPY_MODEL_ee53696f504942f09d8360da1b4c1f5a",
      "placeholder": "​",
      "style": "IPY_MODEL_418a71322bba424ebf71922713077a53",
      "value": "Map: 100%"
     }
    },
    "053c82b8748644ee9b43d4a55d5c4be1": {
     "model_module": "@jupyter-widgets/controls",
     "model_module_version": "1.5.0",
     "model_name": "HBoxModel",
     "state": {
      "_dom_classes": [],
      "_model_module": "@jupyter-widgets/controls",
      "_model_module_version": "1.5.0",
      "_model_name": "HBoxModel",
      "_view_count": null,
      "_view_module": "@jupyter-widgets/controls",
      "_view_module_version": "1.5.0",
      "_view_name": "HBoxView",
      "box_style": "",
      "children": [
       "IPY_MODEL_5e58f6d12c2c4a63b2c55d415e5b2a87",
       "IPY_MODEL_922e43bddeae44f2bdad9df2aa2634ed",
       "IPY_MODEL_de4f7f69384143c389cf4589edc97f50"
      ],
      "layout": "IPY_MODEL_e61c90b226754b49a29b11ae3e8119c5"
     }
    },
    "061a026699ca47118a88e0e360830725": {
     "model_module": "@jupyter-widgets/controls",
     "model_module_version": "1.5.0",
     "model_name": "HBoxModel",
     "state": {
      "_dom_classes": [],
      "_model_module": "@jupyter-widgets/controls",
      "_model_module_version": "1.5.0",
      "_model_name": "HBoxModel",
      "_view_count": null,
      "_view_module": "@jupyter-widgets/controls",
      "_view_module_version": "1.5.0",
      "_view_name": "HBoxView",
      "box_style": "",
      "children": [
       "IPY_MODEL_445633d354a14c328efc88940f794fdb",
       "IPY_MODEL_a34cd51c35a345e1a3e59c274eb0f5c0",
       "IPY_MODEL_4e120c882aa04f5eaeac07caa9107c53"
      ],
      "layout": "IPY_MODEL_92fe5e128e904a03ac01f3585544ae13"
     }
    },
    "062cd10c6afa4dff819032dc6ffaf194": {
     "model_module": "@jupyter-widgets/base",
     "model_module_version": "1.2.0",
     "model_name": "LayoutModel",
     "state": {
      "_model_module": "@jupyter-widgets/base",
      "_model_module_version": "1.2.0",
      "_model_name": "LayoutModel",
      "_view_count": null,
      "_view_module": "@jupyter-widgets/base",
      "_view_module_version": "1.2.0",
      "_view_name": "LayoutView",
      "align_content": null,
      "align_items": null,
      "align_self": null,
      "border": null,
      "bottom": null,
      "display": null,
      "flex": null,
      "flex_flow": null,
      "grid_area": null,
      "grid_auto_columns": null,
      "grid_auto_flow": null,
      "grid_auto_rows": null,
      "grid_column": null,
      "grid_gap": null,
      "grid_row": null,
      "grid_template_areas": null,
      "grid_template_columns": null,
      "grid_template_rows": null,
      "height": null,
      "justify_content": null,
      "justify_items": null,
      "left": null,
      "margin": null,
      "max_height": null,
      "max_width": null,
      "min_height": null,
      "min_width": null,
      "object_fit": null,
      "object_position": null,
      "order": null,
      "overflow": null,
      "overflow_x": null,
      "overflow_y": null,
      "padding": null,
      "right": null,
      "top": null,
      "visibility": null,
      "width": null
     }
    },
    "064467d5443e4422b05a340f655e1ec9": {
     "model_module": "@jupyter-widgets/base",
     "model_module_version": "1.2.0",
     "model_name": "LayoutModel",
     "state": {
      "_model_module": "@jupyter-widgets/base",
      "_model_module_version": "1.2.0",
      "_model_name": "LayoutModel",
      "_view_count": null,
      "_view_module": "@jupyter-widgets/base",
      "_view_module_version": "1.2.0",
      "_view_name": "LayoutView",
      "align_content": null,
      "align_items": null,
      "align_self": null,
      "border": null,
      "bottom": null,
      "display": null,
      "flex": null,
      "flex_flow": null,
      "grid_area": null,
      "grid_auto_columns": null,
      "grid_auto_flow": null,
      "grid_auto_rows": null,
      "grid_column": null,
      "grid_gap": null,
      "grid_row": null,
      "grid_template_areas": null,
      "grid_template_columns": null,
      "grid_template_rows": null,
      "height": null,
      "justify_content": null,
      "justify_items": null,
      "left": null,
      "margin": null,
      "max_height": null,
      "max_width": null,
      "min_height": null,
      "min_width": null,
      "object_fit": null,
      "object_position": null,
      "order": null,
      "overflow": null,
      "overflow_x": null,
      "overflow_y": null,
      "padding": null,
      "right": null,
      "top": null,
      "visibility": null,
      "width": null
     }
    },
    "066dbc2b707d4268b397d334fb244966": {
     "model_module": "@jupyter-widgets/base",
     "model_module_version": "1.2.0",
     "model_name": "LayoutModel",
     "state": {
      "_model_module": "@jupyter-widgets/base",
      "_model_module_version": "1.2.0",
      "_model_name": "LayoutModel",
      "_view_count": null,
      "_view_module": "@jupyter-widgets/base",
      "_view_module_version": "1.2.0",
      "_view_name": "LayoutView",
      "align_content": null,
      "align_items": null,
      "align_self": null,
      "border": null,
      "bottom": null,
      "display": null,
      "flex": null,
      "flex_flow": null,
      "grid_area": null,
      "grid_auto_columns": null,
      "grid_auto_flow": null,
      "grid_auto_rows": null,
      "grid_column": null,
      "grid_gap": null,
      "grid_row": null,
      "grid_template_areas": null,
      "grid_template_columns": null,
      "grid_template_rows": null,
      "height": null,
      "justify_content": null,
      "justify_items": null,
      "left": null,
      "margin": null,
      "max_height": null,
      "max_width": null,
      "min_height": null,
      "min_width": null,
      "object_fit": null,
      "object_position": null,
      "order": null,
      "overflow": null,
      "overflow_x": null,
      "overflow_y": null,
      "padding": null,
      "right": null,
      "top": null,
      "visibility": null,
      "width": null
     }
    },
    "0be7b16e208c4dac847b91c0ed20d5a2": {
     "model_module": "@jupyter-widgets/controls",
     "model_module_version": "1.5.0",
     "model_name": "HBoxModel",
     "state": {
      "_dom_classes": [],
      "_model_module": "@jupyter-widgets/controls",
      "_model_module_version": "1.5.0",
      "_model_name": "HBoxModel",
      "_view_count": null,
      "_view_module": "@jupyter-widgets/controls",
      "_view_module_version": "1.5.0",
      "_view_name": "HBoxView",
      "box_style": "",
      "children": [
       "IPY_MODEL_9a6f47778b6f4e118694ca0d2971dce4",
       "IPY_MODEL_f0e37bb2933347d3ac3d4762af57c4c0",
       "IPY_MODEL_1bcb4986147743369ac5e98e8efd2fc1"
      ],
      "layout": "IPY_MODEL_61c6844b59d946b7b3e393be784210d0"
     }
    },
    "0d228d649cf44e23819a92682609ec21": {
     "model_module": "@jupyter-widgets/base",
     "model_module_version": "1.2.0",
     "model_name": "LayoutModel",
     "state": {
      "_model_module": "@jupyter-widgets/base",
      "_model_module_version": "1.2.0",
      "_model_name": "LayoutModel",
      "_view_count": null,
      "_view_module": "@jupyter-widgets/base",
      "_view_module_version": "1.2.0",
      "_view_name": "LayoutView",
      "align_content": null,
      "align_items": null,
      "align_self": null,
      "border": null,
      "bottom": null,
      "display": null,
      "flex": null,
      "flex_flow": null,
      "grid_area": null,
      "grid_auto_columns": null,
      "grid_auto_flow": null,
      "grid_auto_rows": null,
      "grid_column": null,
      "grid_gap": null,
      "grid_row": null,
      "grid_template_areas": null,
      "grid_template_columns": null,
      "grid_template_rows": null,
      "height": null,
      "justify_content": null,
      "justify_items": null,
      "left": null,
      "margin": null,
      "max_height": null,
      "max_width": null,
      "min_height": null,
      "min_width": null,
      "object_fit": null,
      "object_position": null,
      "order": null,
      "overflow": null,
      "overflow_x": null,
      "overflow_y": null,
      "padding": null,
      "right": null,
      "top": null,
      "visibility": null,
      "width": null
     }
    },
    "0e872cf4710642bca899bc83f53f4025": {
     "model_module": "@jupyter-widgets/controls",
     "model_module_version": "1.5.0",
     "model_name": "HTMLModel",
     "state": {
      "_dom_classes": [],
      "_model_module": "@jupyter-widgets/controls",
      "_model_module_version": "1.5.0",
      "_model_name": "HTMLModel",
      "_view_count": null,
      "_view_module": "@jupyter-widgets/controls",
      "_view_module_version": "1.5.0",
      "_view_name": "HTMLView",
      "description": "",
      "description_tooltip": null,
      "layout": "IPY_MODEL_776feae4ccb341e58041702940c31818",
      "placeholder": "​",
      "style": "IPY_MODEL_f1150be2dd434039a26b0ce230afd902",
      "value": " 2000/2000 [00:01&lt;00:00, 1488.65 examples/s]"
     }
    },
    "0fd747fd7006458f88cf0fff4d7ff583": {
     "model_module": "@jupyter-widgets/base",
     "model_module_version": "1.2.0",
     "model_name": "LayoutModel",
     "state": {
      "_model_module": "@jupyter-widgets/base",
      "_model_module_version": "1.2.0",
      "_model_name": "LayoutModel",
      "_view_count": null,
      "_view_module": "@jupyter-widgets/base",
      "_view_module_version": "1.2.0",
      "_view_name": "LayoutView",
      "align_content": null,
      "align_items": null,
      "align_self": null,
      "border": null,
      "bottom": null,
      "display": null,
      "flex": null,
      "flex_flow": null,
      "grid_area": null,
      "grid_auto_columns": null,
      "grid_auto_flow": null,
      "grid_auto_rows": null,
      "grid_column": null,
      "grid_gap": null,
      "grid_row": null,
      "grid_template_areas": null,
      "grid_template_columns": null,
      "grid_template_rows": null,
      "height": null,
      "justify_content": null,
      "justify_items": null,
      "left": null,
      "margin": null,
      "max_height": null,
      "max_width": null,
      "min_height": null,
      "min_width": null,
      "object_fit": null,
      "object_position": null,
      "order": null,
      "overflow": null,
      "overflow_x": null,
      "overflow_y": null,
      "padding": null,
      "right": null,
      "top": null,
      "visibility": null,
      "width": null
     }
    },
    "0fdaded74c2147ccb33ed4d14d542127": {
     "model_module": "@jupyter-widgets/base",
     "model_module_version": "1.2.0",
     "model_name": "LayoutModel",
     "state": {
      "_model_module": "@jupyter-widgets/base",
      "_model_module_version": "1.2.0",
      "_model_name": "LayoutModel",
      "_view_count": null,
      "_view_module": "@jupyter-widgets/base",
      "_view_module_version": "1.2.0",
      "_view_name": "LayoutView",
      "align_content": null,
      "align_items": null,
      "align_self": null,
      "border": null,
      "bottom": null,
      "display": null,
      "flex": null,
      "flex_flow": null,
      "grid_area": null,
      "grid_auto_columns": null,
      "grid_auto_flow": null,
      "grid_auto_rows": null,
      "grid_column": null,
      "grid_gap": null,
      "grid_row": null,
      "grid_template_areas": null,
      "grid_template_columns": null,
      "grid_template_rows": null,
      "height": null,
      "justify_content": null,
      "justify_items": null,
      "left": null,
      "margin": null,
      "max_height": null,
      "max_width": null,
      "min_height": null,
      "min_width": null,
      "object_fit": null,
      "object_position": null,
      "order": null,
      "overflow": null,
      "overflow_x": null,
      "overflow_y": null,
      "padding": null,
      "right": null,
      "top": null,
      "visibility": null,
      "width": null
     }
    },
    "10c3a08ff5c24b2faed68a5eaba7ce8c": {
     "model_module": "@jupyter-widgets/controls",
     "model_module_version": "1.5.0",
     "model_name": "FloatProgressModel",
     "state": {
      "_dom_classes": [],
      "_model_module": "@jupyter-widgets/controls",
      "_model_module_version": "1.5.0",
      "_model_name": "FloatProgressModel",
      "_view_count": null,
      "_view_module": "@jupyter-widgets/controls",
      "_view_module_version": "1.5.0",
      "_view_name": "ProgressView",
      "bar_style": "success",
      "description": "",
      "description_tooltip": null,
      "layout": "IPY_MODEL_2c4ebe4ca0c84b9f9679bdfb170e98c6",
      "max": 2,
      "min": 0,
      "orientation": "horizontal",
      "style": "IPY_MODEL_f9e2359ecdac4a85862ede447b4a6346",
      "value": 2
     }
    },
    "117fc37b80d4407ea618aeb1f38f3c36": {
     "model_module": "@jupyter-widgets/base",
     "model_module_version": "1.2.0",
     "model_name": "LayoutModel",
     "state": {
      "_model_module": "@jupyter-widgets/base",
      "_model_module_version": "1.2.0",
      "_model_name": "LayoutModel",
      "_view_count": null,
      "_view_module": "@jupyter-widgets/base",
      "_view_module_version": "1.2.0",
      "_view_name": "LayoutView",
      "align_content": null,
      "align_items": null,
      "align_self": null,
      "border": null,
      "bottom": null,
      "display": null,
      "flex": null,
      "flex_flow": null,
      "grid_area": null,
      "grid_auto_columns": null,
      "grid_auto_flow": null,
      "grid_auto_rows": null,
      "grid_column": null,
      "grid_gap": null,
      "grid_row": null,
      "grid_template_areas": null,
      "grid_template_columns": null,
      "grid_template_rows": null,
      "height": null,
      "justify_content": null,
      "justify_items": null,
      "left": null,
      "margin": null,
      "max_height": null,
      "max_width": null,
      "min_height": null,
      "min_width": null,
      "object_fit": null,
      "object_position": null,
      "order": null,
      "overflow": null,
      "overflow_x": null,
      "overflow_y": null,
      "padding": null,
      "right": null,
      "top": null,
      "visibility": null,
      "width": null
     }
    },
    "129d56d993294aa29e72cb370494e8ba": {
     "model_module": "@jupyter-widgets/base",
     "model_module_version": "1.2.0",
     "model_name": "LayoutModel",
     "state": {
      "_model_module": "@jupyter-widgets/base",
      "_model_module_version": "1.2.0",
      "_model_name": "LayoutModel",
      "_view_count": null,
      "_view_module": "@jupyter-widgets/base",
      "_view_module_version": "1.2.0",
      "_view_name": "LayoutView",
      "align_content": null,
      "align_items": null,
      "align_self": null,
      "border": null,
      "bottom": null,
      "display": null,
      "flex": null,
      "flex_flow": null,
      "grid_area": null,
      "grid_auto_columns": null,
      "grid_auto_flow": null,
      "grid_auto_rows": null,
      "grid_column": null,
      "grid_gap": null,
      "grid_row": null,
      "grid_template_areas": null,
      "grid_template_columns": null,
      "grid_template_rows": null,
      "height": null,
      "justify_content": null,
      "justify_items": null,
      "left": null,
      "margin": null,
      "max_height": null,
      "max_width": null,
      "min_height": null,
      "min_width": null,
      "object_fit": null,
      "object_position": null,
      "order": null,
      "overflow": null,
      "overflow_x": null,
      "overflow_y": null,
      "padding": null,
      "right": null,
      "top": null,
      "visibility": null,
      "width": null
     }
    },
    "1465c6e5196d43c1979426ae71dc3da6": {
     "model_module": "@jupyter-widgets/controls",
     "model_module_version": "1.5.0",
     "model_name": "HTMLModel",
     "state": {
      "_dom_classes": [],
      "_model_module": "@jupyter-widgets/controls",
      "_model_module_version": "1.5.0",
      "_model_name": "HTMLModel",
      "_view_count": null,
      "_view_module": "@jupyter-widgets/controls",
      "_view_module_version": "1.5.0",
      "_view_name": "HTMLView",
      "description": "",
      "description_tooltip": null,
      "layout": "IPY_MODEL_fa389fa6debd40f1a4faa21a6ddd57fc",
      "placeholder": "​",
      "style": "IPY_MODEL_f55a657c695c4377a2008906724fb09a",
      "value": "Truncating train dataset: 100%"
     }
    },
    "1646cac125bd4622a2ae45814ec659f4": {
     "model_module": "@jupyter-widgets/base",
     "model_module_version": "1.2.0",
     "model_name": "LayoutModel",
     "state": {
      "_model_module": "@jupyter-widgets/base",
      "_model_module_version": "1.2.0",
      "_model_name": "LayoutModel",
      "_view_count": null,
      "_view_module": "@jupyter-widgets/base",
      "_view_module_version": "1.2.0",
      "_view_name": "LayoutView",
      "align_content": null,
      "align_items": null,
      "align_self": null,
      "border": null,
      "bottom": null,
      "display": null,
      "flex": null,
      "flex_flow": null,
      "grid_area": null,
      "grid_auto_columns": null,
      "grid_auto_flow": null,
      "grid_auto_rows": null,
      "grid_column": null,
      "grid_gap": null,
      "grid_row": null,
      "grid_template_areas": null,
      "grid_template_columns": null,
      "grid_template_rows": null,
      "height": null,
      "justify_content": null,
      "justify_items": null,
      "left": null,
      "margin": null,
      "max_height": null,
      "max_width": null,
      "min_height": null,
      "min_width": null,
      "object_fit": null,
      "object_position": null,
      "order": null,
      "overflow": null,
      "overflow_x": null,
      "overflow_y": null,
      "padding": null,
      "right": null,
      "top": null,
      "visibility": null,
      "width": null
     }
    },
    "16f3b427f79c45e19c23227f7ab2b6da": {
     "model_module": "@jupyter-widgets/base",
     "model_module_version": "1.2.0",
     "model_name": "LayoutModel",
     "state": {
      "_model_module": "@jupyter-widgets/base",
      "_model_module_version": "1.2.0",
      "_model_name": "LayoutModel",
      "_view_count": null,
      "_view_module": "@jupyter-widgets/base",
      "_view_module_version": "1.2.0",
      "_view_name": "LayoutView",
      "align_content": null,
      "align_items": null,
      "align_self": null,
      "border": null,
      "bottom": null,
      "display": null,
      "flex": null,
      "flex_flow": null,
      "grid_area": null,
      "grid_auto_columns": null,
      "grid_auto_flow": null,
      "grid_auto_rows": null,
      "grid_column": null,
      "grid_gap": null,
      "grid_row": null,
      "grid_template_areas": null,
      "grid_template_columns": null,
      "grid_template_rows": null,
      "height": null,
      "justify_content": null,
      "justify_items": null,
      "left": null,
      "margin": null,
      "max_height": null,
      "max_width": null,
      "min_height": null,
      "min_width": null,
      "object_fit": null,
      "object_position": null,
      "order": null,
      "overflow": null,
      "overflow_x": null,
      "overflow_y": null,
      "padding": null,
      "right": null,
      "top": null,
      "visibility": null,
      "width": null
     }
    },
    "17480af9d1cb43049c4fbc3e206a3eb1": {
     "model_module": "@jupyter-widgets/controls",
     "model_module_version": "1.5.0",
     "model_name": "HBoxModel",
     "state": {
      "_dom_classes": [],
      "_model_module": "@jupyter-widgets/controls",
      "_model_module_version": "1.5.0",
      "_model_name": "HBoxModel",
      "_view_count": null,
      "_view_module": "@jupyter-widgets/controls",
      "_view_module_version": "1.5.0",
      "_view_name": "HBoxView",
      "box_style": "",
      "children": [
       "IPY_MODEL_f30e12fb125f466ba7b595b08758d49f",
       "IPY_MODEL_2ace1955ee4c4a1eaf236df90f2656bd",
       "IPY_MODEL_60151ced9f294c50b98c7ec85b578ec0"
      ],
      "layout": "IPY_MODEL_a70805e4e7d34544944b7e8310dc5ba9"
     }
    },
    "1864ab2a41534be98975be6d14e0a4f4": {
     "model_module": "@jupyter-widgets/controls",
     "model_module_version": "1.5.0",
     "model_name": "HTMLModel",
     "state": {
      "_dom_classes": [],
      "_model_module": "@jupyter-widgets/controls",
      "_model_module_version": "1.5.0",
      "_model_name": "HTMLModel",
      "_view_count": null,
      "_view_module": "@jupyter-widgets/controls",
      "_view_module_version": "1.5.0",
      "_view_name": "HTMLView",
      "description": "",
      "description_tooltip": null,
      "layout": "IPY_MODEL_5022dd5e564c4a7da24498c3ae315329",
      "placeholder": "​",
      "style": "IPY_MODEL_c01e66cd9de24f67b308359b457db42c",
      "value": "Loading checkpoint shards: 100%"
     }
    },
    "1a41a1da7a584bf887a21d4e242fe587": {
     "model_module": "@jupyter-widgets/controls",
     "model_module_version": "1.5.0",
     "model_name": "ProgressStyleModel",
     "state": {
      "_model_module": "@jupyter-widgets/controls",
      "_model_module_version": "1.5.0",
      "_model_name": "ProgressStyleModel",
      "_view_count": null,
      "_view_module": "@jupyter-widgets/base",
      "_view_module_version": "1.2.0",
      "_view_name": "StyleView",
      "bar_color": null,
      "description_width": ""
     }
    },
    "1a6c98f1e0c94b50b668685f8cc759dc": {
     "model_module": "@jupyter-widgets/controls",
     "model_module_version": "1.5.0",
     "model_name": "FloatProgressModel",
     "state": {
      "_dom_classes": [],
      "_model_module": "@jupyter-widgets/controls",
      "_model_module_version": "1.5.0",
      "_model_name": "FloatProgressModel",
      "_view_count": null,
      "_view_module": "@jupyter-widgets/controls",
      "_view_module_version": "1.5.0",
      "_view_name": "ProgressView",
      "bar_style": "success",
      "description": "",
      "description_tooltip": null,
      "layout": "IPY_MODEL_d9aa37bf27bb41c3bed093a2f13df6ef",
      "max": 2000,
      "min": 0,
      "orientation": "horizontal",
      "style": "IPY_MODEL_df17bbcbce2f45859f6a88c4a8ccb94c",
      "value": 2000
     }
    },
    "1bcb4986147743369ac5e98e8efd2fc1": {
     "model_module": "@jupyter-widgets/controls",
     "model_module_version": "1.5.0",
     "model_name": "HTMLModel",
     "state": {
      "_dom_classes": [],
      "_model_module": "@jupyter-widgets/controls",
      "_model_module_version": "1.5.0",
      "_model_name": "HTMLModel",
      "_view_count": null,
      "_view_module": "@jupyter-widgets/controls",
      "_view_module_version": "1.5.0",
      "_view_name": "HTMLView",
      "description": "",
      "description_tooltip": null,
      "layout": "IPY_MODEL_1646cac125bd4622a2ae45814ec659f4",
      "placeholder": "​",
      "style": "IPY_MODEL_8862427226124112af0416d43dc938e9",
      "value": " 2000/2000 [00:01&lt;00:00, 1524.38 examples/s]"
     }
    },
    "1cb35f1401cf446485cb3ac4978b6f1f": {
     "model_module": "@jupyter-widgets/controls",
     "model_module_version": "1.5.0",
     "model_name": "FloatProgressModel",
     "state": {
      "_dom_classes": [],
      "_model_module": "@jupyter-widgets/controls",
      "_model_module_version": "1.5.0",
      "_model_name": "FloatProgressModel",
      "_view_count": null,
      "_view_module": "@jupyter-widgets/controls",
      "_view_module_version": "1.5.0",
      "_view_name": "ProgressView",
      "bar_style": "success",
      "description": "",
      "description_tooltip": null,
      "layout": "IPY_MODEL_287f6d6dc0ac4598b041503b497595e2",
      "max": 2000,
      "min": 0,
      "orientation": "horizontal",
      "style": "IPY_MODEL_acde36380bc24c9f8ca185e6e60d57b8",
      "value": 2000
     }
    },
    "1f135c21d7f24bc8ae9bb43ebf103300": {
     "model_module": "@jupyter-widgets/controls",
     "model_module_version": "1.5.0",
     "model_name": "DescriptionStyleModel",
     "state": {
      "_model_module": "@jupyter-widgets/controls",
      "_model_module_version": "1.5.0",
      "_model_name": "DescriptionStyleModel",
      "_view_count": null,
      "_view_module": "@jupyter-widgets/base",
      "_view_module_version": "1.2.0",
      "_view_name": "StyleView",
      "description_width": ""
     }
    },
    "1f72e363f7c646e1a59236d2008a9754": {
     "model_module": "@jupyter-widgets/base",
     "model_module_version": "1.2.0",
     "model_name": "LayoutModel",
     "state": {
      "_model_module": "@jupyter-widgets/base",
      "_model_module_version": "1.2.0",
      "_model_name": "LayoutModel",
      "_view_count": null,
      "_view_module": "@jupyter-widgets/base",
      "_view_module_version": "1.2.0",
      "_view_name": "LayoutView",
      "align_content": null,
      "align_items": null,
      "align_self": null,
      "border": null,
      "bottom": null,
      "display": null,
      "flex": null,
      "flex_flow": null,
      "grid_area": null,
      "grid_auto_columns": null,
      "grid_auto_flow": null,
      "grid_auto_rows": null,
      "grid_column": null,
      "grid_gap": null,
      "grid_row": null,
      "grid_template_areas": null,
      "grid_template_columns": null,
      "grid_template_rows": null,
      "height": null,
      "justify_content": null,
      "justify_items": null,
      "left": null,
      "margin": null,
      "max_height": null,
      "max_width": null,
      "min_height": null,
      "min_width": null,
      "object_fit": null,
      "object_position": null,
      "order": null,
      "overflow": null,
      "overflow_x": null,
      "overflow_y": null,
      "padding": null,
      "right": null,
      "top": null,
      "visibility": null,
      "width": null
     }
    },
    "208826831204436a8546f97a1daa664e": {
     "model_module": "@jupyter-widgets/controls",
     "model_module_version": "1.5.0",
     "model_name": "HBoxModel",
     "state": {
      "_dom_classes": [],
      "_model_module": "@jupyter-widgets/controls",
      "_model_module_version": "1.5.0",
      "_model_name": "HBoxModel",
      "_view_count": null,
      "_view_module": "@jupyter-widgets/controls",
      "_view_module_version": "1.5.0",
      "_view_name": "HBoxView",
      "box_style": "",
      "children": [
       "IPY_MODEL_1864ab2a41534be98975be6d14e0a4f4",
       "IPY_MODEL_10c3a08ff5c24b2faed68a5eaba7ce8c",
       "IPY_MODEL_c6823d4fc5f145baa8d129ac204d4192"
      ],
      "layout": "IPY_MODEL_50aab03d774e4542aa04fb530323aa6f"
     }
    },
    "217a77dbe8c740aea7ecd08fa3a0c1cb": {
     "model_module": "@jupyter-widgets/base",
     "model_module_version": "1.2.0",
     "model_name": "LayoutModel",
     "state": {
      "_model_module": "@jupyter-widgets/base",
      "_model_module_version": "1.2.0",
      "_model_name": "LayoutModel",
      "_view_count": null,
      "_view_module": "@jupyter-widgets/base",
      "_view_module_version": "1.2.0",
      "_view_name": "LayoutView",
      "align_content": null,
      "align_items": null,
      "align_self": null,
      "border": null,
      "bottom": null,
      "display": null,
      "flex": null,
      "flex_flow": null,
      "grid_area": null,
      "grid_auto_columns": null,
      "grid_auto_flow": null,
      "grid_auto_rows": null,
      "grid_column": null,
      "grid_gap": null,
      "grid_row": null,
      "grid_template_areas": null,
      "grid_template_columns": null,
      "grid_template_rows": null,
      "height": null,
      "justify_content": null,
      "justify_items": null,
      "left": null,
      "margin": null,
      "max_height": null,
      "max_width": null,
      "min_height": null,
      "min_width": null,
      "object_fit": null,
      "object_position": null,
      "order": null,
      "overflow": null,
      "overflow_x": null,
      "overflow_y": null,
      "padding": null,
      "right": null,
      "top": null,
      "visibility": null,
      "width": null
     }
    },
    "25458eaf2eab4ab58eee7cfc300a7b8c": {
     "model_module": "@jupyter-widgets/controls",
     "model_module_version": "1.5.0",
     "model_name": "DescriptionStyleModel",
     "state": {
      "_model_module": "@jupyter-widgets/controls",
      "_model_module_version": "1.5.0",
      "_model_name": "DescriptionStyleModel",
      "_view_count": null,
      "_view_module": "@jupyter-widgets/base",
      "_view_module_version": "1.2.0",
      "_view_name": "StyleView",
      "description_width": ""
     }
    },
    "256736afe86a4e0985283a61145c1878": {
     "model_module": "@jupyter-widgets/controls",
     "model_module_version": "1.5.0",
     "model_name": "ProgressStyleModel",
     "state": {
      "_model_module": "@jupyter-widgets/controls",
      "_model_module_version": "1.5.0",
      "_model_name": "ProgressStyleModel",
      "_view_count": null,
      "_view_module": "@jupyter-widgets/base",
      "_view_module_version": "1.2.0",
      "_view_name": "StyleView",
      "bar_color": null,
      "description_width": ""
     }
    },
    "264b05aaa53e45308d72433c80670425": {
     "model_module": "@jupyter-widgets/base",
     "model_module_version": "1.2.0",
     "model_name": "LayoutModel",
     "state": {
      "_model_module": "@jupyter-widgets/base",
      "_model_module_version": "1.2.0",
      "_model_name": "LayoutModel",
      "_view_count": null,
      "_view_module": "@jupyter-widgets/base",
      "_view_module_version": "1.2.0",
      "_view_name": "LayoutView",
      "align_content": null,
      "align_items": null,
      "align_self": null,
      "border": null,
      "bottom": null,
      "display": null,
      "flex": null,
      "flex_flow": null,
      "grid_area": null,
      "grid_auto_columns": null,
      "grid_auto_flow": null,
      "grid_auto_rows": null,
      "grid_column": null,
      "grid_gap": null,
      "grid_row": null,
      "grid_template_areas": null,
      "grid_template_columns": null,
      "grid_template_rows": null,
      "height": null,
      "justify_content": null,
      "justify_items": null,
      "left": null,
      "margin": null,
      "max_height": null,
      "max_width": null,
      "min_height": null,
      "min_width": null,
      "object_fit": null,
      "object_position": null,
      "order": null,
      "overflow": null,
      "overflow_x": null,
      "overflow_y": null,
      "padding": null,
      "right": null,
      "top": null,
      "visibility": null,
      "width": null
     }
    },
    "287f6d6dc0ac4598b041503b497595e2": {
     "model_module": "@jupyter-widgets/base",
     "model_module_version": "1.2.0",
     "model_name": "LayoutModel",
     "state": {
      "_model_module": "@jupyter-widgets/base",
      "_model_module_version": "1.2.0",
      "_model_name": "LayoutModel",
      "_view_count": null,
      "_view_module": "@jupyter-widgets/base",
      "_view_module_version": "1.2.0",
      "_view_name": "LayoutView",
      "align_content": null,
      "align_items": null,
      "align_self": null,
      "border": null,
      "bottom": null,
      "display": null,
      "flex": null,
      "flex_flow": null,
      "grid_area": null,
      "grid_auto_columns": null,
      "grid_auto_flow": null,
      "grid_auto_rows": null,
      "grid_column": null,
      "grid_gap": null,
      "grid_row": null,
      "grid_template_areas": null,
      "grid_template_columns": null,
      "grid_template_rows": null,
      "height": null,
      "justify_content": null,
      "justify_items": null,
      "left": null,
      "margin": null,
      "max_height": null,
      "max_width": null,
      "min_height": null,
      "min_width": null,
      "object_fit": null,
      "object_position": null,
      "order": null,
      "overflow": null,
      "overflow_x": null,
      "overflow_y": null,
      "padding": null,
      "right": null,
      "top": null,
      "visibility": null,
      "width": null
     }
    },
    "28ddeb9ab2c74ed5a4902440471cceb7": {
     "model_module": "@jupyter-widgets/controls",
     "model_module_version": "1.5.0",
     "model_name": "FloatProgressModel",
     "state": {
      "_dom_classes": [],
      "_model_module": "@jupyter-widgets/controls",
      "_model_module_version": "1.5.0",
      "_model_name": "FloatProgressModel",
      "_view_count": null,
      "_view_module": "@jupyter-widgets/controls",
      "_view_module_version": "1.5.0",
      "_view_name": "ProgressView",
      "bar_style": "success",
      "description": "",
      "description_tooltip": null,
      "layout": "IPY_MODEL_3484a58c697f49c2af7133861eaff03a",
      "max": 2,
      "min": 0,
      "orientation": "horizontal",
      "style": "IPY_MODEL_1a41a1da7a584bf887a21d4e242fe587",
      "value": 2
     }
    },
    "2921a20922864c50b2d6a475cf3d2f84": {
     "model_module": "@jupyter-widgets/controls",
     "model_module_version": "1.5.0",
     "model_name": "HBoxModel",
     "state": {
      "_dom_classes": [],
      "_model_module": "@jupyter-widgets/controls",
      "_model_module_version": "1.5.0",
      "_model_name": "HBoxModel",
      "_view_count": null,
      "_view_module": "@jupyter-widgets/controls",
      "_view_module_version": "1.5.0",
      "_view_name": "HBoxView",
      "box_style": "",
      "children": [
       "IPY_MODEL_4a4a18e21d394cb39ffc3a19903bc3e3",
       "IPY_MODEL_00fe9b2080bb4380aef9fde4173da71d",
       "IPY_MODEL_8cbe7d97a3d64c2eac16fd3ef3356ce2"
      ],
      "layout": "IPY_MODEL_ff388c71e6664a61bd478e2710034432"
     }
    },
    "2ace1955ee4c4a1eaf236df90f2656bd": {
     "model_module": "@jupyter-widgets/controls",
     "model_module_version": "1.5.0",
     "model_name": "FloatProgressModel",
     "state": {
      "_dom_classes": [],
      "_model_module": "@jupyter-widgets/controls",
      "_model_module_version": "1.5.0",
      "_model_name": "FloatProgressModel",
      "_view_count": null,
      "_view_module": "@jupyter-widgets/controls",
      "_view_module_version": "1.5.0",
      "_view_name": "ProgressView",
      "bar_style": "success",
      "description": "",
      "description_tooltip": null,
      "layout": "IPY_MODEL_e3646573cf3b4d3aad7cadd2f7561b6c",
      "max": 2000,
      "min": 0,
      "orientation": "horizontal",
      "style": "IPY_MODEL_80a3ec8b9f2a40d3b64e23f811c5515c",
      "value": 2000
     }
    },
    "2b15203b991545c8b86543b98c0b688f": {
     "model_module": "@jupyter-widgets/controls",
     "model_module_version": "1.5.0",
     "model_name": "DescriptionStyleModel",
     "state": {
      "_model_module": "@jupyter-widgets/controls",
      "_model_module_version": "1.5.0",
      "_model_name": "DescriptionStyleModel",
      "_view_count": null,
      "_view_module": "@jupyter-widgets/base",
      "_view_module_version": "1.2.0",
      "_view_name": "StyleView",
      "description_width": ""
     }
    },
    "2b4a4bb71c1941edaee627273eb415ca": {
     "model_module": "@jupyter-widgets/controls",
     "model_module_version": "1.5.0",
     "model_name": "HTMLModel",
     "state": {
      "_dom_classes": [],
      "_model_module": "@jupyter-widgets/controls",
      "_model_module_version": "1.5.0",
      "_model_name": "HTMLModel",
      "_view_count": null,
      "_view_module": "@jupyter-widgets/controls",
      "_view_module_version": "1.5.0",
      "_view_name": "HTMLView",
      "description": "",
      "description_tooltip": null,
      "layout": "IPY_MODEL_4505a5f5728c45108ca2a7827484bc8b",
      "placeholder": "​",
      "style": "IPY_MODEL_65a9031da4c342c1b7030f2b10115127",
      "value": " 1959/1959 [00:01&lt;00:00, 1314.84 examples/s]"
     }
    },
    "2c326566c9ae4ca1a9210d9c30c277de": {
     "model_module": "@jupyter-widgets/base",
     "model_module_version": "1.2.0",
     "model_name": "LayoutModel",
     "state": {
      "_model_module": "@jupyter-widgets/base",
      "_model_module_version": "1.2.0",
      "_model_name": "LayoutModel",
      "_view_count": null,
      "_view_module": "@jupyter-widgets/base",
      "_view_module_version": "1.2.0",
      "_view_name": "LayoutView",
      "align_content": null,
      "align_items": null,
      "align_self": null,
      "border": null,
      "bottom": null,
      "display": null,
      "flex": null,
      "flex_flow": null,
      "grid_area": null,
      "grid_auto_columns": null,
      "grid_auto_flow": null,
      "grid_auto_rows": null,
      "grid_column": null,
      "grid_gap": null,
      "grid_row": null,
      "grid_template_areas": null,
      "grid_template_columns": null,
      "grid_template_rows": null,
      "height": null,
      "justify_content": null,
      "justify_items": null,
      "left": null,
      "margin": null,
      "max_height": null,
      "max_width": null,
      "min_height": null,
      "min_width": null,
      "object_fit": null,
      "object_position": null,
      "order": null,
      "overflow": null,
      "overflow_x": null,
      "overflow_y": null,
      "padding": null,
      "right": null,
      "top": null,
      "visibility": null,
      "width": null
     }
    },
    "2c4ebe4ca0c84b9f9679bdfb170e98c6": {
     "model_module": "@jupyter-widgets/base",
     "model_module_version": "1.2.0",
     "model_name": "LayoutModel",
     "state": {
      "_model_module": "@jupyter-widgets/base",
      "_model_module_version": "1.2.0",
      "_model_name": "LayoutModel",
      "_view_count": null,
      "_view_module": "@jupyter-widgets/base",
      "_view_module_version": "1.2.0",
      "_view_name": "LayoutView",
      "align_content": null,
      "align_items": null,
      "align_self": null,
      "border": null,
      "bottom": null,
      "display": null,
      "flex": null,
      "flex_flow": null,
      "grid_area": null,
      "grid_auto_columns": null,
      "grid_auto_flow": null,
      "grid_auto_rows": null,
      "grid_column": null,
      "grid_gap": null,
      "grid_row": null,
      "grid_template_areas": null,
      "grid_template_columns": null,
      "grid_template_rows": null,
      "height": null,
      "justify_content": null,
      "justify_items": null,
      "left": null,
      "margin": null,
      "max_height": null,
      "max_width": null,
      "min_height": null,
      "min_width": null,
      "object_fit": null,
      "object_position": null,
      "order": null,
      "overflow": null,
      "overflow_x": null,
      "overflow_y": null,
      "padding": null,
      "right": null,
      "top": null,
      "visibility": null,
      "width": null
     }
    },
    "2c83db8a9dcb481a88ebfbc665383388": {
     "model_module": "@jupyter-widgets/base",
     "model_module_version": "1.2.0",
     "model_name": "LayoutModel",
     "state": {
      "_model_module": "@jupyter-widgets/base",
      "_model_module_version": "1.2.0",
      "_model_name": "LayoutModel",
      "_view_count": null,
      "_view_module": "@jupyter-widgets/base",
      "_view_module_version": "1.2.0",
      "_view_name": "LayoutView",
      "align_content": null,
      "align_items": null,
      "align_self": null,
      "border": null,
      "bottom": null,
      "display": null,
      "flex": null,
      "flex_flow": null,
      "grid_area": null,
      "grid_auto_columns": null,
      "grid_auto_flow": null,
      "grid_auto_rows": null,
      "grid_column": null,
      "grid_gap": null,
      "grid_row": null,
      "grid_template_areas": null,
      "grid_template_columns": null,
      "grid_template_rows": null,
      "height": null,
      "justify_content": null,
      "justify_items": null,
      "left": null,
      "margin": null,
      "max_height": null,
      "max_width": null,
      "min_height": null,
      "min_width": null,
      "object_fit": null,
      "object_position": null,
      "order": null,
      "overflow": null,
      "overflow_x": null,
      "overflow_y": null,
      "padding": null,
      "right": null,
      "top": null,
      "visibility": null,
      "width": null
     }
    },
    "2e8a9570e93c4f468924924056dd35f3": {
     "model_module": "@jupyter-widgets/controls",
     "model_module_version": "1.5.0",
     "model_name": "DescriptionStyleModel",
     "state": {
      "_model_module": "@jupyter-widgets/controls",
      "_model_module_version": "1.5.0",
      "_model_name": "DescriptionStyleModel",
      "_view_count": null,
      "_view_module": "@jupyter-widgets/base",
      "_view_module_version": "1.2.0",
      "_view_name": "StyleView",
      "description_width": ""
     }
    },
    "30b053a88b754b958ff279517bc9ebcd": {
     "model_module": "@jupyter-widgets/controls",
     "model_module_version": "1.5.0",
     "model_name": "HBoxModel",
     "state": {
      "_dom_classes": [],
      "_model_module": "@jupyter-widgets/controls",
      "_model_module_version": "1.5.0",
      "_model_name": "HBoxModel",
      "_view_count": null,
      "_view_module": "@jupyter-widgets/controls",
      "_view_module_version": "1.5.0",
      "_view_name": "HBoxView",
      "box_style": "",
      "children": [
       "IPY_MODEL_83a14948211c4a2e8392c0e8874f0591",
       "IPY_MODEL_34b5cc9c75024267abebea947be5ce75",
       "IPY_MODEL_794d47bd7a05404ea6ff3fa71cac3c49"
      ],
      "layout": "IPY_MODEL_217a77dbe8c740aea7ecd08fa3a0c1cb"
     }
    },
    "31bab7182a9e4083b22d813d647cfa2b": {
     "model_module": "@jupyter-widgets/base",
     "model_module_version": "1.2.0",
     "model_name": "LayoutModel",
     "state": {
      "_model_module": "@jupyter-widgets/base",
      "_model_module_version": "1.2.0",
      "_model_name": "LayoutModel",
      "_view_count": null,
      "_view_module": "@jupyter-widgets/base",
      "_view_module_version": "1.2.0",
      "_view_name": "LayoutView",
      "align_content": null,
      "align_items": null,
      "align_self": null,
      "border": null,
      "bottom": null,
      "display": null,
      "flex": null,
      "flex_flow": null,
      "grid_area": null,
      "grid_auto_columns": null,
      "grid_auto_flow": null,
      "grid_auto_rows": null,
      "grid_column": null,
      "grid_gap": null,
      "grid_row": null,
      "grid_template_areas": null,
      "grid_template_columns": null,
      "grid_template_rows": null,
      "height": null,
      "justify_content": null,
      "justify_items": null,
      "left": null,
      "margin": null,
      "max_height": null,
      "max_width": null,
      "min_height": null,
      "min_width": null,
      "object_fit": null,
      "object_position": null,
      "order": null,
      "overflow": null,
      "overflow_x": null,
      "overflow_y": null,
      "padding": null,
      "right": null,
      "top": null,
      "visibility": null,
      "width": null
     }
    },
    "3412f6ad346b43c19612c60ed3b0365f": {
     "model_module": "@jupyter-widgets/controls",
     "model_module_version": "1.5.0",
     "model_name": "HTMLModel",
     "state": {
      "_dom_classes": [],
      "_model_module": "@jupyter-widgets/controls",
      "_model_module_version": "1.5.0",
      "_model_name": "HTMLModel",
      "_view_count": null,
      "_view_module": "@jupyter-widgets/controls",
      "_view_module_version": "1.5.0",
      "_view_name": "HTMLView",
      "description": "",
      "description_tooltip": null,
      "layout": "IPY_MODEL_dc11242609fe40758455de7ea1764a06",
      "placeholder": "​",
      "style": "IPY_MODEL_2b15203b991545c8b86543b98c0b688f",
      "value": "Downloading builder script: 100%"
     }
    },
    "3484a58c697f49c2af7133861eaff03a": {
     "model_module": "@jupyter-widgets/base",
     "model_module_version": "1.2.0",
     "model_name": "LayoutModel",
     "state": {
      "_model_module": "@jupyter-widgets/base",
      "_model_module_version": "1.2.0",
      "_model_name": "LayoutModel",
      "_view_count": null,
      "_view_module": "@jupyter-widgets/base",
      "_view_module_version": "1.2.0",
      "_view_name": "LayoutView",
      "align_content": null,
      "align_items": null,
      "align_self": null,
      "border": null,
      "bottom": null,
      "display": null,
      "flex": null,
      "flex_flow": null,
      "grid_area": null,
      "grid_auto_columns": null,
      "grid_auto_flow": null,
      "grid_auto_rows": null,
      "grid_column": null,
      "grid_gap": null,
      "grid_row": null,
      "grid_template_areas": null,
      "grid_template_columns": null,
      "grid_template_rows": null,
      "height": null,
      "justify_content": null,
      "justify_items": null,
      "left": null,
      "margin": null,
      "max_height": null,
      "max_width": null,
      "min_height": null,
      "min_width": null,
      "object_fit": null,
      "object_position": null,
      "order": null,
      "overflow": null,
      "overflow_x": null,
      "overflow_y": null,
      "padding": null,
      "right": null,
      "top": null,
      "visibility": null,
      "width": null
     }
    },
    "34b5cc9c75024267abebea947be5ce75": {
     "model_module": "@jupyter-widgets/controls",
     "model_module_version": "1.5.0",
     "model_name": "FloatProgressModel",
     "state": {
      "_dom_classes": [],
      "_model_module": "@jupyter-widgets/controls",
      "_model_module_version": "1.5.0",
      "_model_name": "FloatProgressModel",
      "_view_count": null,
      "_view_module": "@jupyter-widgets/controls",
      "_view_module_version": "1.5.0",
      "_view_name": "ProgressView",
      "bar_style": "success",
      "description": "",
      "description_tooltip": null,
      "layout": "IPY_MODEL_bce701a734eb4e9c83b95313eca78f35",
      "max": 2000,
      "min": 0,
      "orientation": "horizontal",
      "style": "IPY_MODEL_4fca0e822e304dfe8d7053a0a7544567",
      "value": 2000
     }
    },
    "3516fde2cdae4f89babdf96b2d315ed0": {
     "model_module": "@jupyter-widgets/controls",
     "model_module_version": "1.5.0",
     "model_name": "DescriptionStyleModel",
     "state": {
      "_model_module": "@jupyter-widgets/controls",
      "_model_module_version": "1.5.0",
      "_model_name": "DescriptionStyleModel",
      "_view_count": null,
      "_view_module": "@jupyter-widgets/base",
      "_view_module_version": "1.2.0",
      "_view_name": "StyleView",
      "description_width": ""
     }
    },
    "36eb78efbfac41e0841502e9d77fa05e": {
     "model_module": "@jupyter-widgets/controls",
     "model_module_version": "1.5.0",
     "model_name": "ProgressStyleModel",
     "state": {
      "_model_module": "@jupyter-widgets/controls",
      "_model_module_version": "1.5.0",
      "_model_name": "ProgressStyleModel",
      "_view_count": null,
      "_view_module": "@jupyter-widgets/base",
      "_view_module_version": "1.2.0",
      "_view_name": "StyleView",
      "bar_color": null,
      "description_width": ""
     }
    },
    "3be0b02f97b84fd9a29e4a46cdb8c7d2": {
     "model_module": "@jupyter-widgets/controls",
     "model_module_version": "1.5.0",
     "model_name": "ProgressStyleModel",
     "state": {
      "_model_module": "@jupyter-widgets/controls",
      "_model_module_version": "1.5.0",
      "_model_name": "ProgressStyleModel",
      "_view_count": null,
      "_view_module": "@jupyter-widgets/base",
      "_view_module_version": "1.2.0",
      "_view_name": "StyleView",
      "bar_color": null,
      "description_width": ""
     }
    },
    "3c2f1ba3220e4ecdbc8f728e2610d0a4": {
     "model_module": "@jupyter-widgets/controls",
     "model_module_version": "1.5.0",
     "model_name": "ProgressStyleModel",
     "state": {
      "_model_module": "@jupyter-widgets/controls",
      "_model_module_version": "1.5.0",
      "_model_name": "ProgressStyleModel",
      "_view_count": null,
      "_view_module": "@jupyter-widgets/base",
      "_view_module_version": "1.2.0",
      "_view_name": "StyleView",
      "bar_color": null,
      "description_width": ""
     }
    },
    "3d2308d44f2d4a4083e7dcda3ea5c0ce": {
     "model_module": "@jupyter-widgets/controls",
     "model_module_version": "1.5.0",
     "model_name": "HBoxModel",
     "state": {
      "_dom_classes": [],
      "_model_module": "@jupyter-widgets/controls",
      "_model_module_version": "1.5.0",
      "_model_name": "HBoxModel",
      "_view_count": null,
      "_view_module": "@jupyter-widgets/controls",
      "_view_module_version": "1.5.0",
      "_view_name": "HBoxView",
      "box_style": "",
      "children": [
       "IPY_MODEL_99673c1384dc4ec5b04415354fdaeadc",
       "IPY_MODEL_a2a18be226744a158591b24675bbaf6b",
       "IPY_MODEL_ee2d6a0ca4cb4d29840e1a2dd632b46c"
      ],
      "layout": "IPY_MODEL_e099168ebaeb4a9b85e393b9870eefe3"
     }
    },
    "3ee88897c98b460db8a20233c495a87c": {
     "model_module": "@jupyter-widgets/controls",
     "model_module_version": "1.5.0",
     "model_name": "HTMLModel",
     "state": {
      "_dom_classes": [],
      "_model_module": "@jupyter-widgets/controls",
      "_model_module_version": "1.5.0",
      "_model_name": "HTMLModel",
      "_view_count": null,
      "_view_module": "@jupyter-widgets/controls",
      "_view_module_version": "1.5.0",
      "_view_name": "HTMLView",
      "description": "",
      "description_tooltip": null,
      "layout": "IPY_MODEL_af992b8afd244ff8b225ec27721caefc",
      "placeholder": "​",
      "style": "IPY_MODEL_e9d28f1f394e4c06a804e35b0d88505f",
      "value": "Map: 100%"
     }
    },
    "3f2c9cbd9ac943c09636c7e56f860989": {
     "model_module": "@jupyter-widgets/controls",
     "model_module_version": "1.5.0",
     "model_name": "HTMLModel",
     "state": {
      "_dom_classes": [],
      "_model_module": "@jupyter-widgets/controls",
      "_model_module_version": "1.5.0",
      "_model_name": "HTMLModel",
      "_view_count": null,
      "_view_module": "@jupyter-widgets/controls",
      "_view_module_version": "1.5.0",
      "_view_name": "HTMLView",
      "description": "",
      "description_tooltip": null,
      "layout": "IPY_MODEL_86a09c75549f448b89cebb12ac05272d",
      "placeholder": "​",
      "style": "IPY_MODEL_82a5863d4f3d4aa2801444d800fcab4c",
      "value": "Loading checkpoint shards: 100%"
     }
    },
    "3f3899faea164fc8b29ed4e6b0fce36f": {
     "model_module": "@jupyter-widgets/controls",
     "model_module_version": "1.5.0",
     "model_name": "FloatProgressModel",
     "state": {
      "_dom_classes": [],
      "_model_module": "@jupyter-widgets/controls",
      "_model_module_version": "1.5.0",
      "_model_name": "FloatProgressModel",
      "_view_count": null,
      "_view_module": "@jupyter-widgets/controls",
      "_view_module_version": "1.5.0",
      "_view_name": "ProgressView",
      "bar_style": "success",
      "description": "",
      "description_tooltip": null,
      "layout": "IPY_MODEL_864c691101424627bb0006077af05a3a",
      "max": 4203,
      "min": 0,
      "orientation": "horizontal",
      "style": "IPY_MODEL_d32a3c9c727949b48daea1ccafbee8b6",
      "value": 4203
     }
    },
    "414e4a3b28874f68b6cd75cf06bdf05b": {
     "model_module": "@jupyter-widgets/base",
     "model_module_version": "1.2.0",
     "model_name": "LayoutModel",
     "state": {
      "_model_module": "@jupyter-widgets/base",
      "_model_module_version": "1.2.0",
      "_model_name": "LayoutModel",
      "_view_count": null,
      "_view_module": "@jupyter-widgets/base",
      "_view_module_version": "1.2.0",
      "_view_name": "LayoutView",
      "align_content": null,
      "align_items": null,
      "align_self": null,
      "border": null,
      "bottom": null,
      "display": null,
      "flex": null,
      "flex_flow": null,
      "grid_area": null,
      "grid_auto_columns": null,
      "grid_auto_flow": null,
      "grid_auto_rows": null,
      "grid_column": null,
      "grid_gap": null,
      "grid_row": null,
      "grid_template_areas": null,
      "grid_template_columns": null,
      "grid_template_rows": null,
      "height": null,
      "justify_content": null,
      "justify_items": null,
      "left": null,
      "margin": null,
      "max_height": null,
      "max_width": null,
      "min_height": null,
      "min_width": null,
      "object_fit": null,
      "object_position": null,
      "order": null,
      "overflow": null,
      "overflow_x": null,
      "overflow_y": null,
      "padding": null,
      "right": null,
      "top": null,
      "visibility": null,
      "width": null
     }
    },
    "418a71322bba424ebf71922713077a53": {
     "model_module": "@jupyter-widgets/controls",
     "model_module_version": "1.5.0",
     "model_name": "DescriptionStyleModel",
     "state": {
      "_model_module": "@jupyter-widgets/controls",
      "_model_module_version": "1.5.0",
      "_model_name": "DescriptionStyleModel",
      "_view_count": null,
      "_view_module": "@jupyter-widgets/base",
      "_view_module_version": "1.2.0",
      "_view_name": "StyleView",
      "description_width": ""
     }
    },
    "4355a3c537974be29f98274cb03958da": {
     "model_module": "@jupyter-widgets/controls",
     "model_module_version": "1.5.0",
     "model_name": "FloatProgressModel",
     "state": {
      "_dom_classes": [],
      "_model_module": "@jupyter-widgets/controls",
      "_model_module_version": "1.5.0",
      "_model_name": "FloatProgressModel",
      "_view_count": null,
      "_view_module": "@jupyter-widgets/controls",
      "_view_module_version": "1.5.0",
      "_view_name": "ProgressView",
      "bar_style": "success",
      "description": "",
      "description_tooltip": null,
      "layout": "IPY_MODEL_9d3196e65a7147b98fff10a6eddfc1d1",
      "max": 2,
      "min": 0,
      "orientation": "horizontal",
      "style": "IPY_MODEL_256736afe86a4e0985283a61145c1878",
      "value": 2
     }
    },
    "43fd1598ca6c4179a8e75fecd14d122b": {
     "model_module": "@jupyter-widgets/controls",
     "model_module_version": "1.5.0",
     "model_name": "DescriptionStyleModel",
     "state": {
      "_model_module": "@jupyter-widgets/controls",
      "_model_module_version": "1.5.0",
      "_model_name": "DescriptionStyleModel",
      "_view_count": null,
      "_view_module": "@jupyter-widgets/base",
      "_view_module_version": "1.2.0",
      "_view_name": "StyleView",
      "description_width": ""
     }
    },
    "441317d5ccf94a58856e7f57269c7b7b": {
     "model_module": "@jupyter-widgets/base",
     "model_module_version": "1.2.0",
     "model_name": "LayoutModel",
     "state": {
      "_model_module": "@jupyter-widgets/base",
      "_model_module_version": "1.2.0",
      "_model_name": "LayoutModel",
      "_view_count": null,
      "_view_module": "@jupyter-widgets/base",
      "_view_module_version": "1.2.0",
      "_view_name": "LayoutView",
      "align_content": null,
      "align_items": null,
      "align_self": null,
      "border": null,
      "bottom": null,
      "display": null,
      "flex": null,
      "flex_flow": null,
      "grid_area": null,
      "grid_auto_columns": null,
      "grid_auto_flow": null,
      "grid_auto_rows": null,
      "grid_column": null,
      "grid_gap": null,
      "grid_row": null,
      "grid_template_areas": null,
      "grid_template_columns": null,
      "grid_template_rows": null,
      "height": null,
      "justify_content": null,
      "justify_items": null,
      "left": null,
      "margin": null,
      "max_height": null,
      "max_width": null,
      "min_height": null,
      "min_width": null,
      "object_fit": null,
      "object_position": null,
      "order": null,
      "overflow": null,
      "overflow_x": null,
      "overflow_y": null,
      "padding": null,
      "right": null,
      "top": null,
      "visibility": null,
      "width": null
     }
    },
    "445633d354a14c328efc88940f794fdb": {
     "model_module": "@jupyter-widgets/controls",
     "model_module_version": "1.5.0",
     "model_name": "HTMLModel",
     "state": {
      "_dom_classes": [],
      "_model_module": "@jupyter-widgets/controls",
      "_model_module_version": "1.5.0",
      "_model_name": "HTMLModel",
      "_view_count": null,
      "_view_module": "@jupyter-widgets/controls",
      "_view_module_version": "1.5.0",
      "_view_name": "HTMLView",
      "description": "",
      "description_tooltip": null,
      "layout": "IPY_MODEL_414e4a3b28874f68b6cd75cf06bdf05b",
      "placeholder": "​",
      "style": "IPY_MODEL_c9dd94d496c24c5ead5ef682c80430b1",
      "value": "Adding EOS to eval dataset: 100%"
     }
    },
    "4505a5f5728c45108ca2a7827484bc8b": {
     "model_module": "@jupyter-widgets/base",
     "model_module_version": "1.2.0",
     "model_name": "LayoutModel",
     "state": {
      "_model_module": "@jupyter-widgets/base",
      "_model_module_version": "1.2.0",
      "_model_name": "LayoutModel",
      "_view_count": null,
      "_view_module": "@jupyter-widgets/base",
      "_view_module_version": "1.2.0",
      "_view_name": "LayoutView",
      "align_content": null,
      "align_items": null,
      "align_self": null,
      "border": null,
      "bottom": null,
      "display": null,
      "flex": null,
      "flex_flow": null,
      "grid_area": null,
      "grid_auto_columns": null,
      "grid_auto_flow": null,
      "grid_auto_rows": null,
      "grid_column": null,
      "grid_gap": null,
      "grid_row": null,
      "grid_template_areas": null,
      "grid_template_columns": null,
      "grid_template_rows": null,
      "height": null,
      "justify_content": null,
      "justify_items": null,
      "left": null,
      "margin": null,
      "max_height": null,
      "max_width": null,
      "min_height": null,
      "min_width": null,
      "object_fit": null,
      "object_position": null,
      "order": null,
      "overflow": null,
      "overflow_x": null,
      "overflow_y": null,
      "padding": null,
      "right": null,
      "top": null,
      "visibility": null,
      "width": null
     }
    },
    "466b9d2138ed4f11b430fca752588d1d": {
     "model_module": "@jupyter-widgets/controls",
     "model_module_version": "1.5.0",
     "model_name": "ProgressStyleModel",
     "state": {
      "_model_module": "@jupyter-widgets/controls",
      "_model_module_version": "1.5.0",
      "_model_name": "ProgressStyleModel",
      "_view_count": null,
      "_view_module": "@jupyter-widgets/base",
      "_view_module_version": "1.2.0",
      "_view_name": "StyleView",
      "bar_color": null,
      "description_width": ""
     }
    },
    "46901f933ab947eab791765f3ddb35ba": {
     "model_module": "@jupyter-widgets/controls",
     "model_module_version": "1.5.0",
     "model_name": "HTMLModel",
     "state": {
      "_dom_classes": [],
      "_model_module": "@jupyter-widgets/controls",
      "_model_module_version": "1.5.0",
      "_model_name": "HTMLModel",
      "_view_count": null,
      "_view_module": "@jupyter-widgets/controls",
      "_view_module_version": "1.5.0",
      "_view_name": "HTMLView",
      "description": "",
      "description_tooltip": null,
      "layout": "IPY_MODEL_bcac559a44ff45f8b6b7bfeabeb061e5",
      "placeholder": "​",
      "style": "IPY_MODEL_9731727883574114a0073596b436729e",
      "value": " 1959/1959 [00:00&lt;00:00, 15532.45 examples/s]"
     }
    },
    "47b8aba3b25a434e88ca3002455dc9b7": {
     "model_module": "@jupyter-widgets/controls",
     "model_module_version": "1.5.0",
     "model_name": "HTMLModel",
     "state": {
      "_dom_classes": [],
      "_model_module": "@jupyter-widgets/controls",
      "_model_module_version": "1.5.0",
      "_model_name": "HTMLModel",
      "_view_count": null,
      "_view_module": "@jupyter-widgets/controls",
      "_view_module_version": "1.5.0",
      "_view_name": "HTMLView",
      "description": "",
      "description_tooltip": null,
      "layout": "IPY_MODEL_65a58d676778411994cc3c2299128d26",
      "placeholder": "​",
      "style": "IPY_MODEL_8ae15ce0457243a9a4b75eba79f2bd5a",
      "value": "Map: 100%"
     }
    },
    "4a4a18e21d394cb39ffc3a19903bc3e3": {
     "model_module": "@jupyter-widgets/controls",
     "model_module_version": "1.5.0",
     "model_name": "HTMLModel",
     "state": {
      "_dom_classes": [],
      "_model_module": "@jupyter-widgets/controls",
      "_model_module_version": "1.5.0",
      "_model_name": "HTMLModel",
      "_view_count": null,
      "_view_module": "@jupyter-widgets/controls",
      "_view_module_version": "1.5.0",
      "_view_name": "HTMLView",
      "description": "",
      "description_tooltip": null,
      "layout": "IPY_MODEL_2c83db8a9dcb481a88ebfbc665383388",
      "placeholder": "​",
      "style": "IPY_MODEL_ed98070c26b049f48b2cf108e4b1adb6",
      "value": "Filter: 100%"
     }
    },
    "4a7f10d5e9e243158f60402399efb205": {
     "model_module": "@jupyter-widgets/controls",
     "model_module_version": "1.5.0",
     "model_name": "DescriptionStyleModel",
     "state": {
      "_model_module": "@jupyter-widgets/controls",
      "_model_module_version": "1.5.0",
      "_model_name": "DescriptionStyleModel",
      "_view_count": null,
      "_view_module": "@jupyter-widgets/base",
      "_view_module_version": "1.2.0",
      "_view_name": "StyleView",
      "description_width": ""
     }
    },
    "4b9d4c446ef84346b4531d8e332ffa72": {
     "model_module": "@jupyter-widgets/controls",
     "model_module_version": "1.5.0",
     "model_name": "HTMLModel",
     "state": {
      "_dom_classes": [],
      "_model_module": "@jupyter-widgets/controls",
      "_model_module_version": "1.5.0",
      "_model_name": "HTMLModel",
      "_view_count": null,
      "_view_module": "@jupyter-widgets/controls",
      "_view_module_version": "1.5.0",
      "_view_name": "HTMLView",
      "description": "",
      "description_tooltip": null,
      "layout": "IPY_MODEL_71d76d9dc2514524a371cc254e8b729d",
      "placeholder": "​",
      "style": "IPY_MODEL_83594fb03c084166b6a9e1d8cf3a6cc2",
      "value": " 1953/1953 [00:00&lt;00:00, 108974.12 examples/s]"
     }
    },
    "4dbd1f23806b407fb121f06af07768b2": {
     "model_module": "@jupyter-widgets/controls",
     "model_module_version": "1.5.0",
     "model_name": "HTMLModel",
     "state": {
      "_dom_classes": [],
      "_model_module": "@jupyter-widgets/controls",
      "_model_module_version": "1.5.0",
      "_model_name": "HTMLModel",
      "_view_count": null,
      "_view_module": "@jupyter-widgets/controls",
      "_view_module_version": "1.5.0",
      "_view_name": "HTMLView",
      "description": "",
      "description_tooltip": null,
      "layout": "IPY_MODEL_ae049916dfae44eab06911f598d843a8",
      "placeholder": "​",
      "style": "IPY_MODEL_8c488d6c01134814bd21e6c98bbf6ed6",
      "value": " 2000/2000 [00:00&lt;00:00, 6169.68 examples/s]"
     }
    },
    "4e120c882aa04f5eaeac07caa9107c53": {
     "model_module": "@jupyter-widgets/controls",
     "model_module_version": "1.5.0",
     "model_name": "HTMLModel",
     "state": {
      "_dom_classes": [],
      "_model_module": "@jupyter-widgets/controls",
      "_model_module_version": "1.5.0",
      "_model_name": "HTMLModel",
      "_view_count": null,
      "_view_module": "@jupyter-widgets/controls",
      "_view_module_version": "1.5.0",
      "_view_name": "HTMLView",
      "description": "",
      "description_tooltip": null,
      "layout": "IPY_MODEL_0fdaded74c2147ccb33ed4d14d542127",
      "placeholder": "​",
      "style": "IPY_MODEL_4f5e1122211b4f5f8b395a6068ce8d98",
      "value": " 1959/1959 [00:00&lt;00:00, 20069.76 examples/s]"
     }
    },
    "4f5e1122211b4f5f8b395a6068ce8d98": {
     "model_module": "@jupyter-widgets/controls",
     "model_module_version": "1.5.0",
     "model_name": "DescriptionStyleModel",
     "state": {
      "_model_module": "@jupyter-widgets/controls",
      "_model_module_version": "1.5.0",
      "_model_name": "DescriptionStyleModel",
      "_view_count": null,
      "_view_module": "@jupyter-widgets/base",
      "_view_module_version": "1.2.0",
      "_view_name": "StyleView",
      "description_width": ""
     }
    },
    "4fca0e822e304dfe8d7053a0a7544567": {
     "model_module": "@jupyter-widgets/controls",
     "model_module_version": "1.5.0",
     "model_name": "ProgressStyleModel",
     "state": {
      "_model_module": "@jupyter-widgets/controls",
      "_model_module_version": "1.5.0",
      "_model_name": "ProgressStyleModel",
      "_view_count": null,
      "_view_module": "@jupyter-widgets/base",
      "_view_module_version": "1.2.0",
      "_view_name": "StyleView",
      "bar_color": null,
      "description_width": ""
     }
    },
    "5022dd5e564c4a7da24498c3ae315329": {
     "model_module": "@jupyter-widgets/base",
     "model_module_version": "1.2.0",
     "model_name": "LayoutModel",
     "state": {
      "_model_module": "@jupyter-widgets/base",
      "_model_module_version": "1.2.0",
      "_model_name": "LayoutModel",
      "_view_count": null,
      "_view_module": "@jupyter-widgets/base",
      "_view_module_version": "1.2.0",
      "_view_name": "LayoutView",
      "align_content": null,
      "align_items": null,
      "align_self": null,
      "border": null,
      "bottom": null,
      "display": null,
      "flex": null,
      "flex_flow": null,
      "grid_area": null,
      "grid_auto_columns": null,
      "grid_auto_flow": null,
      "grid_auto_rows": null,
      "grid_column": null,
      "grid_gap": null,
      "grid_row": null,
      "grid_template_areas": null,
      "grid_template_columns": null,
      "grid_template_rows": null,
      "height": null,
      "justify_content": null,
      "justify_items": null,
      "left": null,
      "margin": null,
      "max_height": null,
      "max_width": null,
      "min_height": null,
      "min_width": null,
      "object_fit": null,
      "object_position": null,
      "order": null,
      "overflow": null,
      "overflow_x": null,
      "overflow_y": null,
      "padding": null,
      "right": null,
      "top": null,
      "visibility": null,
      "width": null
     }
    },
    "50aab03d774e4542aa04fb530323aa6f": {
     "model_module": "@jupyter-widgets/base",
     "model_module_version": "1.2.0",
     "model_name": "LayoutModel",
     "state": {
      "_model_module": "@jupyter-widgets/base",
      "_model_module_version": "1.2.0",
      "_model_name": "LayoutModel",
      "_view_count": null,
      "_view_module": "@jupyter-widgets/base",
      "_view_module_version": "1.2.0",
      "_view_name": "LayoutView",
      "align_content": null,
      "align_items": null,
      "align_self": null,
      "border": null,
      "bottom": null,
      "display": null,
      "flex": null,
      "flex_flow": null,
      "grid_area": null,
      "grid_auto_columns": null,
      "grid_auto_flow": null,
      "grid_auto_rows": null,
      "grid_column": null,
      "grid_gap": null,
      "grid_row": null,
      "grid_template_areas": null,
      "grid_template_columns": null,
      "grid_template_rows": null,
      "height": null,
      "justify_content": null,
      "justify_items": null,
      "left": null,
      "margin": null,
      "max_height": null,
      "max_width": null,
      "min_height": null,
      "min_width": null,
      "object_fit": null,
      "object_position": null,
      "order": null,
      "overflow": null,
      "overflow_x": null,
      "overflow_y": null,
      "padding": null,
      "right": null,
      "top": null,
      "visibility": null,
      "width": null
     }
    },
    "53122b3d7fab4784ba45fbd0361e04f1": {
     "model_module": "@jupyter-widgets/controls",
     "model_module_version": "1.5.0",
     "model_name": "HBoxModel",
     "state": {
      "_dom_classes": [],
      "_model_module": "@jupyter-widgets/controls",
      "_model_module_version": "1.5.0",
      "_model_name": "HBoxModel",
      "_view_count": null,
      "_view_module": "@jupyter-widgets/controls",
      "_view_module_version": "1.5.0",
      "_view_name": "HBoxView",
      "box_style": "",
      "children": [
       "IPY_MODEL_e98297b5ca1f4d62a91948a4678ac7e9",
       "IPY_MODEL_83919c35d39e4e61894846dfa6c0403c",
       "IPY_MODEL_46901f933ab947eab791765f3ddb35ba"
      ],
      "layout": "IPY_MODEL_8afc9ab6c87d4488a18fad8ec1cd1758"
     }
    },
    "55f13a7840724442839057bd5aad8366": {
     "model_module": "@jupyter-widgets/base",
     "model_module_version": "1.2.0",
     "model_name": "LayoutModel",
     "state": {
      "_model_module": "@jupyter-widgets/base",
      "_model_module_version": "1.2.0",
      "_model_name": "LayoutModel",
      "_view_count": null,
      "_view_module": "@jupyter-widgets/base",
      "_view_module_version": "1.2.0",
      "_view_name": "LayoutView",
      "align_content": null,
      "align_items": null,
      "align_self": null,
      "border": null,
      "bottom": null,
      "display": null,
      "flex": null,
      "flex_flow": null,
      "grid_area": null,
      "grid_auto_columns": null,
      "grid_auto_flow": null,
      "grid_auto_rows": null,
      "grid_column": null,
      "grid_gap": null,
      "grid_row": null,
      "grid_template_areas": null,
      "grid_template_columns": null,
      "grid_template_rows": null,
      "height": null,
      "justify_content": null,
      "justify_items": null,
      "left": null,
      "margin": null,
      "max_height": null,
      "max_width": null,
      "min_height": null,
      "min_width": null,
      "object_fit": null,
      "object_position": null,
      "order": null,
      "overflow": null,
      "overflow_x": null,
      "overflow_y": null,
      "padding": null,
      "right": null,
      "top": null,
      "visibility": null,
      "width": null
     }
    },
    "5644e910be2e4aa085966ba88c25fadc": {
     "model_module": "@jupyter-widgets/base",
     "model_module_version": "1.2.0",
     "model_name": "LayoutModel",
     "state": {
      "_model_module": "@jupyter-widgets/base",
      "_model_module_version": "1.2.0",
      "_model_name": "LayoutModel",
      "_view_count": null,
      "_view_module": "@jupyter-widgets/base",
      "_view_module_version": "1.2.0",
      "_view_name": "LayoutView",
      "align_content": null,
      "align_items": null,
      "align_self": null,
      "border": null,
      "bottom": null,
      "display": null,
      "flex": null,
      "flex_flow": null,
      "grid_area": null,
      "grid_auto_columns": null,
      "grid_auto_flow": null,
      "grid_auto_rows": null,
      "grid_column": null,
      "grid_gap": null,
      "grid_row": null,
      "grid_template_areas": null,
      "grid_template_columns": null,
      "grid_template_rows": null,
      "height": null,
      "justify_content": null,
      "justify_items": null,
      "left": null,
      "margin": null,
      "max_height": null,
      "max_width": null,
      "min_height": null,
      "min_width": null,
      "object_fit": null,
      "object_position": null,
      "order": null,
      "overflow": null,
      "overflow_x": null,
      "overflow_y": null,
      "padding": null,
      "right": null,
      "top": null,
      "visibility": null,
      "width": null
     }
    },
    "56482982d4b84aca87f1bb8b4826174c": {
     "model_module": "@jupyter-widgets/controls",
     "model_module_version": "1.5.0",
     "model_name": "ProgressStyleModel",
     "state": {
      "_model_module": "@jupyter-widgets/controls",
      "_model_module_version": "1.5.0",
      "_model_name": "ProgressStyleModel",
      "_view_count": null,
      "_view_module": "@jupyter-widgets/base",
      "_view_module_version": "1.2.0",
      "_view_name": "StyleView",
      "bar_color": null,
      "description_width": ""
     }
    },
    "56d0df4aa8fe4b4c9294864d92c6a2f2": {
     "model_module": "@jupyter-widgets/controls",
     "model_module_version": "1.5.0",
     "model_name": "HBoxModel",
     "state": {
      "_dom_classes": [],
      "_model_module": "@jupyter-widgets/controls",
      "_model_module_version": "1.5.0",
      "_model_name": "HBoxModel",
      "_view_count": null,
      "_view_module": "@jupyter-widgets/controls",
      "_view_module_version": "1.5.0",
      "_view_name": "HBoxView",
      "box_style": "",
      "children": [
       "IPY_MODEL_04c3c1e300b84171b3644ae088443612",
       "IPY_MODEL_1cb35f1401cf446485cb3ac4978b6f1f",
       "IPY_MODEL_4dbd1f23806b407fb121f06af07768b2"
      ],
      "layout": "IPY_MODEL_264b05aaa53e45308d72433c80670425"
     }
    },
    "59f4607e5c964476b5083c55d6fc76f3": {
     "model_module": "@jupyter-widgets/base",
     "model_module_version": "1.2.0",
     "model_name": "LayoutModel",
     "state": {
      "_model_module": "@jupyter-widgets/base",
      "_model_module_version": "1.2.0",
      "_model_name": "LayoutModel",
      "_view_count": null,
      "_view_module": "@jupyter-widgets/base",
      "_view_module_version": "1.2.0",
      "_view_name": "LayoutView",
      "align_content": null,
      "align_items": null,
      "align_self": null,
      "border": null,
      "bottom": null,
      "display": null,
      "flex": null,
      "flex_flow": null,
      "grid_area": null,
      "grid_auto_columns": null,
      "grid_auto_flow": null,
      "grid_auto_rows": null,
      "grid_column": null,
      "grid_gap": null,
      "grid_row": null,
      "grid_template_areas": null,
      "grid_template_columns": null,
      "grid_template_rows": null,
      "height": null,
      "justify_content": null,
      "justify_items": null,
      "left": null,
      "margin": null,
      "max_height": null,
      "max_width": null,
      "min_height": null,
      "min_width": null,
      "object_fit": null,
      "object_position": null,
      "order": null,
      "overflow": null,
      "overflow_x": null,
      "overflow_y": null,
      "padding": null,
      "right": null,
      "top": null,
      "visibility": null,
      "width": null
     }
    },
    "5c0b0e3354254dbab119b757ed6731fd": {
     "model_module": "@jupyter-widgets/base",
     "model_module_version": "1.2.0",
     "model_name": "LayoutModel",
     "state": {
      "_model_module": "@jupyter-widgets/base",
      "_model_module_version": "1.2.0",
      "_model_name": "LayoutModel",
      "_view_count": null,
      "_view_module": "@jupyter-widgets/base",
      "_view_module_version": "1.2.0",
      "_view_name": "LayoutView",
      "align_content": null,
      "align_items": null,
      "align_self": null,
      "border": null,
      "bottom": null,
      "display": null,
      "flex": null,
      "flex_flow": null,
      "grid_area": null,
      "grid_auto_columns": null,
      "grid_auto_flow": null,
      "grid_auto_rows": null,
      "grid_column": null,
      "grid_gap": null,
      "grid_row": null,
      "grid_template_areas": null,
      "grid_template_columns": null,
      "grid_template_rows": null,
      "height": null,
      "justify_content": null,
      "justify_items": null,
      "left": null,
      "margin": null,
      "max_height": null,
      "max_width": null,
      "min_height": null,
      "min_width": null,
      "object_fit": null,
      "object_position": null,
      "order": null,
      "overflow": null,
      "overflow_x": null,
      "overflow_y": null,
      "padding": null,
      "right": null,
      "top": null,
      "visibility": null,
      "width": null
     }
    },
    "5d0b4d722ea849de86e4f9eb6ff8e6c3": {
     "model_module": "@jupyter-widgets/controls",
     "model_module_version": "1.5.0",
     "model_name": "DescriptionStyleModel",
     "state": {
      "_model_module": "@jupyter-widgets/controls",
      "_model_module_version": "1.5.0",
      "_model_name": "DescriptionStyleModel",
      "_view_count": null,
      "_view_module": "@jupyter-widgets/base",
      "_view_module_version": "1.2.0",
      "_view_name": "StyleView",
      "description_width": ""
     }
    },
    "5e58f6d12c2c4a63b2c55d415e5b2a87": {
     "model_module": "@jupyter-widgets/controls",
     "model_module_version": "1.5.0",
     "model_name": "HTMLModel",
     "state": {
      "_dom_classes": [],
      "_model_module": "@jupyter-widgets/controls",
      "_model_module_version": "1.5.0",
      "_model_name": "HTMLModel",
      "_view_count": null,
      "_view_module": "@jupyter-widgets/controls",
      "_view_module_version": "1.5.0",
      "_view_name": "HTMLView",
      "description": "",
      "description_tooltip": null,
      "layout": "IPY_MODEL_064467d5443e4422b05a340f655e1ec9",
      "placeholder": "​",
      "style": "IPY_MODEL_fdbfef5c8a6145a2bea7d2d7dc3d2f9a",
      "value": "Truncating eval dataset: 100%"
     }
    },
    "60151ced9f294c50b98c7ec85b578ec0": {
     "model_module": "@jupyter-widgets/controls",
     "model_module_version": "1.5.0",
     "model_name": "HTMLModel",
     "state": {
      "_dom_classes": [],
      "_model_module": "@jupyter-widgets/controls",
      "_model_module_version": "1.5.0",
      "_model_name": "HTMLModel",
      "_view_count": null,
      "_view_module": "@jupyter-widgets/controls",
      "_view_module_version": "1.5.0",
      "_view_name": "HTMLView",
      "description": "",
      "description_tooltip": null,
      "layout": "IPY_MODEL_d0711382e27545688727408fef467c00",
      "placeholder": "​",
      "style": "IPY_MODEL_91ded5d819074de7911e7c57bfb55830",
      "value": " 2000/2000 [00:00&lt;00:00, 6423.73 examples/s]"
     }
    },
    "604ad0e63c5945e793fc00ab941532dd": {
     "model_module": "@jupyter-widgets/base",
     "model_module_version": "1.2.0",
     "model_name": "LayoutModel",
     "state": {
      "_model_module": "@jupyter-widgets/base",
      "_model_module_version": "1.2.0",
      "_model_name": "LayoutModel",
      "_view_count": null,
      "_view_module": "@jupyter-widgets/base",
      "_view_module_version": "1.2.0",
      "_view_name": "LayoutView",
      "align_content": null,
      "align_items": null,
      "align_self": null,
      "border": null,
      "bottom": null,
      "display": null,
      "flex": null,
      "flex_flow": null,
      "grid_area": null,
      "grid_auto_columns": null,
      "grid_auto_flow": null,
      "grid_auto_rows": null,
      "grid_column": null,
      "grid_gap": null,
      "grid_row": null,
      "grid_template_areas": null,
      "grid_template_columns": null,
      "grid_template_rows": null,
      "height": null,
      "justify_content": null,
      "justify_items": null,
      "left": null,
      "margin": null,
      "max_height": null,
      "max_width": null,
      "min_height": null,
      "min_width": null,
      "object_fit": null,
      "object_position": null,
      "order": null,
      "overflow": null,
      "overflow_x": null,
      "overflow_y": null,
      "padding": null,
      "right": null,
      "top": null,
      "visibility": null,
      "width": null
     }
    },
    "61c6844b59d946b7b3e393be784210d0": {
     "model_module": "@jupyter-widgets/base",
     "model_module_version": "1.2.0",
     "model_name": "LayoutModel",
     "state": {
      "_model_module": "@jupyter-widgets/base",
      "_model_module_version": "1.2.0",
      "_model_name": "LayoutModel",
      "_view_count": null,
      "_view_module": "@jupyter-widgets/base",
      "_view_module_version": "1.2.0",
      "_view_name": "LayoutView",
      "align_content": null,
      "align_items": null,
      "align_self": null,
      "border": null,
      "bottom": null,
      "display": null,
      "flex": null,
      "flex_flow": null,
      "grid_area": null,
      "grid_auto_columns": null,
      "grid_auto_flow": null,
      "grid_auto_rows": null,
      "grid_column": null,
      "grid_gap": null,
      "grid_row": null,
      "grid_template_areas": null,
      "grid_template_columns": null,
      "grid_template_rows": null,
      "height": null,
      "justify_content": null,
      "justify_items": null,
      "left": null,
      "margin": null,
      "max_height": null,
      "max_width": null,
      "min_height": null,
      "min_width": null,
      "object_fit": null,
      "object_position": null,
      "order": null,
      "overflow": null,
      "overflow_x": null,
      "overflow_y": null,
      "padding": null,
      "right": null,
      "top": null,
      "visibility": null,
      "width": null
     }
    },
    "6438aa3b025b4cf58c916ee7f3b58723": {
     "model_module": "@jupyter-widgets/controls",
     "model_module_version": "1.5.0",
     "model_name": "FloatProgressModel",
     "state": {
      "_dom_classes": [],
      "_model_module": "@jupyter-widgets/controls",
      "_model_module_version": "1.5.0",
      "_model_name": "FloatProgressModel",
      "_view_count": null,
      "_view_module": "@jupyter-widgets/controls",
      "_view_module_version": "1.5.0",
      "_view_name": "ProgressView",
      "bar_style": "success",
      "description": "",
      "description_tooltip": null,
      "layout": "IPY_MODEL_eaf6384e264f40ce9c88ec5c3332e901",
      "max": 1953,
      "min": 0,
      "orientation": "horizontal",
      "style": "IPY_MODEL_e065038c425a47c69acbeec9104a60d2",
      "value": 1953
     }
    },
    "65a58d676778411994cc3c2299128d26": {
     "model_module": "@jupyter-widgets/base",
     "model_module_version": "1.2.0",
     "model_name": "LayoutModel",
     "state": {
      "_model_module": "@jupyter-widgets/base",
      "_model_module_version": "1.2.0",
      "_model_name": "LayoutModel",
      "_view_count": null,
      "_view_module": "@jupyter-widgets/base",
      "_view_module_version": "1.2.0",
      "_view_name": "LayoutView",
      "align_content": null,
      "align_items": null,
      "align_self": null,
      "border": null,
      "bottom": null,
      "display": null,
      "flex": null,
      "flex_flow": null,
      "grid_area": null,
      "grid_auto_columns": null,
      "grid_auto_flow": null,
      "grid_auto_rows": null,
      "grid_column": null,
      "grid_gap": null,
      "grid_row": null,
      "grid_template_areas": null,
      "grid_template_columns": null,
      "grid_template_rows": null,
      "height": null,
      "justify_content": null,
      "justify_items": null,
      "left": null,
      "margin": null,
      "max_height": null,
      "max_width": null,
      "min_height": null,
      "min_width": null,
      "object_fit": null,
      "object_position": null,
      "order": null,
      "overflow": null,
      "overflow_x": null,
      "overflow_y": null,
      "padding": null,
      "right": null,
      "top": null,
      "visibility": null,
      "width": null
     }
    },
    "65a9031da4c342c1b7030f2b10115127": {
     "model_module": "@jupyter-widgets/controls",
     "model_module_version": "1.5.0",
     "model_name": "DescriptionStyleModel",
     "state": {
      "_model_module": "@jupyter-widgets/controls",
      "_model_module_version": "1.5.0",
      "_model_name": "DescriptionStyleModel",
      "_view_count": null,
      "_view_module": "@jupyter-widgets/base",
      "_view_module_version": "1.2.0",
      "_view_name": "StyleView",
      "description_width": ""
     }
    },
    "666a063ea31d4d5fa7063fe981715f33": {
     "model_module": "@jupyter-widgets/controls",
     "model_module_version": "1.5.0",
     "model_name": "HTMLModel",
     "state": {
      "_dom_classes": [],
      "_model_module": "@jupyter-widgets/controls",
      "_model_module_version": "1.5.0",
      "_model_name": "HTMLModel",
      "_view_count": null,
      "_view_module": "@jupyter-widgets/controls",
      "_view_module_version": "1.5.0",
      "_view_name": "HTMLView",
      "description": "",
      "description_tooltip": null,
      "layout": "IPY_MODEL_0fd747fd7006458f88cf0fff4d7ff583",
      "placeholder": "​",
      "style": "IPY_MODEL_e36b42fa6008401194581c5fea7a709e",
      "value": " 2000/2000 [00:00&lt;00:00, 5218.73 examples/s]"
     }
    },
    "6712055e0cc94a93865ee4d46c59d213": {
     "model_module": "@jupyter-widgets/controls",
     "model_module_version": "1.5.0",
     "model_name": "HTMLModel",
     "state": {
      "_dom_classes": [],
      "_model_module": "@jupyter-widgets/controls",
      "_model_module_version": "1.5.0",
      "_model_name": "HTMLModel",
      "_view_count": null,
      "_view_module": "@jupyter-widgets/controls",
      "_view_module_version": "1.5.0",
      "_view_name": "HTMLView",
      "description": "",
      "description_tooltip": null,
      "layout": "IPY_MODEL_7d96154c51e64db9b7efb2a2ae511fe5",
      "placeholder": "​",
      "style": "IPY_MODEL_de93dced70594c358748a0b87713bd23",
      "value": " 2/2 [00:05&lt;00:00,  2.25s/it]"
     }
    },
    "698e3e78803f43ecbeee1627f273e2f4": {
     "model_module": "@jupyter-widgets/base",
     "model_module_version": "1.2.0",
     "model_name": "LayoutModel",
     "state": {
      "_model_module": "@jupyter-widgets/base",
      "_model_module_version": "1.2.0",
      "_model_name": "LayoutModel",
      "_view_count": null,
      "_view_module": "@jupyter-widgets/base",
      "_view_module_version": "1.2.0",
      "_view_name": "LayoutView",
      "align_content": null,
      "align_items": null,
      "align_self": null,
      "border": null,
      "bottom": null,
      "display": null,
      "flex": null,
      "flex_flow": null,
      "grid_area": null,
      "grid_auto_columns": null,
      "grid_auto_flow": null,
      "grid_auto_rows": null,
      "grid_column": null,
      "grid_gap": null,
      "grid_row": null,
      "grid_template_areas": null,
      "grid_template_columns": null,
      "grid_template_rows": null,
      "height": null,
      "justify_content": null,
      "justify_items": null,
      "left": null,
      "margin": null,
      "max_height": null,
      "max_width": null,
      "min_height": null,
      "min_width": null,
      "object_fit": null,
      "object_position": null,
      "order": null,
      "overflow": null,
      "overflow_x": null,
      "overflow_y": null,
      "padding": null,
      "right": null,
      "top": null,
      "visibility": null,
      "width": null
     }
    },
    "69f41350266d48a7a6f738ceb0ee35d3": {
     "model_module": "@jupyter-widgets/controls",
     "model_module_version": "1.5.0",
     "model_name": "HBoxModel",
     "state": {
      "_dom_classes": [],
      "_model_module": "@jupyter-widgets/controls",
      "_model_module_version": "1.5.0",
      "_model_name": "HBoxModel",
      "_view_count": null,
      "_view_module": "@jupyter-widgets/controls",
      "_view_module_version": "1.5.0",
      "_view_name": "HBoxView",
      "box_style": "",
      "children": [
       "IPY_MODEL_881e9cb35f2148c195fac7a1e7718b99",
       "IPY_MODEL_6438aa3b025b4cf58c916ee7f3b58723",
       "IPY_MODEL_780f5ec0eb2b482aaeabe74801250c8e"
      ],
      "layout": "IPY_MODEL_e8c16b3dadb846b78d04ae053abae00d"
     }
    },
    "6d476e3a844840a8bee4d09d69377bc1": {
     "model_module": "@jupyter-widgets/controls",
     "model_module_version": "1.5.0",
     "model_name": "HBoxModel",
     "state": {
      "_dom_classes": [],
      "_model_module": "@jupyter-widgets/controls",
      "_model_module_version": "1.5.0",
      "_model_name": "HBoxModel",
      "_view_count": null,
      "_view_module": "@jupyter-widgets/controls",
      "_view_module_version": "1.5.0",
      "_view_name": "HBoxView",
      "box_style": "",
      "children": [
       "IPY_MODEL_ae777982bff24095962f7cf10ac7e991",
       "IPY_MODEL_e12ca686f0364ba2996129b1823f0976",
       "IPY_MODEL_2b4a4bb71c1941edaee627273eb415ca"
      ],
      "layout": "IPY_MODEL_55f13a7840724442839057bd5aad8366"
     }
    },
    "71d76d9dc2514524a371cc254e8b729d": {
     "model_module": "@jupyter-widgets/base",
     "model_module_version": "1.2.0",
     "model_name": "LayoutModel",
     "state": {
      "_model_module": "@jupyter-widgets/base",
      "_model_module_version": "1.2.0",
      "_model_name": "LayoutModel",
      "_view_count": null,
      "_view_module": "@jupyter-widgets/base",
      "_view_module_version": "1.2.0",
      "_view_name": "LayoutView",
      "align_content": null,
      "align_items": null,
      "align_self": null,
      "border": null,
      "bottom": null,
      "display": null,
      "flex": null,
      "flex_flow": null,
      "grid_area": null,
      "grid_auto_columns": null,
      "grid_auto_flow": null,
      "grid_auto_rows": null,
      "grid_column": null,
      "grid_gap": null,
      "grid_row": null,
      "grid_template_areas": null,
      "grid_template_columns": null,
      "grid_template_rows": null,
      "height": null,
      "justify_content": null,
      "justify_items": null,
      "left": null,
      "margin": null,
      "max_height": null,
      "max_width": null,
      "min_height": null,
      "min_width": null,
      "object_fit": null,
      "object_position": null,
      "order": null,
      "overflow": null,
      "overflow_x": null,
      "overflow_y": null,
      "padding": null,
      "right": null,
      "top": null,
      "visibility": null,
      "width": null
     }
    },
    "72d729a490f841b580658ec1e0377501": {
     "model_module": "@jupyter-widgets/controls",
     "model_module_version": "1.5.0",
     "model_name": "HBoxModel",
     "state": {
      "_dom_classes": [],
      "_model_module": "@jupyter-widgets/controls",
      "_model_module_version": "1.5.0",
      "_model_name": "HBoxModel",
      "_view_count": null,
      "_view_module": "@jupyter-widgets/controls",
      "_view_module_version": "1.5.0",
      "_view_name": "HBoxView",
      "box_style": "",
      "children": [
       "IPY_MODEL_47b8aba3b25a434e88ca3002455dc9b7",
       "IPY_MODEL_e15c0bf57a1942b7937c0a15f7cf0b93",
       "IPY_MODEL_d4fe447f14d248c586ea3526db379cd4"
      ],
      "layout": "IPY_MODEL_062cd10c6afa4dff819032dc6ffaf194"
     }
    },
    "7654d1290b244af9a5e61b214886b963": {
     "model_module": "@jupyter-widgets/controls",
     "model_module_version": "1.5.0",
     "model_name": "ProgressStyleModel",
     "state": {
      "_model_module": "@jupyter-widgets/controls",
      "_model_module_version": "1.5.0",
      "_model_name": "ProgressStyleModel",
      "_view_count": null,
      "_view_module": "@jupyter-widgets/base",
      "_view_module_version": "1.2.0",
      "_view_name": "StyleView",
      "bar_color": null,
      "description_width": ""
     }
    },
    "76b4c57f4b554947a9afab27617e4f7e": {
     "model_module": "@jupyter-widgets/base",
     "model_module_version": "1.2.0",
     "model_name": "LayoutModel",
     "state": {
      "_model_module": "@jupyter-widgets/base",
      "_model_module_version": "1.2.0",
      "_model_name": "LayoutModel",
      "_view_count": null,
      "_view_module": "@jupyter-widgets/base",
      "_view_module_version": "1.2.0",
      "_view_name": "LayoutView",
      "align_content": null,
      "align_items": null,
      "align_self": null,
      "border": null,
      "bottom": null,
      "display": null,
      "flex": null,
      "flex_flow": null,
      "grid_area": null,
      "grid_auto_columns": null,
      "grid_auto_flow": null,
      "grid_auto_rows": null,
      "grid_column": null,
      "grid_gap": null,
      "grid_row": null,
      "grid_template_areas": null,
      "grid_template_columns": null,
      "grid_template_rows": null,
      "height": null,
      "justify_content": null,
      "justify_items": null,
      "left": null,
      "margin": null,
      "max_height": null,
      "max_width": null,
      "min_height": null,
      "min_width": null,
      "object_fit": null,
      "object_position": null,
      "order": null,
      "overflow": null,
      "overflow_x": null,
      "overflow_y": null,
      "padding": null,
      "right": null,
      "top": null,
      "visibility": null,
      "width": null
     }
    },
    "776feae4ccb341e58041702940c31818": {
     "model_module": "@jupyter-widgets/base",
     "model_module_version": "1.2.0",
     "model_name": "LayoutModel",
     "state": {
      "_model_module": "@jupyter-widgets/base",
      "_model_module_version": "1.2.0",
      "_model_name": "LayoutModel",
      "_view_count": null,
      "_view_module": "@jupyter-widgets/base",
      "_view_module_version": "1.2.0",
      "_view_name": "LayoutView",
      "align_content": null,
      "align_items": null,
      "align_self": null,
      "border": null,
      "bottom": null,
      "display": null,
      "flex": null,
      "flex_flow": null,
      "grid_area": null,
      "grid_auto_columns": null,
      "grid_auto_flow": null,
      "grid_auto_rows": null,
      "grid_column": null,
      "grid_gap": null,
      "grid_row": null,
      "grid_template_areas": null,
      "grid_template_columns": null,
      "grid_template_rows": null,
      "height": null,
      "justify_content": null,
      "justify_items": null,
      "left": null,
      "margin": null,
      "max_height": null,
      "max_width": null,
      "min_height": null,
      "min_width": null,
      "object_fit": null,
      "object_position": null,
      "order": null,
      "overflow": null,
      "overflow_x": null,
      "overflow_y": null,
      "padding": null,
      "right": null,
      "top": null,
      "visibility": null,
      "width": null
     }
    },
    "77822143bb6646debd616265ed836e20": {
     "model_module": "@jupyter-widgets/controls",
     "model_module_version": "1.5.0",
     "model_name": "HBoxModel",
     "state": {
      "_dom_classes": [],
      "_model_module": "@jupyter-widgets/controls",
      "_model_module_version": "1.5.0",
      "_model_name": "HBoxModel",
      "_view_count": null,
      "_view_module": "@jupyter-widgets/controls",
      "_view_module_version": "1.5.0",
      "_view_name": "HBoxView",
      "box_style": "",
      "children": [
       "IPY_MODEL_d02565a7f61d4045a610da009137b6df",
       "IPY_MODEL_c52bbd4b2daa4c85beb33b2c7a1c729e",
       "IPY_MODEL_0e872cf4710642bca899bc83f53f4025"
      ],
      "layout": "IPY_MODEL_b8c7283ef1bf424f8d342fb9bcc3f3a0"
     }
    },
    "77c8d1ddc8964d27bab46b27c3617221": {
     "model_module": "@jupyter-widgets/base",
     "model_module_version": "1.2.0",
     "model_name": "LayoutModel",
     "state": {
      "_model_module": "@jupyter-widgets/base",
      "_model_module_version": "1.2.0",
      "_model_name": "LayoutModel",
      "_view_count": null,
      "_view_module": "@jupyter-widgets/base",
      "_view_module_version": "1.2.0",
      "_view_name": "LayoutView",
      "align_content": null,
      "align_items": null,
      "align_self": null,
      "border": null,
      "bottom": null,
      "display": null,
      "flex": null,
      "flex_flow": null,
      "grid_area": null,
      "grid_auto_columns": null,
      "grid_auto_flow": null,
      "grid_auto_rows": null,
      "grid_column": null,
      "grid_gap": null,
      "grid_row": null,
      "grid_template_areas": null,
      "grid_template_columns": null,
      "grid_template_rows": null,
      "height": null,
      "justify_content": null,
      "justify_items": null,
      "left": null,
      "margin": null,
      "max_height": null,
      "max_width": null,
      "min_height": null,
      "min_width": null,
      "object_fit": null,
      "object_position": null,
      "order": null,
      "overflow": null,
      "overflow_x": null,
      "overflow_y": null,
      "padding": null,
      "right": null,
      "top": null,
      "visibility": null,
      "width": null
     }
    },
    "780f5ec0eb2b482aaeabe74801250c8e": {
     "model_module": "@jupyter-widgets/controls",
     "model_module_version": "1.5.0",
     "model_name": "HTMLModel",
     "state": {
      "_dom_classes": [],
      "_model_module": "@jupyter-widgets/controls",
      "_model_module_version": "1.5.0",
      "_model_name": "HTMLModel",
      "_view_count": null,
      "_view_module": "@jupyter-widgets/controls",
      "_view_module_version": "1.5.0",
      "_view_name": "HTMLView",
      "description": "",
      "description_tooltip": null,
      "layout": "IPY_MODEL_01865d3ebb5a48ee98e6c64fd0a1578d",
      "placeholder": "​",
      "style": "IPY_MODEL_5d0b4d722ea849de86e4f9eb6ff8e6c3",
      "value": " 1953/1953 [00:01&lt;00:00, 1362.92 examples/s]"
     }
    },
    "794d47bd7a05404ea6ff3fa71cac3c49": {
     "model_module": "@jupyter-widgets/controls",
     "model_module_version": "1.5.0",
     "model_name": "HTMLModel",
     "state": {
      "_dom_classes": [],
      "_model_module": "@jupyter-widgets/controls",
      "_model_module_version": "1.5.0",
      "_model_name": "HTMLModel",
      "_view_count": null,
      "_view_module": "@jupyter-widgets/controls",
      "_view_module_version": "1.5.0",
      "_view_name": "HTMLView",
      "description": "",
      "description_tooltip": null,
      "layout": "IPY_MODEL_e4c826ddaaac4f47a827ce341d4c895c",
      "placeholder": "​",
      "style": "IPY_MODEL_2e8a9570e93c4f468924924056dd35f3",
      "value": " 2000/2000 [00:01&lt;00:00, 1345.22 examples/s]"
     }
    },
    "7c16872ddebc42f9ab9d2118177981c5": {
     "model_module": "@jupyter-widgets/base",
     "model_module_version": "1.2.0",
     "model_name": "LayoutModel",
     "state": {
      "_model_module": "@jupyter-widgets/base",
      "_model_module_version": "1.2.0",
      "_model_name": "LayoutModel",
      "_view_count": null,
      "_view_module": "@jupyter-widgets/base",
      "_view_module_version": "1.2.0",
      "_view_name": "LayoutView",
      "align_content": null,
      "align_items": null,
      "align_self": null,
      "border": null,
      "bottom": null,
      "display": null,
      "flex": null,
      "flex_flow": null,
      "grid_area": null,
      "grid_auto_columns": null,
      "grid_auto_flow": null,
      "grid_auto_rows": null,
      "grid_column": null,
      "grid_gap": null,
      "grid_row": null,
      "grid_template_areas": null,
      "grid_template_columns": null,
      "grid_template_rows": null,
      "height": null,
      "justify_content": null,
      "justify_items": null,
      "left": null,
      "margin": null,
      "max_height": null,
      "max_width": null,
      "min_height": null,
      "min_width": null,
      "object_fit": null,
      "object_position": null,
      "order": null,
      "overflow": null,
      "overflow_x": null,
      "overflow_y": null,
      "padding": null,
      "right": null,
      "top": null,
      "visibility": null,
      "width": null
     }
    },
    "7d96154c51e64db9b7efb2a2ae511fe5": {
     "model_module": "@jupyter-widgets/base",
     "model_module_version": "1.2.0",
     "model_name": "LayoutModel",
     "state": {
      "_model_module": "@jupyter-widgets/base",
      "_model_module_version": "1.2.0",
      "_model_name": "LayoutModel",
      "_view_count": null,
      "_view_module": "@jupyter-widgets/base",
      "_view_module_version": "1.2.0",
      "_view_name": "LayoutView",
      "align_content": null,
      "align_items": null,
      "align_self": null,
      "border": null,
      "bottom": null,
      "display": null,
      "flex": null,
      "flex_flow": null,
      "grid_area": null,
      "grid_auto_columns": null,
      "grid_auto_flow": null,
      "grid_auto_rows": null,
      "grid_column": null,
      "grid_gap": null,
      "grid_row": null,
      "grid_template_areas": null,
      "grid_template_columns": null,
      "grid_template_rows": null,
      "height": null,
      "justify_content": null,
      "justify_items": null,
      "left": null,
      "margin": null,
      "max_height": null,
      "max_width": null,
      "min_height": null,
      "min_width": null,
      "object_fit": null,
      "object_position": null,
      "order": null,
      "overflow": null,
      "overflow_x": null,
      "overflow_y": null,
      "padding": null,
      "right": null,
      "top": null,
      "visibility": null,
      "width": null
     }
    },
    "7e2e5b1c75454960a78d731e65822bda": {
     "model_module": "@jupyter-widgets/base",
     "model_module_version": "1.2.0",
     "model_name": "LayoutModel",
     "state": {
      "_model_module": "@jupyter-widgets/base",
      "_model_module_version": "1.2.0",
      "_model_name": "LayoutModel",
      "_view_count": null,
      "_view_module": "@jupyter-widgets/base",
      "_view_module_version": "1.2.0",
      "_view_name": "LayoutView",
      "align_content": null,
      "align_items": null,
      "align_self": null,
      "border": null,
      "bottom": null,
      "display": null,
      "flex": null,
      "flex_flow": null,
      "grid_area": null,
      "grid_auto_columns": null,
      "grid_auto_flow": null,
      "grid_auto_rows": null,
      "grid_column": null,
      "grid_gap": null,
      "grid_row": null,
      "grid_template_areas": null,
      "grid_template_columns": null,
      "grid_template_rows": null,
      "height": null,
      "justify_content": null,
      "justify_items": null,
      "left": null,
      "margin": null,
      "max_height": null,
      "max_width": null,
      "min_height": null,
      "min_width": null,
      "object_fit": null,
      "object_position": null,
      "order": null,
      "overflow": null,
      "overflow_x": null,
      "overflow_y": null,
      "padding": null,
      "right": null,
      "top": null,
      "visibility": null,
      "width": null
     }
    },
    "80a3ec8b9f2a40d3b64e23f811c5515c": {
     "model_module": "@jupyter-widgets/controls",
     "model_module_version": "1.5.0",
     "model_name": "ProgressStyleModel",
     "state": {
      "_model_module": "@jupyter-widgets/controls",
      "_model_module_version": "1.5.0",
      "_model_name": "ProgressStyleModel",
      "_view_count": null,
      "_view_module": "@jupyter-widgets/base",
      "_view_module_version": "1.2.0",
      "_view_name": "StyleView",
      "bar_color": null,
      "description_width": ""
     }
    },
    "81a2f9179ee24e618e94084ba3e7c787": {
     "model_module": "@jupyter-widgets/controls",
     "model_module_version": "1.5.0",
     "model_name": "DescriptionStyleModel",
     "state": {
      "_model_module": "@jupyter-widgets/controls",
      "_model_module_version": "1.5.0",
      "_model_name": "DescriptionStyleModel",
      "_view_count": null,
      "_view_module": "@jupyter-widgets/base",
      "_view_module_version": "1.2.0",
      "_view_name": "StyleView",
      "description_width": ""
     }
    },
    "82a5863d4f3d4aa2801444d800fcab4c": {
     "model_module": "@jupyter-widgets/controls",
     "model_module_version": "1.5.0",
     "model_name": "DescriptionStyleModel",
     "state": {
      "_model_module": "@jupyter-widgets/controls",
      "_model_module_version": "1.5.0",
      "_model_name": "DescriptionStyleModel",
      "_view_count": null,
      "_view_module": "@jupyter-widgets/base",
      "_view_module_version": "1.2.0",
      "_view_name": "StyleView",
      "description_width": ""
     }
    },
    "83594fb03c084166b6a9e1d8cf3a6cc2": {
     "model_module": "@jupyter-widgets/controls",
     "model_module_version": "1.5.0",
     "model_name": "DescriptionStyleModel",
     "state": {
      "_model_module": "@jupyter-widgets/controls",
      "_model_module_version": "1.5.0",
      "_model_name": "DescriptionStyleModel",
      "_view_count": null,
      "_view_module": "@jupyter-widgets/base",
      "_view_module_version": "1.2.0",
      "_view_name": "StyleView",
      "description_width": ""
     }
    },
    "83919c35d39e4e61894846dfa6c0403c": {
     "model_module": "@jupyter-widgets/controls",
     "model_module_version": "1.5.0",
     "model_name": "FloatProgressModel",
     "state": {
      "_dom_classes": [],
      "_model_module": "@jupyter-widgets/controls",
      "_model_module_version": "1.5.0",
      "_model_name": "FloatProgressModel",
      "_view_count": null,
      "_view_module": "@jupyter-widgets/controls",
      "_view_module_version": "1.5.0",
      "_view_name": "ProgressView",
      "bar_style": "success",
      "description": "",
      "description_tooltip": null,
      "layout": "IPY_MODEL_e214e1a97cde41f68b3cb9d9afbcbffe",
      "max": 1959,
      "min": 0,
      "orientation": "horizontal",
      "style": "IPY_MODEL_36eb78efbfac41e0841502e9d77fa05e",
      "value": 1959
     }
    },
    "83a14948211c4a2e8392c0e8874f0591": {
     "model_module": "@jupyter-widgets/controls",
     "model_module_version": "1.5.0",
     "model_name": "HTMLModel",
     "state": {
      "_dom_classes": [],
      "_model_module": "@jupyter-widgets/controls",
      "_model_module_version": "1.5.0",
      "_model_name": "HTMLModel",
      "_view_count": null,
      "_view_module": "@jupyter-widgets/controls",
      "_view_module_version": "1.5.0",
      "_view_name": "HTMLView",
      "description": "",
      "description_tooltip": null,
      "layout": "IPY_MODEL_84bf24bebf2c4734843aeafefc41159a",
      "placeholder": "​",
      "style": "IPY_MODEL_fcaf37d18e61490cbc4326615a724eb8",
      "value": "Filter: 100%"
     }
    },
    "84bf24bebf2c4734843aeafefc41159a": {
     "model_module": "@jupyter-widgets/base",
     "model_module_version": "1.2.0",
     "model_name": "LayoutModel",
     "state": {
      "_model_module": "@jupyter-widgets/base",
      "_model_module_version": "1.2.0",
      "_model_name": "LayoutModel",
      "_view_count": null,
      "_view_module": "@jupyter-widgets/base",
      "_view_module_version": "1.2.0",
      "_view_name": "LayoutView",
      "align_content": null,
      "align_items": null,
      "align_self": null,
      "border": null,
      "bottom": null,
      "display": null,
      "flex": null,
      "flex_flow": null,
      "grid_area": null,
      "grid_auto_columns": null,
      "grid_auto_flow": null,
      "grid_auto_rows": null,
      "grid_column": null,
      "grid_gap": null,
      "grid_row": null,
      "grid_template_areas": null,
      "grid_template_columns": null,
      "grid_template_rows": null,
      "height": null,
      "justify_content": null,
      "justify_items": null,
      "left": null,
      "margin": null,
      "max_height": null,
      "max_width": null,
      "min_height": null,
      "min_width": null,
      "object_fit": null,
      "object_position": null,
      "order": null,
      "overflow": null,
      "overflow_x": null,
      "overflow_y": null,
      "padding": null,
      "right": null,
      "top": null,
      "visibility": null,
      "width": null
     }
    },
    "864c691101424627bb0006077af05a3a": {
     "model_module": "@jupyter-widgets/base",
     "model_module_version": "1.2.0",
     "model_name": "LayoutModel",
     "state": {
      "_model_module": "@jupyter-widgets/base",
      "_model_module_version": "1.2.0",
      "_model_name": "LayoutModel",
      "_view_count": null,
      "_view_module": "@jupyter-widgets/base",
      "_view_module_version": "1.2.0",
      "_view_name": "LayoutView",
      "align_content": null,
      "align_items": null,
      "align_self": null,
      "border": null,
      "bottom": null,
      "display": null,
      "flex": null,
      "flex_flow": null,
      "grid_area": null,
      "grid_auto_columns": null,
      "grid_auto_flow": null,
      "grid_auto_rows": null,
      "grid_column": null,
      "grid_gap": null,
      "grid_row": null,
      "grid_template_areas": null,
      "grid_template_columns": null,
      "grid_template_rows": null,
      "height": null,
      "justify_content": null,
      "justify_items": null,
      "left": null,
      "margin": null,
      "max_height": null,
      "max_width": null,
      "min_height": null,
      "min_width": null,
      "object_fit": null,
      "object_position": null,
      "order": null,
      "overflow": null,
      "overflow_x": null,
      "overflow_y": null,
      "padding": null,
      "right": null,
      "top": null,
      "visibility": null,
      "width": null
     }
    },
    "86a09c75549f448b89cebb12ac05272d": {
     "model_module": "@jupyter-widgets/base",
     "model_module_version": "1.2.0",
     "model_name": "LayoutModel",
     "state": {
      "_model_module": "@jupyter-widgets/base",
      "_model_module_version": "1.2.0",
      "_model_name": "LayoutModel",
      "_view_count": null,
      "_view_module": "@jupyter-widgets/base",
      "_view_module_version": "1.2.0",
      "_view_name": "LayoutView",
      "align_content": null,
      "align_items": null,
      "align_self": null,
      "border": null,
      "bottom": null,
      "display": null,
      "flex": null,
      "flex_flow": null,
      "grid_area": null,
      "grid_auto_columns": null,
      "grid_auto_flow": null,
      "grid_auto_rows": null,
      "grid_column": null,
      "grid_gap": null,
      "grid_row": null,
      "grid_template_areas": null,
      "grid_template_columns": null,
      "grid_template_rows": null,
      "height": null,
      "justify_content": null,
      "justify_items": null,
      "left": null,
      "margin": null,
      "max_height": null,
      "max_width": null,
      "min_height": null,
      "min_width": null,
      "object_fit": null,
      "object_position": null,
      "order": null,
      "overflow": null,
      "overflow_x": null,
      "overflow_y": null,
      "padding": null,
      "right": null,
      "top": null,
      "visibility": null,
      "width": null
     }
    },
    "87bd968f69e04056bfbcf891dccbbcee": {
     "model_module": "@jupyter-widgets/controls",
     "model_module_version": "1.5.0",
     "model_name": "HBoxModel",
     "state": {
      "_dom_classes": [],
      "_model_module": "@jupyter-widgets/controls",
      "_model_module_version": "1.5.0",
      "_model_name": "HBoxModel",
      "_view_count": null,
      "_view_module": "@jupyter-widgets/controls",
      "_view_module_version": "1.5.0",
      "_view_name": "HBoxView",
      "box_style": "",
      "children": [
       "IPY_MODEL_1465c6e5196d43c1979426ae71dc3da6",
       "IPY_MODEL_043b43937f1d40578db8d877f1680ec5",
       "IPY_MODEL_4b9d4c446ef84346b4531d8e332ffa72"
      ],
      "layout": "IPY_MODEL_2c326566c9ae4ca1a9210d9c30c277de"
     }
    },
    "881e9cb35f2148c195fac7a1e7718b99": {
     "model_module": "@jupyter-widgets/controls",
     "model_module_version": "1.5.0",
     "model_name": "HTMLModel",
     "state": {
      "_dom_classes": [],
      "_model_module": "@jupyter-widgets/controls",
      "_model_module_version": "1.5.0",
      "_model_name": "HTMLModel",
      "_view_count": null,
      "_view_module": "@jupyter-widgets/controls",
      "_view_module_version": "1.5.0",
      "_view_name": "HTMLView",
      "description": "",
      "description_tooltip": null,
      "layout": "IPY_MODEL_c2a67786fb6f46eb8072df98b6d5da8b",
      "placeholder": "​",
      "style": "IPY_MODEL_e51ada1a189c4533952ac824b9627a5d",
      "value": "Tokenizing train dataset: 100%"
     }
    },
    "8862427226124112af0416d43dc938e9": {
     "model_module": "@jupyter-widgets/controls",
     "model_module_version": "1.5.0",
     "model_name": "DescriptionStyleModel",
     "state": {
      "_model_module": "@jupyter-widgets/controls",
      "_model_module_version": "1.5.0",
      "_model_name": "DescriptionStyleModel",
      "_view_count": null,
      "_view_module": "@jupyter-widgets/base",
      "_view_module_version": "1.2.0",
      "_view_name": "StyleView",
      "description_width": ""
     }
    },
    "8ae15ce0457243a9a4b75eba79f2bd5a": {
     "model_module": "@jupyter-widgets/controls",
     "model_module_version": "1.5.0",
     "model_name": "DescriptionStyleModel",
     "state": {
      "_model_module": "@jupyter-widgets/controls",
      "_model_module_version": "1.5.0",
      "_model_name": "DescriptionStyleModel",
      "_view_count": null,
      "_view_module": "@jupyter-widgets/base",
      "_view_module_version": "1.2.0",
      "_view_name": "StyleView",
      "description_width": ""
     }
    },
    "8afc9ab6c87d4488a18fad8ec1cd1758": {
     "model_module": "@jupyter-widgets/base",
     "model_module_version": "1.2.0",
     "model_name": "LayoutModel",
     "state": {
      "_model_module": "@jupyter-widgets/base",
      "_model_module_version": "1.2.0",
      "_model_name": "LayoutModel",
      "_view_count": null,
      "_view_module": "@jupyter-widgets/base",
      "_view_module_version": "1.2.0",
      "_view_name": "LayoutView",
      "align_content": null,
      "align_items": null,
      "align_self": null,
      "border": null,
      "bottom": null,
      "display": null,
      "flex": null,
      "flex_flow": null,
      "grid_area": null,
      "grid_auto_columns": null,
      "grid_auto_flow": null,
      "grid_auto_rows": null,
      "grid_column": null,
      "grid_gap": null,
      "grid_row": null,
      "grid_template_areas": null,
      "grid_template_columns": null,
      "grid_template_rows": null,
      "height": null,
      "justify_content": null,
      "justify_items": null,
      "left": null,
      "margin": null,
      "max_height": null,
      "max_width": null,
      "min_height": null,
      "min_width": null,
      "object_fit": null,
      "object_position": null,
      "order": null,
      "overflow": null,
      "overflow_x": null,
      "overflow_y": null,
      "padding": null,
      "right": null,
      "top": null,
      "visibility": null,
      "width": null
     }
    },
    "8c488d6c01134814bd21e6c98bbf6ed6": {
     "model_module": "@jupyter-widgets/controls",
     "model_module_version": "1.5.0",
     "model_name": "DescriptionStyleModel",
     "state": {
      "_model_module": "@jupyter-widgets/controls",
      "_model_module_version": "1.5.0",
      "_model_name": "DescriptionStyleModel",
      "_view_count": null,
      "_view_module": "@jupyter-widgets/base",
      "_view_module_version": "1.2.0",
      "_view_name": "StyleView",
      "description_width": ""
     }
    },
    "8cbe7d97a3d64c2eac16fd3ef3356ce2": {
     "model_module": "@jupyter-widgets/controls",
     "model_module_version": "1.5.0",
     "model_name": "HTMLModel",
     "state": {
      "_dom_classes": [],
      "_model_module": "@jupyter-widgets/controls",
      "_model_module_version": "1.5.0",
      "_model_name": "HTMLModel",
      "_view_count": null,
      "_view_module": "@jupyter-widgets/controls",
      "_view_module_version": "1.5.0",
      "_view_name": "HTMLView",
      "description": "",
      "description_tooltip": null,
      "layout": "IPY_MODEL_b7dd1d85e9d3419790b09cc172522169",
      "placeholder": "​",
      "style": "IPY_MODEL_fca9c9d7213548b58ea7c610dc79cba1",
      "value": " 2000/2000 [00:01&lt;00:00, 1444.10 examples/s]"
     }
    },
    "8ec6b43f3a4f427db9b9b49f001e64ce": {
     "model_module": "@jupyter-widgets/controls",
     "model_module_version": "1.5.0",
     "model_name": "DescriptionStyleModel",
     "state": {
      "_model_module": "@jupyter-widgets/controls",
      "_model_module_version": "1.5.0",
      "_model_name": "DescriptionStyleModel",
      "_view_count": null,
      "_view_module": "@jupyter-widgets/base",
      "_view_module_version": "1.2.0",
      "_view_name": "StyleView",
      "description_width": ""
     }
    },
    "8f6cd3afda164aaab16f7683cbd8e3a6": {
     "model_module": "@jupyter-widgets/controls",
     "model_module_version": "1.5.0",
     "model_name": "HTMLModel",
     "state": {
      "_dom_classes": [],
      "_model_module": "@jupyter-widgets/controls",
      "_model_module_version": "1.5.0",
      "_model_name": "HTMLModel",
      "_view_count": null,
      "_view_module": "@jupyter-widgets/controls",
      "_view_module_version": "1.5.0",
      "_view_name": "HTMLView",
      "description": "",
      "description_tooltip": null,
      "layout": "IPY_MODEL_9ae11b4e2df44504b2f90c4c57f073f8",
      "placeholder": "​",
      "style": "IPY_MODEL_3516fde2cdae4f89babdf96b2d315ed0",
      "value": " 2/2 [00:05&lt;00:00,  2.32s/it]"
     }
    },
    "91ded5d819074de7911e7c57bfb55830": {
     "model_module": "@jupyter-widgets/controls",
     "model_module_version": "1.5.0",
     "model_name": "DescriptionStyleModel",
     "state": {
      "_model_module": "@jupyter-widgets/controls",
      "_model_module_version": "1.5.0",
      "_model_name": "DescriptionStyleModel",
      "_view_count": null,
      "_view_module": "@jupyter-widgets/base",
      "_view_module_version": "1.2.0",
      "_view_name": "StyleView",
      "description_width": ""
     }
    },
    "922e43bddeae44f2bdad9df2aa2634ed": {
     "model_module": "@jupyter-widgets/controls",
     "model_module_version": "1.5.0",
     "model_name": "FloatProgressModel",
     "state": {
      "_dom_classes": [],
      "_model_module": "@jupyter-widgets/controls",
      "_model_module_version": "1.5.0",
      "_model_name": "FloatProgressModel",
      "_view_count": null,
      "_view_module": "@jupyter-widgets/controls",
      "_view_module_version": "1.5.0",
      "_view_name": "ProgressView",
      "bar_style": "success",
      "description": "",
      "description_tooltip": null,
      "layout": "IPY_MODEL_129d56d993294aa29e72cb370494e8ba",
      "max": 1959,
      "min": 0,
      "orientation": "horizontal",
      "style": "IPY_MODEL_3be0b02f97b84fd9a29e4a46cdb8c7d2",
      "value": 1959
     }
    },
    "92fe5e128e904a03ac01f3585544ae13": {
     "model_module": "@jupyter-widgets/base",
     "model_module_version": "1.2.0",
     "model_name": "LayoutModel",
     "state": {
      "_model_module": "@jupyter-widgets/base",
      "_model_module_version": "1.2.0",
      "_model_name": "LayoutModel",
      "_view_count": null,
      "_view_module": "@jupyter-widgets/base",
      "_view_module_version": "1.2.0",
      "_view_name": "LayoutView",
      "align_content": null,
      "align_items": null,
      "align_self": null,
      "border": null,
      "bottom": null,
      "display": null,
      "flex": null,
      "flex_flow": null,
      "grid_area": null,
      "grid_auto_columns": null,
      "grid_auto_flow": null,
      "grid_auto_rows": null,
      "grid_column": null,
      "grid_gap": null,
      "grid_row": null,
      "grid_template_areas": null,
      "grid_template_columns": null,
      "grid_template_rows": null,
      "height": null,
      "justify_content": null,
      "justify_items": null,
      "left": null,
      "margin": null,
      "max_height": null,
      "max_width": null,
      "min_height": null,
      "min_width": null,
      "object_fit": null,
      "object_position": null,
      "order": null,
      "overflow": null,
      "overflow_x": null,
      "overflow_y": null,
      "padding": null,
      "right": null,
      "top": null,
      "visibility": null,
      "width": null
     }
    },
    "9446f997cb0b4e58b8862c3036722ca1": {
     "model_module": "@jupyter-widgets/base",
     "model_module_version": "1.2.0",
     "model_name": "LayoutModel",
     "state": {
      "_model_module": "@jupyter-widgets/base",
      "_model_module_version": "1.2.0",
      "_model_name": "LayoutModel",
      "_view_count": null,
      "_view_module": "@jupyter-widgets/base",
      "_view_module_version": "1.2.0",
      "_view_name": "LayoutView",
      "align_content": null,
      "align_items": null,
      "align_self": null,
      "border": null,
      "bottom": null,
      "display": null,
      "flex": null,
      "flex_flow": null,
      "grid_area": null,
      "grid_auto_columns": null,
      "grid_auto_flow": null,
      "grid_auto_rows": null,
      "grid_column": null,
      "grid_gap": null,
      "grid_row": null,
      "grid_template_areas": null,
      "grid_template_columns": null,
      "grid_template_rows": null,
      "height": null,
      "justify_content": null,
      "justify_items": null,
      "left": null,
      "margin": null,
      "max_height": null,
      "max_width": null,
      "min_height": null,
      "min_width": null,
      "object_fit": null,
      "object_position": null,
      "order": null,
      "overflow": null,
      "overflow_x": null,
      "overflow_y": null,
      "padding": null,
      "right": null,
      "top": null,
      "visibility": null,
      "width": null
     }
    },
    "9731727883574114a0073596b436729e": {
     "model_module": "@jupyter-widgets/controls",
     "model_module_version": "1.5.0",
     "model_name": "DescriptionStyleModel",
     "state": {
      "_model_module": "@jupyter-widgets/controls",
      "_model_module_version": "1.5.0",
      "_model_name": "DescriptionStyleModel",
      "_view_count": null,
      "_view_module": "@jupyter-widgets/base",
      "_view_module_version": "1.2.0",
      "_view_name": "StyleView",
      "description_width": ""
     }
    },
    "99673c1384dc4ec5b04415354fdaeadc": {
     "model_module": "@jupyter-widgets/controls",
     "model_module_version": "1.5.0",
     "model_name": "HTMLModel",
     "state": {
      "_dom_classes": [],
      "_model_module": "@jupyter-widgets/controls",
      "_model_module_version": "1.5.0",
      "_model_name": "HTMLModel",
      "_view_count": null,
      "_view_module": "@jupyter-widgets/controls",
      "_view_module_version": "1.5.0",
      "_view_name": "HTMLView",
      "description": "",
      "description_tooltip": null,
      "layout": "IPY_MODEL_e3ed70a029fe4c50a0e8636fc4908910",
      "placeholder": "​",
      "style": "IPY_MODEL_25458eaf2eab4ab58eee7cfc300a7b8c",
      "value": "Converting train dataset to ChatML: 100%"
     }
    },
    "9a561c1afe3e42ce8d2adbd6de0d3420": {
     "model_module": "@jupyter-widgets/controls",
     "model_module_version": "1.5.0",
     "model_name": "ProgressStyleModel",
     "state": {
      "_model_module": "@jupyter-widgets/controls",
      "_model_module_version": "1.5.0",
      "_model_name": "ProgressStyleModel",
      "_view_count": null,
      "_view_module": "@jupyter-widgets/base",
      "_view_module_version": "1.2.0",
      "_view_name": "StyleView",
      "bar_color": null,
      "description_width": ""
     }
    },
    "9a6f47778b6f4e118694ca0d2971dce4": {
     "model_module": "@jupyter-widgets/controls",
     "model_module_version": "1.5.0",
     "model_name": "HTMLModel",
     "state": {
      "_dom_classes": [],
      "_model_module": "@jupyter-widgets/controls",
      "_model_module_version": "1.5.0",
      "_model_name": "HTMLModel",
      "_view_count": null,
      "_view_module": "@jupyter-widgets/controls",
      "_view_module_version": "1.5.0",
      "_view_name": "HTMLView",
      "description": "",
      "description_tooltip": null,
      "layout": "IPY_MODEL_5644e910be2e4aa085966ba88c25fadc",
      "placeholder": "​",
      "style": "IPY_MODEL_4a7f10d5e9e243158f60402399efb205",
      "value": "Filter: 100%"
     }
    },
    "9ae11b4e2df44504b2f90c4c57f073f8": {
     "model_module": "@jupyter-widgets/base",
     "model_module_version": "1.2.0",
     "model_name": "LayoutModel",
     "state": {
      "_model_module": "@jupyter-widgets/base",
      "_model_module_version": "1.2.0",
      "_model_name": "LayoutModel",
      "_view_count": null,
      "_view_module": "@jupyter-widgets/base",
      "_view_module_version": "1.2.0",
      "_view_name": "LayoutView",
      "align_content": null,
      "align_items": null,
      "align_self": null,
      "border": null,
      "bottom": null,
      "display": null,
      "flex": null,
      "flex_flow": null,
      "grid_area": null,
      "grid_auto_columns": null,
      "grid_auto_flow": null,
      "grid_auto_rows": null,
      "grid_column": null,
      "grid_gap": null,
      "grid_row": null,
      "grid_template_areas": null,
      "grid_template_columns": null,
      "grid_template_rows": null,
      "height": null,
      "justify_content": null,
      "justify_items": null,
      "left": null,
      "margin": null,
      "max_height": null,
      "max_width": null,
      "min_height": null,
      "min_width": null,
      "object_fit": null,
      "object_position": null,
      "order": null,
      "overflow": null,
      "overflow_x": null,
      "overflow_y": null,
      "padding": null,
      "right": null,
      "top": null,
      "visibility": null,
      "width": null
     }
    },
    "9d3196e65a7147b98fff10a6eddfc1d1": {
     "model_module": "@jupyter-widgets/base",
     "model_module_version": "1.2.0",
     "model_name": "LayoutModel",
     "state": {
      "_model_module": "@jupyter-widgets/base",
      "_model_module_version": "1.2.0",
      "_model_name": "LayoutModel",
      "_view_count": null,
      "_view_module": "@jupyter-widgets/base",
      "_view_module_version": "1.2.0",
      "_view_name": "LayoutView",
      "align_content": null,
      "align_items": null,
      "align_self": null,
      "border": null,
      "bottom": null,
      "display": null,
      "flex": null,
      "flex_flow": null,
      "grid_area": null,
      "grid_auto_columns": null,
      "grid_auto_flow": null,
      "grid_auto_rows": null,
      "grid_column": null,
      "grid_gap": null,
      "grid_row": null,
      "grid_template_areas": null,
      "grid_template_columns": null,
      "grid_template_rows": null,
      "height": null,
      "justify_content": null,
      "justify_items": null,
      "left": null,
      "margin": null,
      "max_height": null,
      "max_width": null,
      "min_height": null,
      "min_width": null,
      "object_fit": null,
      "object_position": null,
      "order": null,
      "overflow": null,
      "overflow_x": null,
      "overflow_y": null,
      "padding": null,
      "right": null,
      "top": null,
      "visibility": null,
      "width": null
     }
    },
    "9f974ba241094faeab34300541936f63": {
     "model_module": "@jupyter-widgets/controls",
     "model_module_version": "1.5.0",
     "model_name": "FloatProgressModel",
     "state": {
      "_dom_classes": [],
      "_model_module": "@jupyter-widgets/controls",
      "_model_module_version": "1.5.0",
      "_model_name": "FloatProgressModel",
      "_view_count": null,
      "_view_module": "@jupyter-widgets/controls",
      "_view_module_version": "1.5.0",
      "_view_name": "ProgressView",
      "bar_style": "success",
      "description": "",
      "description_tooltip": null,
      "layout": "IPY_MODEL_76b4c57f4b554947a9afab27617e4f7e",
      "max": 1953,
      "min": 0,
      "orientation": "horizontal",
      "style": "IPY_MODEL_7654d1290b244af9a5e61b214886b963",
      "value": 1953
     }
    },
    "a2a18be226744a158591b24675bbaf6b": {
     "model_module": "@jupyter-widgets/controls",
     "model_module_version": "1.5.0",
     "model_name": "FloatProgressModel",
     "state": {
      "_dom_classes": [],
      "_model_module": "@jupyter-widgets/controls",
      "_model_module_version": "1.5.0",
      "_model_name": "FloatProgressModel",
      "_view_count": null,
      "_view_module": "@jupyter-widgets/controls",
      "_view_module_version": "1.5.0",
      "_view_name": "ProgressView",
      "bar_style": "success",
      "description": "",
      "description_tooltip": null,
      "layout": "IPY_MODEL_441317d5ccf94a58856e7f57269c7b7b",
      "max": 1953,
      "min": 0,
      "orientation": "horizontal",
      "style": "IPY_MODEL_c5414ecc2b6b4b08b5276fff399870db",
      "value": 1953
     }
    },
    "a34cd51c35a345e1a3e59c274eb0f5c0": {
     "model_module": "@jupyter-widgets/controls",
     "model_module_version": "1.5.0",
     "model_name": "FloatProgressModel",
     "state": {
      "_dom_classes": [],
      "_model_module": "@jupyter-widgets/controls",
      "_model_module_version": "1.5.0",
      "_model_name": "FloatProgressModel",
      "_view_count": null,
      "_view_module": "@jupyter-widgets/controls",
      "_view_module_version": "1.5.0",
      "_view_name": "ProgressView",
      "bar_style": "success",
      "description": "",
      "description_tooltip": null,
      "layout": "IPY_MODEL_1f72e363f7c646e1a59236d2008a9754",
      "max": 1959,
      "min": 0,
      "orientation": "horizontal",
      "style": "IPY_MODEL_9a561c1afe3e42ce8d2adbd6de0d3420",
      "value": 1959
     }
    },
    "a70805e4e7d34544944b7e8310dc5ba9": {
     "model_module": "@jupyter-widgets/base",
     "model_module_version": "1.2.0",
     "model_name": "LayoutModel",
     "state": {
      "_model_module": "@jupyter-widgets/base",
      "_model_module_version": "1.2.0",
      "_model_name": "LayoutModel",
      "_view_count": null,
      "_view_module": "@jupyter-widgets/base",
      "_view_module_version": "1.2.0",
      "_view_name": "LayoutView",
      "align_content": null,
      "align_items": null,
      "align_self": null,
      "border": null,
      "bottom": null,
      "display": null,
      "flex": null,
      "flex_flow": null,
      "grid_area": null,
      "grid_auto_columns": null,
      "grid_auto_flow": null,
      "grid_auto_rows": null,
      "grid_column": null,
      "grid_gap": null,
      "grid_row": null,
      "grid_template_areas": null,
      "grid_template_columns": null,
      "grid_template_rows": null,
      "height": null,
      "justify_content": null,
      "justify_items": null,
      "left": null,
      "margin": null,
      "max_height": null,
      "max_width": null,
      "min_height": null,
      "min_width": null,
      "object_fit": null,
      "object_position": null,
      "order": null,
      "overflow": null,
      "overflow_x": null,
      "overflow_y": null,
      "padding": null,
      "right": null,
      "top": null,
      "visibility": null,
      "width": null
     }
    },
    "a82d8cf2bbf14f78a368fb3e6449253d": {
     "model_module": "@jupyter-widgets/controls",
     "model_module_version": "1.5.0",
     "model_name": "DescriptionStyleModel",
     "state": {
      "_model_module": "@jupyter-widgets/controls",
      "_model_module_version": "1.5.0",
      "_model_name": "DescriptionStyleModel",
      "_view_count": null,
      "_view_module": "@jupyter-widgets/base",
      "_view_module_version": "1.2.0",
      "_view_name": "StyleView",
      "description_width": ""
     }
    },
    "acde36380bc24c9f8ca185e6e60d57b8": {
     "model_module": "@jupyter-widgets/controls",
     "model_module_version": "1.5.0",
     "model_name": "ProgressStyleModel",
     "state": {
      "_model_module": "@jupyter-widgets/controls",
      "_model_module_version": "1.5.0",
      "_model_name": "ProgressStyleModel",
      "_view_count": null,
      "_view_module": "@jupyter-widgets/base",
      "_view_module_version": "1.2.0",
      "_view_name": "StyleView",
      "bar_color": null,
      "description_width": ""
     }
    },
    "adfb664e3b6d410e8a857508b47779e1": {
     "model_module": "@jupyter-widgets/controls",
     "model_module_version": "1.5.0",
     "model_name": "DescriptionStyleModel",
     "state": {
      "_model_module": "@jupyter-widgets/controls",
      "_model_module_version": "1.5.0",
      "_model_name": "DescriptionStyleModel",
      "_view_count": null,
      "_view_module": "@jupyter-widgets/base",
      "_view_module_version": "1.2.0",
      "_view_name": "StyleView",
      "description_width": ""
     }
    },
    "ae049916dfae44eab06911f598d843a8": {
     "model_module": "@jupyter-widgets/base",
     "model_module_version": "1.2.0",
     "model_name": "LayoutModel",
     "state": {
      "_model_module": "@jupyter-widgets/base",
      "_model_module_version": "1.2.0",
      "_model_name": "LayoutModel",
      "_view_count": null,
      "_view_module": "@jupyter-widgets/base",
      "_view_module_version": "1.2.0",
      "_view_name": "LayoutView",
      "align_content": null,
      "align_items": null,
      "align_self": null,
      "border": null,
      "bottom": null,
      "display": null,
      "flex": null,
      "flex_flow": null,
      "grid_area": null,
      "grid_auto_columns": null,
      "grid_auto_flow": null,
      "grid_auto_rows": null,
      "grid_column": null,
      "grid_gap": null,
      "grid_row": null,
      "grid_template_areas": null,
      "grid_template_columns": null,
      "grid_template_rows": null,
      "height": null,
      "justify_content": null,
      "justify_items": null,
      "left": null,
      "margin": null,
      "max_height": null,
      "max_width": null,
      "min_height": null,
      "min_width": null,
      "object_fit": null,
      "object_position": null,
      "order": null,
      "overflow": null,
      "overflow_x": null,
      "overflow_y": null,
      "padding": null,
      "right": null,
      "top": null,
      "visibility": null,
      "width": null
     }
    },
    "ae777982bff24095962f7cf10ac7e991": {
     "model_module": "@jupyter-widgets/controls",
     "model_module_version": "1.5.0",
     "model_name": "HTMLModel",
     "state": {
      "_dom_classes": [],
      "_model_module": "@jupyter-widgets/controls",
      "_model_module_version": "1.5.0",
      "_model_name": "HTMLModel",
      "_view_count": null,
      "_view_module": "@jupyter-widgets/controls",
      "_view_module_version": "1.5.0",
      "_view_name": "HTMLView",
      "description": "",
      "description_tooltip": null,
      "layout": "IPY_MODEL_b1b362b44ca049178f42c11bac33eaa0",
      "placeholder": "​",
      "style": "IPY_MODEL_a82d8cf2bbf14f78a368fb3e6449253d",
      "value": "Tokenizing eval dataset: 100%"
     }
    },
    "ae891f0547c54995957e5cdf4ebb741a": {
     "model_module": "@jupyter-widgets/controls",
     "model_module_version": "1.5.0",
     "model_name": "DescriptionStyleModel",
     "state": {
      "_model_module": "@jupyter-widgets/controls",
      "_model_module_version": "1.5.0",
      "_model_name": "DescriptionStyleModel",
      "_view_count": null,
      "_view_module": "@jupyter-widgets/base",
      "_view_module_version": "1.2.0",
      "_view_name": "StyleView",
      "description_width": ""
     }
    },
    "aef5bfb6981e4e83b058a2d675781833": {
     "model_module": "@jupyter-widgets/controls",
     "model_module_version": "1.5.0",
     "model_name": "HTMLModel",
     "state": {
      "_dom_classes": [],
      "_model_module": "@jupyter-widgets/controls",
      "_model_module_version": "1.5.0",
      "_model_name": "HTMLModel",
      "_view_count": null,
      "_view_module": "@jupyter-widgets/controls",
      "_view_module_version": "1.5.0",
      "_view_name": "HTMLView",
      "description": "",
      "description_tooltip": null,
      "layout": "IPY_MODEL_0454a58fe2a04011bdd4ae68d3655afe",
      "placeholder": "​",
      "style": "IPY_MODEL_adfb664e3b6d410e8a857508b47779e1",
      "value": " 1953/1953 [00:00&lt;00:00, 20877.61 examples/s]"
     }
    },
    "af942120b4e941f6a835bd795899a31c": {
     "model_module": "@jupyter-widgets/controls",
     "model_module_version": "1.5.0",
     "model_name": "HTMLModel",
     "state": {
      "_dom_classes": [],
      "_model_module": "@jupyter-widgets/controls",
      "_model_module_version": "1.5.0",
      "_model_name": "HTMLModel",
      "_view_count": null,
      "_view_module": "@jupyter-widgets/controls",
      "_view_module_version": "1.5.0",
      "_view_name": "HTMLView",
      "description": "",
      "description_tooltip": null,
      "layout": "IPY_MODEL_16f3b427f79c45e19c23227f7ab2b6da",
      "placeholder": "​",
      "style": "IPY_MODEL_df29187a919246cc92cbbc2010d9727a",
      "value": "Adding EOS to train dataset: 100%"
     }
    },
    "af992b8afd244ff8b225ec27721caefc": {
     "model_module": "@jupyter-widgets/base",
     "model_module_version": "1.2.0",
     "model_name": "LayoutModel",
     "state": {
      "_model_module": "@jupyter-widgets/base",
      "_model_module_version": "1.2.0",
      "_model_name": "LayoutModel",
      "_view_count": null,
      "_view_module": "@jupyter-widgets/base",
      "_view_module_version": "1.2.0",
      "_view_name": "LayoutView",
      "align_content": null,
      "align_items": null,
      "align_self": null,
      "border": null,
      "bottom": null,
      "display": null,
      "flex": null,
      "flex_flow": null,
      "grid_area": null,
      "grid_auto_columns": null,
      "grid_auto_flow": null,
      "grid_auto_rows": null,
      "grid_column": null,
      "grid_gap": null,
      "grid_row": null,
      "grid_template_areas": null,
      "grid_template_columns": null,
      "grid_template_rows": null,
      "height": null,
      "justify_content": null,
      "justify_items": null,
      "left": null,
      "margin": null,
      "max_height": null,
      "max_width": null,
      "min_height": null,
      "min_width": null,
      "object_fit": null,
      "object_position": null,
      "order": null,
      "overflow": null,
      "overflow_x": null,
      "overflow_y": null,
      "padding": null,
      "right": null,
      "top": null,
      "visibility": null,
      "width": null
     }
    },
    "b1b362b44ca049178f42c11bac33eaa0": {
     "model_module": "@jupyter-widgets/base",
     "model_module_version": "1.2.0",
     "model_name": "LayoutModel",
     "state": {
      "_model_module": "@jupyter-widgets/base",
      "_model_module_version": "1.2.0",
      "_model_name": "LayoutModel",
      "_view_count": null,
      "_view_module": "@jupyter-widgets/base",
      "_view_module_version": "1.2.0",
      "_view_name": "LayoutView",
      "align_content": null,
      "align_items": null,
      "align_self": null,
      "border": null,
      "bottom": null,
      "display": null,
      "flex": null,
      "flex_flow": null,
      "grid_area": null,
      "grid_auto_columns": null,
      "grid_auto_flow": null,
      "grid_auto_rows": null,
      "grid_column": null,
      "grid_gap": null,
      "grid_row": null,
      "grid_template_areas": null,
      "grid_template_columns": null,
      "grid_template_rows": null,
      "height": null,
      "justify_content": null,
      "justify_items": null,
      "left": null,
      "margin": null,
      "max_height": null,
      "max_width": null,
      "min_height": null,
      "min_width": null,
      "object_fit": null,
      "object_position": null,
      "order": null,
      "overflow": null,
      "overflow_x": null,
      "overflow_y": null,
      "padding": null,
      "right": null,
      "top": null,
      "visibility": null,
      "width": null
     }
    },
    "b2485a81c72a442794275b674204705f": {
     "model_module": "@jupyter-widgets/controls",
     "model_module_version": "1.5.0",
     "model_name": "DescriptionStyleModel",
     "state": {
      "_model_module": "@jupyter-widgets/controls",
      "_model_module_version": "1.5.0",
      "_model_name": "DescriptionStyleModel",
      "_view_count": null,
      "_view_module": "@jupyter-widgets/base",
      "_view_module_version": "1.2.0",
      "_view_name": "StyleView",
      "description_width": ""
     }
    },
    "b409a88a4e994c338b9ed462911d15c6": {
     "model_module": "@jupyter-widgets/controls",
     "model_module_version": "1.5.0",
     "model_name": "FloatProgressModel",
     "state": {
      "_dom_classes": [],
      "_model_module": "@jupyter-widgets/controls",
      "_model_module_version": "1.5.0",
      "_model_name": "FloatProgressModel",
      "_view_count": null,
      "_view_module": "@jupyter-widgets/controls",
      "_view_module_version": "1.5.0",
      "_view_name": "ProgressView",
      "bar_style": "success",
      "description": "",
      "description_tooltip": null,
      "layout": "IPY_MODEL_ef20cc645f81423589779f6eaf5a6a07",
      "max": 6785,
      "min": 0,
      "orientation": "horizontal",
      "style": "IPY_MODEL_bd8169d622f247f5ad78838a7cc0f6d1",
      "value": 6785
     }
    },
    "b4f1b51917614d4ca320fd9f0a70670b": {
     "model_module": "@jupyter-widgets/base",
     "model_module_version": "1.2.0",
     "model_name": "LayoutModel",
     "state": {
      "_model_module": "@jupyter-widgets/base",
      "_model_module_version": "1.2.0",
      "_model_name": "LayoutModel",
      "_view_count": null,
      "_view_module": "@jupyter-widgets/base",
      "_view_module_version": "1.2.0",
      "_view_name": "LayoutView",
      "align_content": null,
      "align_items": null,
      "align_self": null,
      "border": null,
      "bottom": null,
      "display": null,
      "flex": null,
      "flex_flow": null,
      "grid_area": null,
      "grid_auto_columns": null,
      "grid_auto_flow": null,
      "grid_auto_rows": null,
      "grid_column": null,
      "grid_gap": null,
      "grid_row": null,
      "grid_template_areas": null,
      "grid_template_columns": null,
      "grid_template_rows": null,
      "height": null,
      "justify_content": null,
      "justify_items": null,
      "left": null,
      "margin": null,
      "max_height": null,
      "max_width": null,
      "min_height": null,
      "min_width": null,
      "object_fit": null,
      "object_position": null,
      "order": null,
      "overflow": null,
      "overflow_x": null,
      "overflow_y": null,
      "padding": null,
      "right": null,
      "top": null,
      "visibility": null,
      "width": null
     }
    },
    "b5bb2918c9024bec892772a8a33683e5": {
     "model_module": "@jupyter-widgets/base",
     "model_module_version": "1.2.0",
     "model_name": "LayoutModel",
     "state": {
      "_model_module": "@jupyter-widgets/base",
      "_model_module_version": "1.2.0",
      "_model_name": "LayoutModel",
      "_view_count": null,
      "_view_module": "@jupyter-widgets/base",
      "_view_module_version": "1.2.0",
      "_view_name": "LayoutView",
      "align_content": null,
      "align_items": null,
      "align_self": null,
      "border": null,
      "bottom": null,
      "display": null,
      "flex": null,
      "flex_flow": null,
      "grid_area": null,
      "grid_auto_columns": null,
      "grid_auto_flow": null,
      "grid_auto_rows": null,
      "grid_column": null,
      "grid_gap": null,
      "grid_row": null,
      "grid_template_areas": null,
      "grid_template_columns": null,
      "grid_template_rows": null,
      "height": null,
      "justify_content": null,
      "justify_items": null,
      "left": null,
      "margin": null,
      "max_height": null,
      "max_width": null,
      "min_height": null,
      "min_width": null,
      "object_fit": null,
      "object_position": null,
      "order": null,
      "overflow": null,
      "overflow_x": null,
      "overflow_y": null,
      "padding": null,
      "right": null,
      "top": null,
      "visibility": null,
      "width": null
     }
    },
    "b6330b98df204c3e810da4ac43b457a2": {
     "model_module": "@jupyter-widgets/controls",
     "model_module_version": "1.5.0",
     "model_name": "ProgressStyleModel",
     "state": {
      "_model_module": "@jupyter-widgets/controls",
      "_model_module_version": "1.5.0",
      "_model_name": "ProgressStyleModel",
      "_view_count": null,
      "_view_module": "@jupyter-widgets/base",
      "_view_module_version": "1.2.0",
      "_view_name": "StyleView",
      "bar_color": null,
      "description_width": ""
     }
    },
    "b7dd1d85e9d3419790b09cc172522169": {
     "model_module": "@jupyter-widgets/base",
     "model_module_version": "1.2.0",
     "model_name": "LayoutModel",
     "state": {
      "_model_module": "@jupyter-widgets/base",
      "_model_module_version": "1.2.0",
      "_model_name": "LayoutModel",
      "_view_count": null,
      "_view_module": "@jupyter-widgets/base",
      "_view_module_version": "1.2.0",
      "_view_name": "LayoutView",
      "align_content": null,
      "align_items": null,
      "align_self": null,
      "border": null,
      "bottom": null,
      "display": null,
      "flex": null,
      "flex_flow": null,
      "grid_area": null,
      "grid_auto_columns": null,
      "grid_auto_flow": null,
      "grid_auto_rows": null,
      "grid_column": null,
      "grid_gap": null,
      "grid_row": null,
      "grid_template_areas": null,
      "grid_template_columns": null,
      "grid_template_rows": null,
      "height": null,
      "justify_content": null,
      "justify_items": null,
      "left": null,
      "margin": null,
      "max_height": null,
      "max_width": null,
      "min_height": null,
      "min_width": null,
      "object_fit": null,
      "object_position": null,
      "order": null,
      "overflow": null,
      "overflow_x": null,
      "overflow_y": null,
      "padding": null,
      "right": null,
      "top": null,
      "visibility": null,
      "width": null
     }
    },
    "b8c7283ef1bf424f8d342fb9bcc3f3a0": {
     "model_module": "@jupyter-widgets/base",
     "model_module_version": "1.2.0",
     "model_name": "LayoutModel",
     "state": {
      "_model_module": "@jupyter-widgets/base",
      "_model_module_version": "1.2.0",
      "_model_name": "LayoutModel",
      "_view_count": null,
      "_view_module": "@jupyter-widgets/base",
      "_view_module_version": "1.2.0",
      "_view_name": "LayoutView",
      "align_content": null,
      "align_items": null,
      "align_self": null,
      "border": null,
      "bottom": null,
      "display": null,
      "flex": null,
      "flex_flow": null,
      "grid_area": null,
      "grid_auto_columns": null,
      "grid_auto_flow": null,
      "grid_auto_rows": null,
      "grid_column": null,
      "grid_gap": null,
      "grid_row": null,
      "grid_template_areas": null,
      "grid_template_columns": null,
      "grid_template_rows": null,
      "height": null,
      "justify_content": null,
      "justify_items": null,
      "left": null,
      "margin": null,
      "max_height": null,
      "max_width": null,
      "min_height": null,
      "min_width": null,
      "object_fit": null,
      "object_position": null,
      "order": null,
      "overflow": null,
      "overflow_x": null,
      "overflow_y": null,
      "padding": null,
      "right": null,
      "top": null,
      "visibility": null,
      "width": null
     }
    },
    "bc8cbf1cb95b4fea835f160455e88634": {
     "model_module": "@jupyter-widgets/base",
     "model_module_version": "1.2.0",
     "model_name": "LayoutModel",
     "state": {
      "_model_module": "@jupyter-widgets/base",
      "_model_module_version": "1.2.0",
      "_model_name": "LayoutModel",
      "_view_count": null,
      "_view_module": "@jupyter-widgets/base",
      "_view_module_version": "1.2.0",
      "_view_name": "LayoutView",
      "align_content": null,
      "align_items": null,
      "align_self": null,
      "border": null,
      "bottom": null,
      "display": null,
      "flex": null,
      "flex_flow": null,
      "grid_area": null,
      "grid_auto_columns": null,
      "grid_auto_flow": null,
      "grid_auto_rows": null,
      "grid_column": null,
      "grid_gap": null,
      "grid_row": null,
      "grid_template_areas": null,
      "grid_template_columns": null,
      "grid_template_rows": null,
      "height": null,
      "justify_content": null,
      "justify_items": null,
      "left": null,
      "margin": null,
      "max_height": null,
      "max_width": null,
      "min_height": null,
      "min_width": null,
      "object_fit": null,
      "object_position": null,
      "order": null,
      "overflow": null,
      "overflow_x": null,
      "overflow_y": null,
      "padding": null,
      "right": null,
      "top": null,
      "visibility": null,
      "width": null
     }
    },
    "bca304c2bb3240a1a3d1609be6db675c": {
     "model_module": "@jupyter-widgets/controls",
     "model_module_version": "1.5.0",
     "model_name": "HTMLModel",
     "state": {
      "_dom_classes": [],
      "_model_module": "@jupyter-widgets/controls",
      "_model_module_version": "1.5.0",
      "_model_name": "HTMLModel",
      "_view_count": null,
      "_view_module": "@jupyter-widgets/controls",
      "_view_module_version": "1.5.0",
      "_view_name": "HTMLView",
      "description": "",
      "description_tooltip": null,
      "layout": "IPY_MODEL_e09646745f5f48bd912e94f9e3315493",
      "placeholder": "​",
      "style": "IPY_MODEL_c27bc89c598b483cb4b42795435d6e7a",
      "value": "Downloading builder script: 100%"
     }
    },
    "bcac559a44ff45f8b6b7bfeabeb061e5": {
     "model_module": "@jupyter-widgets/base",
     "model_module_version": "1.2.0",
     "model_name": "LayoutModel",
     "state": {
      "_model_module": "@jupyter-widgets/base",
      "_model_module_version": "1.2.0",
      "_model_name": "LayoutModel",
      "_view_count": null,
      "_view_module": "@jupyter-widgets/base",
      "_view_module_version": "1.2.0",
      "_view_name": "LayoutView",
      "align_content": null,
      "align_items": null,
      "align_self": null,
      "border": null,
      "bottom": null,
      "display": null,
      "flex": null,
      "flex_flow": null,
      "grid_area": null,
      "grid_auto_columns": null,
      "grid_auto_flow": null,
      "grid_auto_rows": null,
      "grid_column": null,
      "grid_gap": null,
      "grid_row": null,
      "grid_template_areas": null,
      "grid_template_columns": null,
      "grid_template_rows": null,
      "height": null,
      "justify_content": null,
      "justify_items": null,
      "left": null,
      "margin": null,
      "max_height": null,
      "max_width": null,
      "min_height": null,
      "min_width": null,
      "object_fit": null,
      "object_position": null,
      "order": null,
      "overflow": null,
      "overflow_x": null,
      "overflow_y": null,
      "padding": null,
      "right": null,
      "top": null,
      "visibility": null,
      "width": null
     }
    },
    "bce701a734eb4e9c83b95313eca78f35": {
     "model_module": "@jupyter-widgets/base",
     "model_module_version": "1.2.0",
     "model_name": "LayoutModel",
     "state": {
      "_model_module": "@jupyter-widgets/base",
      "_model_module_version": "1.2.0",
      "_model_name": "LayoutModel",
      "_view_count": null,
      "_view_module": "@jupyter-widgets/base",
      "_view_module_version": "1.2.0",
      "_view_name": "LayoutView",
      "align_content": null,
      "align_items": null,
      "align_self": null,
      "border": null,
      "bottom": null,
      "display": null,
      "flex": null,
      "flex_flow": null,
      "grid_area": null,
      "grid_auto_columns": null,
      "grid_auto_flow": null,
      "grid_auto_rows": null,
      "grid_column": null,
      "grid_gap": null,
      "grid_row": null,
      "grid_template_areas": null,
      "grid_template_columns": null,
      "grid_template_rows": null,
      "height": null,
      "justify_content": null,
      "justify_items": null,
      "left": null,
      "margin": null,
      "max_height": null,
      "max_width": null,
      "min_height": null,
      "min_width": null,
      "object_fit": null,
      "object_position": null,
      "order": null,
      "overflow": null,
      "overflow_x": null,
      "overflow_y": null,
      "padding": null,
      "right": null,
      "top": null,
      "visibility": null,
      "width": null
     }
    },
    "bd8169d622f247f5ad78838a7cc0f6d1": {
     "model_module": "@jupyter-widgets/controls",
     "model_module_version": "1.5.0",
     "model_name": "ProgressStyleModel",
     "state": {
      "_model_module": "@jupyter-widgets/controls",
      "_model_module_version": "1.5.0",
      "_model_name": "ProgressStyleModel",
      "_view_count": null,
      "_view_module": "@jupyter-widgets/base",
      "_view_module_version": "1.2.0",
      "_view_name": "StyleView",
      "bar_color": null,
      "description_width": ""
     }
    },
    "bfdce867faa44077a0f9cce5e58b6025": {
     "model_module": "@jupyter-widgets/base",
     "model_module_version": "1.2.0",
     "model_name": "LayoutModel",
     "state": {
      "_model_module": "@jupyter-widgets/base",
      "_model_module_version": "1.2.0",
      "_model_name": "LayoutModel",
      "_view_count": null,
      "_view_module": "@jupyter-widgets/base",
      "_view_module_version": "1.2.0",
      "_view_name": "LayoutView",
      "align_content": null,
      "align_items": null,
      "align_self": null,
      "border": null,
      "bottom": null,
      "display": null,
      "flex": null,
      "flex_flow": null,
      "grid_area": null,
      "grid_auto_columns": null,
      "grid_auto_flow": null,
      "grid_auto_rows": null,
      "grid_column": null,
      "grid_gap": null,
      "grid_row": null,
      "grid_template_areas": null,
      "grid_template_columns": null,
      "grid_template_rows": null,
      "height": null,
      "justify_content": null,
      "justify_items": null,
      "left": null,
      "margin": null,
      "max_height": null,
      "max_width": null,
      "min_height": null,
      "min_width": null,
      "object_fit": null,
      "object_position": null,
      "order": null,
      "overflow": null,
      "overflow_x": null,
      "overflow_y": null,
      "padding": null,
      "right": null,
      "top": null,
      "visibility": null,
      "width": null
     }
    },
    "c01e66cd9de24f67b308359b457db42c": {
     "model_module": "@jupyter-widgets/controls",
     "model_module_version": "1.5.0",
     "model_name": "DescriptionStyleModel",
     "state": {
      "_model_module": "@jupyter-widgets/controls",
      "_model_module_version": "1.5.0",
      "_model_name": "DescriptionStyleModel",
      "_view_count": null,
      "_view_module": "@jupyter-widgets/base",
      "_view_module_version": "1.2.0",
      "_view_name": "StyleView",
      "description_width": ""
     }
    },
    "c27bc89c598b483cb4b42795435d6e7a": {
     "model_module": "@jupyter-widgets/controls",
     "model_module_version": "1.5.0",
     "model_name": "DescriptionStyleModel",
     "state": {
      "_model_module": "@jupyter-widgets/controls",
      "_model_module_version": "1.5.0",
      "_model_name": "DescriptionStyleModel",
      "_view_count": null,
      "_view_module": "@jupyter-widgets/base",
      "_view_module_version": "1.2.0",
      "_view_name": "StyleView",
      "description_width": ""
     }
    },
    "c2a67786fb6f46eb8072df98b6d5da8b": {
     "model_module": "@jupyter-widgets/base",
     "model_module_version": "1.2.0",
     "model_name": "LayoutModel",
     "state": {
      "_model_module": "@jupyter-widgets/base",
      "_model_module_version": "1.2.0",
      "_model_name": "LayoutModel",
      "_view_count": null,
      "_view_module": "@jupyter-widgets/base",
      "_view_module_version": "1.2.0",
      "_view_name": "LayoutView",
      "align_content": null,
      "align_items": null,
      "align_self": null,
      "border": null,
      "bottom": null,
      "display": null,
      "flex": null,
      "flex_flow": null,
      "grid_area": null,
      "grid_auto_columns": null,
      "grid_auto_flow": null,
      "grid_auto_rows": null,
      "grid_column": null,
      "grid_gap": null,
      "grid_row": null,
      "grid_template_areas": null,
      "grid_template_columns": null,
      "grid_template_rows": null,
      "height": null,
      "justify_content": null,
      "justify_items": null,
      "left": null,
      "margin": null,
      "max_height": null,
      "max_width": null,
      "min_height": null,
      "min_width": null,
      "object_fit": null,
      "object_position": null,
      "order": null,
      "overflow": null,
      "overflow_x": null,
      "overflow_y": null,
      "padding": null,
      "right": null,
      "top": null,
      "visibility": null,
      "width": null
     }
    },
    "c3e01d16fd8d43579ec811a8ce336be1": {
     "model_module": "@jupyter-widgets/base",
     "model_module_version": "1.2.0",
     "model_name": "LayoutModel",
     "state": {
      "_model_module": "@jupyter-widgets/base",
      "_model_module_version": "1.2.0",
      "_model_name": "LayoutModel",
      "_view_count": null,
      "_view_module": "@jupyter-widgets/base",
      "_view_module_version": "1.2.0",
      "_view_name": "LayoutView",
      "align_content": null,
      "align_items": null,
      "align_self": null,
      "border": null,
      "bottom": null,
      "display": null,
      "flex": null,
      "flex_flow": null,
      "grid_area": null,
      "grid_auto_columns": null,
      "grid_auto_flow": null,
      "grid_auto_rows": null,
      "grid_column": null,
      "grid_gap": null,
      "grid_row": null,
      "grid_template_areas": null,
      "grid_template_columns": null,
      "grid_template_rows": null,
      "height": null,
      "justify_content": null,
      "justify_items": null,
      "left": null,
      "margin": null,
      "max_height": null,
      "max_width": null,
      "min_height": null,
      "min_width": null,
      "object_fit": null,
      "object_position": null,
      "order": null,
      "overflow": null,
      "overflow_x": null,
      "overflow_y": null,
      "padding": null,
      "right": null,
      "top": null,
      "visibility": null,
      "width": null
     }
    },
    "c52bbd4b2daa4c85beb33b2c7a1c729e": {
     "model_module": "@jupyter-widgets/controls",
     "model_module_version": "1.5.0",
     "model_name": "FloatProgressModel",
     "state": {
      "_dom_classes": [],
      "_model_module": "@jupyter-widgets/controls",
      "_model_module_version": "1.5.0",
      "_model_name": "FloatProgressModel",
      "_view_count": null,
      "_view_module": "@jupyter-widgets/controls",
      "_view_module_version": "1.5.0",
      "_view_name": "ProgressView",
      "bar_style": "success",
      "description": "",
      "description_tooltip": null,
      "layout": "IPY_MODEL_0d228d649cf44e23819a92682609ec21",
      "max": 2000,
      "min": 0,
      "orientation": "horizontal",
      "style": "IPY_MODEL_e85d6ae347ca45f0b0bfae0f9eaa9c35",
      "value": 2000
     }
    },
    "c5414ecc2b6b4b08b5276fff399870db": {
     "model_module": "@jupyter-widgets/controls",
     "model_module_version": "1.5.0",
     "model_name": "ProgressStyleModel",
     "state": {
      "_model_module": "@jupyter-widgets/controls",
      "_model_module_version": "1.5.0",
      "_model_name": "ProgressStyleModel",
      "_view_count": null,
      "_view_module": "@jupyter-widgets/base",
      "_view_module_version": "1.2.0",
      "_view_name": "StyleView",
      "bar_color": null,
      "description_width": ""
     }
    },
    "c606860798654cbf91be7342ba95601d": {
     "model_module": "@jupyter-widgets/controls",
     "model_module_version": "1.5.0",
     "model_name": "HBoxModel",
     "state": {
      "_dom_classes": [],
      "_model_module": "@jupyter-widgets/controls",
      "_model_module_version": "1.5.0",
      "_model_name": "HBoxModel",
      "_view_count": null,
      "_view_module": "@jupyter-widgets/controls",
      "_view_module_version": "1.5.0",
      "_view_name": "HBoxView",
      "box_style": "",
      "children": [
       "IPY_MODEL_dfc51273cf664614852bc0339d3385d4",
       "IPY_MODEL_4355a3c537974be29f98274cb03958da",
       "IPY_MODEL_8f6cd3afda164aaab16f7683cbd8e3a6"
      ],
      "layout": "IPY_MODEL_604ad0e63c5945e793fc00ab941532dd"
     }
    },
    "c6823d4fc5f145baa8d129ac204d4192": {
     "model_module": "@jupyter-widgets/controls",
     "model_module_version": "1.5.0",
     "model_name": "HTMLModel",
     "state": {
      "_dom_classes": [],
      "_model_module": "@jupyter-widgets/controls",
      "_model_module_version": "1.5.0",
      "_model_name": "HTMLModel",
      "_view_count": null,
      "_view_module": "@jupyter-widgets/controls",
      "_view_module_version": "1.5.0",
      "_view_name": "HTMLView",
      "description": "",
      "description_tooltip": null,
      "layout": "IPY_MODEL_c3e01d16fd8d43579ec811a8ce336be1",
      "placeholder": "​",
      "style": "IPY_MODEL_ce6b3887c5994f0bb7c9cfde440ca58b",
      "value": " 2/2 [00:05&lt;00:00,  2.25s/it]"
     }
    },
    "c7bba25de12140228d8c2ccbb26642e1": {
     "model_module": "@jupyter-widgets/base",
     "model_module_version": "1.2.0",
     "model_name": "LayoutModel",
     "state": {
      "_model_module": "@jupyter-widgets/base",
      "_model_module_version": "1.2.0",
      "_model_name": "LayoutModel",
      "_view_count": null,
      "_view_module": "@jupyter-widgets/base",
      "_view_module_version": "1.2.0",
      "_view_name": "LayoutView",
      "align_content": null,
      "align_items": null,
      "align_self": null,
      "border": null,
      "bottom": null,
      "display": null,
      "flex": null,
      "flex_flow": null,
      "grid_area": null,
      "grid_auto_columns": null,
      "grid_auto_flow": null,
      "grid_auto_rows": null,
      "grid_column": null,
      "grid_gap": null,
      "grid_row": null,
      "grid_template_areas": null,
      "grid_template_columns": null,
      "grid_template_rows": null,
      "height": null,
      "justify_content": null,
      "justify_items": null,
      "left": null,
      "margin": null,
      "max_height": null,
      "max_width": null,
      "min_height": null,
      "min_width": null,
      "object_fit": null,
      "object_position": null,
      "order": null,
      "overflow": null,
      "overflow_x": null,
      "overflow_y": null,
      "padding": null,
      "right": null,
      "top": null,
      "visibility": null,
      "width": null
     }
    },
    "c823b86d958848d687826963acf71a52": {
     "model_module": "@jupyter-widgets/controls",
     "model_module_version": "1.5.0",
     "model_name": "HBoxModel",
     "state": {
      "_dom_classes": [],
      "_model_module": "@jupyter-widgets/controls",
      "_model_module_version": "1.5.0",
      "_model_name": "HBoxModel",
      "_view_count": null,
      "_view_module": "@jupyter-widgets/controls",
      "_view_module_version": "1.5.0",
      "_view_name": "HBoxView",
      "box_style": "",
      "children": [
       "IPY_MODEL_3ee88897c98b460db8a20233c495a87c",
       "IPY_MODEL_1a6c98f1e0c94b50b668685f8cc759dc",
       "IPY_MODEL_666a063ea31d4d5fa7063fe981715f33"
      ],
      "layout": "IPY_MODEL_31bab7182a9e4083b22d813d647cfa2b"
     }
    },
    "c9dd94d496c24c5ead5ef682c80430b1": {
     "model_module": "@jupyter-widgets/controls",
     "model_module_version": "1.5.0",
     "model_name": "DescriptionStyleModel",
     "state": {
      "_model_module": "@jupyter-widgets/controls",
      "_model_module_version": "1.5.0",
      "_model_name": "DescriptionStyleModel",
      "_view_count": null,
      "_view_module": "@jupyter-widgets/base",
      "_view_module_version": "1.2.0",
      "_view_name": "StyleView",
      "description_width": ""
     }
    },
    "ce6b3887c5994f0bb7c9cfde440ca58b": {
     "model_module": "@jupyter-widgets/controls",
     "model_module_version": "1.5.0",
     "model_name": "DescriptionStyleModel",
     "state": {
      "_model_module": "@jupyter-widgets/controls",
      "_model_module_version": "1.5.0",
      "_model_name": "DescriptionStyleModel",
      "_view_count": null,
      "_view_module": "@jupyter-widgets/base",
      "_view_module_version": "1.2.0",
      "_view_name": "StyleView",
      "description_width": ""
     }
    },
    "d02565a7f61d4045a610da009137b6df": {
     "model_module": "@jupyter-widgets/controls",
     "model_module_version": "1.5.0",
     "model_name": "HTMLModel",
     "state": {
      "_dom_classes": [],
      "_model_module": "@jupyter-widgets/controls",
      "_model_module_version": "1.5.0",
      "_model_name": "HTMLModel",
      "_view_count": null,
      "_view_module": "@jupyter-widgets/controls",
      "_view_module_version": "1.5.0",
      "_view_name": "HTMLView",
      "description": "",
      "description_tooltip": null,
      "layout": "IPY_MODEL_b4f1b51917614d4ca320fd9f0a70670b",
      "placeholder": "​",
      "style": "IPY_MODEL_1f135c21d7f24bc8ae9bb43ebf103300",
      "value": "Filter: 100%"
     }
    },
    "d0711382e27545688727408fef467c00": {
     "model_module": "@jupyter-widgets/base",
     "model_module_version": "1.2.0",
     "model_name": "LayoutModel",
     "state": {
      "_model_module": "@jupyter-widgets/base",
      "_model_module_version": "1.2.0",
      "_model_name": "LayoutModel",
      "_view_count": null,
      "_view_module": "@jupyter-widgets/base",
      "_view_module_version": "1.2.0",
      "_view_name": "LayoutView",
      "align_content": null,
      "align_items": null,
      "align_self": null,
      "border": null,
      "bottom": null,
      "display": null,
      "flex": null,
      "flex_flow": null,
      "grid_area": null,
      "grid_auto_columns": null,
      "grid_auto_flow": null,
      "grid_auto_rows": null,
      "grid_column": null,
      "grid_gap": null,
      "grid_row": null,
      "grid_template_areas": null,
      "grid_template_columns": null,
      "grid_template_rows": null,
      "height": null,
      "justify_content": null,
      "justify_items": null,
      "left": null,
      "margin": null,
      "max_height": null,
      "max_width": null,
      "min_height": null,
      "min_width": null,
      "object_fit": null,
      "object_position": null,
      "order": null,
      "overflow": null,
      "overflow_x": null,
      "overflow_y": null,
      "padding": null,
      "right": null,
      "top": null,
      "visibility": null,
      "width": null
     }
    },
    "d32a3c9c727949b48daea1ccafbee8b6": {
     "model_module": "@jupyter-widgets/controls",
     "model_module_version": "1.5.0",
     "model_name": "ProgressStyleModel",
     "state": {
      "_model_module": "@jupyter-widgets/controls",
      "_model_module_version": "1.5.0",
      "_model_name": "ProgressStyleModel",
      "_view_count": null,
      "_view_module": "@jupyter-widgets/base",
      "_view_module_version": "1.2.0",
      "_view_name": "StyleView",
      "bar_color": null,
      "description_width": ""
     }
    },
    "d4fe447f14d248c586ea3526db379cd4": {
     "model_module": "@jupyter-widgets/controls",
     "model_module_version": "1.5.0",
     "model_name": "HTMLModel",
     "state": {
      "_dom_classes": [],
      "_model_module": "@jupyter-widgets/controls",
      "_model_module_version": "1.5.0",
      "_model_name": "HTMLModel",
      "_view_count": null,
      "_view_module": "@jupyter-widgets/controls",
      "_view_module_version": "1.5.0",
      "_view_name": "HTMLView",
      "description": "",
      "description_tooltip": null,
      "layout": "IPY_MODEL_bc8cbf1cb95b4fea835f160455e88634",
      "placeholder": "​",
      "style": "IPY_MODEL_b2485a81c72a442794275b674204705f",
      "value": " 2000/2000 [00:00&lt;00:00, 5959.67 examples/s]"
     }
    },
    "d51c3bb5bed247f99d33ebad16237c94": {
     "model_module": "@jupyter-widgets/controls",
     "model_module_version": "1.5.0",
     "model_name": "DescriptionStyleModel",
     "state": {
      "_model_module": "@jupyter-widgets/controls",
      "_model_module_version": "1.5.0",
      "_model_name": "DescriptionStyleModel",
      "_view_count": null,
      "_view_module": "@jupyter-widgets/base",
      "_view_module_version": "1.2.0",
      "_view_name": "StyleView",
      "description_width": ""
     }
    },
    "d6fea1b7ec8341e18e77ec1ef76e70fc": {
     "model_module": "@jupyter-widgets/base",
     "model_module_version": "1.2.0",
     "model_name": "LayoutModel",
     "state": {
      "_model_module": "@jupyter-widgets/base",
      "_model_module_version": "1.2.0",
      "_model_name": "LayoutModel",
      "_view_count": null,
      "_view_module": "@jupyter-widgets/base",
      "_view_module_version": "1.2.0",
      "_view_name": "LayoutView",
      "align_content": null,
      "align_items": null,
      "align_self": null,
      "border": null,
      "bottom": null,
      "display": null,
      "flex": null,
      "flex_flow": null,
      "grid_area": null,
      "grid_auto_columns": null,
      "grid_auto_flow": null,
      "grid_auto_rows": null,
      "grid_column": null,
      "grid_gap": null,
      "grid_row": null,
      "grid_template_areas": null,
      "grid_template_columns": null,
      "grid_template_rows": null,
      "height": null,
      "justify_content": null,
      "justify_items": null,
      "left": null,
      "margin": null,
      "max_height": null,
      "max_width": null,
      "min_height": null,
      "min_width": null,
      "object_fit": null,
      "object_position": null,
      "order": null,
      "overflow": null,
      "overflow_x": null,
      "overflow_y": null,
      "padding": null,
      "right": null,
      "top": null,
      "visibility": null,
      "width": null
     }
    },
    "d703cf89623c433f8d83442ecbec8208": {
     "model_module": "@jupyter-widgets/controls",
     "model_module_version": "1.5.0",
     "model_name": "DescriptionStyleModel",
     "state": {
      "_model_module": "@jupyter-widgets/controls",
      "_model_module_version": "1.5.0",
      "_model_name": "DescriptionStyleModel",
      "_view_count": null,
      "_view_module": "@jupyter-widgets/base",
      "_view_module_version": "1.2.0",
      "_view_name": "StyleView",
      "description_width": ""
     }
    },
    "d8b90e2cbd7d42cb922d711ea3d108e9": {
     "model_module": "@jupyter-widgets/controls",
     "model_module_version": "1.5.0",
     "model_name": "ProgressStyleModel",
     "state": {
      "_model_module": "@jupyter-widgets/controls",
      "_model_module_version": "1.5.0",
      "_model_name": "ProgressStyleModel",
      "_view_count": null,
      "_view_module": "@jupyter-widgets/base",
      "_view_module_version": "1.2.0",
      "_view_name": "StyleView",
      "bar_color": null,
      "description_width": ""
     }
    },
    "d9aa37bf27bb41c3bed093a2f13df6ef": {
     "model_module": "@jupyter-widgets/base",
     "model_module_version": "1.2.0",
     "model_name": "LayoutModel",
     "state": {
      "_model_module": "@jupyter-widgets/base",
      "_model_module_version": "1.2.0",
      "_model_name": "LayoutModel",
      "_view_count": null,
      "_view_module": "@jupyter-widgets/base",
      "_view_module_version": "1.2.0",
      "_view_name": "LayoutView",
      "align_content": null,
      "align_items": null,
      "align_self": null,
      "border": null,
      "bottom": null,
      "display": null,
      "flex": null,
      "flex_flow": null,
      "grid_area": null,
      "grid_auto_columns": null,
      "grid_auto_flow": null,
      "grid_auto_rows": null,
      "grid_column": null,
      "grid_gap": null,
      "grid_row": null,
      "grid_template_areas": null,
      "grid_template_columns": null,
      "grid_template_rows": null,
      "height": null,
      "justify_content": null,
      "justify_items": null,
      "left": null,
      "margin": null,
      "max_height": null,
      "max_width": null,
      "min_height": null,
      "min_width": null,
      "object_fit": null,
      "object_position": null,
      "order": null,
      "overflow": null,
      "overflow_x": null,
      "overflow_y": null,
      "padding": null,
      "right": null,
      "top": null,
      "visibility": null,
      "width": null
     }
    },
    "dc11242609fe40758455de7ea1764a06": {
     "model_module": "@jupyter-widgets/base",
     "model_module_version": "1.2.0",
     "model_name": "LayoutModel",
     "state": {
      "_model_module": "@jupyter-widgets/base",
      "_model_module_version": "1.2.0",
      "_model_name": "LayoutModel",
      "_view_count": null,
      "_view_module": "@jupyter-widgets/base",
      "_view_module_version": "1.2.0",
      "_view_name": "LayoutView",
      "align_content": null,
      "align_items": null,
      "align_self": null,
      "border": null,
      "bottom": null,
      "display": null,
      "flex": null,
      "flex_flow": null,
      "grid_area": null,
      "grid_auto_columns": null,
      "grid_auto_flow": null,
      "grid_auto_rows": null,
      "grid_column": null,
      "grid_gap": null,
      "grid_row": null,
      "grid_template_areas": null,
      "grid_template_columns": null,
      "grid_template_rows": null,
      "height": null,
      "justify_content": null,
      "justify_items": null,
      "left": null,
      "margin": null,
      "max_height": null,
      "max_width": null,
      "min_height": null,
      "min_width": null,
      "object_fit": null,
      "object_position": null,
      "order": null,
      "overflow": null,
      "overflow_x": null,
      "overflow_y": null,
      "padding": null,
      "right": null,
      "top": null,
      "visibility": null,
      "width": null
     }
    },
    "de4f7f69384143c389cf4589edc97f50": {
     "model_module": "@jupyter-widgets/controls",
     "model_module_version": "1.5.0",
     "model_name": "HTMLModel",
     "state": {
      "_dom_classes": [],
      "_model_module": "@jupyter-widgets/controls",
      "_model_module_version": "1.5.0",
      "_model_name": "HTMLModel",
      "_view_count": null,
      "_view_module": "@jupyter-widgets/controls",
      "_view_module_version": "1.5.0",
      "_view_name": "HTMLView",
      "description": "",
      "description_tooltip": null,
      "layout": "IPY_MODEL_117fc37b80d4407ea618aeb1f38f3c36",
      "placeholder": "​",
      "style": "IPY_MODEL_f5c0c62b0b4042189fc48a580f440c7a",
      "value": " 1959/1959 [00:00&lt;00:00, 124385.26 examples/s]"
     }
    },
    "de93dced70594c358748a0b87713bd23": {
     "model_module": "@jupyter-widgets/controls",
     "model_module_version": "1.5.0",
     "model_name": "DescriptionStyleModel",
     "state": {
      "_model_module": "@jupyter-widgets/controls",
      "_model_module_version": "1.5.0",
      "_model_name": "DescriptionStyleModel",
      "_view_count": null,
      "_view_module": "@jupyter-widgets/base",
      "_view_module_version": "1.2.0",
      "_view_name": "StyleView",
      "description_width": ""
     }
    },
    "df17bbcbce2f45859f6a88c4a8ccb94c": {
     "model_module": "@jupyter-widgets/controls",
     "model_module_version": "1.5.0",
     "model_name": "ProgressStyleModel",
     "state": {
      "_model_module": "@jupyter-widgets/controls",
      "_model_module_version": "1.5.0",
      "_model_name": "ProgressStyleModel",
      "_view_count": null,
      "_view_module": "@jupyter-widgets/base",
      "_view_module_version": "1.2.0",
      "_view_name": "StyleView",
      "bar_color": null,
      "description_width": ""
     }
    },
    "df29187a919246cc92cbbc2010d9727a": {
     "model_module": "@jupyter-widgets/controls",
     "model_module_version": "1.5.0",
     "model_name": "DescriptionStyleModel",
     "state": {
      "_model_module": "@jupyter-widgets/controls",
      "_model_module_version": "1.5.0",
      "_model_name": "DescriptionStyleModel",
      "_view_count": null,
      "_view_module": "@jupyter-widgets/base",
      "_view_module_version": "1.2.0",
      "_view_name": "StyleView",
      "description_width": ""
     }
    },
    "dfc51273cf664614852bc0339d3385d4": {
     "model_module": "@jupyter-widgets/controls",
     "model_module_version": "1.5.0",
     "model_name": "HTMLModel",
     "state": {
      "_dom_classes": [],
      "_model_module": "@jupyter-widgets/controls",
      "_model_module_version": "1.5.0",
      "_model_name": "HTMLModel",
      "_view_count": null,
      "_view_module": "@jupyter-widgets/controls",
      "_view_module_version": "1.5.0",
      "_view_name": "HTMLView",
      "description": "",
      "description_tooltip": null,
      "layout": "IPY_MODEL_5c0b0e3354254dbab119b757ed6731fd",
      "placeholder": "​",
      "style": "IPY_MODEL_43fd1598ca6c4179a8e75fecd14d122b",
      "value": "Loading checkpoint shards: 100%"
     }
    },
    "e065038c425a47c69acbeec9104a60d2": {
     "model_module": "@jupyter-widgets/controls",
     "model_module_version": "1.5.0",
     "model_name": "ProgressStyleModel",
     "state": {
      "_model_module": "@jupyter-widgets/controls",
      "_model_module_version": "1.5.0",
      "_model_name": "ProgressStyleModel",
      "_view_count": null,
      "_view_module": "@jupyter-widgets/base",
      "_view_module_version": "1.2.0",
      "_view_name": "StyleView",
      "bar_color": null,
      "description_width": ""
     }
    },
    "e09646745f5f48bd912e94f9e3315493": {
     "model_module": "@jupyter-widgets/base",
     "model_module_version": "1.2.0",
     "model_name": "LayoutModel",
     "state": {
      "_model_module": "@jupyter-widgets/base",
      "_model_module_version": "1.2.0",
      "_model_name": "LayoutModel",
      "_view_count": null,
      "_view_module": "@jupyter-widgets/base",
      "_view_module_version": "1.2.0",
      "_view_name": "LayoutView",
      "align_content": null,
      "align_items": null,
      "align_self": null,
      "border": null,
      "bottom": null,
      "display": null,
      "flex": null,
      "flex_flow": null,
      "grid_area": null,
      "grid_auto_columns": null,
      "grid_auto_flow": null,
      "grid_auto_rows": null,
      "grid_column": null,
      "grid_gap": null,
      "grid_row": null,
      "grid_template_areas": null,
      "grid_template_columns": null,
      "grid_template_rows": null,
      "height": null,
      "justify_content": null,
      "justify_items": null,
      "left": null,
      "margin": null,
      "max_height": null,
      "max_width": null,
      "min_height": null,
      "min_width": null,
      "object_fit": null,
      "object_position": null,
      "order": null,
      "overflow": null,
      "overflow_x": null,
      "overflow_y": null,
      "padding": null,
      "right": null,
      "top": null,
      "visibility": null,
      "width": null
     }
    },
    "e099168ebaeb4a9b85e393b9870eefe3": {
     "model_module": "@jupyter-widgets/base",
     "model_module_version": "1.2.0",
     "model_name": "LayoutModel",
     "state": {
      "_model_module": "@jupyter-widgets/base",
      "_model_module_version": "1.2.0",
      "_model_name": "LayoutModel",
      "_view_count": null,
      "_view_module": "@jupyter-widgets/base",
      "_view_module_version": "1.2.0",
      "_view_name": "LayoutView",
      "align_content": null,
      "align_items": null,
      "align_self": null,
      "border": null,
      "bottom": null,
      "display": null,
      "flex": null,
      "flex_flow": null,
      "grid_area": null,
      "grid_auto_columns": null,
      "grid_auto_flow": null,
      "grid_auto_rows": null,
      "grid_column": null,
      "grid_gap": null,
      "grid_row": null,
      "grid_template_areas": null,
      "grid_template_columns": null,
      "grid_template_rows": null,
      "height": null,
      "justify_content": null,
      "justify_items": null,
      "left": null,
      "margin": null,
      "max_height": null,
      "max_width": null,
      "min_height": null,
      "min_width": null,
      "object_fit": null,
      "object_position": null,
      "order": null,
      "overflow": null,
      "overflow_x": null,
      "overflow_y": null,
      "padding": null,
      "right": null,
      "top": null,
      "visibility": null,
      "width": null
     }
    },
    "e101498751714853b391c14a92884253": {
     "model_module": "@jupyter-widgets/base",
     "model_module_version": "1.2.0",
     "model_name": "LayoutModel",
     "state": {
      "_model_module": "@jupyter-widgets/base",
      "_model_module_version": "1.2.0",
      "_model_name": "LayoutModel",
      "_view_count": null,
      "_view_module": "@jupyter-widgets/base",
      "_view_module_version": "1.2.0",
      "_view_name": "LayoutView",
      "align_content": null,
      "align_items": null,
      "align_self": null,
      "border": null,
      "bottom": null,
      "display": null,
      "flex": null,
      "flex_flow": null,
      "grid_area": null,
      "grid_auto_columns": null,
      "grid_auto_flow": null,
      "grid_auto_rows": null,
      "grid_column": null,
      "grid_gap": null,
      "grid_row": null,
      "grid_template_areas": null,
      "grid_template_columns": null,
      "grid_template_rows": null,
      "height": null,
      "justify_content": null,
      "justify_items": null,
      "left": null,
      "margin": null,
      "max_height": null,
      "max_width": null,
      "min_height": null,
      "min_width": null,
      "object_fit": null,
      "object_position": null,
      "order": null,
      "overflow": null,
      "overflow_x": null,
      "overflow_y": null,
      "padding": null,
      "right": null,
      "top": null,
      "visibility": null,
      "width": null
     }
    },
    "e12ca686f0364ba2996129b1823f0976": {
     "model_module": "@jupyter-widgets/controls",
     "model_module_version": "1.5.0",
     "model_name": "FloatProgressModel",
     "state": {
      "_dom_classes": [],
      "_model_module": "@jupyter-widgets/controls",
      "_model_module_version": "1.5.0",
      "_model_name": "FloatProgressModel",
      "_view_count": null,
      "_view_module": "@jupyter-widgets/controls",
      "_view_module_version": "1.5.0",
      "_view_name": "ProgressView",
      "bar_style": "success",
      "description": "",
      "description_tooltip": null,
      "layout": "IPY_MODEL_066dbc2b707d4268b397d334fb244966",
      "max": 1959,
      "min": 0,
      "orientation": "horizontal",
      "style": "IPY_MODEL_56482982d4b84aca87f1bb8b4826174c",
      "value": 1959
     }
    },
    "e15c0bf57a1942b7937c0a15f7cf0b93": {
     "model_module": "@jupyter-widgets/controls",
     "model_module_version": "1.5.0",
     "model_name": "FloatProgressModel",
     "state": {
      "_dom_classes": [],
      "_model_module": "@jupyter-widgets/controls",
      "_model_module_version": "1.5.0",
      "_model_name": "FloatProgressModel",
      "_view_count": null,
      "_view_module": "@jupyter-widgets/controls",
      "_view_module_version": "1.5.0",
      "_view_name": "ProgressView",
      "bar_style": "success",
      "description": "",
      "description_tooltip": null,
      "layout": "IPY_MODEL_bfdce867faa44077a0f9cce5e58b6025",
      "max": 2000,
      "min": 0,
      "orientation": "horizontal",
      "style": "IPY_MODEL_d8b90e2cbd7d42cb922d711ea3d108e9",
      "value": 2000
     }
    },
    "e214e1a97cde41f68b3cb9d9afbcbffe": {
     "model_module": "@jupyter-widgets/base",
     "model_module_version": "1.2.0",
     "model_name": "LayoutModel",
     "state": {
      "_model_module": "@jupyter-widgets/base",
      "_model_module_version": "1.2.0",
      "_model_name": "LayoutModel",
      "_view_count": null,
      "_view_module": "@jupyter-widgets/base",
      "_view_module_version": "1.2.0",
      "_view_name": "LayoutView",
      "align_content": null,
      "align_items": null,
      "align_self": null,
      "border": null,
      "bottom": null,
      "display": null,
      "flex": null,
      "flex_flow": null,
      "grid_area": null,
      "grid_auto_columns": null,
      "grid_auto_flow": null,
      "grid_auto_rows": null,
      "grid_column": null,
      "grid_gap": null,
      "grid_row": null,
      "grid_template_areas": null,
      "grid_template_columns": null,
      "grid_template_rows": null,
      "height": null,
      "justify_content": null,
      "justify_items": null,
      "left": null,
      "margin": null,
      "max_height": null,
      "max_width": null,
      "min_height": null,
      "min_width": null,
      "object_fit": null,
      "object_position": null,
      "order": null,
      "overflow": null,
      "overflow_x": null,
      "overflow_y": null,
      "padding": null,
      "right": null,
      "top": null,
      "visibility": null,
      "width": null
     }
    },
    "e3646573cf3b4d3aad7cadd2f7561b6c": {
     "model_module": "@jupyter-widgets/base",
     "model_module_version": "1.2.0",
     "model_name": "LayoutModel",
     "state": {
      "_model_module": "@jupyter-widgets/base",
      "_model_module_version": "1.2.0",
      "_model_name": "LayoutModel",
      "_view_count": null,
      "_view_module": "@jupyter-widgets/base",
      "_view_module_version": "1.2.0",
      "_view_name": "LayoutView",
      "align_content": null,
      "align_items": null,
      "align_self": null,
      "border": null,
      "bottom": null,
      "display": null,
      "flex": null,
      "flex_flow": null,
      "grid_area": null,
      "grid_auto_columns": null,
      "grid_auto_flow": null,
      "grid_auto_rows": null,
      "grid_column": null,
      "grid_gap": null,
      "grid_row": null,
      "grid_template_areas": null,
      "grid_template_columns": null,
      "grid_template_rows": null,
      "height": null,
      "justify_content": null,
      "justify_items": null,
      "left": null,
      "margin": null,
      "max_height": null,
      "max_width": null,
      "min_height": null,
      "min_width": null,
      "object_fit": null,
      "object_position": null,
      "order": null,
      "overflow": null,
      "overflow_x": null,
      "overflow_y": null,
      "padding": null,
      "right": null,
      "top": null,
      "visibility": null,
      "width": null
     }
    },
    "e36b42fa6008401194581c5fea7a709e": {
     "model_module": "@jupyter-widgets/controls",
     "model_module_version": "1.5.0",
     "model_name": "DescriptionStyleModel",
     "state": {
      "_model_module": "@jupyter-widgets/controls",
      "_model_module_version": "1.5.0",
      "_model_name": "DescriptionStyleModel",
      "_view_count": null,
      "_view_module": "@jupyter-widgets/base",
      "_view_module_version": "1.2.0",
      "_view_name": "StyleView",
      "description_width": ""
     }
    },
    "e3ed70a029fe4c50a0e8636fc4908910": {
     "model_module": "@jupyter-widgets/base",
     "model_module_version": "1.2.0",
     "model_name": "LayoutModel",
     "state": {
      "_model_module": "@jupyter-widgets/base",
      "_model_module_version": "1.2.0",
      "_model_name": "LayoutModel",
      "_view_count": null,
      "_view_module": "@jupyter-widgets/base",
      "_view_module_version": "1.2.0",
      "_view_name": "LayoutView",
      "align_content": null,
      "align_items": null,
      "align_self": null,
      "border": null,
      "bottom": null,
      "display": null,
      "flex": null,
      "flex_flow": null,
      "grid_area": null,
      "grid_auto_columns": null,
      "grid_auto_flow": null,
      "grid_auto_rows": null,
      "grid_column": null,
      "grid_gap": null,
      "grid_row": null,
      "grid_template_areas": null,
      "grid_template_columns": null,
      "grid_template_rows": null,
      "height": null,
      "justify_content": null,
      "justify_items": null,
      "left": null,
      "margin": null,
      "max_height": null,
      "max_width": null,
      "min_height": null,
      "min_width": null,
      "object_fit": null,
      "object_position": null,
      "order": null,
      "overflow": null,
      "overflow_x": null,
      "overflow_y": null,
      "padding": null,
      "right": null,
      "top": null,
      "visibility": null,
      "width": null
     }
    },
    "e4c826ddaaac4f47a827ce341d4c895c": {
     "model_module": "@jupyter-widgets/base",
     "model_module_version": "1.2.0",
     "model_name": "LayoutModel",
     "state": {
      "_model_module": "@jupyter-widgets/base",
      "_model_module_version": "1.2.0",
      "_model_name": "LayoutModel",
      "_view_count": null,
      "_view_module": "@jupyter-widgets/base",
      "_view_module_version": "1.2.0",
      "_view_name": "LayoutView",
      "align_content": null,
      "align_items": null,
      "align_self": null,
      "border": null,
      "bottom": null,
      "display": null,
      "flex": null,
      "flex_flow": null,
      "grid_area": null,
      "grid_auto_columns": null,
      "grid_auto_flow": null,
      "grid_auto_rows": null,
      "grid_column": null,
      "grid_gap": null,
      "grid_row": null,
      "grid_template_areas": null,
      "grid_template_columns": null,
      "grid_template_rows": null,
      "height": null,
      "justify_content": null,
      "justify_items": null,
      "left": null,
      "margin": null,
      "max_height": null,
      "max_width": null,
      "min_height": null,
      "min_width": null,
      "object_fit": null,
      "object_position": null,
      "order": null,
      "overflow": null,
      "overflow_x": null,
      "overflow_y": null,
      "padding": null,
      "right": null,
      "top": null,
      "visibility": null,
      "width": null
     }
    },
    "e51ada1a189c4533952ac824b9627a5d": {
     "model_module": "@jupyter-widgets/controls",
     "model_module_version": "1.5.0",
     "model_name": "DescriptionStyleModel",
     "state": {
      "_model_module": "@jupyter-widgets/controls",
      "_model_module_version": "1.5.0",
      "_model_name": "DescriptionStyleModel",
      "_view_count": null,
      "_view_module": "@jupyter-widgets/base",
      "_view_module_version": "1.2.0",
      "_view_name": "StyleView",
      "description_width": ""
     }
    },
    "e61c90b226754b49a29b11ae3e8119c5": {
     "model_module": "@jupyter-widgets/base",
     "model_module_version": "1.2.0",
     "model_name": "LayoutModel",
     "state": {
      "_model_module": "@jupyter-widgets/base",
      "_model_module_version": "1.2.0",
      "_model_name": "LayoutModel",
      "_view_count": null,
      "_view_module": "@jupyter-widgets/base",
      "_view_module_version": "1.2.0",
      "_view_name": "LayoutView",
      "align_content": null,
      "align_items": null,
      "align_self": null,
      "border": null,
      "bottom": null,
      "display": null,
      "flex": null,
      "flex_flow": null,
      "grid_area": null,
      "grid_auto_columns": null,
      "grid_auto_flow": null,
      "grid_auto_rows": null,
      "grid_column": null,
      "grid_gap": null,
      "grid_row": null,
      "grid_template_areas": null,
      "grid_template_columns": null,
      "grid_template_rows": null,
      "height": null,
      "justify_content": null,
      "justify_items": null,
      "left": null,
      "margin": null,
      "max_height": null,
      "max_width": null,
      "min_height": null,
      "min_width": null,
      "object_fit": null,
      "object_position": null,
      "order": null,
      "overflow": null,
      "overflow_x": null,
      "overflow_y": null,
      "padding": null,
      "right": null,
      "top": null,
      "visibility": null,
      "width": null
     }
    },
    "e841d92e224340b1a03f7a8fd0edfcc6": {
     "model_module": "@jupyter-widgets/controls",
     "model_module_version": "1.5.0",
     "model_name": "HBoxModel",
     "state": {
      "_dom_classes": [],
      "_model_module": "@jupyter-widgets/controls",
      "_model_module_version": "1.5.0",
      "_model_name": "HBoxModel",
      "_view_count": null,
      "_view_module": "@jupyter-widgets/controls",
      "_view_module_version": "1.5.0",
      "_view_name": "HBoxView",
      "box_style": "",
      "children": [
       "IPY_MODEL_3f2c9cbd9ac943c09636c7e56f860989",
       "IPY_MODEL_28ddeb9ab2c74ed5a4902440471cceb7",
       "IPY_MODEL_6712055e0cc94a93865ee4d46c59d213"
      ],
      "layout": "IPY_MODEL_9446f997cb0b4e58b8862c3036722ca1"
     }
    },
    "e85d6ae347ca45f0b0bfae0f9eaa9c35": {
     "model_module": "@jupyter-widgets/controls",
     "model_module_version": "1.5.0",
     "model_name": "ProgressStyleModel",
     "state": {
      "_model_module": "@jupyter-widgets/controls",
      "_model_module_version": "1.5.0",
      "_model_name": "ProgressStyleModel",
      "_view_count": null,
      "_view_module": "@jupyter-widgets/base",
      "_view_module_version": "1.2.0",
      "_view_name": "StyleView",
      "bar_color": null,
      "description_width": ""
     }
    },
    "e8c16b3dadb846b78d04ae053abae00d": {
     "model_module": "@jupyter-widgets/base",
     "model_module_version": "1.2.0",
     "model_name": "LayoutModel",
     "state": {
      "_model_module": "@jupyter-widgets/base",
      "_model_module_version": "1.2.0",
      "_model_name": "LayoutModel",
      "_view_count": null,
      "_view_module": "@jupyter-widgets/base",
      "_view_module_version": "1.2.0",
      "_view_name": "LayoutView",
      "align_content": null,
      "align_items": null,
      "align_self": null,
      "border": null,
      "bottom": null,
      "display": null,
      "flex": null,
      "flex_flow": null,
      "grid_area": null,
      "grid_auto_columns": null,
      "grid_auto_flow": null,
      "grid_auto_rows": null,
      "grid_column": null,
      "grid_gap": null,
      "grid_row": null,
      "grid_template_areas": null,
      "grid_template_columns": null,
      "grid_template_rows": null,
      "height": null,
      "justify_content": null,
      "justify_items": null,
      "left": null,
      "margin": null,
      "max_height": null,
      "max_width": null,
      "min_height": null,
      "min_width": null,
      "object_fit": null,
      "object_position": null,
      "order": null,
      "overflow": null,
      "overflow_x": null,
      "overflow_y": null,
      "padding": null,
      "right": null,
      "top": null,
      "visibility": null,
      "width": null
     }
    },
    "e98297b5ca1f4d62a91948a4678ac7e9": {
     "model_module": "@jupyter-widgets/controls",
     "model_module_version": "1.5.0",
     "model_name": "HTMLModel",
     "state": {
      "_dom_classes": [],
      "_model_module": "@jupyter-widgets/controls",
      "_model_module_version": "1.5.0",
      "_model_name": "HTMLModel",
      "_view_count": null,
      "_view_module": "@jupyter-widgets/controls",
      "_view_module_version": "1.5.0",
      "_view_name": "HTMLView",
      "description": "",
      "description_tooltip": null,
      "layout": "IPY_MODEL_b5bb2918c9024bec892772a8a33683e5",
      "placeholder": "​",
      "style": "IPY_MODEL_8ec6b43f3a4f427db9b9b49f001e64ce",
      "value": "Converting eval dataset to ChatML: 100%"
     }
    },
    "e9d28f1f394e4c06a804e35b0d88505f": {
     "model_module": "@jupyter-widgets/controls",
     "model_module_version": "1.5.0",
     "model_name": "DescriptionStyleModel",
     "state": {
      "_model_module": "@jupyter-widgets/controls",
      "_model_module_version": "1.5.0",
      "_model_name": "DescriptionStyleModel",
      "_view_count": null,
      "_view_module": "@jupyter-widgets/base",
      "_view_module_version": "1.2.0",
      "_view_name": "StyleView",
      "description_width": ""
     }
    },
    "eaf6384e264f40ce9c88ec5c3332e901": {
     "model_module": "@jupyter-widgets/base",
     "model_module_version": "1.2.0",
     "model_name": "LayoutModel",
     "state": {
      "_model_module": "@jupyter-widgets/base",
      "_model_module_version": "1.2.0",
      "_model_name": "LayoutModel",
      "_view_count": null,
      "_view_module": "@jupyter-widgets/base",
      "_view_module_version": "1.2.0",
      "_view_name": "LayoutView",
      "align_content": null,
      "align_items": null,
      "align_self": null,
      "border": null,
      "bottom": null,
      "display": null,
      "flex": null,
      "flex_flow": null,
      "grid_area": null,
      "grid_auto_columns": null,
      "grid_auto_flow": null,
      "grid_auto_rows": null,
      "grid_column": null,
      "grid_gap": null,
      "grid_row": null,
      "grid_template_areas": null,
      "grid_template_columns": null,
      "grid_template_rows": null,
      "height": null,
      "justify_content": null,
      "justify_items": null,
      "left": null,
      "margin": null,
      "max_height": null,
      "max_width": null,
      "min_height": null,
      "min_width": null,
      "object_fit": null,
      "object_position": null,
      "order": null,
      "overflow": null,
      "overflow_x": null,
      "overflow_y": null,
      "padding": null,
      "right": null,
      "top": null,
      "visibility": null,
      "width": null
     }
    },
    "ed98070c26b049f48b2cf108e4b1adb6": {
     "model_module": "@jupyter-widgets/controls",
     "model_module_version": "1.5.0",
     "model_name": "DescriptionStyleModel",
     "state": {
      "_model_module": "@jupyter-widgets/controls",
      "_model_module_version": "1.5.0",
      "_model_name": "DescriptionStyleModel",
      "_view_count": null,
      "_view_module": "@jupyter-widgets/base",
      "_view_module_version": "1.2.0",
      "_view_name": "StyleView",
      "description_width": ""
     }
    },
    "ee228cb874b74d56a87c08dd369391f4": {
     "model_module": "@jupyter-widgets/controls",
     "model_module_version": "1.5.0",
     "model_name": "HTMLModel",
     "state": {
      "_dom_classes": [],
      "_model_module": "@jupyter-widgets/controls",
      "_model_module_version": "1.5.0",
      "_model_name": "HTMLModel",
      "_view_count": null,
      "_view_module": "@jupyter-widgets/controls",
      "_view_module_version": "1.5.0",
      "_view_name": "HTMLView",
      "description": "",
      "description_tooltip": null,
      "layout": "IPY_MODEL_77c8d1ddc8964d27bab46b27c3617221",
      "placeholder": "​",
      "style": "IPY_MODEL_d51c3bb5bed247f99d33ebad16237c94",
      "value": " 4.20k/4.20k [00:00&lt;00:00, 463kB/s]"
     }
    },
    "ee2d6a0ca4cb4d29840e1a2dd632b46c": {
     "model_module": "@jupyter-widgets/controls",
     "model_module_version": "1.5.0",
     "model_name": "HTMLModel",
     "state": {
      "_dom_classes": [],
      "_model_module": "@jupyter-widgets/controls",
      "_model_module_version": "1.5.0",
      "_model_name": "HTMLModel",
      "_view_count": null,
      "_view_module": "@jupyter-widgets/controls",
      "_view_module_version": "1.5.0",
      "_view_name": "HTMLView",
      "description": "",
      "description_tooltip": null,
      "layout": "IPY_MODEL_e101498751714853b391c14a92884253",
      "placeholder": "​",
      "style": "IPY_MODEL_d703cf89623c433f8d83442ecbec8208",
      "value": " 1953/1953 [00:00&lt;00:00, 15393.83 examples/s]"
     }
    },
    "ee53696f504942f09d8360da1b4c1f5a": {
     "model_module": "@jupyter-widgets/base",
     "model_module_version": "1.2.0",
     "model_name": "LayoutModel",
     "state": {
      "_model_module": "@jupyter-widgets/base",
      "_model_module_version": "1.2.0",
      "_model_name": "LayoutModel",
      "_view_count": null,
      "_view_module": "@jupyter-widgets/base",
      "_view_module_version": "1.2.0",
      "_view_name": "LayoutView",
      "align_content": null,
      "align_items": null,
      "align_self": null,
      "border": null,
      "bottom": null,
      "display": null,
      "flex": null,
      "flex_flow": null,
      "grid_area": null,
      "grid_auto_columns": null,
      "grid_auto_flow": null,
      "grid_auto_rows": null,
      "grid_column": null,
      "grid_gap": null,
      "grid_row": null,
      "grid_template_areas": null,
      "grid_template_columns": null,
      "grid_template_rows": null,
      "height": null,
      "justify_content": null,
      "justify_items": null,
      "left": null,
      "margin": null,
      "max_height": null,
      "max_width": null,
      "min_height": null,
      "min_width": null,
      "object_fit": null,
      "object_position": null,
      "order": null,
      "overflow": null,
      "overflow_x": null,
      "overflow_y": null,
      "padding": null,
      "right": null,
      "top": null,
      "visibility": null,
      "width": null
     }
    },
    "ef20cc645f81423589779f6eaf5a6a07": {
     "model_module": "@jupyter-widgets/base",
     "model_module_version": "1.2.0",
     "model_name": "LayoutModel",
     "state": {
      "_model_module": "@jupyter-widgets/base",
      "_model_module_version": "1.2.0",
      "_model_name": "LayoutModel",
      "_view_count": null,
      "_view_module": "@jupyter-widgets/base",
      "_view_module_version": "1.2.0",
      "_view_name": "LayoutView",
      "align_content": null,
      "align_items": null,
      "align_self": null,
      "border": null,
      "bottom": null,
      "display": null,
      "flex": null,
      "flex_flow": null,
      "grid_area": null,
      "grid_auto_columns": null,
      "grid_auto_flow": null,
      "grid_auto_rows": null,
      "grid_column": null,
      "grid_gap": null,
      "grid_row": null,
      "grid_template_areas": null,
      "grid_template_columns": null,
      "grid_template_rows": null,
      "height": null,
      "justify_content": null,
      "justify_items": null,
      "left": null,
      "margin": null,
      "max_height": null,
      "max_width": null,
      "min_height": null,
      "min_width": null,
      "object_fit": null,
      "object_position": null,
      "order": null,
      "overflow": null,
      "overflow_x": null,
      "overflow_y": null,
      "padding": null,
      "right": null,
      "top": null,
      "visibility": null,
      "width": null
     }
    },
    "f0e37bb2933347d3ac3d4762af57c4c0": {
     "model_module": "@jupyter-widgets/controls",
     "model_module_version": "1.5.0",
     "model_name": "FloatProgressModel",
     "state": {
      "_dom_classes": [],
      "_model_module": "@jupyter-widgets/controls",
      "_model_module_version": "1.5.0",
      "_model_name": "FloatProgressModel",
      "_view_count": null,
      "_view_module": "@jupyter-widgets/controls",
      "_view_module_version": "1.5.0",
      "_view_name": "ProgressView",
      "bar_style": "success",
      "description": "",
      "description_tooltip": null,
      "layout": "IPY_MODEL_7e2e5b1c75454960a78d731e65822bda",
      "max": 2000,
      "min": 0,
      "orientation": "horizontal",
      "style": "IPY_MODEL_466b9d2138ed4f11b430fca752588d1d",
      "value": 2000
     }
    },
    "f1150be2dd434039a26b0ce230afd902": {
     "model_module": "@jupyter-widgets/controls",
     "model_module_version": "1.5.0",
     "model_name": "DescriptionStyleModel",
     "state": {
      "_model_module": "@jupyter-widgets/controls",
      "_model_module_version": "1.5.0",
      "_model_name": "DescriptionStyleModel",
      "_view_count": null,
      "_view_module": "@jupyter-widgets/base",
      "_view_module_version": "1.2.0",
      "_view_name": "StyleView",
      "description_width": ""
     }
    },
    "f131e8fa17de4223bb0f14dc1fa3e620": {
     "model_module": "@jupyter-widgets/base",
     "model_module_version": "1.2.0",
     "model_name": "LayoutModel",
     "state": {
      "_model_module": "@jupyter-widgets/base",
      "_model_module_version": "1.2.0",
      "_model_name": "LayoutModel",
      "_view_count": null,
      "_view_module": "@jupyter-widgets/base",
      "_view_module_version": "1.2.0",
      "_view_name": "LayoutView",
      "align_content": null,
      "align_items": null,
      "align_self": null,
      "border": null,
      "bottom": null,
      "display": null,
      "flex": null,
      "flex_flow": null,
      "grid_area": null,
      "grid_auto_columns": null,
      "grid_auto_flow": null,
      "grid_auto_rows": null,
      "grid_column": null,
      "grid_gap": null,
      "grid_row": null,
      "grid_template_areas": null,
      "grid_template_columns": null,
      "grid_template_rows": null,
      "height": null,
      "justify_content": null,
      "justify_items": null,
      "left": null,
      "margin": null,
      "max_height": null,
      "max_width": null,
      "min_height": null,
      "min_width": null,
      "object_fit": null,
      "object_position": null,
      "order": null,
      "overflow": null,
      "overflow_x": null,
      "overflow_y": null,
      "padding": null,
      "right": null,
      "top": null,
      "visibility": null,
      "width": null
     }
    },
    "f1dce3fa2bc0421883cf0cbd68f790a7": {
     "model_module": "@jupyter-widgets/controls",
     "model_module_version": "1.5.0",
     "model_name": "HBoxModel",
     "state": {
      "_dom_classes": [],
      "_model_module": "@jupyter-widgets/controls",
      "_model_module_version": "1.5.0",
      "_model_name": "HBoxModel",
      "_view_count": null,
      "_view_module": "@jupyter-widgets/controls",
      "_view_module_version": "1.5.0",
      "_view_name": "HBoxView",
      "box_style": "",
      "children": [
       "IPY_MODEL_af942120b4e941f6a835bd795899a31c",
       "IPY_MODEL_9f974ba241094faeab34300541936f63",
       "IPY_MODEL_aef5bfb6981e4e83b058a2d675781833"
      ],
      "layout": "IPY_MODEL_c7bba25de12140228d8c2ccbb26642e1"
     }
    },
    "f30e12fb125f466ba7b595b08758d49f": {
     "model_module": "@jupyter-widgets/controls",
     "model_module_version": "1.5.0",
     "model_name": "HTMLModel",
     "state": {
      "_dom_classes": [],
      "_model_module": "@jupyter-widgets/controls",
      "_model_module_version": "1.5.0",
      "_model_name": "HTMLModel",
      "_view_count": null,
      "_view_module": "@jupyter-widgets/controls",
      "_view_module_version": "1.5.0",
      "_view_name": "HTMLView",
      "description": "",
      "description_tooltip": null,
      "layout": "IPY_MODEL_59f4607e5c964476b5083c55d6fc76f3",
      "placeholder": "​",
      "style": "IPY_MODEL_81a2f9179ee24e618e94084ba3e7c787",
      "value": "Map: 100%"
     }
    },
    "f4b9ebf8bda8458dac9f3c590a3a0929": {
     "model_module": "@jupyter-widgets/controls",
     "model_module_version": "1.5.0",
     "model_name": "HBoxModel",
     "state": {
      "_dom_classes": [],
      "_model_module": "@jupyter-widgets/controls",
      "_model_module_version": "1.5.0",
      "_model_name": "HBoxModel",
      "_view_count": null,
      "_view_module": "@jupyter-widgets/controls",
      "_view_module_version": "1.5.0",
      "_view_name": "HBoxView",
      "box_style": "",
      "children": [
       "IPY_MODEL_bca304c2bb3240a1a3d1609be6db675c",
       "IPY_MODEL_3f3899faea164fc8b29ed4e6b0fce36f",
       "IPY_MODEL_ee228cb874b74d56a87c08dd369391f4"
      ],
      "layout": "IPY_MODEL_698e3e78803f43ecbeee1627f273e2f4"
     }
    },
    "f55a657c695c4377a2008906724fb09a": {
     "model_module": "@jupyter-widgets/controls",
     "model_module_version": "1.5.0",
     "model_name": "DescriptionStyleModel",
     "state": {
      "_model_module": "@jupyter-widgets/controls",
      "_model_module_version": "1.5.0",
      "_model_name": "DescriptionStyleModel",
      "_view_count": null,
      "_view_module": "@jupyter-widgets/base",
      "_view_module_version": "1.2.0",
      "_view_name": "StyleView",
      "description_width": ""
     }
    },
    "f5c0c62b0b4042189fc48a580f440c7a": {
     "model_module": "@jupyter-widgets/controls",
     "model_module_version": "1.5.0",
     "model_name": "DescriptionStyleModel",
     "state": {
      "_model_module": "@jupyter-widgets/controls",
      "_model_module_version": "1.5.0",
      "_model_name": "DescriptionStyleModel",
      "_view_count": null,
      "_view_module": "@jupyter-widgets/base",
      "_view_module_version": "1.2.0",
      "_view_name": "StyleView",
      "description_width": ""
     }
    },
    "f6041d92ec434b3797211e35e1f782c8": {
     "model_module": "@jupyter-widgets/controls",
     "model_module_version": "1.5.0",
     "model_name": "HTMLModel",
     "state": {
      "_dom_classes": [],
      "_model_module": "@jupyter-widgets/controls",
      "_model_module_version": "1.5.0",
      "_model_name": "HTMLModel",
      "_view_count": null,
      "_view_module": "@jupyter-widgets/controls",
      "_view_module_version": "1.5.0",
      "_view_name": "HTMLView",
      "description": "",
      "description_tooltip": null,
      "layout": "IPY_MODEL_f131e8fa17de4223bb0f14dc1fa3e620",
      "placeholder": "​",
      "style": "IPY_MODEL_ae891f0547c54995957e5cdf4ebb741a",
      "value": " 6.79k/6.79k [00:00&lt;00:00, 856kB/s]"
     }
    },
    "f939f036b743457f968948d2fbffe3da": {
     "model_module": "@jupyter-widgets/base",
     "model_module_version": "1.2.0",
     "model_name": "LayoutModel",
     "state": {
      "_model_module": "@jupyter-widgets/base",
      "_model_module_version": "1.2.0",
      "_model_name": "LayoutModel",
      "_view_count": null,
      "_view_module": "@jupyter-widgets/base",
      "_view_module_version": "1.2.0",
      "_view_name": "LayoutView",
      "align_content": null,
      "align_items": null,
      "align_self": null,
      "border": null,
      "bottom": null,
      "display": null,
      "flex": null,
      "flex_flow": null,
      "grid_area": null,
      "grid_auto_columns": null,
      "grid_auto_flow": null,
      "grid_auto_rows": null,
      "grid_column": null,
      "grid_gap": null,
      "grid_row": null,
      "grid_template_areas": null,
      "grid_template_columns": null,
      "grid_template_rows": null,
      "height": null,
      "justify_content": null,
      "justify_items": null,
      "left": null,
      "margin": null,
      "max_height": null,
      "max_width": null,
      "min_height": null,
      "min_width": null,
      "object_fit": null,
      "object_position": null,
      "order": null,
      "overflow": null,
      "overflow_x": null,
      "overflow_y": null,
      "padding": null,
      "right": null,
      "top": null,
      "visibility": null,
      "width": null
     }
    },
    "f9e2359ecdac4a85862ede447b4a6346": {
     "model_module": "@jupyter-widgets/controls",
     "model_module_version": "1.5.0",
     "model_name": "ProgressStyleModel",
     "state": {
      "_model_module": "@jupyter-widgets/controls",
      "_model_module_version": "1.5.0",
      "_model_name": "ProgressStyleModel",
      "_view_count": null,
      "_view_module": "@jupyter-widgets/base",
      "_view_module_version": "1.2.0",
      "_view_name": "StyleView",
      "bar_color": null,
      "description_width": ""
     }
    },
    "fa389fa6debd40f1a4faa21a6ddd57fc": {
     "model_module": "@jupyter-widgets/base",
     "model_module_version": "1.2.0",
     "model_name": "LayoutModel",
     "state": {
      "_model_module": "@jupyter-widgets/base",
      "_model_module_version": "1.2.0",
      "_model_name": "LayoutModel",
      "_view_count": null,
      "_view_module": "@jupyter-widgets/base",
      "_view_module_version": "1.2.0",
      "_view_name": "LayoutView",
      "align_content": null,
      "align_items": null,
      "align_self": null,
      "border": null,
      "bottom": null,
      "display": null,
      "flex": null,
      "flex_flow": null,
      "grid_area": null,
      "grid_auto_columns": null,
      "grid_auto_flow": null,
      "grid_auto_rows": null,
      "grid_column": null,
      "grid_gap": null,
      "grid_row": null,
      "grid_template_areas": null,
      "grid_template_columns": null,
      "grid_template_rows": null,
      "height": null,
      "justify_content": null,
      "justify_items": null,
      "left": null,
      "margin": null,
      "max_height": null,
      "max_width": null,
      "min_height": null,
      "min_width": null,
      "object_fit": null,
      "object_position": null,
      "order": null,
      "overflow": null,
      "overflow_x": null,
      "overflow_y": null,
      "padding": null,
      "right": null,
      "top": null,
      "visibility": null,
      "width": null
     }
    },
    "fca9c9d7213548b58ea7c610dc79cba1": {
     "model_module": "@jupyter-widgets/controls",
     "model_module_version": "1.5.0",
     "model_name": "DescriptionStyleModel",
     "state": {
      "_model_module": "@jupyter-widgets/controls",
      "_model_module_version": "1.5.0",
      "_model_name": "DescriptionStyleModel",
      "_view_count": null,
      "_view_module": "@jupyter-widgets/base",
      "_view_module_version": "1.2.0",
      "_view_name": "StyleView",
      "description_width": ""
     }
    },
    "fcaf37d18e61490cbc4326615a724eb8": {
     "model_module": "@jupyter-widgets/controls",
     "model_module_version": "1.5.0",
     "model_name": "DescriptionStyleModel",
     "state": {
      "_model_module": "@jupyter-widgets/controls",
      "_model_module_version": "1.5.0",
      "_model_name": "DescriptionStyleModel",
      "_view_count": null,
      "_view_module": "@jupyter-widgets/base",
      "_view_module_version": "1.2.0",
      "_view_name": "StyleView",
      "description_width": ""
     }
    },
    "fdbfef5c8a6145a2bea7d2d7dc3d2f9a": {
     "model_module": "@jupyter-widgets/controls",
     "model_module_version": "1.5.0",
     "model_name": "DescriptionStyleModel",
     "state": {
      "_model_module": "@jupyter-widgets/controls",
      "_model_module_version": "1.5.0",
      "_model_name": "DescriptionStyleModel",
      "_view_count": null,
      "_view_module": "@jupyter-widgets/base",
      "_view_module_version": "1.2.0",
      "_view_name": "StyleView",
      "description_width": ""
     }
    },
    "ff388c71e6664a61bd478e2710034432": {
     "model_module": "@jupyter-widgets/base",
     "model_module_version": "1.2.0",
     "model_name": "LayoutModel",
     "state": {
      "_model_module": "@jupyter-widgets/base",
      "_model_module_version": "1.2.0",
      "_model_name": "LayoutModel",
      "_view_count": null,
      "_view_module": "@jupyter-widgets/base",
      "_view_module_version": "1.2.0",
      "_view_name": "LayoutView",
      "align_content": null,
      "align_items": null,
      "align_self": null,
      "border": null,
      "bottom": null,
      "display": null,
      "flex": null,
      "flex_flow": null,
      "grid_area": null,
      "grid_auto_columns": null,
      "grid_auto_flow": null,
      "grid_auto_rows": null,
      "grid_column": null,
      "grid_gap": null,
      "grid_row": null,
      "grid_template_areas": null,
      "grid_template_columns": null,
      "grid_template_rows": null,
      "height": null,
      "justify_content": null,
      "justify_items": null,
      "left": null,
      "margin": null,
      "max_height": null,
      "max_width": null,
      "min_height": null,
      "min_width": null,
      "object_fit": null,
      "object_position": null,
      "order": null,
      "overflow": null,
      "overflow_x": null,
      "overflow_y": null,
      "padding": null,
      "right": null,
      "top": null,
      "visibility": null,
      "width": null
     }
    }
   }
  }
 },
 "nbformat": 4,
 "nbformat_minor": 5
}
